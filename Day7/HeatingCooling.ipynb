{
  "nbformat": 4,
  "nbformat_minor": 0,
  "metadata": {
    "colab": {
      "name": "HeatingCooling.ipynb",
      "provenance": [],
      "include_colab_link": true
    },
    "kernelspec": {
      "name": "python3",
      "display_name": "Python 3"
    }
  },
  "cells": [
    {
      "cell_type": "markdown",
      "metadata": {
        "id": "view-in-github",
        "colab_type": "text"
      },
      "source": [
        "<a href=\"https://colab.research.google.com/github/nikopj/SummerML/blob/master/Day7/HeatingCooling.ipynb\" target=\"_parent\"><img src=\"https://colab.research.google.com/assets/colab-badge.svg\" alt=\"Open In Colab\"/></a>"
      ]
    },
    {
      "cell_type": "code",
      "metadata": {
        "id": "cpgxr_v-C_Ue",
        "colab_type": "code",
        "colab": {}
      },
      "source": [
        "import numpy as np\n",
        "import pandas as pd\n",
        "import tensorflow as tf"
      ],
      "execution_count": 0,
      "outputs": []
    },
    {
      "cell_type": "code",
      "metadata": {
        "id": "aOMoQeCr0BDD",
        "colab_type": "code",
        "outputId": "0e607f95-571b-4797-bd58-acf2b5840ba8",
        "colab": {
          "base_uri": "https://localhost:8080/",
          "height": 203
        }
      },
      "source": [
        "df = pd.read_csv('ENB2012_data.csv')\n",
        "df.head()"
      ],
      "execution_count": 0,
      "outputs": [
        {
          "output_type": "execute_result",
          "data": {
            "text/html": [
              "<div>\n",
              "<style scoped>\n",
              "    .dataframe tbody tr th:only-of-type {\n",
              "        vertical-align: middle;\n",
              "    }\n",
              "\n",
              "    .dataframe tbody tr th {\n",
              "        vertical-align: top;\n",
              "    }\n",
              "\n",
              "    .dataframe thead th {\n",
              "        text-align: right;\n",
              "    }\n",
              "</style>\n",
              "<table border=\"1\" class=\"dataframe\">\n",
              "  <thead>\n",
              "    <tr style=\"text-align: right;\">\n",
              "      <th></th>\n",
              "      <th>X1</th>\n",
              "      <th>X2</th>\n",
              "      <th>X3</th>\n",
              "      <th>X4</th>\n",
              "      <th>X5</th>\n",
              "      <th>X6</th>\n",
              "      <th>X7</th>\n",
              "      <th>X8</th>\n",
              "      <th>Y1</th>\n",
              "      <th>Y2</th>\n",
              "      <th>Unnamed: 10</th>\n",
              "      <th>Unnamed: 11</th>\n",
              "    </tr>\n",
              "  </thead>\n",
              "  <tbody>\n",
              "    <tr>\n",
              "      <th>0</th>\n",
              "      <td>0.98</td>\n",
              "      <td>514.5</td>\n",
              "      <td>294.0</td>\n",
              "      <td>110.25</td>\n",
              "      <td>7.0</td>\n",
              "      <td>2.0</td>\n",
              "      <td>0.0</td>\n",
              "      <td>0.0</td>\n",
              "      <td>15.55</td>\n",
              "      <td>21.33</td>\n",
              "      <td>NaN</td>\n",
              "      <td>NaN</td>\n",
              "    </tr>\n",
              "    <tr>\n",
              "      <th>1</th>\n",
              "      <td>0.98</td>\n",
              "      <td>514.5</td>\n",
              "      <td>294.0</td>\n",
              "      <td>110.25</td>\n",
              "      <td>7.0</td>\n",
              "      <td>3.0</td>\n",
              "      <td>0.0</td>\n",
              "      <td>0.0</td>\n",
              "      <td>15.55</td>\n",
              "      <td>21.33</td>\n",
              "      <td>NaN</td>\n",
              "      <td>NaN</td>\n",
              "    </tr>\n",
              "    <tr>\n",
              "      <th>2</th>\n",
              "      <td>0.98</td>\n",
              "      <td>514.5</td>\n",
              "      <td>294.0</td>\n",
              "      <td>110.25</td>\n",
              "      <td>7.0</td>\n",
              "      <td>4.0</td>\n",
              "      <td>0.0</td>\n",
              "      <td>0.0</td>\n",
              "      <td>15.55</td>\n",
              "      <td>21.33</td>\n",
              "      <td>NaN</td>\n",
              "      <td>NaN</td>\n",
              "    </tr>\n",
              "    <tr>\n",
              "      <th>3</th>\n",
              "      <td>0.98</td>\n",
              "      <td>514.5</td>\n",
              "      <td>294.0</td>\n",
              "      <td>110.25</td>\n",
              "      <td>7.0</td>\n",
              "      <td>5.0</td>\n",
              "      <td>0.0</td>\n",
              "      <td>0.0</td>\n",
              "      <td>15.55</td>\n",
              "      <td>21.33</td>\n",
              "      <td>NaN</td>\n",
              "      <td>NaN</td>\n",
              "    </tr>\n",
              "    <tr>\n",
              "      <th>4</th>\n",
              "      <td>0.90</td>\n",
              "      <td>563.5</td>\n",
              "      <td>318.5</td>\n",
              "      <td>122.50</td>\n",
              "      <td>7.0</td>\n",
              "      <td>2.0</td>\n",
              "      <td>0.0</td>\n",
              "      <td>0.0</td>\n",
              "      <td>20.84</td>\n",
              "      <td>28.28</td>\n",
              "      <td>NaN</td>\n",
              "      <td>NaN</td>\n",
              "    </tr>\n",
              "  </tbody>\n",
              "</table>\n",
              "</div>"
            ],
            "text/plain": [
              "     X1     X2     X3      X4   X5  ...   X8     Y1     Y2  Unnamed: 10  Unnamed: 11\n",
              "0  0.98  514.5  294.0  110.25  7.0  ...  0.0  15.55  21.33          NaN          NaN\n",
              "1  0.98  514.5  294.0  110.25  7.0  ...  0.0  15.55  21.33          NaN          NaN\n",
              "2  0.98  514.5  294.0  110.25  7.0  ...  0.0  15.55  21.33          NaN          NaN\n",
              "3  0.98  514.5  294.0  110.25  7.0  ...  0.0  15.55  21.33          NaN          NaN\n",
              "4  0.90  563.5  318.5  122.50  7.0  ...  0.0  20.84  28.28          NaN          NaN\n",
              "\n",
              "[5 rows x 12 columns]"
            ]
          },
          "metadata": {
            "tags": []
          },
          "execution_count": 3
        }
      ]
    },
    {
      "cell_type": "code",
      "metadata": {
        "id": "IH9G8adATgOP",
        "colab_type": "code",
        "colab": {}
      },
      "source": [
        "df = df.drop(columns = ['Unnamed: 10', 'Unnamed: 11'])\n",
        "df = df.dropna()"
      ],
      "execution_count": 0,
      "outputs": []
    },
    {
      "cell_type": "code",
      "metadata": {
        "id": "8I0wRGXe0xIS",
        "colab_type": "code",
        "outputId": "c3b3596a-708d-4d3d-dd40-8b6699713e1d",
        "colab": {
          "base_uri": "https://localhost:8080/",
          "height": 137
        }
      },
      "source": [
        "from sklearn.model_selection import train_test_split\n",
        "\n",
        "X = df.drop(['Y1','Y2'],axis=1).values\n",
        "Y = df[['Y1','Y2']].values\n",
        "\n",
        "Xtr, Xts, Ytr, Yts = train_test_split(X, Y, test_size=0.1, random_state=42)\n",
        "\n",
        "print(X)"
      ],
      "execution_count": 0,
      "outputs": [
        {
          "output_type": "stream",
          "text": [
            "[[9.800e-01 5.145e+02 2.940e+02 ... 2.000e+00 0.000e+00 0.000e+00]\n",
            " [9.800e-01 5.145e+02 2.940e+02 ... 3.000e+00 0.000e+00 0.000e+00]\n",
            " [9.800e-01 5.145e+02 2.940e+02 ... 4.000e+00 0.000e+00 0.000e+00]\n",
            " ...\n",
            " [6.200e-01 8.085e+02 3.675e+02 ... 3.000e+00 4.000e-01 5.000e+00]\n",
            " [6.200e-01 8.085e+02 3.675e+02 ... 4.000e+00 4.000e-01 5.000e+00]\n",
            " [6.200e-01 8.085e+02 3.675e+02 ... 5.000e+00 4.000e-01 5.000e+00]]\n"
          ],
          "name": "stdout"
        }
      ]
    },
    {
      "cell_type": "code",
      "metadata": {
        "id": "Tz4qOzOo1yrC",
        "colab_type": "code",
        "outputId": "f63e078c-edd3-42db-8bee-9a38d282db5e",
        "colab": {
          "base_uri": "https://localhost:8080/",
          "height": 286
        }
      },
      "source": [
        "import matplotlib\n",
        "import matplotlib.pyplot as plt\n",
        "%matplotlib inline\n",
        "\n",
        "x = X[:,6]\n",
        "y = Y[:,1]\n",
        "\n",
        "plt.plot(x,y,'ob',markeredgecolor='black')"
      ],
      "execution_count": 0,
      "outputs": [
        {
          "output_type": "execute_result",
          "data": {
            "text/plain": [
              "[<matplotlib.lines.Line2D at 0x7effcf5a91d0>]"
            ]
          },
          "metadata": {
            "tags": []
          },
          "execution_count": 15
        },
        {
          "output_type": "display_data",
          "data": {
            "image/png": "[encoded data removed]",
            "text/plain": [
              "<Figure size 432x288 with 1 Axes>"
            ]
          },
          "metadata": {
            "tags": []
          }
        }
      ]
    },
    {
      "cell_type": "code",
      "metadata": {
        "id": "rK7DW10i6y_L",
        "colab_type": "code",
        "colab": {}
      },
      "source": [
        "Xmean = np.mean(Xtr,axis=0)\n",
        "Xstd  = np.std(Xtr,axis=0)\n",
        "\n",
        "x_train = (Xtr - Xmean)/Xstd\n",
        "y_train = Ytr\n",
        "\n",
        "x_test = (Xts - Xmean)/Xstd\n",
        "y_test = Yts\n"
      ],
      "execution_count": 0,
      "outputs": []
    },
    {
      "cell_type": "code",
      "metadata": {
        "id": "yFkTn5-m_OC7",
        "colab_type": "code",
        "outputId": "d71a2972-622a-49ed-cb4f-04869e2ede19",
        "colab": {
          "base_uri": "https://localhost:8080/",
          "height": 240
        }
      },
      "source": [
        "print(x_train)"
      ],
      "execution_count": 0,
      "outputs": [
        {
          "output_type": "stream",
          "text": [
            "[[ 5.36865510e-01 -6.80857376e-01 -8.12347417e-04 ... -1.36169949e+00\n",
            "   1.14081657e-01  1.31801375e-01]\n",
            " [ 2.05259204e+00 -1.79374312e+00 -5.62144412e-01 ... -1.36169949e+00\n",
            "   1.23489339e+00 -1.16003905e+00]\n",
            " [ 9.15797142e-01 -9.59078811e-01 -5.62144412e-01 ...  4.40856731e-01\n",
            "  -1.75393789e+00 -1.80595927e+00]\n",
            " ...\n",
            " [-5.05196477e-01  4.32028364e-01 -1.12347648e+00 ...  4.40856731e-01\n",
            "  -1.00673007e+00  1.42364181e+00]\n",
            " [ 2.05259204e+00 -1.79374312e+00 -5.62144412e-01 ...  1.34213484e+00\n",
            "   1.14081657e-01  7.77721590e-01]\n",
            " [ 1.29472877e+00 -1.23730025e+00 -8.12347417e-04 ...  4.40856731e-01\n",
            "  -1.00673007e+00 -5.14118840e-01]]\n"
          ],
          "name": "stdout"
        }
      ]
    },
    {
      "cell_type": "code",
      "metadata": {
        "id": "Lt2rDuFDRzg0",
        "colab_type": "code",
        "outputId": "7c438488-f2cb-4fdd-8e10-450ce98b9e28",
        "colab": {
          "base_uri": "https://localhost:8080/",
          "height": 291
        }
      },
      "source": [
        "from tensorflow.keras.models import Sequential\n",
        "from tensorflow.keras.layers import Dense\n",
        "from tensorflow.keras.regularizers import l2\n",
        "\n",
        "tf.keras.backend.clear_session()\n",
        "\n",
        "nin = x_train.shape[1]\n",
        "nout = y_train.shape[1]\n",
        "\n",
        "# hyper-parameters\n",
        "LAMBDA = 1e-5\n",
        "\n",
        "model = Sequential(name='NN')\n",
        "model.add(Dense(1024, activation='relu', input_dim=nin, name='FC1',  kernel_regularizer=l2(LAMBDA)))\n",
        "model.add(Dense(512, activation='relu', name='FC2',  kernel_regularizer=l2(LAMBDA)))\n",
        "model.add(Dense(128, activation='relu', name='FC3', kernel_regularizer=l2(LAMBDA)))\n",
        "model.add(Dense(nout, activation='linear', name='Output', kernel_regularizer=l2(LAMBDA)))\n",
        "\n",
        "model.summary()"
      ],
      "execution_count": 0,
      "outputs": [
        {
          "output_type": "stream",
          "text": [
            "Model: \"NN\"\n",
            "_________________________________________________________________\n",
            "Layer (type)                 Output Shape              Param #   \n",
            "=================================================================\n",
            "FC1 (Dense)                  (None, 1024)              9216      \n",
            "_________________________________________________________________\n",
            "FC2 (Dense)                  (None, 512)               524800    \n",
            "_________________________________________________________________\n",
            "FC3 (Dense)                  (None, 128)               65664     \n",
            "_________________________________________________________________\n",
            "Output (Dense)               (None, 2)                 258       \n",
            "=================================================================\n",
            "Total params: 599,938\n",
            "Trainable params: 599,938\n",
            "Non-trainable params: 0\n",
            "_________________________________________________________________\n"
          ],
          "name": "stdout"
        }
      ]
    },
    {
      "cell_type": "code",
      "metadata": {
        "id": "2SZvuWZNTLFQ",
        "colab_type": "code",
        "outputId": "98683578-bb32-4776-8ede-2f9bd64a9e34",
        "colab": {
          "base_uri": "https://localhost:8080/",
          "height": 1000
        }
      },
      "source": [
        "opt = tf.keras.optimizers.Adam(lr=0.01)\n",
        "model.compile(loss='mean_squared_error', optimizer=opt, metrics=['mae'])\n",
        "\n",
        "VAL_FREQ = 1\n",
        "## hyperparameters\n",
        "BATCH_SIZE = 50\n",
        "EPOCHS = 100\n",
        "\n",
        "history = model.fit(x_train, y_train,\n",
        "                   batch_size = BATCH_SIZE,\n",
        "                   epochs = EPOCHS,\n",
        "                   validation_split = .2,\n",
        "                   shuffle = True,\n",
        "                   validation_freq = VAL_FREQ,\n",
        "                   verbose = 1)"
      ],
      "execution_count": 0,
      "outputs": [
        {
          "output_type": "stream",
          "text": [
            "Train on 552 samples, validate on 139 samples\n",
            "Epoch 1/100\n",
            "552/552 [==============================] - 0s 636us/sample - loss: 170.8182 - mean_absolute_error: 10.0335 - val_loss: 123.8580 - val_mean_absolute_error: 8.8244\n",
            "Epoch 2/100\n",
            "552/552 [==============================] - 0s 301us/sample - loss: 57.5262 - mean_absolute_error: 5.7337 - val_loss: 35.1291 - val_mean_absolute_error: 4.6934\n",
            "Epoch 3/100\n",
            "552/552 [==============================] - 0s 285us/sample - loss: 26.2398 - mean_absolute_error: 3.9270 - val_loss: 21.6805 - val_mean_absolute_error: 3.5499\n",
            "Epoch 4/100\n",
            "552/552 [==============================] - 0s 285us/sample - loss: 17.9171 - mean_absolute_error: 3.2640 - val_loss: 17.2960 - val_mean_absolute_error: 3.2511\n",
            "Epoch 5/100\n",
            "552/552 [==============================] - 0s 310us/sample - loss: 17.7642 - mean_absolute_error: 3.1625 - val_loss: 22.4789 - val_mean_absolute_error: 3.9161\n",
            "Epoch 6/100\n",
            "552/552 [==============================] - 0s 306us/sample - loss: 15.6117 - mean_absolute_error: 2.9931 - val_loss: 15.9897 - val_mean_absolute_error: 3.0425\n",
            "Epoch 7/100\n",
            "552/552 [==============================] - 0s 291us/sample - loss: 12.4246 - mean_absolute_error: 2.6237 - val_loss: 10.6310 - val_mean_absolute_error: 2.3274\n",
            "Epoch 8/100\n",
            "552/552 [==============================] - 0s 299us/sample - loss: 10.1954 - mean_absolute_error: 2.3079 - val_loss: 11.6129 - val_mean_absolute_error: 2.4892\n",
            "Epoch 9/100\n",
            "552/552 [==============================] - 0s 338us/sample - loss: 12.5122 - mean_absolute_error: 2.6768 - val_loss: 9.8319 - val_mean_absolute_error: 2.3206\n",
            "Epoch 10/100\n",
            "552/552 [==============================] - 0s 333us/sample - loss: 10.5516 - mean_absolute_error: 2.4517 - val_loss: 22.7407 - val_mean_absolute_error: 3.5650\n",
            "Epoch 11/100\n",
            "552/552 [==============================] - 0s 352us/sample - loss: 15.4326 - mean_absolute_error: 2.8241 - val_loss: 15.1331 - val_mean_absolute_error: 2.9085\n",
            "Epoch 12/100\n",
            "552/552 [==============================] - 0s 344us/sample - loss: 13.9600 - mean_absolute_error: 2.6737 - val_loss: 39.8891 - val_mean_absolute_error: 4.7661\n",
            "Epoch 13/100\n",
            "552/552 [==============================] - 0s 339us/sample - loss: 24.6003 - mean_absolute_error: 3.7024 - val_loss: 17.9060 - val_mean_absolute_error: 3.1054\n",
            "Epoch 14/100\n",
            "552/552 [==============================] - 0s 339us/sample - loss: 10.2931 - mean_absolute_error: 2.3108 - val_loss: 10.2302 - val_mean_absolute_error: 2.3216\n",
            "Epoch 15/100\n",
            "552/552 [==============================] - 0s 340us/sample - loss: 7.8587 - mean_absolute_error: 1.9953 - val_loss: 7.2087 - val_mean_absolute_error: 2.0411\n",
            "Epoch 16/100\n",
            "552/552 [==============================] - 0s 337us/sample - loss: 7.3920 - mean_absolute_error: 1.9866 - val_loss: 7.9115 - val_mean_absolute_error: 1.9742\n",
            "Epoch 17/100\n",
            "552/552 [==============================] - 0s 347us/sample - loss: 9.0757 - mean_absolute_error: 2.1848 - val_loss: 9.9295 - val_mean_absolute_error: 2.4660\n",
            "Epoch 18/100\n",
            "552/552 [==============================] - 0s 339us/sample - loss: 7.4250 - mean_absolute_error: 1.9222 - val_loss: 8.1575 - val_mean_absolute_error: 2.0453\n",
            "Epoch 19/100\n",
            "552/552 [==============================] - 0s 334us/sample - loss: 7.0024 - mean_absolute_error: 1.9790 - val_loss: 4.5455 - val_mean_absolute_error: 1.4592\n",
            "Epoch 20/100\n",
            "552/552 [==============================] - 0s 331us/sample - loss: 5.2021 - mean_absolute_error: 1.7328 - val_loss: 4.8349 - val_mean_absolute_error: 1.5995\n",
            "Epoch 21/100\n",
            "552/552 [==============================] - 0s 320us/sample - loss: 4.6193 - mean_absolute_error: 1.6441 - val_loss: 7.0267 - val_mean_absolute_error: 1.8432\n",
            "Epoch 22/100\n",
            "552/552 [==============================] - 0s 335us/sample - loss: 6.9608 - mean_absolute_error: 1.8964 - val_loss: 16.0241 - val_mean_absolute_error: 3.2110\n",
            "Epoch 23/100\n",
            "552/552 [==============================] - 0s 326us/sample - loss: 12.1811 - mean_absolute_error: 2.6926 - val_loss: 9.9872 - val_mean_absolute_error: 2.5064\n",
            "Epoch 24/100\n",
            "552/552 [==============================] - 0s 318us/sample - loss: 10.1647 - mean_absolute_error: 2.4490 - val_loss: 5.1592 - val_mean_absolute_error: 1.7526\n",
            "Epoch 25/100\n",
            "552/552 [==============================] - 0s 330us/sample - loss: 8.1749 - mean_absolute_error: 2.2394 - val_loss: 6.6162 - val_mean_absolute_error: 2.0906\n",
            "Epoch 26/100\n",
            "552/552 [==============================] - 0s 313us/sample - loss: 7.4659 - mean_absolute_error: 2.2188 - val_loss: 5.1134 - val_mean_absolute_error: 1.6518\n",
            "Epoch 27/100\n",
            "552/552 [==============================] - 0s 308us/sample - loss: 5.4299 - mean_absolute_error: 1.8108 - val_loss: 4.9599 - val_mean_absolute_error: 1.7371\n",
            "Epoch 28/100\n",
            "552/552 [==============================] - 0s 350us/sample - loss: 5.2088 - mean_absolute_error: 1.7153 - val_loss: 5.4150 - val_mean_absolute_error: 1.6950\n",
            "Epoch 29/100\n",
            "552/552 [==============================] - 0s 360us/sample - loss: 6.4797 - mean_absolute_error: 1.7681 - val_loss: 5.1089 - val_mean_absolute_error: 1.6668\n",
            "Epoch 30/100\n",
            "552/552 [==============================] - 0s 337us/sample - loss: 4.7632 - mean_absolute_error: 1.5874 - val_loss: 5.1326 - val_mean_absolute_error: 1.5735\n",
            "Epoch 31/100\n",
            "552/552 [==============================] - 0s 318us/sample - loss: 4.4051 - mean_absolute_error: 1.5408 - val_loss: 5.1122 - val_mean_absolute_error: 1.8839\n",
            "Epoch 32/100\n",
            "552/552 [==============================] - 0s 329us/sample - loss: 4.8540 - mean_absolute_error: 1.6877 - val_loss: 8.6812 - val_mean_absolute_error: 2.3045\n",
            "Epoch 33/100\n",
            "552/552 [==============================] - 0s 331us/sample - loss: 6.4344 - mean_absolute_error: 1.9281 - val_loss: 7.0688 - val_mean_absolute_error: 1.9275\n",
            "Epoch 34/100\n",
            "552/552 [==============================] - 0s 330us/sample - loss: 12.5124 - mean_absolute_error: 2.6261 - val_loss: 26.1083 - val_mean_absolute_error: 3.8935\n",
            "Epoch 35/100\n",
            "552/552 [==============================] - 0s 313us/sample - loss: 18.4232 - mean_absolute_error: 3.1921 - val_loss: 15.9115 - val_mean_absolute_error: 3.3149\n",
            "Epoch 36/100\n",
            "552/552 [==============================] - 0s 338us/sample - loss: 13.6765 - mean_absolute_error: 2.8495 - val_loss: 7.8496 - val_mean_absolute_error: 2.2951\n",
            "Epoch 37/100\n",
            "552/552 [==============================] - 0s 332us/sample - loss: 6.4236 - mean_absolute_error: 1.9573 - val_loss: 5.0539 - val_mean_absolute_error: 1.8003\n",
            "Epoch 38/100\n",
            "552/552 [==============================] - 0s 336us/sample - loss: 4.1189 - mean_absolute_error: 1.5064 - val_loss: 3.9388 - val_mean_absolute_error: 1.4777\n",
            "Epoch 39/100\n",
            "552/552 [==============================] - 0s 335us/sample - loss: 3.2697 - mean_absolute_error: 1.3516 - val_loss: 2.7546 - val_mean_absolute_error: 1.1325\n",
            "Epoch 40/100\n",
            "552/552 [==============================] - 0s 332us/sample - loss: 3.0231 - mean_absolute_error: 1.1880 - val_loss: 4.3670 - val_mean_absolute_error: 1.4981\n",
            "Epoch 41/100\n",
            "552/552 [==============================] - 0s 333us/sample - loss: 3.9203 - mean_absolute_error: 1.4522 - val_loss: 2.5769 - val_mean_absolute_error: 1.1683\n",
            "Epoch 42/100\n",
            "552/552 [==============================] - 0s 331us/sample - loss: 2.7292 - mean_absolute_error: 1.1578 - val_loss: 4.2008 - val_mean_absolute_error: 1.5028\n",
            "Epoch 43/100\n",
            "552/552 [==============================] - 0s 344us/sample - loss: 3.0110 - mean_absolute_error: 1.2639 - val_loss: 3.9464 - val_mean_absolute_error: 1.4843\n",
            "Epoch 44/100\n",
            "552/552 [==============================] - 0s 335us/sample - loss: 3.1766 - mean_absolute_error: 1.2375 - val_loss: 2.3340 - val_mean_absolute_error: 1.1412\n",
            "Epoch 45/100\n",
            "552/552 [==============================] - 0s 350us/sample - loss: 2.3656 - mean_absolute_error: 1.0739 - val_loss: 2.2883 - val_mean_absolute_error: 1.0581\n",
            "Epoch 46/100\n",
            "552/552 [==============================] - 0s 333us/sample - loss: 1.9115 - mean_absolute_error: 0.9649 - val_loss: 2.7699 - val_mean_absolute_error: 1.1380\n",
            "Epoch 47/100\n",
            "552/552 [==============================] - 0s 344us/sample - loss: 2.1138 - mean_absolute_error: 1.0170 - val_loss: 1.2349 - val_mean_absolute_error: 0.7308\n",
            "Epoch 48/100\n",
            "552/552 [==============================] - 0s 331us/sample - loss: 1.7855 - mean_absolute_error: 0.8870 - val_loss: 1.4897 - val_mean_absolute_error: 0.8106\n",
            "Epoch 49/100\n",
            "552/552 [==============================] - 0s 335us/sample - loss: 2.0531 - mean_absolute_error: 1.0043 - val_loss: 1.5167 - val_mean_absolute_error: 0.8371\n",
            "Epoch 50/100\n",
            "552/552 [==============================] - 0s 342us/sample - loss: 1.5302 - mean_absolute_error: 0.8496 - val_loss: 1.3167 - val_mean_absolute_error: 0.7621\n",
            "Epoch 51/100\n",
            "552/552 [==============================] - 0s 356us/sample - loss: 1.4668 - mean_absolute_error: 0.8040 - val_loss: 1.5582 - val_mean_absolute_error: 0.8365\n",
            "Epoch 52/100\n",
            "552/552 [==============================] - 0s 339us/sample - loss: 1.8024 - mean_absolute_error: 0.9347 - val_loss: 1.7349 - val_mean_absolute_error: 0.9611\n",
            "Epoch 53/100\n",
            "552/552 [==============================] - 0s 334us/sample - loss: 1.7205 - mean_absolute_error: 0.9417 - val_loss: 1.5450 - val_mean_absolute_error: 0.9124\n",
            "Epoch 54/100\n",
            "552/552 [==============================] - 0s 333us/sample - loss: 1.6968 - mean_absolute_error: 0.9568 - val_loss: 1.5612 - val_mean_absolute_error: 0.9455\n",
            "Epoch 55/100\n",
            "552/552 [==============================] - 0s 342us/sample - loss: 1.3906 - mean_absolute_error: 0.8371 - val_loss: 1.0569 - val_mean_absolute_error: 0.6984\n",
            "Epoch 56/100\n",
            "552/552 [==============================] - 0s 329us/sample - loss: 1.1738 - mean_absolute_error: 0.7375 - val_loss: 1.1821 - val_mean_absolute_error: 0.7611\n",
            "Epoch 57/100\n",
            "552/552 [==============================] - 0s 349us/sample - loss: 1.5402 - mean_absolute_error: 0.8708 - val_loss: 1.1687 - val_mean_absolute_error: 0.6914\n",
            "Epoch 58/100\n",
            "552/552 [==============================] - 0s 337us/sample - loss: 2.2012 - mean_absolute_error: 1.0412 - val_loss: 1.8452 - val_mean_absolute_error: 0.8840\n",
            "Epoch 59/100\n",
            "552/552 [==============================] - 0s 355us/sample - loss: 1.4585 - mean_absolute_error: 0.8199 - val_loss: 1.5081 - val_mean_absolute_error: 0.9015\n",
            "Epoch 60/100\n",
            "552/552 [==============================] - 0s 331us/sample - loss: 1.6049 - mean_absolute_error: 0.9261 - val_loss: 1.3981 - val_mean_absolute_error: 0.8148\n",
            "Epoch 61/100\n",
            "552/552 [==============================] - 0s 341us/sample - loss: 1.7091 - mean_absolute_error: 0.9344 - val_loss: 1.7405 - val_mean_absolute_error: 1.0259\n",
            "Epoch 62/100\n",
            "552/552 [==============================] - 0s 313us/sample - loss: 1.9521 - mean_absolute_error: 1.0224 - val_loss: 3.5952 - val_mean_absolute_error: 1.3369\n",
            "Epoch 63/100\n",
            "552/552 [==============================] - 0s 322us/sample - loss: 3.9345 - mean_absolute_error: 1.4068 - val_loss: 4.0108 - val_mean_absolute_error: 1.4178\n",
            "Epoch 64/100\n",
            "552/552 [==============================] - 0s 343us/sample - loss: 3.0253 - mean_absolute_error: 1.2402 - val_loss: 4.8831 - val_mean_absolute_error: 1.4614\n",
            "Epoch 65/100\n",
            "552/552 [==============================] - 0s 335us/sample - loss: 2.8908 - mean_absolute_error: 1.2831 - val_loss: 6.6500 - val_mean_absolute_error: 1.8847\n",
            "Epoch 66/100\n",
            "552/552 [==============================] - 0s 313us/sample - loss: 3.7782 - mean_absolute_error: 1.4155 - val_loss: 7.3548 - val_mean_absolute_error: 2.1733\n",
            "Epoch 67/100\n",
            "552/552 [==============================] - 0s 327us/sample - loss: 3.8424 - mean_absolute_error: 1.4607 - val_loss: 1.9382 - val_mean_absolute_error: 1.0497\n",
            "Epoch 68/100\n",
            "552/552 [==============================] - 0s 331us/sample - loss: 2.1987 - mean_absolute_error: 1.0266 - val_loss: 1.9681 - val_mean_absolute_error: 1.1162\n",
            "Epoch 69/100\n",
            "552/552 [==============================] - 0s 331us/sample - loss: 1.4677 - mean_absolute_error: 0.8596 - val_loss: 1.3104 - val_mean_absolute_error: 0.7925\n",
            "Epoch 70/100\n",
            "552/552 [==============================] - 0s 315us/sample - loss: 1.1693 - mean_absolute_error: 0.7722 - val_loss: 1.4643 - val_mean_absolute_error: 0.8041\n",
            "Epoch 71/100\n",
            "552/552 [==============================] - 0s 329us/sample - loss: 1.1826 - mean_absolute_error: 0.7608 - val_loss: 1.8071 - val_mean_absolute_error: 0.8539\n",
            "Epoch 72/100\n",
            "552/552 [==============================] - 0s 305us/sample - loss: 1.4725 - mean_absolute_error: 0.8797 - val_loss: 1.4917 - val_mean_absolute_error: 0.9455\n",
            "Epoch 73/100\n",
            "552/552 [==============================] - 0s 316us/sample - loss: 1.3222 - mean_absolute_error: 0.8191 - val_loss: 1.3626 - val_mean_absolute_error: 0.8210\n",
            "Epoch 74/100\n",
            "552/552 [==============================] - 0s 297us/sample - loss: 1.3702 - mean_absolute_error: 0.8841 - val_loss: 1.2417 - val_mean_absolute_error: 0.8106\n",
            "Epoch 75/100\n",
            "552/552 [==============================] - 0s 306us/sample - loss: 1.0690 - mean_absolute_error: 0.7543 - val_loss: 2.4349 - val_mean_absolute_error: 1.0491\n",
            "Epoch 76/100\n",
            "552/552 [==============================] - 0s 305us/sample - loss: 2.6442 - mean_absolute_error: 1.1123 - val_loss: 3.4729 - val_mean_absolute_error: 1.3679\n",
            "Epoch 77/100\n",
            "552/552 [==============================] - 0s 313us/sample - loss: 2.7956 - mean_absolute_error: 1.2014 - val_loss: 6.6617 - val_mean_absolute_error: 2.1584\n",
            "Epoch 78/100\n",
            "552/552 [==============================] - 0s 318us/sample - loss: 3.6975 - mean_absolute_error: 1.4126 - val_loss: 4.1224 - val_mean_absolute_error: 1.6997\n",
            "Epoch 79/100\n",
            "552/552 [==============================] - 0s 316us/sample - loss: 3.5193 - mean_absolute_error: 1.3571 - val_loss: 3.5558 - val_mean_absolute_error: 1.3714\n",
            "Epoch 80/100\n",
            "552/552 [==============================] - 0s 321us/sample - loss: 5.9008 - mean_absolute_error: 1.8427 - val_loss: 7.5359 - val_mean_absolute_error: 2.0773\n",
            "Epoch 81/100\n",
            "552/552 [==============================] - 0s 319us/sample - loss: 3.0632 - mean_absolute_error: 1.2706 - val_loss: 3.0642 - val_mean_absolute_error: 1.2617\n",
            "Epoch 82/100\n",
            "552/552 [==============================] - 0s 339us/sample - loss: 2.6193 - mean_absolute_error: 1.2044 - val_loss: 1.5042 - val_mean_absolute_error: 0.9361\n",
            "Epoch 83/100\n",
            "552/552 [==============================] - 0s 346us/sample - loss: 1.7146 - mean_absolute_error: 0.9226 - val_loss: 1.2200 - val_mean_absolute_error: 0.8514\n",
            "Epoch 84/100\n",
            "552/552 [==============================] - 0s 350us/sample - loss: 1.1384 - mean_absolute_error: 0.7493 - val_loss: 0.8770 - val_mean_absolute_error: 0.6904\n",
            "Epoch 85/100\n",
            "552/552 [==============================] - 0s 346us/sample - loss: 0.8317 - mean_absolute_error: 0.6192 - val_loss: 0.8637 - val_mean_absolute_error: 0.6713\n",
            "Epoch 86/100\n",
            "552/552 [==============================] - 0s 342us/sample - loss: 1.0173 - mean_absolute_error: 0.7482 - val_loss: 1.2609 - val_mean_absolute_error: 0.8139\n",
            "Epoch 87/100\n",
            "552/552 [==============================] - 0s 319us/sample - loss: 1.2092 - mean_absolute_error: 0.7920 - val_loss: 1.0021 - val_mean_absolute_error: 0.7091\n",
            "Epoch 88/100\n",
            "552/552 [==============================] - 0s 317us/sample - loss: 1.2627 - mean_absolute_error: 0.7949 - val_loss: 0.9298 - val_mean_absolute_error: 0.6739\n",
            "Epoch 89/100\n",
            "552/552 [==============================] - 0s 325us/sample - loss: 1.2100 - mean_absolute_error: 0.7939 - val_loss: 1.3240 - val_mean_absolute_error: 0.8822\n",
            "Epoch 90/100\n",
            "552/552 [==============================] - 0s 316us/sample - loss: 1.2014 - mean_absolute_error: 0.7685 - val_loss: 1.6304 - val_mean_absolute_error: 0.9761\n",
            "Epoch 91/100\n",
            "552/552 [==============================] - 0s 302us/sample - loss: 1.0535 - mean_absolute_error: 0.7346 - val_loss: 0.8189 - val_mean_absolute_error: 0.6069\n",
            "Epoch 92/100\n",
            "552/552 [==============================] - 0s 325us/sample - loss: 0.7470 - mean_absolute_error: 0.6263 - val_loss: 0.6657 - val_mean_absolute_error: 0.6001\n",
            "Epoch 93/100\n",
            "552/552 [==============================] - 0s 340us/sample - loss: 0.6999 - mean_absolute_error: 0.5702 - val_loss: 0.6694 - val_mean_absolute_error: 0.5629\n",
            "Epoch 94/100\n",
            "552/552 [==============================] - 0s 339us/sample - loss: 0.6798 - mean_absolute_error: 0.5517 - val_loss: 0.6401 - val_mean_absolute_error: 0.5952\n",
            "Epoch 95/100\n",
            "552/552 [==============================] - 0s 323us/sample - loss: 0.6744 - mean_absolute_error: 0.5746 - val_loss: 1.1547 - val_mean_absolute_error: 0.8000\n",
            "Epoch 96/100\n",
            "552/552 [==============================] - 0s 308us/sample - loss: 1.1070 - mean_absolute_error: 0.7399 - val_loss: 1.6639 - val_mean_absolute_error: 0.8835\n",
            "Epoch 97/100\n",
            "552/552 [==============================] - 0s 330us/sample - loss: 1.0117 - mean_absolute_error: 0.7039 - val_loss: 0.6984 - val_mean_absolute_error: 0.6130\n",
            "Epoch 98/100\n",
            "552/552 [==============================] - 0s 322us/sample - loss: 1.0004 - mean_absolute_error: 0.7004 - val_loss: 0.5765 - val_mean_absolute_error: 0.5337\n",
            "Epoch 99/100\n",
            "552/552 [==============================] - 0s 318us/sample - loss: 0.7010 - mean_absolute_error: 0.5989 - val_loss: 0.6340 - val_mean_absolute_error: 0.5719\n",
            "Epoch 100/100\n",
            "552/552 [==============================] - 0s 309us/sample - loss: 0.8687 - mean_absolute_error: 0.6416 - val_loss: 0.8552 - val_mean_absolute_error: 0.6180\n"
          ],
          "name": "stdout"
        }
      ]
    },
    {
      "cell_type": "code",
      "metadata": {
        "id": "ECyCCxwjWRLt",
        "colab_type": "code",
        "outputId": "a04b560a-17fb-4a7c-adf9-000487196db6",
        "colab": {
          "base_uri": "https://localhost:8080/",
          "height": 562
        }
      },
      "source": [
        "plt.figure()\n",
        "plt.plot(np.arange(EPOCHS), history.history['loss'])\n",
        "plt.plot(np.arange(0,EPOCHS,VAL_FREQ), history.history['val_loss'])\n",
        "plt.legend(['Train', 'Val'])\n",
        "plt.title('Loss vs. Epochs')\n",
        "\n",
        "plt.figure()\n",
        "plt.plot(np.arange(EPOCHS), history.history['mean_absolute_error'])\n",
        "plt.plot(np.arange(0,EPOCHS,VAL_FREQ), history.history['val_mean_absolute_error'])\n",
        "plt.legend(['Train', 'Val']);\n",
        "plt.title('Accuracy vs. Epochs')"
      ],
      "execution_count": 0,
      "outputs": [
        {
          "output_type": "execute_result",
          "data": {
            "text/plain": [
              "Text(0.5, 1.0, 'Accuracy vs. Epochs')"
            ]
          },
          "metadata": {
            "tags": []
          },
          "execution_count": 34
        },
        {
          "output_type": "display_data",
          "data": {
            "image/png": "[encoded data removed]",
            "text/plain": [
              "<Figure size 432x288 with 1 Axes>"
            ]
          },
          "metadata": {
            "tags": []
          }
        },
        {
          "output_type": "display_data",
          "data": {
            "image/png": "[encoded data removed]",
            "text/plain": [
              "<Figure size 432x288 with 1 Axes>"
            ]
          },
          "metadata": {
            "tags": []
          }
        }
      ]
    },
    {
      "cell_type": "code",
      "metadata": {
        "id": "dn7JQOV7VJd6",
        "colab_type": "code",
        "outputId": "92282cae-69e6-4ee6-8135-ef0bbbd5c960",
        "colab": {
          "base_uri": "https://localhost:8080/",
          "height": 34
        }
      },
      "source": [
        "yhat = model.predict(x_test)\n",
        "\n",
        "MAE = np.mean(np.abs(yhat - y_test))\n",
        "print(MAE)"
      ],
      "execution_count": 0,
      "outputs": [
        {
          "output_type": "stream",
          "text": [
            "0.6254726958584477\n"
          ],
          "name": "stdout"
        }
      ]
    },
    {
      "cell_type": "code",
      "metadata": {
        "id": "V2wOXNRMWRU8",
        "colab_type": "code",
        "colab": {}
      },
      "source": [
        ""
      ],
      "execution_count": 0,
      "outputs": []
    }
  ]
}