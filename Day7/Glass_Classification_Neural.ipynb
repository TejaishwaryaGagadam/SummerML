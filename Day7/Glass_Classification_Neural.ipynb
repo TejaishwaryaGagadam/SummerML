{
  "nbformat": 4,
  "nbformat_minor": 0,
  "metadata": {
    "colab": {
      "name": "Glass_Classification_Neural.ipynb",
      "provenance": [],
      "include_colab_link": true
    },
    "kernelspec": {
      "name": "python3",
      "display_name": "Python 3"
    }
  },
  "cells": [
    {
      "cell_type": "markdown",
      "metadata": {
        "id": "view-in-github",
        "colab_type": "text"
      },
      "source": [
        "<a href=\"https://colab.research.google.com/github/nikopj/SummerML/blob/master/Day7/Glass_Classification_Neural.ipynb\" target=\"_parent\"><img src=\"https://colab.research.google.com/assets/colab-badge.svg\" alt=\"Open In Colab\"/></a>"
      ]
    },
    {
      "cell_type": "code",
      "metadata": {
        "id": "asbmyaEoySO8",
        "colab_type": "code",
        "colab": {}
      },
      "source": [
        "import pandas as pd\n",
        "import numpy as np\n",
        "import numpy as np\n",
        "import matplotlib\n",
        "import matplotlib.pyplot as plt\n",
        "%matplotlib inline\n",
        "\n",
        "import tensorflow as tf\n",
        "\n",
        "names = ['ID', 'Refractive Index','Sodium','Magnesium','Aluminum','Silicon','Potassium','Calcium','Barium','Iron','Type']\n",
        "df = pd.read_csv('glass.csv',names=names)"
      ],
      "execution_count": 0,
      "outputs": []
    },
    {
      "cell_type": "code",
      "metadata": {
        "id": "3csuqecp1sON",
        "colab_type": "code",
        "colab": {}
      },
      "source": [
        "Xfeatures = ['ID', 'Refractive Index','Sodium','Magnesium','Aluminum','Silicon','Potassium','Calcium','Barium','Iron']\n",
        "X = np.array(df[Xfeatures])\n",
        "y_old = np.array([df['Type']])\n",
        "y_new = []\n",
        "\n",
        "for i in y_old:\n",
        "  sub = i - 1\n",
        "  y_new.append(sub)\n",
        "\n",
        "y = np.array(y_new).reshape(-1,1)"
      ],
      "execution_count": 0,
      "outputs": []
    },
    {
      "cell_type": "code",
      "metadata": {
        "id": "FSfrygEi0hOZ",
        "colab_type": "code",
        "colab": {}
      },
      "source": [
        "from sklearn.model_selection import train_test_split\n",
        "\n",
        "Xtr, Xts, ytr, yts = train_test_split(X,y, test_size=0.1)\n"
      ],
      "execution_count": 0,
      "outputs": []
    },
    {
      "cell_type": "code",
      "metadata": {
        "id": "MuL6bmfQ3e2s",
        "colab_type": "code",
        "colab": {}
      },
      "source": [
        "Xtr_mean = np.mean(Xtr,axis = 0)\n",
        "Xtr_std  = np.std(Xtr,axis = 0)\n",
        "\n",
        "Xtr_scale = (Xtr - Xtr_mean[None,:])/Xtr_std[None,:]\n",
        "Xts_scale = (Xts - Xtr_mean[None,:])/Xtr_std[None,:]"
      ],
      "execution_count": 0,
      "outputs": []
    },
    {
      "cell_type": "code",
      "metadata": {
        "id": "msBasjau3m0U",
        "colab_type": "code",
        "colab": {}
      },
      "source": [
        "from tensorflow.keras.models import Model, Sequential\n",
        "from tensorflow.keras.layers import Dense, Activation\n",
        "import tensorflow.keras.backend as K"
      ],
      "execution_count": 0,
      "outputs": []
    },
    {
      "cell_type": "code",
      "metadata": {
        "id": "6Wwkq7FS3oRg",
        "colab_type": "code",
        "colab": {}
      },
      "source": [
        "K.clear_session()\n"
      ],
      "execution_count": 0,
      "outputs": []
    },
    {
      "cell_type": "code",
      "metadata": {
        "id": "IVgj_GKt3qMw",
        "colab_type": "code",
        "colab": {}
      },
      "source": [
        "nin = Xtr.shape[1]\n",
        "nout = max(ytr)+1\n",
        "nh = 50\n",
        "\n",
        "model = Sequential()\n",
        "model.add(Dense(units=nh, input_shape=(nin,), activation='sigmoid', name='hidden'))\n",
        "model.add(Dense(units=nout, activation='softmax', name='output'))\n"
      ],
      "execution_count": 0,
      "outputs": []
    },
    {
      "cell_type": "code",
      "metadata": {
        "id": "jr-Zm6rY3vqv",
        "colab_type": "code",
        "outputId": "1474da77-531a-4286-c55f-0731cf078de8",
        "colab": {
          "base_uri": "https://localhost:8080/",
          "height": 221
        }
      },
      "source": [
        "model.summary()"
      ],
      "execution_count": 0,
      "outputs": [
        {
          "output_type": "stream",
          "text": [
            "Model: \"sequential\"\n",
            "_________________________________________________________________\n",
            "Layer (type)                 Output Shape              Param #   \n",
            "=================================================================\n",
            "hidden (Dense)               (None, 50)                550       \n",
            "_________________________________________________________________\n",
            "output (Dense)               (None, 7)                 357       \n",
            "=================================================================\n",
            "Total params: 907\n",
            "Trainable params: 907\n",
            "Non-trainable params: 0\n",
            "_________________________________________________________________\n"
          ],
          "name": "stdout"
        }
      ]
    },
    {
      "cell_type": "code",
      "metadata": {
        "id": "jUScir9W3zah",
        "colab_type": "code",
        "colab": {}
      },
      "source": [
        "from tensorflow.keras import optimizers\n",
        "\n",
        "opt = optimizers.Adam(lr=0.01) \n",
        "model.compile(optimizer=opt,\n",
        "              loss='sparse_categorical_crossentropy',\n",
        "              metrics=['accuracy'])"
      ],
      "execution_count": 0,
      "outputs": []
    },
    {
      "cell_type": "code",
      "metadata": {
        "id": "o_KC7ZpJ345d",
        "colab_type": "code",
        "outputId": "62a63075-6c9c-400a-bae3-dec02474723d",
        "colab": {
          "base_uri": "https://localhost:8080/",
          "height": 374
        }
      },
      "source": [
        "hist = model.fit(Xtr_scale, ytr, epochs=10, batch_size=3, validation_data=(Xts_scale,yts))\n"
      ],
      "execution_count": 0,
      "outputs": [
        {
          "output_type": "stream",
          "text": [
            "Train on 192 samples, validate on 22 samples\n",
            "Epoch 1/10\n",
            "192/192 [==============================] - 0s 834us/sample - loss: 1.2585 - acc: 0.4740 - val_loss: 1.0890 - val_acc: 0.6364\n",
            "Epoch 2/10\n",
            "192/192 [==============================] - 0s 485us/sample - loss: 0.7960 - acc: 0.7552 - val_loss: 0.5869 - val_acc: 0.8182\n",
            "Epoch 3/10\n",
            "192/192 [==============================] - 0s 511us/sample - loss: 0.5781 - acc: 0.8125 - val_loss: 0.4240 - val_acc: 0.9091\n",
            "Epoch 4/10\n",
            "192/192 [==============================] - 0s 502us/sample - loss: 0.4668 - acc: 0.8490 - val_loss: 0.4465 - val_acc: 0.9091\n",
            "Epoch 5/10\n",
            "192/192 [==============================] - 0s 478us/sample - loss: 0.3655 - acc: 0.8958 - val_loss: 0.3982 - val_acc: 0.9545\n",
            "Epoch 6/10\n",
            "192/192 [==============================] - 0s 524us/sample - loss: 0.3269 - acc: 0.9010 - val_loss: 0.2467 - val_acc: 0.9545\n",
            "Epoch 7/10\n",
            "192/192 [==============================] - 0s 497us/sample - loss: 0.2672 - acc: 0.9271 - val_loss: 0.1928 - val_acc: 0.9545\n",
            "Epoch 8/10\n",
            "192/192 [==============================] - 0s 538us/sample - loss: 0.2291 - acc: 0.9427 - val_loss: 0.2207 - val_acc: 0.9545\n",
            "Epoch 9/10\n",
            "192/192 [==============================] - 0s 511us/sample - loss: 0.1885 - acc: 0.9635 - val_loss: 0.1865 - val_acc: 1.0000\n",
            "Epoch 10/10\n",
            "192/192 [==============================] - 0s 493us/sample - loss: 0.1706 - acc: 0.9583 - val_loss: 0.1834 - val_acc: 1.0000\n"
          ],
          "name": "stdout"
        }
      ]
    },
    {
      "cell_type": "code",
      "metadata": {
        "id": "vaVmLn2C3-xo",
        "colab_type": "code",
        "outputId": "9cfce78b-7257-4e4c-b600-88c835b78e71",
        "colab": {
          "base_uri": "https://localhost:8080/",
          "height": 300
        }
      },
      "source": [
        "val_accuracy = hist.history['val_acc']\n",
        "nepochs = len(val_accuracy)\n",
        "plt.plot(np.arange(1,nepochs+1), val_accuracy, 'o-', linewidth=2)\n",
        "plt.grid()\n",
        "plt.xlabel('Epoch')\n",
        "plt.ylabel('Test accuracy')"
      ],
      "execution_count": 0,
      "outputs": [
        {
          "output_type": "execute_result",
          "data": {
            "text/plain": [
              "Text(0, 0.5, 'Test accuracy')"
            ]
          },
          "metadata": {
            "tags": []
          },
          "execution_count": 152
        },
        {
          "output_type": "display_data",
          "data": {
            "image/png": "[encoded data removed]",
            "text/plain": [
              "<Figure size 432x288 with 1 Axes>"
            ]
          },
          "metadata": {
            "tags": []
          }
        }
      ]
    },
    {
      "cell_type": "code",
      "metadata": {
        "id": "6OWstAmq4Bsi",
        "colab_type": "code",
        "outputId": "cf609d97-e00d-4375-b850-9d50ad7bdfc6",
        "colab": {
          "base_uri": "https://localhost:8080/",
          "height": 297
        }
      },
      "source": [
        "loss = hist.history['loss']\n",
        "plt.semilogy(np.arange(1,nepochs+1), loss, 'o-')\n",
        "plt.xlabel('Epochs', fontsize=16)\n",
        "plt.ylabel('Loss', fontsize=16)\n",
        "plt.grid()\n",
        "plt.tight_layout()"
      ],
      "execution_count": 0,
      "outputs": [
        {
          "output_type": "display_data",
          "data": {
            "image/png": "[encoded data removed]",
            "text/plain": [
              "<Figure size 432x288 with 1 Axes>"
            ]
          },
          "metadata": {
            "tags": []
          }
        }
      ]
    }
  ]
}