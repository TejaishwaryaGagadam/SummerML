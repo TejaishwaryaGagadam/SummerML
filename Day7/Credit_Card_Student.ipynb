{
  "nbformat": 4,
  "nbformat_minor": 0,
  "metadata": {
    "colab": {
      "name": "Credit_Card_Student.ipynb",
      "provenance": [],
      "collapsed_sections": [],
      "include_colab_link": true
    },
    "kernelspec": {
      "name": "python3",
      "display_name": "Python 3"
    }
  },
  "cells": [
    {
      "cell_type": "markdown",
      "metadata": {
        "id": "view-in-github",
        "colab_type": "text"
      },
      "source": [
        "<a href=\"https://colab.research.google.com/github/nikopj/SummerML/blob/master/Day7/Credit_Card_Student.ipynb\" target=\"_parent\"><img src=\"https://colab.research.google.com/assets/colab-badge.svg\" alt=\"Open In Colab\"/></a>"
      ]
    },
    {
      "cell_type": "markdown",
      "metadata": {
        "id": "Woj3Tx5OqmZn",
        "colab_type": "text"
      },
      "source": [
        "# Credit Card Client Default Prediction\n",
        "\n",
        "Link to Data set: https://archive.ics.uci.edu/ml/datasets/default+of+credit+card+clients\n",
        "\n",
        "- Read the description on the site\n",
        "- Which type of machine learning problem is this?\n",
        "- What should the output be like?"
      ]
    },
    {
      "cell_type": "markdown",
      "metadata": {
        "id": "g__fJ-mLqpiG",
        "colab_type": "text"
      },
      "source": [
        "### 1. Load Libraries and Data\n",
        "- Find out: How many input features are in the data set?\n",
        "- How many samples are there?"
      ]
    },
    {
      "cell_type": "code",
      "metadata": {
        "id": "MJfp7-Z1qlxY",
        "colab_type": "code",
        "colab": {}
      },
      "source": [
        "## Import Libraries"
      ],
      "execution_count": 0,
      "outputs": []
    },
    {
      "cell_type": "code",
      "metadata": {
        "id": "-jx2IHnoqtB6",
        "colab_type": "code",
        "colab": {}
      },
      "source": [
        "## Read CSV determine number of features"
      ],
      "execution_count": 0,
      "outputs": []
    },
    {
      "cell_type": "code",
      "metadata": {
        "id": "0UPrgnOqq3Bz",
        "colab_type": "code",
        "colab": {}
      },
      "source": [
        "## Scale the data, use this code:\n",
        "from sklearn.preprocessing import StandardScaler\n",
        "\n",
        "scaler = StandardScaler()\n",
        "scaler.fit(X_train)\n",
        "X_tr_sc = scaler.transform(X_train)\n",
        "X_ts_sc = scaler.transform(X_test)"
      ],
      "execution_count": 0,
      "outputs": []
    },
    {
      "cell_type": "markdown",
      "metadata": {
        "id": "9-PiUqCAq8o3",
        "colab_type": "text"
      },
      "source": [
        "# Building a Neural Network\n",
        "### Build a neural network that has:\n",
        "- 2 hidden layers: 200 neurons in each layer\n",
        "- Use sigmoid as activation"
      ]
    },
    {
      "cell_type": "code",
      "metadata": {
        "id": "zBlg5wIfq_jv",
        "colab_type": "code",
        "colab": {}
      },
      "source": [
        "## Build the model"
      ],
      "execution_count": 0,
      "outputs": []
    },
    {
      "cell_type": "markdown",
      "metadata": {
        "id": "XjXHq_HrrDrq",
        "colab_type": "text"
      },
      "source": [
        "### Set up the optimizer and compile the model\n",
        "- What loss funciton do you need to use?"
      ]
    },
    {
      "cell_type": "code",
      "metadata": {
        "id": "ljRDNIW2rE0G",
        "colab_type": "code",
        "colab": {}
      },
      "source": [
        "## Setu up optimizer, compile model"
      ],
      "execution_count": 0,
      "outputs": []
    },
    {
      "cell_type": "code",
      "metadata": {
        "id": "r2K_PicPrHvV",
        "colab_type": "code",
        "colab": {}
      },
      "source": [
        "## Train the neural network"
      ],
      "execution_count": 0,
      "outputs": []
    },
    {
      "cell_type": "markdown",
      "metadata": {
        "id": "HwxadFC4rLQe",
        "colab_type": "text"
      },
      "source": [
        "### Evaluate your results: \n",
        "- Was the accuracy good? \n",
        "- Was there overfitting?\n",
        "\n",
        "### Think about what you can do to improve:\n",
        "- Change parameters like learning rate, batch size, number of epochs\n",
        "- Try different network architecture\n",
        "- Use a regularizer if there is overfitting. Search online how to do this in Keras\n",
        "\n",
        "\n",
        "### Then, retrain your model using new settings"
      ]
    },
    {
      "cell_type": "code",
      "metadata": {
        "id": "5hijapqdrUJK",
        "colab_type": "code",
        "colab": {}
      },
      "source": [
        ""
      ],
      "execution_count": 0,
      "outputs": []
    }
  ]
}