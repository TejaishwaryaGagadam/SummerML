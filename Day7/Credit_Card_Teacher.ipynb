{
  "nbformat": 4,
  "nbformat_minor": 0,
  "metadata": {
    "colab": {
      "name": "Credit_Card_Teacher.ipynb",
      "provenance": [],
      "include_colab_link": true
    },
    "kernelspec": {
      "name": "python3",
      "display_name": "Python 3"
    }
  },
  "cells": [
    {
      "cell_type": "markdown",
      "metadata": {
        "id": "view-in-github",
        "colab_type": "text"
      },
      "source": [
        "<a href=\"https://colab.research.google.com/github/nikopj/SummerML/blob/master/Day7/Credit_Card_Teacher.ipynb\" target=\"_parent\"><img src=\"https://colab.research.google.com/assets/colab-badge.svg\" alt=\"Open In Colab\"/></a>"
      ]
    },
    {
      "cell_type": "markdown",
      "metadata": {
        "id": "xW0hFXSYPGtq",
        "colab_type": "text"
      },
      "source": [
        "# Credit Card Client Default Prediction\n",
        "\n",
        "Link to Data set: https://archive.ics.uci.edu/ml/datasets/default+of+credit+card+clients\n",
        "\n",
        "- Read the description on the site\n",
        "- Which type of machine learning problem is this?\n",
        "- What should the output be like?"
      ]
    },
    {
      "cell_type": "markdown",
      "metadata": {
        "id": "eOpulTAyRrkD",
        "colab_type": "text"
      },
      "source": [
        "### 1. Load Libraries and Data\n",
        "- Find out: How many input features are in the data set?\n",
        "- How many samples are there?"
      ]
    },
    {
      "cell_type": "code",
      "metadata": {
        "id": "nJk2sT2zsclY",
        "colab_type": "code",
        "colab": {}
      },
      "source": [
        "import tensorflow as tf\n",
        "import numpy as np\n",
        "import matplotlib.pyplot as plt\n",
        "import pandas as pd\n",
        "\n",
        "from tensorflow.keras.models import Model, Sequential\n",
        "from tensorflow.keras.layers import Dense, Activation\n",
        "import tensorflow.keras.backend as K"
      ],
      "execution_count": 0,
      "outputs": []
    },
    {
      "cell_type": "code",
      "metadata": {
        "id": "Qc8KUHL9szb5",
        "colab_type": "code",
        "outputId": "28abfe15-64e0-4e59-946a-98684161601c",
        "colab": {
          "base_uri": "https://localhost:8080/",
          "height": 278
        }
      },
      "source": [
        "df = pd.read_csv('credit_card.csv', skiprows = 1)\n",
        "df.head(5)"
      ],
      "execution_count": 0,
      "outputs": [
        {
          "output_type": "execute_result",
          "data": {
            "text/html": [
              "<div>\n",
              "<style scoped>\n",
              "    .dataframe tbody tr th:only-of-type {\n",
              "        vertical-align: middle;\n",
              "    }\n",
              "\n",
              "    .dataframe tbody tr th {\n",
              "        vertical-align: top;\n",
              "    }\n",
              "\n",
              "    .dataframe thead th {\n",
              "        text-align: right;\n",
              "    }\n",
              "</style>\n",
              "<table border=\"1\" class=\"dataframe\">\n",
              "  <thead>\n",
              "    <tr style=\"text-align: right;\">\n",
              "      <th></th>\n",
              "      <th>ID</th>\n",
              "      <th>LIMIT_BAL</th>\n",
              "      <th>SEX</th>\n",
              "      <th>EDUCATION</th>\n",
              "      <th>MARRIAGE</th>\n",
              "      <th>AGE</th>\n",
              "      <th>PAY_0</th>\n",
              "      <th>PAY_2</th>\n",
              "      <th>PAY_3</th>\n",
              "      <th>PAY_4</th>\n",
              "      <th>PAY_5</th>\n",
              "      <th>PAY_6</th>\n",
              "      <th>BILL_AMT1</th>\n",
              "      <th>BILL_AMT2</th>\n",
              "      <th>BILL_AMT3</th>\n",
              "      <th>BILL_AMT4</th>\n",
              "      <th>BILL_AMT5</th>\n",
              "      <th>BILL_AMT6</th>\n",
              "      <th>PAY_AMT1</th>\n",
              "      <th>PAY_AMT2</th>\n",
              "      <th>PAY_AMT3</th>\n",
              "      <th>PAY_AMT4</th>\n",
              "      <th>PAY_AMT5</th>\n",
              "      <th>PAY_AMT6</th>\n",
              "      <th>default payment next month</th>\n",
              "    </tr>\n",
              "  </thead>\n",
              "  <tbody>\n",
              "    <tr>\n",
              "      <th>0</th>\n",
              "      <td>1</td>\n",
              "      <td>20000</td>\n",
              "      <td>2</td>\n",
              "      <td>2</td>\n",
              "      <td>1</td>\n",
              "      <td>24</td>\n",
              "      <td>2</td>\n",
              "      <td>2</td>\n",
              "      <td>-1</td>\n",
              "      <td>-1</td>\n",
              "      <td>-2</td>\n",
              "      <td>-2</td>\n",
              "      <td>3913</td>\n",
              "      <td>3102</td>\n",
              "      <td>689</td>\n",
              "      <td>0</td>\n",
              "      <td>0</td>\n",
              "      <td>0</td>\n",
              "      <td>0</td>\n",
              "      <td>689</td>\n",
              "      <td>0</td>\n",
              "      <td>0</td>\n",
              "      <td>0</td>\n",
              "      <td>0</td>\n",
              "      <td>1</td>\n",
              "    </tr>\n",
              "    <tr>\n",
              "      <th>1</th>\n",
              "      <td>2</td>\n",
              "      <td>120000</td>\n",
              "      <td>2</td>\n",
              "      <td>2</td>\n",
              "      <td>2</td>\n",
              "      <td>26</td>\n",
              "      <td>-1</td>\n",
              "      <td>2</td>\n",
              "      <td>0</td>\n",
              "      <td>0</td>\n",
              "      <td>0</td>\n",
              "      <td>2</td>\n",
              "      <td>2682</td>\n",
              "      <td>1725</td>\n",
              "      <td>2682</td>\n",
              "      <td>3272</td>\n",
              "      <td>3455</td>\n",
              "      <td>3261</td>\n",
              "      <td>0</td>\n",
              "      <td>1000</td>\n",
              "      <td>1000</td>\n",
              "      <td>1000</td>\n",
              "      <td>0</td>\n",
              "      <td>2000</td>\n",
              "      <td>1</td>\n",
              "    </tr>\n",
              "    <tr>\n",
              "      <th>2</th>\n",
              "      <td>3</td>\n",
              "      <td>90000</td>\n",
              "      <td>2</td>\n",
              "      <td>2</td>\n",
              "      <td>2</td>\n",
              "      <td>34</td>\n",
              "      <td>0</td>\n",
              "      <td>0</td>\n",
              "      <td>0</td>\n",
              "      <td>0</td>\n",
              "      <td>0</td>\n",
              "      <td>0</td>\n",
              "      <td>29239</td>\n",
              "      <td>14027</td>\n",
              "      <td>13559</td>\n",
              "      <td>14331</td>\n",
              "      <td>14948</td>\n",
              "      <td>15549</td>\n",
              "      <td>1518</td>\n",
              "      <td>1500</td>\n",
              "      <td>1000</td>\n",
              "      <td>1000</td>\n",
              "      <td>1000</td>\n",
              "      <td>5000</td>\n",
              "      <td>0</td>\n",
              "    </tr>\n",
              "    <tr>\n",
              "      <th>3</th>\n",
              "      <td>4</td>\n",
              "      <td>50000</td>\n",
              "      <td>2</td>\n",
              "      <td>2</td>\n",
              "      <td>1</td>\n",
              "      <td>37</td>\n",
              "      <td>0</td>\n",
              "      <td>0</td>\n",
              "      <td>0</td>\n",
              "      <td>0</td>\n",
              "      <td>0</td>\n",
              "      <td>0</td>\n",
              "      <td>46990</td>\n",
              "      <td>48233</td>\n",
              "      <td>49291</td>\n",
              "      <td>28314</td>\n",
              "      <td>28959</td>\n",
              "      <td>29547</td>\n",
              "      <td>2000</td>\n",
              "      <td>2019</td>\n",
              "      <td>1200</td>\n",
              "      <td>1100</td>\n",
              "      <td>1069</td>\n",
              "      <td>1000</td>\n",
              "      <td>0</td>\n",
              "    </tr>\n",
              "    <tr>\n",
              "      <th>4</th>\n",
              "      <td>5</td>\n",
              "      <td>50000</td>\n",
              "      <td>1</td>\n",
              "      <td>2</td>\n",
              "      <td>1</td>\n",
              "      <td>57</td>\n",
              "      <td>-1</td>\n",
              "      <td>0</td>\n",
              "      <td>-1</td>\n",
              "      <td>0</td>\n",
              "      <td>0</td>\n",
              "      <td>0</td>\n",
              "      <td>8617</td>\n",
              "      <td>5670</td>\n",
              "      <td>35835</td>\n",
              "      <td>20940</td>\n",
              "      <td>19146</td>\n",
              "      <td>19131</td>\n",
              "      <td>2000</td>\n",
              "      <td>36681</td>\n",
              "      <td>10000</td>\n",
              "      <td>9000</td>\n",
              "      <td>689</td>\n",
              "      <td>679</td>\n",
              "      <td>0</td>\n",
              "    </tr>\n",
              "  </tbody>\n",
              "</table>\n",
              "</div>"
            ],
            "text/plain": [
              "   ID  LIMIT_BAL  SEX  ...  PAY_AMT5  PAY_AMT6  default payment next month\n",
              "0   1      20000    2  ...         0         0                           1\n",
              "1   2     120000    2  ...         0      2000                           1\n",
              "2   3      90000    2  ...      1000      5000                           0\n",
              "3   4      50000    2  ...      1069      1000                           0\n",
              "4   5      50000    1  ...       689       679                           0\n",
              "\n",
              "[5 rows x 25 columns]"
            ]
          },
          "metadata": {
            "tags": []
          },
          "execution_count": 5
        }
      ]
    },
    {
      "cell_type": "code",
      "metadata": {
        "id": "O4oVlS2kwlUz",
        "colab_type": "code",
        "outputId": "a56cca9f-2354-4d02-ea73-49151c27179a",
        "colab": {
          "base_uri": "https://localhost:8080/",
          "height": 141
        }
      },
      "source": [
        "print(df.columns)\n",
        "names = df.columns\n",
        "print(len(names))"
      ],
      "execution_count": 0,
      "outputs": [
        {
          "output_type": "stream",
          "text": [
            "Index(['ID', 'LIMIT_BAL', 'SEX', 'EDUCATION', 'MARRIAGE', 'AGE', 'PAY_0',\n",
            "       'PAY_2', 'PAY_3', 'PAY_4', 'PAY_5', 'PAY_6', 'BILL_AMT1', 'BILL_AMT2',\n",
            "       'BILL_AMT3', 'BILL_AMT4', 'BILL_AMT5', 'BILL_AMT6', 'PAY_AMT1',\n",
            "       'PAY_AMT2', 'PAY_AMT3', 'PAY_AMT4', 'PAY_AMT5', 'PAY_AMT6',\n",
            "       'default payment next month'],\n",
            "      dtype='object')\n",
            "25\n"
          ],
          "name": "stdout"
        }
      ]
    },
    {
      "cell_type": "code",
      "metadata": {
        "id": "nZ0BL2WqwntW",
        "colab_type": "code",
        "outputId": "aa971aee-ac89-44c9-f38a-cf40a9fbb292",
        "colab": {
          "base_uri": "https://localhost:8080/",
          "height": 52
        }
      },
      "source": [
        "X = df[names[1:-1]].values\n",
        "print(X.shape)\n",
        "y = df[names[-1]].values\n",
        "print(y.shape)\n",
        "\n",
        "\n"
      ],
      "execution_count": 0,
      "outputs": [
        {
          "output_type": "stream",
          "text": [
            "(30000, 23)\n",
            "(30000,)\n"
          ],
          "name": "stdout"
        }
      ]
    },
    {
      "cell_type": "code",
      "metadata": {
        "id": "PoEqS7WQ1842",
        "colab_type": "code",
        "colab": {}
      },
      "source": [
        "from sklearn.model_selection import train_test_split\n",
        "X_train, X_test, y_train, y_test = train_test_split(X, y, test_size=0.33, random_state=42)"
      ],
      "execution_count": 0,
      "outputs": []
    },
    {
      "cell_type": "code",
      "metadata": {
        "id": "s9ITqr9I2AsD",
        "colab_type": "code",
        "outputId": "43538246-3c7b-4c0b-ea99-5e2df7954858",
        "colab": {
          "base_uri": "https://localhost:8080/",
          "height": 70
        }
      },
      "source": [
        "print('The number of training samples =', X_train.shape[0] ,'and test samples =', X_test.shape[0])\n",
        "print('The number of features for each sample =', X_train.shape[1])\n",
        "print('The number of classes =', max(y_train)+1 )"
      ],
      "execution_count": 0,
      "outputs": [
        {
          "output_type": "stream",
          "text": [
            "The number of training samples = 20100 and test samples = 9900\n",
            "The number of features for each sample = 23\n",
            "The number of classes = 2\n"
          ],
          "name": "stdout"
        }
      ]
    },
    {
      "cell_type": "code",
      "metadata": {
        "id": "QyZOlxJlxcmA",
        "colab_type": "code",
        "colab": {}
      },
      "source": [
        "#from sklearn.preprocessing import StandardScaler\n",
        "\n",
        "#scaler = StandardScaler()\n",
        "#scaler.fit(X_train)\n",
        "#X_tr_sc = scaler.transform(X_train)\n",
        "#X_ts_sc = scaler.transform(X_test)\n",
        "\n",
        "Xtr_mean = np.mean(X_train, axis = 0)\n",
        "Xtr_std = np.std(X_train, axis = 0)\n",
        "\n",
        "Xtr_scale = (X_train - Xtr_mean[None,:])/Xtr_std[None,:]\n",
        "Xts_scale = (X_test - Xtr_mean[None,:])/Xtr_std[None,:]"
      ],
      "execution_count": 0,
      "outputs": []
    },
    {
      "cell_type": "markdown",
      "metadata": {
        "id": "-LF5ZpeRPusG",
        "colab_type": "text"
      },
      "source": [
        "# Building a Neural Network\n",
        "### Build a neural network that has:\n",
        "- 2 hidden layers: 200 neurons in each layer\n",
        "- Use sigmoid as activation"
      ]
    },
    {
      "cell_type": "code",
      "metadata": {
        "id": "hBnkIADxxUXP",
        "colab_type": "code",
        "colab": {}
      },
      "source": [
        "K.clear_session()"
      ],
      "execution_count": 0,
      "outputs": []
    },
    {
      "cell_type": "code",
      "metadata": {
        "id": "djCW_lE40Rvb",
        "colab_type": "code",
        "outputId": "24a29dbb-5eda-4214-b175-f73c0a8182ce",
        "colab": {
          "base_uri": "https://localhost:8080/",
          "height": 265
        }
      },
      "source": [
        "nin = X_train.shape[1]\n",
        "nout = np.max(y_train)+1\n",
        "nh = 200\n",
        "\n",
        "model = Sequential()\n",
        "model.add(Dense(units = nh, activation = 'sigmoid', input_shape=(nin,), name = 'dense1'))\n",
        "model.add(Dense(units = 200, activation = 'sigmoid', input_shape=(nh,), name = 'dense2'))\n",
        "model.add(Dense(1, activation = 'sigmoid', name = 'output'))\n",
        "\n",
        "model.summary()"
      ],
      "execution_count": 0,
      "outputs": [
        {
          "output_type": "stream",
          "text": [
            "Model: \"sequential\"\n",
            "_________________________________________________________________\n",
            "Layer (type)                 Output Shape              Param #   \n",
            "=================================================================\n",
            "dense1 (Dense)               (None, 200)               4800      \n",
            "_________________________________________________________________\n",
            "dense2 (Dense)               (None, 200)               40200     \n",
            "_________________________________________________________________\n",
            "output (Dense)               (None, 1)                 201       \n",
            "=================================================================\n",
            "Total params: 45,201\n",
            "Trainable params: 45,201\n",
            "Non-trainable params: 0\n",
            "_________________________________________________________________\n"
          ],
          "name": "stdout"
        }
      ]
    },
    {
      "cell_type": "markdown",
      "metadata": {
        "id": "cM_HtfmzRECn",
        "colab_type": "text"
      },
      "source": [
        "### Set up the optimizer and compile the model\n",
        "- What loss funciton do you need to use?"
      ]
    },
    {
      "cell_type": "code",
      "metadata": {
        "id": "MxkJRhVUsvTg",
        "colab_type": "code",
        "colab": {}
      },
      "source": [
        "from tensorflow.keras import optimizers\n",
        "\n",
        "opt = optimizers.Adam(lr=0.001) \n",
        "model.compile(optimizer=opt,\n",
        "              loss='binary_crossentropy',\n",
        "              metrics=['accuracy'])"
      ],
      "execution_count": 0,
      "outputs": []
    },
    {
      "cell_type": "code",
      "metadata": {
        "id": "Ed9xBVxtyUK8",
        "colab_type": "code",
        "outputId": "04f6ac93-0114-4513-b2b3-96be1315dff5",
        "colab": {
          "base_uri": "https://localhost:8080/",
          "height": 388
        }
      },
      "source": [
        "history = model.fit(Xtr_scale, y_train,\n",
        "                   batch_size = 100,\n",
        "                   epochs = 10,\n",
        "                   validation_split=0.2)"
      ],
      "execution_count": 0,
      "outputs": [
        {
          "output_type": "stream",
          "text": [
            "Train on 20100 samples, validate on 9900 samples\n",
            "Epoch 1/10\n",
            "20100/20100 [==============================] - 1s 39us/sample - loss: 0.4812 - acc: 0.7975 - val_loss: 0.4639 - val_acc: 0.8039\n",
            "Epoch 2/10\n",
            "20100/20100 [==============================] - 1s 34us/sample - loss: 0.4649 - acc: 0.8089 - val_loss: 0.4598 - val_acc: 0.8061\n",
            "Epoch 3/10\n",
            "20100/20100 [==============================] - 1s 35us/sample - loss: 0.4604 - acc: 0.8129 - val_loss: 0.4541 - val_acc: 0.8127\n",
            "Epoch 4/10\n",
            "20100/20100 [==============================] - 1s 34us/sample - loss: 0.4546 - acc: 0.8134 - val_loss: 0.4512 - val_acc: 0.8159\n",
            "Epoch 5/10\n",
            "20100/20100 [==============================] - 1s 34us/sample - loss: 0.4481 - acc: 0.8154 - val_loss: 0.4435 - val_acc: 0.8151\n",
            "Epoch 6/10\n",
            "20100/20100 [==============================] - 1s 35us/sample - loss: 0.4453 - acc: 0.8165 - val_loss: 0.4430 - val_acc: 0.8178\n",
            "Epoch 7/10\n",
            "20100/20100 [==============================] - 1s 35us/sample - loss: 0.4448 - acc: 0.8176 - val_loss: 0.4411 - val_acc: 0.8165\n",
            "Epoch 8/10\n",
            "20100/20100 [==============================] - 1s 37us/sample - loss: 0.4428 - acc: 0.8181 - val_loss: 0.4400 - val_acc: 0.8174\n",
            "Epoch 9/10\n",
            "20100/20100 [==============================] - 1s 36us/sample - loss: 0.4419 - acc: 0.8179 - val_loss: 0.4389 - val_acc: 0.8178\n",
            "Epoch 10/10\n",
            "20100/20100 [==============================] - 1s 36us/sample - loss: 0.4410 - acc: 0.8186 - val_loss: 0.4389 - val_acc: 0.8185\n"
          ],
          "name": "stdout"
        }
      ]
    },
    {
      "cell_type": "code",
      "metadata": {
        "id": "Zk9L8HzT3hjj",
        "colab_type": "code",
        "outputId": "3597f106-e5cd-43cc-a4f4-16186414670f",
        "colab": {
          "base_uri": "https://localhost:8080/",
          "height": 301
        }
      },
      "source": [
        "val_accuracy = history.history['val_acc']\n",
        "nepochs = len(val_accuracy)\n",
        "plt.plot(np.arange(1,nepochs+1), val_accuracy, 'o-', linewidth=2)\n",
        "plt.grid()\n",
        "plt.xlabel('Epoch')\n",
        "plt.ylabel('Test accuracy')"
      ],
      "execution_count": 0,
      "outputs": [
        {
          "output_type": "execute_result",
          "data": {
            "text/plain": [
              "Text(0, 0.5, 'Test accuracy')"
            ]
          },
          "metadata": {
            "tags": []
          },
          "execution_count": 58
        },
        {
          "output_type": "display_data",
          "data": {
            "image/png": "[encoded data removed]",
            "text/plain": [
              "<Figure size 432x288 with 1 Axes>"
            ]
          },
          "metadata": {
            "tags": []
          }
        }
      ]
    },
    {
      "cell_type": "code",
      "metadata": {
        "id": "41P188F33nR4",
        "colab_type": "code",
        "outputId": "468d83c8-f028-4d2e-d596-22d343d99904",
        "colab": {
          "base_uri": "https://localhost:8080/",
          "height": 297
        }
      },
      "source": [
        "loss = history.history['loss']\n",
        "nepochs = len(val_accuracy)\n",
        "plt.semilogy(np.arange(1,nepochs+1), loss, 'o-')\n",
        "plt.xlabel('Epochs', fontsize=16)\n",
        "plt.ylabel('Loss', fontsize=16)\n",
        "plt.grid()\n",
        "plt.tight_layout()"
      ],
      "execution_count": 0,
      "outputs": [
        {
          "output_type": "display_data",
          "data": {
            "image/png": "[encoded data removed]",
            "text/plain": [
              "<Figure size 432x288 with 1 Axes>"
            ]
          },
          "metadata": {
            "tags": []
          }
        }
      ]
    },
    {
      "cell_type": "markdown",
      "metadata": {
        "id": "OiB46bCzLB5F",
        "colab_type": "text"
      },
      "source": [
        "### Evaluate your results: \n",
        "- Was the accuracy good? \n",
        "- Was there overfitting?\n",
        "\n",
        "### Think about what you can do to improve:\n",
        "- Change parameters like learning rate, batch size, number of epochs\n",
        "- Try different network architecture\n",
        "- Use a regularizer if there is overfitting. Search online how to do this in Keras"
      ]
    },
    {
      "cell_type": "code",
      "metadata": {
        "id": "ajx2fQcGJV30",
        "colab_type": "code",
        "outputId": "5587d182-f590-41d5-fa17-f08402e9696b",
        "colab": {
          "base_uri": "https://localhost:8080/",
          "height": 265
        }
      },
      "source": [
        "from keras import regularizers\n",
        "\n",
        "K.clear_session()\n",
        "model = Sequential()\n",
        "model.add(Dense(200, activation = 'sigmoid',kernel_regularizer=regularizers.l2(0.001), input_shape=(23,) , name = 'dense1'))\n",
        "model.add(Dense(200, activation = 'sigmoid',kernel_regularizer=regularizers.l2(0.001), name = 'dense2'))\n",
        "model.add(Dense(1, activation = 'sigmoid',kernel_regularizer=regularizers.l1(0.001), name = 'output'))\n",
        "\n",
        "\n",
        "model.summary()"
      ],
      "execution_count": 0,
      "outputs": [
        {
          "output_type": "stream",
          "text": [
            "Model: \"sequential\"\n",
            "_________________________________________________________________\n",
            "Layer (type)                 Output Shape              Param #   \n",
            "=================================================================\n",
            "dense1 (Dense)               (None, 200)               4800      \n",
            "_________________________________________________________________\n",
            "dense2 (Dense)               (None, 200)               40200     \n",
            "_________________________________________________________________\n",
            "output (Dense)               (None, 1)                 201       \n",
            "=================================================================\n",
            "Total params: 45,201\n",
            "Trainable params: 45,201\n",
            "Non-trainable params: 0\n",
            "_________________________________________________________________\n"
          ],
          "name": "stdout"
        }
      ]
    },
    {
      "cell_type": "code",
      "metadata": {
        "id": "LUkLjCCvJheT",
        "colab_type": "code",
        "colab": {}
      },
      "source": [
        "from tensorflow.keras import optimizers\n",
        "\n",
        "opt = optimizers.Adam(lr=0.1) \n",
        "model.compile(optimizer=opt,\n",
        "              loss='binary_crossentropy',\n",
        "              metrics=['accuracy'])"
      ],
      "execution_count": 0,
      "outputs": []
    },
    {
      "cell_type": "code",
      "metadata": {
        "id": "F2ocFJI5JvZ7",
        "colab_type": "code",
        "outputId": "ff0f0aab-3d4c-416e-b3a7-7c30c97af47e",
        "colab": {
          "base_uri": "https://localhost:8080/",
          "height": 1000
        }
      },
      "source": [
        "history = model.fit(Xtr_scale, y_train,\n",
        "                   batch_size = 100,\n",
        "                   epochs = 30,\n",
        "                   validation_data=(Xts_scale,y_test))"
      ],
      "execution_count": 0,
      "outputs": [
        {
          "output_type": "stream",
          "text": [
            "Train on 20100 samples, validate on 9900 samples\n",
            "Epoch 1/30\n",
            "20100/20100 [==============================] - 1s 43us/sample - loss: 0.8807 - acc: 0.7786 - val_loss: 0.5583 - val_acc: 0.7995\n",
            "Epoch 2/30\n",
            "20100/20100 [==============================] - 1s 36us/sample - loss: 0.5200 - acc: 0.7990 - val_loss: 0.4903 - val_acc: 0.8099\n",
            "Epoch 3/30\n",
            "20100/20100 [==============================] - 1s 36us/sample - loss: 0.5033 - acc: 0.8036 - val_loss: 0.4937 - val_acc: 0.8130\n",
            "Epoch 4/30\n",
            "20100/20100 [==============================] - 1s 37us/sample - loss: 0.4933 - acc: 0.8071 - val_loss: 0.5012 - val_acc: 0.8008\n",
            "Epoch 5/30\n",
            "20100/20100 [==============================] - 1s 36us/sample - loss: 0.4910 - acc: 0.8077 - val_loss: 0.4888 - val_acc: 0.8114\n",
            "Epoch 6/30\n",
            "20100/20100 [==============================] - 1s 37us/sample - loss: 0.4873 - acc: 0.8082 - val_loss: 0.4839 - val_acc: 0.8115\n",
            "Epoch 7/30\n",
            "20100/20100 [==============================] - 1s 34us/sample - loss: 0.4907 - acc: 0.8090 - val_loss: 0.4800 - val_acc: 0.8138\n",
            "Epoch 8/30\n",
            "20100/20100 [==============================] - 1s 36us/sample - loss: 0.4834 - acc: 0.8121 - val_loss: 0.4806 - val_acc: 0.8082\n",
            "Epoch 9/30\n",
            "20100/20100 [==============================] - 1s 35us/sample - loss: 0.4874 - acc: 0.8088 - val_loss: 0.4823 - val_acc: 0.8061\n",
            "Epoch 10/30\n",
            "20100/20100 [==============================] - 1s 35us/sample - loss: 0.4824 - acc: 0.8127 - val_loss: 0.4804 - val_acc: 0.8088\n",
            "Epoch 11/30\n",
            "20100/20100 [==============================] - 1s 36us/sample - loss: 0.4812 - acc: 0.8114 - val_loss: 0.4923 - val_acc: 0.7996\n",
            "Epoch 12/30\n",
            "20100/20100 [==============================] - 1s 36us/sample - loss: 0.4801 - acc: 0.8128 - val_loss: 0.4801 - val_acc: 0.8101\n",
            "Epoch 13/30\n",
            "20100/20100 [==============================] - 1s 37us/sample - loss: 0.4809 - acc: 0.8122 - val_loss: 0.4757 - val_acc: 0.8093\n",
            "Epoch 14/30\n",
            "20100/20100 [==============================] - 1s 37us/sample - loss: 0.4777 - acc: 0.8133 - val_loss: 0.4781 - val_acc: 0.8111\n",
            "Epoch 15/30\n",
            "20100/20100 [==============================] - 1s 38us/sample - loss: 0.4797 - acc: 0.8113 - val_loss: 0.4724 - val_acc: 0.8173\n",
            "Epoch 16/30\n",
            "20100/20100 [==============================] - 1s 36us/sample - loss: 0.4822 - acc: 0.8110 - val_loss: 0.4814 - val_acc: 0.8078\n",
            "Epoch 17/30\n",
            "20100/20100 [==============================] - 1s 35us/sample - loss: 0.4771 - acc: 0.8129 - val_loss: 0.4777 - val_acc: 0.8038\n",
            "Epoch 18/30\n",
            "20100/20100 [==============================] - 1s 36us/sample - loss: 0.4757 - acc: 0.8145 - val_loss: 0.4706 - val_acc: 0.8124\n",
            "Epoch 19/30\n",
            "20100/20100 [==============================] - 1s 35us/sample - loss: 0.4762 - acc: 0.8127 - val_loss: 0.4737 - val_acc: 0.8151\n",
            "Epoch 20/30\n",
            "20100/20100 [==============================] - 1s 35us/sample - loss: 0.4782 - acc: 0.8111 - val_loss: 0.4718 - val_acc: 0.8134\n",
            "Epoch 21/30\n",
            "20100/20100 [==============================] - 1s 35us/sample - loss: 0.4786 - acc: 0.8127 - val_loss: 0.4883 - val_acc: 0.7976\n",
            "Epoch 22/30\n",
            "20100/20100 [==============================] - 1s 36us/sample - loss: 0.4795 - acc: 0.8131 - val_loss: 0.4745 - val_acc: 0.8084\n",
            "Epoch 23/30\n",
            "20100/20100 [==============================] - 1s 36us/sample - loss: 0.4830 - acc: 0.8124 - val_loss: 0.4704 - val_acc: 0.8148\n",
            "Epoch 24/30\n",
            "20100/20100 [==============================] - 1s 35us/sample - loss: 0.4772 - acc: 0.8135 - val_loss: 0.4744 - val_acc: 0.8136\n",
            "Epoch 25/30\n",
            "20100/20100 [==============================] - 1s 36us/sample - loss: 0.4779 - acc: 0.8125 - val_loss: 0.4798 - val_acc: 0.8012\n",
            "Epoch 26/30\n",
            "20100/20100 [==============================] - 1s 35us/sample - loss: 0.4776 - acc: 0.8137 - val_loss: 0.4768 - val_acc: 0.8099\n",
            "Epoch 27/30\n",
            "20100/20100 [==============================] - 1s 36us/sample - loss: 0.4811 - acc: 0.8130 - val_loss: 0.4779 - val_acc: 0.8106\n",
            "Epoch 28/30\n",
            "20100/20100 [==============================] - 1s 36us/sample - loss: 0.4769 - acc: 0.8136 - val_loss: 0.4796 - val_acc: 0.8107\n",
            "Epoch 29/30\n",
            "20100/20100 [==============================] - 1s 35us/sample - loss: 0.4766 - acc: 0.8129 - val_loss: 0.4758 - val_acc: 0.8122\n",
            "Epoch 30/30\n",
            "20100/20100 [==============================] - 1s 36us/sample - loss: 0.4809 - acc: 0.8116 - val_loss: 0.4812 - val_acc: 0.8110\n"
          ],
          "name": "stdout"
        }
      ]
    },
    {
      "cell_type": "code",
      "metadata": {
        "id": "PFC7sAZfJ3gt",
        "colab_type": "code",
        "outputId": "c5c18610-a4f3-4a79-85cb-059b6d481adb",
        "colab": {
          "base_uri": "https://localhost:8080/",
          "height": 301
        }
      },
      "source": [
        "val_accuracy = history.history['val_acc']\n",
        "nepochs = len(val_accuracy)\n",
        "plt.plot(np.arange(1,nepochs+1), val_accuracy, 'o-', linewidth=2)\n",
        "plt.grid()\n",
        "plt.xlabel('Epoch')\n",
        "plt.ylabel('Test accuracy')"
      ],
      "execution_count": 0,
      "outputs": [
        {
          "output_type": "execute_result",
          "data": {
            "text/plain": [
              "Text(0, 0.5, 'Test accuracy')"
            ]
          },
          "metadata": {
            "tags": []
          },
          "execution_count": 65
        },
        {
          "output_type": "display_data",
          "data": {
            "image/png": "[encoded data removed]",
            "text/plain": [
              "<Figure size 432x288 with 1 Axes>"
            ]
          },
          "metadata": {
            "tags": []
          }
        }
      ]
    },
    {
      "cell_type": "code",
      "metadata": {
        "id": "uvgjWAda3l3b",
        "colab_type": "code",
        "outputId": "2aeb49f5-5013-463c-a1a2-3dc62ce3c943",
        "colab": {
          "base_uri": "https://localhost:8080/",
          "height": 297
        }
      },
      "source": [
        "loss = history.history['loss']\n",
        "plt.semilogy(np.arange(1,101), loss, 'o-')\n",
        "plt.xlabel('Epochs', fontsize=16)\n",
        "plt.ylabel('Loss', fontsize=16)\n",
        "plt.grid()\n",
        "plt.tight_layout()"
      ],
      "execution_count": 0,
      "outputs": [
        {
          "output_type": "display_data",
          "data": {
            "image/png": "[encoded data removed]",
            "text/plain": [
              "<Figure size 432x288 with 1 Axes>"
            ]
          },
          "metadata": {
            "tags": []
          }
        }
      ]
    },
    {
      "cell_type": "markdown",
      "metadata": {
        "id": "hA8LUJEL4e63",
        "colab_type": "text"
      },
      "source": [
        "#### Optimizing the Learning Rate\n",
        "\n",
        "One challenge in training neural networks is the selection of the learning rate.  Rerun the above code, trying four learning rates as shown in the vector `rates`.  For each learning rate:\n",
        "* clear the session\n",
        "* construct the network\n",
        "* select the optimizer.  Use the Adam optimizer with the appropriate learrning rate.\n",
        "* train the model for 20 epochs\n",
        "* save the accuracy and losses"
      ]
    },
    {
      "cell_type": "code",
      "metadata": {
        "id": "bgZR9LN74cww",
        "colab_type": "code",
        "colab": {}
      },
      "source": [
        "rates = [0.01,0.001,0.0001]\n",
        "batch_size = 100\n",
        "loss_hist = []\n",
        "\n",
        "# TODO\n",
        "# You can use a for loop for the learning rates\n",
        "for lr in rates:\n",
        "  # Clear the session\n",
        "  K.clear_session()\n",
        "  \n",
        "  # Build the model\n",
        "  model = Sequential()\n",
        "  model.add(Dense(nh, input_shape=(nin,), activation='sigmoid', name='hidden'))\n",
        "  model.add(Dense(nout, activation='softmax', name='output'))\n",
        "  \n",
        "  # Select the optimizer with the correct learning rate to test\n",
        "  opt = optimizers.Adam(lr=lr)\n",
        "  model.compile(optimizer=opt,\n",
        "                loss='sparse_categorical_crossentropy',\n",
        "                metrics=['accuracy'])\n",
        "  # Fit the model\n",
        "  hist = model.fit(Xtr_scale, ytr, epochs=20, batch_size=batch_size,\n",
        "                   validation_data=(Xts_scale,yts))\n",
        "  # Save the loss history\n",
        "  loss_hist.append( hist.history['loss'])\n",
        "  # Print the final accuracy\n",
        "  val_accuracy = hist.history['val_acc'][-1]\n",
        "  print(\"lr=%12.4e test accuracy=%f\" % (lr, val_accuracy))"
      ],
      "execution_count": 0,
      "outputs": []
    },
    {
      "cell_type": "markdown",
      "metadata": {
        "id": "iTEDWdPX4jSA",
        "colab_type": "text"
      },
      "source": [
        "Plot the loss funciton vs. the epoch number for all three learning rates on one graph.  You should see that the lower learning rates are more stable, but converge slower."
      ]
    },
    {
      "cell_type": "code",
      "metadata": {
        "id": "9fl4xcye4h9i",
        "colab_type": "code",
        "colab": {}
      },
      "source": [
        "# TODO\n",
        "ntest = len(loss_hist)\n",
        "ntr = Xtr.shape[0]\n",
        "batch_size=100\n",
        "for it, loss in enumerate(loss_hist):\n",
        "  nepochs = len(loss)\n",
        "  epochs = np.arange(1,nepochs+1)\n",
        "  plt.semilogy(epochs, loss, 'o-')\n",
        "  rate_str = ['{0:5.4f}'.format(lr) for lr in rates]\n",
        "  \n",
        "plt.xlabel('Epochs', fontsize=16)\n",
        "plt.ylabel('Loss', fontsize=16)\n",
        "plt.legend(rate_str,loc='lower left')\n",
        "plt.grid()"
      ],
      "execution_count": 0,
      "outputs": []
    }
  ]
}