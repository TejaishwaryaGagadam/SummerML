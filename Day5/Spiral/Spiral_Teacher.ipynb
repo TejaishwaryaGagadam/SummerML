{
  "nbformat": 4,
  "nbformat_minor": 0,
  "metadata": {
    "colab": {
      "name": "Spiral_Teacher.ipynb",
      "version": "0.3.2",
      "provenance": [],
      "include_colab_link": true
    },
    "kernelspec": {
      "name": "python3",
      "display_name": "Python 3"
    }
  },
  "cells": [
    {
      "cell_type": "markdown",
      "metadata": {
        "id": "view-in-github",
        "colab_type": "text"
      },
      "source": [
        "<a href=\"https://colab.research.google.com/github/nikopj/SummerML/blob/master/Day5/Spiral/Spiral_Teacher.ipynb\" target=\"_parent\"><img src=\"https://colab.research.google.com/assets/colab-badge.svg\" alt=\"Open In Colab\"/></a>"
      ]
    },
    {
      "cell_type": "markdown",
      "metadata": {
        "id": "xdLSw0QauP-u",
        "colab_type": "text"
      },
      "source": [
        "# Classification Competition: Spirals\n",
        "![spiral image](https://raw.githubusercontent.com/nikopj/SummerML/master/Day5/Spiral/spiral.png)\n",
        "\n",
        "Use you machine learning knowledge gained so far to build a model that can classify whether a point belongs to the red spiral or the blue spiral.\n",
        "The training dataset is located on the [course github](https://github.com/nikopj/SummerML). A test set of input features is also located on the course github. Once your model is trained (and you are confident with it), make predictions on the test data. The ground truth test set class labels will be given at the end of class to determine the winner of the competition.\n",
        "\n",
        "## Code to present:\n",
        "You will be presenting your solutions to the class at the end of the day. Write your code clearly and annotate your notebook "
      ]
    },
    {
      "cell_type": "markdown",
      "metadata": {
        "id": "I7fRKLwvear1",
        "colab_type": "text"
      },
      "source": [
        "# Load the Training Data\n"
      ]
    },
    {
      "cell_type": "code",
      "metadata": {
        "id": "AkH7Llch4Goz",
        "colab_type": "code",
        "colab": {
          "base_uri": "https://localhost:8080/",
          "height": 69
        },
        "outputId": "da4aab4d-ec94-49e7-9760-c012b98710f9"
      },
      "source": [
        "## TODO\n",
        "import numpy as np\n",
        "import pandas as pd\n",
        "from sklearn import linear_model, preprocessing\n",
        "url = \"https://raw.githubusercontent.com/nikopj/SummerML/master/Day5/Spiral/spiral_train.csv\"\n",
        "df  = pd.read_csv(url)\n",
        "\n",
        "x1 = preprocessing.scale(df['x1'].values.reshape(-1,1)) # coordinate features\n",
        "x2 = preprocessing.scale(df['x2'].values.reshape(-1,1))\n",
        "y  = df['class'].values; # class labels\n",
        "\n",
        "nsamp  = y.shape[0]\n",
        "ntrain = np.int(0.8*nsamp)\n",
        "nval   = nsamp - ntrain\n",
        "\n",
        "Xtr = np.hstack((x1[:ntrain],x2[:ntrain])) # feature vector\n",
        "ytr = y[:ntrain]                           # class vector\n",
        "\n",
        "Xval = np.hstack((x1[ntrain:],x2[ntrain:])) # feature vector\n",
        "yval = y[ntrain:]                           # class vector\n",
        "\n",
        "print(\"# Samples: %d \\n# Train: %d\\n# Validation: %d\" % (nsamp,ntrain,nval))"
      ],
      "execution_count": 188,
      "outputs": [
        {
          "output_type": "stream",
          "text": [
            "# Samples: 1000 \n",
            "# Train: 800\n",
            "# Validation: 200\n"
          ],
          "name": "stdout"
        }
      ]
    },
    {
      "cell_type": "markdown",
      "metadata": {
        "id": "VsOpMb3ke5Fy",
        "colab_type": "text"
      },
      "source": [
        "# Visualize the Data\n",
        "Confirm that you have loaded the data correctly."
      ]
    },
    {
      "cell_type": "code",
      "metadata": {
        "id": "06_tIND2fDu_",
        "colab_type": "code",
        "colab": {
          "base_uri": "https://localhost:8080/",
          "height": 269
        },
        "outputId": "cd3a8afb-a8b1-4b60-a3a1-0202b2a12dd8"
      },
      "source": [
        "## TODO\n",
        "import matplotlib\n",
        "import matplotlib.pyplot as plt\n",
        "%matplotlib inline\n",
        "\n",
        "plt.plot(Xtr[ytr==0,0], Xtr[ytr==0,1],'ob',markeredgecolor='black');\n",
        "plt.plot(Xtr[ytr==1,0], Xtr[ytr==1,1],'or',markeredgecolor='black');"
      ],
      "execution_count": 189,
      "outputs": [
        {
          "output_type": "display_data",
          "data": {
            "image/png": "[encoded data removed]",
            "text/plain": [
              "<Figure size 432x288 with 1 Axes>"
            ]
          },
          "metadata": {
            "tags": []
          }
        }
      ]
    },
    {
      "cell_type": "markdown",
      "metadata": {
        "id": "5Z7vEH9-f1VD",
        "colab_type": "text"
      },
      "source": [
        "# Come up with a Model\n",
        " Basis functions? Model complexity? Error Function? Linear or Logistic Regression?"
      ]
    },
    {
      "cell_type": "code",
      "metadata": {
        "id": "9dkfa4rkgpZL",
        "colab_type": "code",
        "colab": {}
      },
      "source": [
        "## TODO: this is where the competition really begins...\n",
        "\n",
        "# import scipy statistics for easy mvn evaluation\n",
        "from scipy.stats import multivariate_normal\n",
        "\n",
        "# Model: high complexity localization via space-constrained basis functions\n",
        "# Basis functions chosen: lxl grid of 2D Gaussians\n",
        "# Error function: binary cross entropy\n",
        "# Logistic regression\n",
        "\n",
        "l = 10 # model complexity parameter\n",
        "# x-spatial extent\n",
        "i = np.linspace(-3,3,l);\n",
        "# y-spatial extent\n",
        "j = np.linspace(-3,3,l);\n",
        "\n",
        "phi = [] # list of basis functions\n",
        "for m in np.arange(l):\n",
        "  for n in np.arange(l):\n",
        "    phi.append(multivariate_normal([i[m],j[n]], [[.01, 0], [0, .01]]))\n",
        "    \n",
        "# form the design matrix, A\n",
        "def design(X,phi):\n",
        "  N = X.shape[0]\n",
        "  A = np.ones((N,1)) # append bias term to beginning\n",
        "  for p in np.arange(l*l):\n",
        "    A = np.concatenate((A,phi[p].pdf(X).reshape(-1,1)), axis=1)\n",
        "  return A"
      ],
      "execution_count": 0,
      "outputs": []
    },
    {
      "cell_type": "markdown",
      "metadata": {
        "id": "ByyBYhmCkcmE",
        "colab_type": "text"
      },
      "source": [
        "# Visualize Your Basis Functions\n",
        "Verify your design."
      ]
    },
    {
      "cell_type": "code",
      "metadata": {
        "id": "5uwh-vIElWrU",
        "colab_type": "code",
        "colab": {
          "base_uri": "https://localhost:8080/",
          "height": 269
        },
        "outputId": "6a859409-c5f4-47c2-e942-dc7e4e0c0331"
      },
      "source": [
        "## TODO:\n",
        "\n",
        "# create meshgrid of coordinates to plot 2D\n",
        "xx, yy = np.mgrid[-3:3:.1, -3:3:.1]\n",
        "pos = np.dstack((xx, yy))\n",
        "\n",
        "# superimpose basis functions for easy plotting\n",
        "zz = np.zeros_like(xx)\n",
        "for i in np.arange(len(phi)):\n",
        "  zz += phi[i].pdf(pos) # evaluate each basis function at the meshgrid points\n",
        "\n",
        "# 2D contour plot (in color)\n",
        "plt.contourf(xx,yy,zz);"
      ],
      "execution_count": 205,
      "outputs": [
        {
          "output_type": "display_data",
          "data": {
            "image/png": "[encoded data removed]",
            "text/plain": [
              "<Figure size 432x288 with 1 Axes>"
            ]
          },
          "metadata": {
            "tags": []
          }
        }
      ]
    },
    {
      "cell_type": "markdown",
      "metadata": {
        "id": "zobvqMIJlJqr",
        "colab_type": "text"
      },
      "source": [
        "# Train your Model\n"
      ]
    },
    {
      "cell_type": "code",
      "metadata": {
        "id": "nlbajHiMlQ6j",
        "colab_type": "code",
        "colab": {}
      },
      "source": [
        "## TODO:\n",
        "A = design(Xtr,phi)\n",
        "logreg = linear_model.LogisticRegression(C=1e5,solver='liblinear')\n",
        "logreg.fit(A,ytr);"
      ],
      "execution_count": 0,
      "outputs": []
    },
    {
      "cell_type": "markdown",
      "metadata": {
        "id": "KLGhhUGhgwn2",
        "colab_type": "text"
      },
      "source": [
        "# Goodness of Fit\n",
        "Are you overfitting? Are you sure? If so, how? Can you make your fit better?"
      ]
    },
    {
      "cell_type": "code",
      "metadata": {
        "id": "6uBzZvo5j7ub",
        "colab_type": "code",
        "colab": {
          "base_uri": "https://localhost:8080/",
          "height": 52
        },
        "outputId": "3891f154-545a-4335-b384-05f60c58d0d8"
      },
      "source": [
        "## TODO: Compute your metrics for goodness of fit\n",
        "\n",
        "A = design(Xtr,phi)\n",
        "yhat = logreg.predict(A)\n",
        "acc = np.sum(abs(ytr-yhat)) / ntrain\n",
        "print(acc)\n",
        "\n",
        "A = design(Xval,phi)\n",
        "yhat = logreg.predict(A)\n",
        "acc = np.sum(abs(yval-yhat)) / nval\n",
        "print(acc)"
      ],
      "execution_count": 206,
      "outputs": [
        {
          "output_type": "stream",
          "text": [
            "0.4125\n",
            "0.435\n"
          ],
          "name": "stdout"
        }
      ]
    },
    {
      "cell_type": "markdown",
      "metadata": {
        "id": "t6_actZUqr1v",
        "colab_type": "text"
      },
      "source": [
        "# Load the Test Data"
      ]
    },
    {
      "cell_type": "code",
      "metadata": {
        "id": "D4XJF9Mqqwpm",
        "colab_type": "code",
        "colab": {}
      },
      "source": [
        "## TODO:\n",
        "url = \"https://raw.githubusercontent.com/nikopj/SummerML/master/Day5/Spiral/spiral_test_feature.csv\"\n",
        "df  = pd.read_csv(url)\n",
        "\n",
        "x1 = preprocessing.scale(df['x1'].values.reshape(-1,1)) # coordinate features\n",
        "x2 = preprocessing.scale(df['x2'].values.reshape(-1,1))\n",
        "\n",
        "Xts = np.hstack((x1,x2)) # feature vector\n",
        "ntest = Xts.shape[0]"
      ],
      "execution_count": 0,
      "outputs": []
    },
    {
      "cell_type": "markdown",
      "metadata": {
        "id": "aT5HygxlpVMk",
        "colab_type": "text"
      },
      "source": [
        "# Make Predictions on the Test Data"
      ]
    },
    {
      "cell_type": "code",
      "metadata": {
        "id": "Ar3HB-HxqDLK",
        "colab_type": "code",
        "colab": {}
      },
      "source": [
        "## TODO: this is your submission to the competition\n",
        "\n",
        "A = design(Xts,phi)\n",
        "yhat = logreg.predict(A)"
      ],
      "execution_count": 0,
      "outputs": []
    },
    {
      "cell_type": "markdown",
      "metadata": {
        "id": "UWl9TTCqmlEz",
        "colab_type": "text"
      },
      "source": [
        "# STOP! -- > PRESENTATIONS\n",
        "**All work on training your models must cease. You must prepare a presentation as a group.**\n",
        "You will walk the class through your notebook to explain your work for the competition. Unfinished work must still be presented. Your group will have **10 minutes to present**.\n",
        "\n",
        "## Requirements:\n",
        "- Your notebook needs to be well documented and clearly commented. \n",
        "- All plots need labels and titles. \n",
        "- Be able to explain all of your design choices. (audience, ask questions!)\n",
        "- Explain why you belive your model will acheive the highest test accuracy.\n",
        "- Give thoughts on alternate strategies and room for improvement.\n",
        "- Answer questions.\n",
        "\n",
        "## Code for illustrating aspects of your implemented design may be put below."
      ]
    },
    {
      "cell_type": "code",
      "metadata": {
        "id": "4uAnGgbZo8wb",
        "colab_type": "code",
        "colab": {}
      },
      "source": [
        "## TODO: (optional)"
      ],
      "execution_count": 0,
      "outputs": []
    },
    {
      "cell_type": "markdown",
      "metadata": {
        "id": "R61QMKALo707",
        "colab_type": "text"
      },
      "source": [
        "# Test Time!\n",
        "*After presentations*, the class labels will be uploaded to the course website. Import them and evaluate your test accuracy.\n"
      ]
    },
    {
      "cell_type": "markdown",
      "metadata": {
        "id": "mIvfpldCrIcI",
        "colab_type": "text"
      },
      "source": [
        "## Load the test labels"
      ]
    },
    {
      "cell_type": "code",
      "metadata": {
        "id": "QItBcsWJrF6V",
        "colab_type": "code",
        "colab": {}
      },
      "source": [
        "## TODO:\n",
        "url = \"https://raw.githubusercontent.com/nikopj/SummerML/master/Day5/Spiral/spiral_test_class.csv\"\n",
        "df  = pd.read_csv(url)\n",
        "\n",
        "yts = df['class'].values"
      ],
      "execution_count": 0,
      "outputs": []
    },
    {
      "cell_type": "markdown",
      "metadata": {
        "id": "71V7TEFmrYZI",
        "colab_type": "text"
      },
      "source": [
        "## Evaluate your accuracy\n",
        "Report your results to the teachers."
      ]
    },
    {
      "cell_type": "code",
      "metadata": {
        "id": "w-r5f3Pvq_30",
        "colab_type": "code",
        "colab": {
          "base_uri": "https://localhost:8080/",
          "height": 34
        },
        "outputId": "77b9a76f-eeea-405e-b776-46d5bb194e53"
      },
      "source": [
        "## TODO:\n",
        "acc = np.sum(abs(yts-yhat)) / ntest\n",
        "print(acc)"
      ],
      "execution_count": 207,
      "outputs": [
        {
          "output_type": "stream",
          "text": [
            "0.54\n"
          ],
          "name": "stdout"
        }
      ]
    }
  ]
}