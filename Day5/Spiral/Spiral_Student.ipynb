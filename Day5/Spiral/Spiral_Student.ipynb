{
  "nbformat": 4,
  "nbformat_minor": 0,
  "metadata": {
    "colab": {
      "name": "Spiral_Student.ipynb",
      "version": "0.3.2",
      "provenance": [],
      "collapsed_sections": [],
      "include_colab_link": true
    },
    "kernelspec": {
      "name": "python3",
      "display_name": "Python 3"
    }
  },
  "cells": [
    {
      "cell_type": "markdown",
      "metadata": {
        "id": "view-in-github",
        "colab_type": "text"
      },
      "source": [
        "<a href=\"https://colab.research.google.com/github/nikopj/SummerML/blob/master/Day5/Spiral/Spiral_Student.ipynb\" target=\"_parent\"><img src=\"https://colab.research.google.com/assets/colab-badge.svg\" alt=\"Open In Colab\"/></a>"
      ]
    },
    {
      "cell_type": "markdown",
      "metadata": {
        "id": "xdLSw0QauP-u",
        "colab_type": "text"
      },
      "source": [
        "# Classification Competition: Spirals\n",
        "![spiral image](https://raw.githubusercontent.com/nikopj/SummerML/master/Day5/Spiral/spiral.png)\n",
        "\n",
        "Use you machine learning knowledge gained so far to build a model that can classify whether a point belongs to the red spiral or the blue spiral.\n",
        "The training dataset is located on the [course github](https://github.com/nikopj/SummerML). A test set of input features is also located on the course github. Once your model is trained (and you are confident with it), make predictions on the test data. The ground truth test set class labels will be given at the end of class to determine the winner of the competition.\n",
        "\n",
        "## Code to present:\n",
        "You will be presenting your solutions to the class at the end of the day. Write your code clearly and annotate your notebook "
      ]
    },
    {
      "cell_type": "markdown",
      "metadata": {
        "id": "I7fRKLwvear1",
        "colab_type": "text"
      },
      "source": [
        "# Load the Training Data\n"
      ]
    },
    {
      "cell_type": "code",
      "metadata": {
        "id": "AkH7Llch4Goz",
        "colab_type": "code",
        "colab": {}
      },
      "source": [
        "## TODO\n",
        "import numpy as np\n",
        "import pandas as pd\n",
        "from sklearn import linear_model, preprocessing\n",
        "url = \"https://raw.githubusercontent.com/nikopj/SummerML/master/Day5/Spiral/spiral_train.csv\"\n",
        "df  = pd.read_csv(url)\n",
        "\n",
        "# Xtr = ...\n",
        "# ytr = ..."
      ],
      "execution_count": 0,
      "outputs": []
    },
    {
      "cell_type": "markdown",
      "metadata": {
        "id": "VsOpMb3ke5Fy",
        "colab_type": "text"
      },
      "source": [
        "# Visualize the Data\n",
        "Confirm that you have loaded the data correctly."
      ]
    },
    {
      "cell_type": "code",
      "metadata": {
        "id": "06_tIND2fDu_",
        "colab_type": "code",
        "colab": {}
      },
      "source": [
        "## TODO\n",
        "import matplotlib\n",
        "import matplotlib.pyplot as plt\n",
        "%matplotlib inline\n",
        "\n",
        "# ...\n",
        "\n",
        "# logical indexing ??\n",
        "# plt.plot( ... , ... ,'ob',markeredgecolor='black');\n",
        "# plt.plot( ... , ... ,'or',markeredgecolor='black');"
      ],
      "execution_count": 0,
      "outputs": []
    },
    {
      "cell_type": "markdown",
      "metadata": {
        "id": "5Z7vEH9-f1VD",
        "colab_type": "text"
      },
      "source": [
        "# Come up with a Model\n",
        "Transformed features? Model complexity? Error Function? Linear or Logistic Regression?"
      ]
    },
    {
      "cell_type": "code",
      "metadata": {
        "id": "9dkfa4rkgpZL",
        "colab_type": "code",
        "colab": {}
      },
      "source": [
        "## TODO: this is where the competition really begins...\n",
        "\n",
        "## Design Matrix. May be useful to come up with a function:\n",
        "def Design(X):\n",
        "  # A = ... stacked transformed features...\n",
        "  # return A\n"
      ],
      "execution_count": 0,
      "outputs": []
    },
    {
      "cell_type": "markdown",
      "metadata": {
        "id": "ByyBYhmCkcmE",
        "colab_type": "text"
      },
      "source": [
        "# Visualize Your Transform Functions\n",
        "It may be useful to plot a ```np.meshgrid()``` of your transform functions in 2D space. Or it could be useful to analyze your data along two feature axes...\n"
      ]
    },
    {
      "cell_type": "code",
      "metadata": {
        "id": "5uwh-vIElWrU",
        "colab_type": "code",
        "colab": {}
      },
      "source": [
        "## TODO:\n",
        "\n",
        "# plt...."
      ],
      "execution_count": 0,
      "outputs": []
    },
    {
      "cell_type": "markdown",
      "metadata": {
        "id": "zobvqMIJlJqr",
        "colab_type": "text"
      },
      "source": [
        "# Train your Model\n"
      ]
    },
    {
      "cell_type": "code",
      "metadata": {
        "id": "nlbajHiMlQ6j",
        "colab_type": "code",
        "colab": {}
      },
      "source": [
        "## TODO:"
      ],
      "execution_count": 0,
      "outputs": []
    },
    {
      "cell_type": "markdown",
      "metadata": {
        "id": "KLGhhUGhgwn2",
        "colab_type": "text"
      },
      "source": [
        "# Goodness of Fit\n",
        "Are you overfitting? Are you sure? If so, how? Can you make your fit better?"
      ]
    },
    {
      "cell_type": "code",
      "metadata": {
        "id": "6uBzZvo5j7ub",
        "colab_type": "code",
        "colab": {}
      },
      "source": [
        "## TODO: Compute your metrics for goodness of fit\n",
        "\n",
        "# y_hat = ..."
      ],
      "execution_count": 0,
      "outputs": []
    },
    {
      "cell_type": "markdown",
      "metadata": {
        "id": "t6_actZUqr1v",
        "colab_type": "text"
      },
      "source": [
        "# Load the Test Data"
      ]
    },
    {
      "cell_type": "code",
      "metadata": {
        "id": "D4XJF9Mqqwpm",
        "colab_type": "code",
        "colab": {}
      },
      "source": [
        "## TODO:\n",
        "url = \"https://raw.githubusercontent.com/nikopj/SummerML/master/Day5/Spiral/spiral_test_feature.csv\"\n",
        "df  = pd.read_csv(url)\n",
        "\n",
        "# X = ..."
      ],
      "execution_count": 0,
      "outputs": []
    },
    {
      "cell_type": "markdown",
      "metadata": {
        "id": "aT5HygxlpVMk",
        "colab_type": "text"
      },
      "source": [
        "# Make Predictions on the Test Data"
      ]
    },
    {
      "cell_type": "code",
      "metadata": {
        "id": "Ar3HB-HxqDLK",
        "colab_type": "code",
        "colab": {}
      },
      "source": [
        "## TODO: this is your submission to the competition\n",
        "\n",
        "# y_hat = ..."
      ],
      "execution_count": 0,
      "outputs": []
    },
    {
      "cell_type": "markdown",
      "metadata": {
        "id": "mIvfpldCrIcI",
        "colab_type": "text"
      },
      "source": [
        "## Load the test labels"
      ]
    },
    {
      "cell_type": "code",
      "metadata": {
        "id": "QItBcsWJrF6V",
        "colab_type": "code",
        "colab": {}
      },
      "source": [
        "## TODO:\n",
        "url = \"https://raw.githubusercontent.com/nikopj/SummerML/master/Day5/Spiral/spiral_test_class.csv\"\n",
        "df  = pd.read_csv(url)\n",
        "\n",
        "# y = ..."
      ],
      "execution_count": 0,
      "outputs": []
    },
    {
      "cell_type": "markdown",
      "metadata": {
        "id": "71V7TEFmrYZI",
        "colab_type": "text"
      },
      "source": [
        "## Evaluate your accuracy\n",
        "Report your results to the teachers."
      ]
    },
    {
      "cell_type": "code",
      "metadata": {
        "id": "w-r5f3Pvq_30",
        "colab_type": "code",
        "colab": {}
      },
      "source": [
        "## TODO:\n",
        "\n",
        "# acc = ..."
      ],
      "execution_count": 0,
      "outputs": []
    }
  ]
}