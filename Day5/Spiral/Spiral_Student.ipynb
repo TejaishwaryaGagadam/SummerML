{
 "cells": [
  {
   "cell_type": "markdown",
   "metadata": {
    "colab_type": "text",
    "id": "xdLSw0QauP-u"
   },
   "source": [
    "# Classification Competition: Spirals\n",
    "![spiral image](https://raw.githubusercontent.com/nikopj/SummerML/master/Day5/Spiral/spiral.png)\n",
    "\n",
    "Use you machine learning knowledge gained so far to build a model that can classify whether a point belongs to the red spiral or the blue spiral.\n",
    "The training dataset is located on the [course github](https://github.com/nikopj/SummerML). A test set of input features is also located on the course github. Once your model is trained (and you are confident with it), make predictions on the test data. The ground truth test set class labels will be given at the end of class to determine the winner of the competition.\n",
    "\n",
    "## Code to present:\n",
    "You will be presenting your solutions to the class at the end of the day. Write your code clearly and annotate your notebook "
   ]
  },
  {
   "cell_type": "markdown",
   "metadata": {
    "colab_type": "text",
    "id": "I7fRKLwvear1"
   },
   "source": [
    "# Load the Training Data\n"
   ]
  },
  {
   "cell_type": "code",
   "execution_count": 0,
   "metadata": {
    "colab": {},
    "colab_type": "code",
    "id": "AkH7Llch4Goz"
   },
   "outputs": [],
   "source": [
    "## TODO\n",
    "import numpy as np\n",
    "import pandas as pd\n",
    "from sklearn import linear_model, preprocessing\n",
    "url = \"https://raw.githubusercontent.com/nikopj/SummerML/master/Day5/Spiral/spiral_train.csv\"\n",
    "df  = pd.read_csv(url)\n",
    "\n",
    "# Xtr = ...\n",
    "# ytr = ..."
   ]
  },
  {
   "cell_type": "markdown",
   "metadata": {
    "colab_type": "text",
    "id": "VsOpMb3ke5Fy"
   },
   "source": [
    "# Visualize the Data\n",
    "Confirm that you have loaded the data correctly."
   ]
  },
  {
   "cell_type": "code",
   "execution_count": 0,
   "metadata": {
    "colab": {},
    "colab_type": "code",
    "id": "06_tIND2fDu_"
   },
   "outputs": [],
   "source": [
    "## TODO\n",
    "import matplotlib\n",
    "import matplotlib.pyplot as plt\n",
    "%matplotlib inline\n",
    "\n",
    "# ...\n",
    "\n",
    "# logical indexing ??\n",
    "# plt.plot( ... , ... ,'ob',markeredgecolor='black');\n",
    "# plt.plot( ... , ... ,'or',markeredgecolor='black');"
   ]
  },
  {
   "cell_type": "markdown",
   "metadata": {
    "colab_type": "text",
    "id": "5Z7vEH9-f1VD"
   },
   "source": [
    "# Come up with a Model\n",
    "Transformed features? Model complexity? Error Function? Linear or Logistic Regression?"
   ]
  },
  {
   "cell_type": "code",
   "execution_count": 0,
   "metadata": {
    "colab": {},
    "colab_type": "code",
    "id": "9dkfa4rkgpZL"
   },
   "outputs": [],
   "source": [
    "## TODO: this is where the competition really begins...\n",
    "\n",
    "## Design Matrix. May be useful to come up with a function:\n",
    "def Design(X):\n",
    "  # A = ... stacked transformed features...\n",
    "  # return A\n"
   ]
  },
  {
   "cell_type": "markdown",
   "metadata": {
    "colab_type": "text",
    "id": "ByyBYhmCkcmE"
   },
   "source": [
    "# Visualize Your Transform Functions (optional)\n",
    "It may be useful to plot a ```np.meshgrid()``` of your transform functions in 2D space. Or it could be useful to analyze your data along two feature axes...\n"
   ]
  },
  {
   "cell_type": "code",
   "execution_count": 0,
   "metadata": {
    "colab": {},
    "colab_type": "code",
    "id": "5uwh-vIElWrU"
   },
   "outputs": [],
   "source": [
    "## TODO:\n",
    "\n",
    "# plt...."
   ]
  },
  {
   "cell_type": "markdown",
   "metadata": {
    "colab_type": "text",
    "id": "zobvqMIJlJqr"
   },
   "source": [
    "# Train your Model\n"
   ]
  },
  {
   "cell_type": "code",
   "execution_count": 0,
   "metadata": {
    "colab": {},
    "colab_type": "code",
    "id": "nlbajHiMlQ6j"
   },
   "outputs": [],
   "source": [
    "## TODO:"
   ]
  },
  {
   "cell_type": "markdown",
   "metadata": {
    "colab_type": "text",
    "id": "KLGhhUGhgwn2"
   },
   "source": [
    "# Goodness of Fit\n",
    "Are you overfitting? Are you sure? If so, how? Can you make your fit better? Validation?"
   ]
  },
  {
   "cell_type": "code",
   "execution_count": 0,
   "metadata": {
    "colab": {},
    "colab_type": "code",
    "id": "6uBzZvo5j7ub"
   },
   "outputs": [],
   "source": [
    "## TODO: Compute your metrics for goodness of fit\n",
    "\n",
    "# y_hat = ..."
   ]
  },
  {
   "cell_type": "markdown",
   "metadata": {
    "colab_type": "text",
    "id": "t6_actZUqr1v"
   },
   "source": [
    "# Load the Test Data"
   ]
  },
  {
   "cell_type": "code",
   "execution_count": 0,
   "metadata": {
    "colab": {},
    "colab_type": "code",
    "id": "D4XJF9Mqqwpm"
   },
   "outputs": [],
   "source": [
    "## TODO:\n",
    "url = \"https://raw.githubusercontent.com/nikopj/SummerML/master/Day5/Spiral/spiral_test_feature.csv\"\n",
    "df  = pd.read_csv(url)\n",
    "\n",
    "# X = ..."
   ]
  },
  {
   "cell_type": "markdown",
   "metadata": {
    "colab_type": "text",
    "id": "aT5HygxlpVMk"
   },
   "source": [
    "# Make Predictions on the Test Data"
   ]
  },
  {
   "cell_type": "code",
   "execution_count": 0,
   "metadata": {
    "colab": {},
    "colab_type": "code",
    "id": "Ar3HB-HxqDLK"
   },
   "outputs": [],
   "source": [
    "## TODO: this is your submission to the competition\n",
    "\n",
    "# y_hat = ..."
   ]
  },
  {
   "cell_type": "markdown",
   "metadata": {
    "colab_type": "text",
    "id": "mIvfpldCrIcI"
   },
   "source": [
    "## Load the test labels"
   ]
  },
  {
   "cell_type": "code",
   "execution_count": 0,
   "metadata": {
    "colab": {},
    "colab_type": "code",
    "id": "QItBcsWJrF6V"
   },
   "outputs": [],
   "source": [
    "## TODO:\n",
    "url = \"https://raw.githubusercontent.com/nikopj/SummerML/master/Day5/Spiral/spiral_test_class.csv\"\n",
    "df  = pd.read_csv(url)\n",
    "\n",
    "# y = ..."
   ]
  },
  {
   "cell_type": "markdown",
   "metadata": {
    "colab_type": "text",
    "id": "71V7TEFmrYZI"
   },
   "source": [
    "## Evaluate your accuracy\n",
    "Report your results to the teachers."
   ]
  },
  {
   "cell_type": "code",
   "execution_count": 0,
   "metadata": {
    "colab": {},
    "colab_type": "code",
    "id": "w-r5f3Pvq_30"
   },
   "outputs": [],
   "source": [
    "## TODO:\n",
    "\n",
    "# acc = ..."
   ]
  }
 ],
 "metadata": {
  "colab": {
   "collapsed_sections": [],
   "name": "Spiral_Student.ipynb",
   "provenance": [],
   "version": "0.3.2"
  },
  "kernelspec": {
   "display_name": "Python 3",
   "language": "python",
   "name": "python3"
  },
  "language_info": {
   "codemirror_mode": {
    "name": "ipython",
    "version": 3
   },
   "file_extension": ".py",
   "mimetype": "text/x-python",
   "name": "python",
   "nbconvert_exporter": "python",
   "pygments_lexer": "ipython3",
   "version": "3.7.3"
  }
 },
 "nbformat": 4,
 "nbformat_minor": 1
}
