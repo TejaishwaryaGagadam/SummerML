{
  "nbformat": 4,
  "nbformat_minor": 0,
  "metadata": {
    "colab": {
      "name": "Spiral_Student.ipynb",
      "version": "0.3.2",
      "provenance": [],
      "include_colab_link": true
    },
    "kernelspec": {
      "name": "python3",
      "display_name": "Python 3"
    }
  },
  "cells": [
    {
      "cell_type": "markdown",
      "metadata": {
        "id": "view-in-github",
        "colab_type": "text"
      },
      "source": [
        "<a href=\"https://colab.research.google.com/github/nikopj/SummerML/blob/master/Day5/Spiral/Spiral_Student.ipynb\" target=\"_parent\"><img src=\"https://colab.research.google.com/assets/colab-badge.svg\" alt=\"Open In Colab\"/></a>"
      ]
    },
    {
      "cell_type": "markdown",
      "metadata": {
        "id": "xdLSw0QauP-u",
        "colab_type": "text"
      },
      "source": [
        "# Classification Competition: Spirals\n",
        "![spiral image](https://raw.githubusercontent.com/nikopj/SummerML/master/Day5/Spiral/spiral.png)\n",
        "\n",
        "Use you machine learning knowledge gained so far to build a model that can classify whether a point belongs to the red spiral or the blue spiral.\n",
        "The training dataset is located on the [course github](https://github.com/nikopj/SummerML). A test set of input features is also located on the course github. Once your model is trained (and you are confident with it), make predictions on the test data. The ground truth test set class labels will be given at the end of class to determine the winner of the competition.\n",
        "\n",
        "## Code to present:\n",
        "You will be presenting your solutions to the class at the end of the day. Write your code clearly and annotate your notebook "
      ]
    },
    {
      "cell_type": "markdown",
      "metadata": {
        "id": "I7fRKLwvear1",
        "colab_type": "text"
      },
      "source": [
        "# Load the Training Data\n"
      ]
    },
    {
      "cell_type": "code",
      "metadata": {
        "id": "AkH7Llch4Goz",
        "colab_type": "code",
        "colab": {}
      },
      "source": [
        "## TODO\n",
        "import numpy as np\n",
        "import pandas as pd\n",
        "from sklearn import linear_model, preprocessing\n",
        "url = \"https://raw.githubusercontent.com/nikopj/SummerML/master/Day5/Spiral/spiral_train.csv\"\n",
        "df  = pd.read_csv(url)\n",
        "\n",
        "# Xtr = ...\n",
        "# ytr = ..."
      ],
      "execution_count": 0,
      "outputs": []
    },
    {
      "cell_type": "markdown",
      "metadata": {
        "id": "VsOpMb3ke5Fy",
        "colab_type": "text"
      },
      "source": [
        "# Visualize the Data\n",
        "Confirm that you have loaded the data correctly."
      ]
    },
    {
      "cell_type": "code",
      "metadata": {
        "id": "06_tIND2fDu_",
        "colab_type": "code",
        "colab": {}
      },
      "source": [
        "## TODO\n",
        "import matplotlib\n",
        "import matplotlib.pyplot as plt\n",
        "%matplotlib inline\n",
        "\n",
        "# ...\n",
        "\n",
        "# plt.plot( ... , ... ,'ob',markeredgecolor='black');\n",
        "# plt.plot( ... , ... ,'or',markeredgecolor='black');"
      ],
      "execution_count": 0,
      "outputs": []
    },
    {
      "cell_type": "markdown",
      "metadata": {
        "id": "5Z7vEH9-f1VD",
        "colab_type": "text"
      },
      "source": [
        "# Come up with a Model\n",
        " Basis functions? Model complexity? Error Function? Linear or Logistic Regression?"
      ]
    },
    {
      "cell_type": "code",
      "metadata": {
        "id": "9dkfa4rkgpZL",
        "colab_type": "code",
        "colab": {}
      },
      "source": [
        "## TODO: this is where the competition really begins...\n"
      ],
      "execution_count": 0,
      "outputs": []
    },
    {
      "cell_type": "markdown",
      "metadata": {
        "id": "ByyBYhmCkcmE",
        "colab_type": "text"
      },
      "source": [
        "# Visualize Your Basis Functions\n",
        "Verify your design."
      ]
    },
    {
      "cell_type": "code",
      "metadata": {
        "id": "5uwh-vIElWrU",
        "colab_type": "code",
        "colab": {}
      },
      "source": [
        "## TODO:\n",
        "\n",
        "# plt...."
      ],
      "execution_count": 0,
      "outputs": []
    },
    {
      "cell_type": "markdown",
      "metadata": {
        "id": "zobvqMIJlJqr",
        "colab_type": "text"
      },
      "source": [
        "# Train your Model\n"
      ]
    },
    {
      "cell_type": "code",
      "metadata": {
        "id": "nlbajHiMlQ6j",
        "colab_type": "code",
        "colab": {}
      },
      "source": [
        "## TODO:"
      ],
      "execution_count": 0,
      "outputs": []
    },
    {
      "cell_type": "markdown",
      "metadata": {
        "id": "KLGhhUGhgwn2",
        "colab_type": "text"
      },
      "source": [
        "# Goodness of Fit\n",
        "Are you overfitting? Are you sure? If so, how? Can you make your fit better?"
      ]
    },
    {
      "cell_type": "code",
      "metadata": {
        "id": "6uBzZvo5j7ub",
        "colab_type": "code",
        "colab": {}
      },
      "source": [
        "## TODO: Compute your metrics for goodness of fit\n",
        "\n",
        "# y_hat = ..."
      ],
      "execution_count": 0,
      "outputs": []
    },
    {
      "cell_type": "markdown",
      "metadata": {
        "id": "t6_actZUqr1v",
        "colab_type": "text"
      },
      "source": [
        "# Load the Test Data"
      ]
    },
    {
      "cell_type": "code",
      "metadata": {
        "id": "D4XJF9Mqqwpm",
        "colab_type": "code",
        "colab": {}
      },
      "source": [
        "## TODO:\n",
        "url = \"https://raw.githubusercontent.com/nikopj/SummerML/master/Day5/Spiral/spiral_test_feature.csv\"\n",
        "df  = pd.read_csv(url)\n",
        "\n",
        "# X = ..."
      ],
      "execution_count": 0,
      "outputs": []
    },
    {
      "cell_type": "markdown",
      "metadata": {
        "id": "aT5HygxlpVMk",
        "colab_type": "text"
      },
      "source": [
        "# Make Predictions on the Test Data"
      ]
    },
    {
      "cell_type": "code",
      "metadata": {
        "id": "Ar3HB-HxqDLK",
        "colab_type": "code",
        "colab": {}
      },
      "source": [
        "## TODO: this is your submission to the competition\n",
        "\n",
        "# y_hat = ..."
      ],
      "execution_count": 0,
      "outputs": []
    },
    {
      "cell_type": "markdown",
      "metadata": {
        "id": "UWl9TTCqmlEz",
        "colab_type": "text"
      },
      "source": [
        "# STOP! -- > PRESENTATIONS\n",
        "**All work on training your models must cease. You must prepare a presentation as a group.**\n",
        "You will walk the class through your notebook to explain your work for the competition. Unfinished work must still be presented. Your group will have **10 minutes to present**.\n",
        "\n",
        "## Requirements:\n",
        "- Your notebook needs to be well documented and clearly commented. \n",
        "- All plots need labels and titles. \n",
        "- Be able to explain all of your design choices. (audience, ask questions!)\n",
        "- Explain why you belive your model will acheive the highest test accuracy.\n",
        "- Give thoughts on alternate strategies and room for improvement.\n",
        "- Answer questions.\n",
        "\n",
        "## Code for illustrating aspects of your implemented design may be put below."
      ]
    },
    {
      "cell_type": "code",
      "metadata": {
        "id": "4uAnGgbZo8wb",
        "colab_type": "code",
        "colab": {}
      },
      "source": [
        "## TODO: (optional)"
      ],
      "execution_count": 0,
      "outputs": []
    },
    {
      "cell_type": "markdown",
      "metadata": {
        "id": "R61QMKALo707",
        "colab_type": "text"
      },
      "source": [
        "# Test Time!\n",
        "*After presentations*, the class labels will be uploaded to the course website. Import them and evaluate your test accuracy.\n"
      ]
    },
    {
      "cell_type": "markdown",
      "metadata": {
        "id": "mIvfpldCrIcI",
        "colab_type": "text"
      },
      "source": [
        "## Load the test labels"
      ]
    },
    {
      "cell_type": "code",
      "metadata": {
        "id": "QItBcsWJrF6V",
        "colab_type": "code",
        "colab": {}
      },
      "source": [
        "## TODO:\n",
        "# url = ...\n",
        "# df  = pd.read_csv(url)\n",
        "\n",
        "# y = ..."
      ],
      "execution_count": 0,
      "outputs": []
    },
    {
      "cell_type": "markdown",
      "metadata": {
        "id": "71V7TEFmrYZI",
        "colab_type": "text"
      },
      "source": [
        "## Evaluate your accuracy\n",
        "Report your results to the teachers."
      ]
    },
    {
      "cell_type": "code",
      "metadata": {
        "id": "w-r5f3Pvq_30",
        "colab_type": "code",
        "colab": {}
      },
      "source": [
        "## TODO:\n",
        "\n",
        "# acc = ..."
      ],
      "execution_count": 0,
      "outputs": []
    }
  ]
}