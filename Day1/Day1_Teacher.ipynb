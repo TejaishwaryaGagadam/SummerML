{
  "nbformat": 4,
  "nbformat_minor": 0,
  "metadata": {
    "colab": {
      "name": "Day1_Teacher.ipynb",
      "version": "0.3.2",
      "provenance": [],
      "collapsed_sections": [],
      "include_colab_link": true
    },
    "kernelspec": {
      "name": "python3",
      "display_name": "Python 3"
    }
  },
  "cells": [
    {
      "cell_type": "markdown",
      "metadata": {
        "id": "view-in-github",
        "colab_type": "text"
      },
      "source": [
        "<a href=\"https://colab.research.google.com/github/nikopj/SummerML/blob/master/Day1/Day1_Teacher.ipynb\" target=\"_parent\"><img src=\"https://colab.research.google.com/assets/colab-badge.svg\" alt=\"Open In Colab\"/></a>"
      ]
    },
    {
      "cell_type": "markdown",
      "metadata": {
        "id": "yspmGzoPGgGW",
        "colab_type": "text"
      },
      "source": [
        "# Day 1: Introduction to Machine Learning\n",
        "## Module Outline:\n",
        "- M4: *Demo*: Ice-Breaker Data Visualization\n",
        "- M5: *Demo*: Manipulating Data with Numpy\n",
        "- M6: *Demo*: Sample Mean and Variance\n",
        "- M7: *Lab*: Generating a Sine Wave\n",
        "- M10: *Lab*: Generating a Noisy Sine Wave\n"
      ]
    },
    {
      "cell_type": "markdown",
      "metadata": {
        "id": "JGRy8nvRH7ps",
        "colab_type": "text"
      },
      "source": [
        "# M4: *Demo*: Ice-Breaker Data Visualization\n",
        "After checking out[ the data](https://docs.google.com/spreadsheets/d/18UkL5ydpiZBtAHllD5MqqnEp0alwuXOgl9GYYM3_A7E/edit?usp=sharing) in a spreadsheets, download it as a CSV file."
      ]
    },
    {
      "cell_type": "code",
      "metadata": {
        "id": "4NGNNlbCJzNH",
        "colab_type": "code",
        "outputId": "4f50651b-5430-4f0c-f190-3d27427ad601",
        "colab": {
          "resources": {
            "http://localhost:8080/nbextensions/google.colab/files.js": {
              "data": "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",
              "ok": true,
              "headers": [
                [
                  "content-type",
                  "application/javascript"
                ]
              ],
              "status": 200,
              "status_text": "OK"
            }
          },
          "base_uri": "https://localhost:8080/",
          "height": 94
        }
      },
      "source": [
        "from google.colab import files # module for uploading code\n",
        "uploaded = files.upload() # prompts to upload local file\n",
        "filename = list(uploaded.keys())[0] # gets uploaded filename"
      ],
      "execution_count": 0,
      "outputs": [
        {
          "output_type": "display_data",
          "data": {
            "text/html": [
              "\n",
              "     <input type=\"file\" id=\"files-930f0d6e-d3a6-4b17-a773-7e7ebbb19c6e\" name=\"files[]\" multiple disabled />\n",
              "     <output id=\"result-930f0d6e-d3a6-4b17-a773-7e7ebbb19c6e\">\n",
              "      Upload widget is only available when the cell has been executed in the\n",
              "      current browser session. Please rerun this cell to enable.\n",
              "      </output>\n",
              "      <script src=\"/nbextensions/google.colab/files.js\"></script> "
            ],
            "text/plain": [
              "<IPython.core.display.HTML object>"
            ]
          },
          "metadata": {
            "tags": []
          }
        },
        {
          "output_type": "stream",
          "text": [
            "Saving icebreaker.csv to icebreaker.csv\n",
            "icebreaker.csv\n"
          ],
          "name": "stdout"
        }
      ]
    },
    {
      "cell_type": "code",
      "metadata": {
        "id": "cpO5nSkcEj7c",
        "colab_type": "code",
        "outputId": "8e3dbb03-a4ee-4eec-817d-41900afb3426",
        "colab": {
          "base_uri": "https://localhost:8080/",
          "height": 143
        }
      },
      "source": [
        "import pandas as pd # module for dealing with datasets\n",
        "import numpy as np # module for manipulating data\n",
        "\n",
        "df = pd.read_csv(filename) \n",
        "df.head(5) # print first 5 entries"
      ],
      "execution_count": 0,
      "outputs": [
        {
          "output_type": "execute_result",
          "data": {
            "text/html": [
              "<div>\n",
              "<style scoped>\n",
              "    .dataframe tbody tr th:only-of-type {\n",
              "        vertical-align: middle;\n",
              "    }\n",
              "\n",
              "    .dataframe tbody tr th {\n",
              "        vertical-align: top;\n",
              "    }\n",
              "\n",
              "    .dataframe thead th {\n",
              "        text-align: right;\n",
              "    }\n",
              "</style>\n",
              "<table border=\"1\" class=\"dataframe\">\n",
              "  <thead>\n",
              "    <tr style=\"text-align: right;\">\n",
              "      <th></th>\n",
              "      <th>Name</th>\n",
              "      <th>Prefered Name</th>\n",
              "      <th>Grade</th>\n",
              "      <th>Country</th>\n",
              "      <th>Wake Up Time</th>\n",
              "      <th>Travel Time (mins)</th>\n",
              "      <th>Mode of transportation</th>\n",
              "    </tr>\n",
              "  </thead>\n",
              "  <tbody>\n",
              "    <tr>\n",
              "      <th>0</th>\n",
              "      <td>Nikola</td>\n",
              "      <td>Nikola</td>\n",
              "      <td>17</td>\n",
              "      <td>Hong Kong</td>\n",
              "      <td>8.5</td>\n",
              "      <td>20</td>\n",
              "      <td>Train</td>\n",
              "    </tr>\n",
              "    <tr>\n",
              "      <th>1</th>\n",
              "      <td>Student's T</td>\n",
              "      <td>Distribution</td>\n",
              "      <td>25</td>\n",
              "      <td>England</td>\n",
              "      <td>1937.0</td>\n",
              "      <td>50</td>\n",
              "      <td>Concord</td>\n",
              "    </tr>\n",
              "    <tr>\n",
              "      <th>2</th>\n",
              "      <td>Akshaj</td>\n",
              "      <td>Akshaj</td>\n",
              "      <td>19</td>\n",
              "      <td>India</td>\n",
              "      <td>6.5</td>\n",
              "      <td>25</td>\n",
              "      <td>Train</td>\n",
              "    </tr>\n",
              "  </tbody>\n",
              "</table>\n",
              "</div>"
            ],
            "text/plain": [
              "          Name Prefered Name  ...  Travel Time (mins) Mode of transportation\n",
              "0       Nikola        Nikola  ...                  20                  Train\n",
              "1  Student's T  Distribution  ...                  50                Concord\n",
              "2      Akshaj         Akshaj  ...                  25                  Train\n",
              "\n",
              "[3 rows x 7 columns]"
            ]
          },
          "metadata": {
            "tags": []
          },
          "execution_count": 2
        }
      ]
    },
    {
      "cell_type": "markdown",
      "metadata": {
        "id": "0NPKNy3qMxuV",
        "colab_type": "text"
      },
      "source": [
        "We'll just take the names and travel time from the dataset for now."
      ]
    },
    {
      "cell_type": "code",
      "metadata": {
        "id": "vi7QsZ9wKy1F",
        "colab_type": "code",
        "colab": {}
      },
      "source": [
        "names = df['Name'].values\n",
        "travel_times = df['Travel Time (mins)'].values"
      ],
      "execution_count": 0,
      "outputs": []
    },
    {
      "cell_type": "markdown",
      "metadata": {
        "id": "PsJ7DbEwZqs1",
        "colab_type": "text"
      },
      "source": [
        "## Plotting the data as a histogram with Matplotlib"
      ]
    },
    {
      "cell_type": "code",
      "metadata": {
        "id": "U08T5rCRZvU4",
        "colab_type": "code",
        "outputId": "ff761c82-8ffe-45e6-e6a6-d5505eec83dd",
        "colab": {
          "base_uri": "https://localhost:8080/",
          "height": 329
        }
      },
      "source": [
        "import matplotlib\n",
        "import matplotlib.pyplot as plt\n",
        "%matplotlib inline\n",
        "\n",
        "plt.bar(names, travel_times)\n",
        "plt.xticks(names, rotation=70)\n",
        "plt.xlabel('Name')\n",
        "plt.ylabel('Travel Time (mins)');"
      ],
      "execution_count": 0,
      "outputs": [
        {
          "output_type": "display_data",
          "data": {
            "image/png": "[encoded data removed]",
            "text/plain": [
              "<Figure size 432x288 with 1 Axes>"
            ]
          },
          "metadata": {
            "tags": []
          }
        }
      ]
    },
    {
      "cell_type": "markdown",
      "metadata": {
        "id": "WDdQk1TLNgje",
        "colab_type": "text"
      },
      "source": [
        "Let's see how many people took what mode of transport."
      ]
    },
    {
      "cell_type": "code",
      "metadata": {
        "id": "PdAii8FvNfTs",
        "colab_type": "code",
        "outputId": "61f7a78c-94c7-4ab2-855b-b3f1c2b0f19a",
        "colab": {
          "base_uri": "https://localhost:8080/",
          "height": 332
        }
      },
      "source": [
        "transport = df['Mode of transportation'].values\n",
        "# counting up the occurrences of unique modes of transport\n",
        "unique, counts = np.unique(transport, return_counts=True)\n",
        "print(unique,counts)\n",
        "\n",
        "plt.bar(unique, counts)\n",
        "plt.xticks(unique, rotation=70)\n",
        "plt.xlabel('Mode of Transport')\n",
        "plt.ylabel('Counts')\n",
        "plt.yticks(np.arange(np.max(counts)+1));"
      ],
      "execution_count": 0,
      "outputs": [
        {
          "output_type": "stream",
          "text": [
            "['Concord' 'Train'] [1 2]\n"
          ],
          "name": "stdout"
        },
        {
          "output_type": "display_data",
          "data": {
            "image/png": "[encoded data removed]",
            "text/plain": [
              "<Figure size 432x288 with 1 Axes>"
            ]
          },
          "metadata": {
            "tags": []
          }
        }
      ]
    },
    {
      "cell_type": "markdown",
      "metadata": {
        "id": "_8eUtLnRSsre",
        "colab_type": "text"
      },
      "source": [
        "And how about a plot of the travel time vs. wakeup time"
      ]
    },
    {
      "cell_type": "code",
      "metadata": {
        "id": "4yL_AoNTSyh2",
        "colab_type": "code",
        "outputId": "fa9c9cb8-bda9-4ba9-a3ff-fed4648433d3",
        "colab": {
          "base_uri": "https://localhost:8080/",
          "height": 300
        }
      },
      "source": [
        "wakeup_times = df['Wake Up Time'].values\n",
        "\n",
        "plt.plot(travel_times, wakeup_times, 'ob', markeredgecolor='black')\n",
        "plt.xlabel('Travel Time (mins)')\n",
        "plt.ylabel('Wake Up Time (hr)');"
      ],
      "execution_count": 0,
      "outputs": [
        {
          "output_type": "execute_result",
          "data": {
            "text/plain": [
              "Text(0, 0.5, 'Wake Up Time (hr)')"
            ]
          },
          "metadata": {
            "tags": []
          },
          "execution_count": 30
        },
        {
          "output_type": "display_data",
          "data": {
            "image/png": "[encoded data removed]",
            "text/plain": [
              "<Figure size 432x288 with 1 Axes>"
            ]
          },
          "metadata": {
            "tags": []
          }
        }
      ]
    },
    {
      "cell_type": "markdown",
      "metadata": {
        "id": "V5iOmgrhQ1KB",
        "colab_type": "text"
      },
      "source": [
        "# M5: *Demo*: Manipulating Data with Numpy\n",
        "Vectors and matrices in numpy"
      ]
    },
    {
      "cell_type": "code",
      "metadata": {
        "id": "RsEy03jgQ_EH",
        "colab_type": "code",
        "outputId": "24669aca-074c-455e-d7e0-49aacaa549ee",
        "colab": {
          "base_uri": "https://localhost:8080/",
          "height": 173
        }
      },
      "source": [
        "import numpy as np\n",
        "\n",
        "v = np.array([1,5,2,9])\n",
        "u = np.array([3,6,0,-5])\n",
        "\n",
        "A = np.array([[1,9],[5,11]])\n",
        "B = np.array([[2,12,4],[3,7,5]])\n",
        "\n",
        "print(\"row vectors u,v:\",u,v)\n",
        "print(\"shape of u:\", u.shape)\n",
        "print(\"2x2 Matrix A:\")\n",
        "print(A)\n",
        "print(\"shape of A:\", A.shape)\n",
        "print(\"2x3 Matrix B:\")\n",
        "print(B)"
      ],
      "execution_count": 0,
      "outputs": [
        {
          "output_type": "stream",
          "text": [
            "row vectors u,v: [ 3  6  0 -5] [1 5 2 9]\n",
            "shape of u: (4,)\n",
            "2x2 Matrix A:\n",
            "[[ 1  9]\n",
            " [ 5 11]]\n",
            "shape of A: (2, 2)\n",
            "2x3 Matrix B:\n",
            "[[ 2 12  4]\n",
            " [ 3  7  5]]\n"
          ],
          "name": "stdout"
        }
      ]
    },
    {
      "cell_type": "markdown",
      "metadata": {
        "id": "JCaDwx4G74lY",
        "colab_type": "text"
      },
      "source": [
        "## Vector Operations"
      ]
    },
    {
      "cell_type": "code",
      "metadata": {
        "id": "CytRX0U878m5",
        "colab_type": "code",
        "outputId": "b72b5cde-e316-4399-9383-91e950b86597",
        "colab": {
          "base_uri": "https://localhost:8080/",
          "height": 69
        }
      },
      "source": [
        "a = 3\n",
        "w = a*u+2*v # [9, 18, 0, -15] + [2, 10, 4, 9]\n",
        "\n",
        "lw = np.sqrt(np.dot(w,w))\n",
        "\n",
        "print(\"w:\",w)\n",
        "print(\"length of w: %.2f\" % lw)\n",
        "print(\"norm of w: %.2f\" % np.linalg.norm(w))"
      ],
      "execution_count": 0,
      "outputs": [
        {
          "output_type": "stream",
          "text": [
            "w: [11 28  4  3]\n",
            "length of w: 30.50\n",
            "norm of w: 30.50\n"
          ],
          "name": "stdout"
        }
      ]
    },
    {
      "cell_type": "markdown",
      "metadata": {
        "id": "wLZH8cmB9K7t",
        "colab_type": "text"
      },
      "source": [
        "## Matrix Operations"
      ]
    },
    {
      "cell_type": "code",
      "metadata": {
        "id": "cARjL-3x9Mve",
        "colab_type": "code",
        "outputId": "6829abad-efab-443c-98c2-104ed3c336b3",
        "colab": {
          "base_uri": "https://localhost:8080/",
          "height": 104
        }
      },
      "source": [
        "C = np.matmul(A,B)\n",
        "print(C.shape)\n",
        "z = np.array([1,2,1])\n",
        "print(z.shape)\n",
        "\n",
        "res = np.matmul(C,z)\n",
        "print(res, res.shape)\n",
        "\n",
        "# make the result into a column vector\n",
        "res = res.reshape(-1,1) # -1 means value is infered\n",
        "print(res, res.shape)"
      ],
      "execution_count": 0,
      "outputs": [
        {
          "output_type": "stream",
          "text": [
            "(2, 3)\n",
            "(3,)\n",
            "[228 392] (2,)\n",
            "[[228]\n",
            " [392]] (2, 1)\n"
          ],
          "name": "stdout"
        }
      ]
    },
    {
      "cell_type": "markdown",
      "metadata": {
        "id": "g4iGWX9TRSJA",
        "colab_type": "text"
      },
      "source": [
        "# M6: *Demo*: Sample Mean and Variance\n",
        "We'll calculate the sample mean and variance of student travel times\n",
        "## First, using Python and loops"
      ]
    },
    {
      "cell_type": "code",
      "metadata": {
        "id": "sbcRSt32Rqoy",
        "colab_type": "code",
        "outputId": "082b83de-6fc6-41e6-e5fb-c25bef465b9a",
        "colab": {
          "base_uri": "https://localhost:8080/",
          "height": 52
        }
      },
      "source": [
        "x = travel_times # travel times vector\n",
        "\n",
        "avg = 0;\n",
        "for i in range(len(x)):\n",
        "  avg = avg + x[i]\n",
        "avg = avg/len(x)\n",
        "\n",
        "var = 0;\n",
        "for i in range(len(x)):\n",
        "  var = var + (x[i]-avg)**2\n",
        "var = var/(len(x)-1)\n",
        "\n",
        "def print_func(avg,var):\n",
        "  print(\"mean: %.2f\" % avg)\n",
        "  print(\"variance: %.2f\" % var)\n",
        "  \n",
        "print_func(avg,var)"
      ],
      "execution_count": 0,
      "outputs": [
        {
          "output_type": "stream",
          "text": [
            "mean: 31.67\n",
            "variance: 258.33\n"
          ],
          "name": "stdout"
        }
      ]
    },
    {
      "cell_type": "markdown",
      "metadata": {
        "id": "uN69nBA7Sfu8",
        "colab_type": "text"
      },
      "source": [
        "## Now using Numpy "
      ]
    },
    {
      "cell_type": "code",
      "metadata": {
        "id": "AbvHDV9DTSzX",
        "colab_type": "code",
        "outputId": "307beec5-c46f-4fe4-bb67-73eaa2d83595",
        "colab": {
          "base_uri": "https://localhost:8080/",
          "height": 52
        }
      },
      "source": [
        "avg = np.mean(x)\n",
        "var = np.var(x)\n",
        "\n",
        "print_func(avg,var)"
      ],
      "execution_count": 0,
      "outputs": [
        {
          "output_type": "stream",
          "text": [
            "mean: 31.67\n",
            "variance: 172.22\n"
          ],
          "name": "stdout"
        }
      ]
    },
    {
      "cell_type": "markdown",
      "metadata": {
        "id": "G-fkwjxPUs34",
        "colab_type": "text"
      },
      "source": [
        "## Stats on our Data\n",
        "Now, looking back at our icebreaker data. What was the mean wakeup time? How far did people deviate from the mean?"
      ]
    },
    {
      "cell_type": "code",
      "metadata": {
        "id": "n0Vod3mpSqTS",
        "colab_type": "code",
        "outputId": "95ddcc4f-014e-4dc2-9b98-4324efc9a24a",
        "colab": {
          "base_uri": "https://localhost:8080/",
          "height": 346
        }
      },
      "source": [
        "mean_wakeup = np.mean(wakeup_times)\n",
        "var_wakeup = np.var(wakeup_times)\n",
        "\n",
        "print(\"Mean = %.2f, Variance = %.2f\" % (mean_wakeup, var_wakeup))\n",
        "\n",
        "dev = (wakeup_times - mean_wakeup)**2\n",
        "\n",
        "plt.bar(names, dev)\n",
        "plt.xticks(names, rotation=70)\n",
        "plt.xlabel('Name')\n",
        "plt.ylabel('Deviation from Mean Wakeup');"
      ],
      "execution_count": 0,
      "outputs": [
        {
          "output_type": "stream",
          "text": [
            "Mean = 650.67, Variance = 827327.39\n"
          ],
          "name": "stdout"
        },
        {
          "output_type": "display_data",
          "data": {
            "image/png": "[encoded data removed]",
            "text/plain": [
              "<Figure size 432x288 with 1 Axes>"
            ]
          },
          "metadata": {
            "tags": []
          }
        }
      ]
    },
    {
      "cell_type": "markdown",
      "metadata": {
        "id": "-v2bopw1WF1s",
        "colab_type": "text"
      },
      "source": [
        "# M7: *Lab*: Generating a Sine Wave\n",
        "- Use numpy to generate a sine wave, y=f(x), on the interval [-pi,pi]. \n",
        "- Plot the graph using matplotlib\n",
        "- *Hint*: look into ```np.pi```, ```np.sin()``` and ```np.linspace()``` (ie. google for the documentation of these functions)"
      ]
    },
    {
      "cell_type": "code",
      "metadata": {
        "id": "Faj_9r7MT7Wu",
        "colab_type": "code",
        "outputId": "e6ac44e8-a075-414d-85b0-afbd683ededb",
        "colab": {
          "base_uri": "https://localhost:8080/",
          "height": 269
        }
      },
      "source": [
        "# TODO:\n",
        "\n",
        "x = np.linspace(-np.pi,np.pi,100)\n",
        "y = np.sin(x)\n",
        "\n",
        "plt.plot(x,y);"
      ],
      "execution_count": 0,
      "outputs": [
        {
          "output_type": "display_data",
          "data": {
            "image/png": "[encoded data removed]",
            "text/plain": [
              "<Figure size 432x288 with 1 Axes>"
            ]
          },
          "metadata": {
            "tags": []
          }
        }
      ]
    },
    {
      "cell_type": "markdown",
      "metadata": {
        "id": "mlvvHEEOWFQC",
        "colab_type": "text"
      },
      "source": [
        " # M10: *Lab*: Generating a Noisy Sine Wave\n",
        "- Generate 100 samples of a noisy sine wave\n",
        "- Plot the noisy measurements on top of the original sine wave\n",
        "- Hint: look into ```np.random.randn()```\n",
        "\n"
      ]
    },
    {
      "cell_type": "code",
      "metadata": {
        "id": "9dUlLSZ1bHV-",
        "colab_type": "code",
        "outputId": "a54b48f0-68e8-4d5b-d90a-818bfa9a2481",
        "colab": {
          "base_uri": "https://localhost:8080/",
          "height": 269
        }
      },
      "source": [
        "# TODO:\n",
        "\n",
        "var = 0.01*np.max(y)\n",
        "y_noisy = y + np.random.normal(0, np.sqrt(var), size=y.shape)\n",
        "\n",
        "plt.plot(x, y, '-b', x, y_noisy, 'og', markeredgecolor='black');"
      ],
      "execution_count": 0,
      "outputs": [
        {
          "output_type": "display_data",
          "data": {
            "image/png": "[encoded data removed]",
            "text/plain": [
              "<Figure size 432x288 with 1 Axes>"
            ]
          },
          "metadata": {
            "tags": []
          }
        }
      ]
    },
    {
      "cell_type": "markdown",
      "metadata": {
        "id": "U7CYZFjHcpPm",
        "colab_type": "text"
      },
      "source": [
        "## Mean and Variance\n",
        "- What is the mean and variance of your noise?\n",
        "- What is the mean and variance of your sine wave?\n",
        "\n",
        "Compute the answers in code. Talk with your neighbors about why this is the case.\n"
      ]
    },
    {
      "cell_type": "code",
      "metadata": {
        "id": "1ThCUme_bdXL",
        "colab_type": "code",
        "outputId": "f2a454cb-e45c-4d45-c40b-33aee9bff955",
        "colab": {
          "base_uri": "https://localhost:8080/",
          "height": 52
        }
      },
      "source": [
        "# TODO:\n",
        "mu = np.mean(y_noisy)\n",
        "v  = np.var(y_noisy)\n",
        "\n",
        "print_func(mu,v)"
      ],
      "execution_count": 0,
      "outputs": [
        {
          "output_type": "stream",
          "text": [
            "mean: -0.02\n",
            "variance: 0.52\n"
          ],
          "name": "stdout"
        }
      ]
    }
  ]
}