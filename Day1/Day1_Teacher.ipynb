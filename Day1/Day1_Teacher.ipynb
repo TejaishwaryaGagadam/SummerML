{
  "nbformat": 4,
  "nbformat_minor": 0,
  "metadata": {
    "colab": {
      "name": "Day1_Teacher.ipynb",
      "version": "0.3.2",
      "provenance": [],
      "collapsed_sections": [],
      "include_colab_link": true
    },
    "kernelspec": {
      "name": "python3",
      "display_name": "Python 3"
    }
  },
  "cells": [
    {
      "cell_type": "markdown",
      "metadata": {
        "id": "view-in-github",
        "colab_type": "text"
      },
      "source": [
        "<a href=\"https://colab.research.google.com/github/nikopj/SummerML/blob/master/Day1/Day1_Teacher.ipynb\" target=\"_parent\"><img src=\"https://colab.research.google.com/assets/colab-badge.svg\" alt=\"Open In Colab\"/></a>"
      ]
    },
    {
      "cell_type": "markdown",
      "metadata": {
        "id": "yspmGzoPGgGW",
        "colab_type": "text"
      },
      "source": [
        "# Day 1: Introduction to Machine Learning\n",
        "## Module Outline:\n",
        "- M4: *Demo*: Ice-Breaker Data Visualization\n",
        "- M5: *Demo*: Vectors and Matrices\n",
        "- M6: *Demo*: Mean and Variance\n",
        "- M7: *Lab*: Plotting Functions\n"
      ]
    },
    {
      "cell_type": "markdown",
      "metadata": {
        "id": "JGRy8nvRH7ps",
        "colab_type": "text"
      },
      "source": [
        "# M4: *Demo*: Ice-Breaker Data Visualization\n",
        "After checking out[ the data](https://docs.google.com/spreadsheets/d/18UkL5ydpiZBtAHllD5MqqnEp0alwuXOgl9GYYM3_A7E/edit?usp=sharing) in a spreadsheets, download it as a CSV file. Then upload the file in the Colab sidebar (under the files tab)"
      ]
    },
    {
      "cell_type": "code",
      "metadata": {
        "id": "cpO5nSkcEj7c",
        "colab_type": "code",
        "outputId": "413dcd82-0f52-41e6-b0ec-ddc0d2415d03",
        "colab": {
          "base_uri": "https://localhost:8080/",
          "height": 143
        }
      },
      "source": [
        "# TODO:\n",
        "import pandas as pd # module for dealing with datasets\n",
        "import numpy as np # module for manipulating data\n",
        "\n",
        "df = pd.read_csv(\"icebreaker.csv\") \n",
        "df.head(5) # print first 5 entries"
      ],
      "execution_count": 71,
      "outputs": [
        {
          "output_type": "execute_result",
          "data": {
            "text/html": [
              "<div>\n",
              "<style scoped>\n",
              "    .dataframe tbody tr th:only-of-type {\n",
              "        vertical-align: middle;\n",
              "    }\n",
              "\n",
              "    .dataframe tbody tr th {\n",
              "        vertical-align: top;\n",
              "    }\n",
              "\n",
              "    .dataframe thead th {\n",
              "        text-align: right;\n",
              "    }\n",
              "</style>\n",
              "<table border=\"1\" class=\"dataframe\">\n",
              "  <thead>\n",
              "    <tr style=\"text-align: right;\">\n",
              "      <th></th>\n",
              "      <th>Name</th>\n",
              "      <th>Prefered Name</th>\n",
              "      <th>Grade</th>\n",
              "      <th>Country</th>\n",
              "      <th>Wake Up Time</th>\n",
              "      <th>Travel Time (mins)</th>\n",
              "      <th>Mode of transportation</th>\n",
              "    </tr>\n",
              "  </thead>\n",
              "  <tbody>\n",
              "    <tr>\n",
              "      <th>0</th>\n",
              "      <td>Nikola</td>\n",
              "      <td>Nikola</td>\n",
              "      <td>17</td>\n",
              "      <td>Hong Kong</td>\n",
              "      <td>8.5</td>\n",
              "      <td>20</td>\n",
              "      <td>Train</td>\n",
              "    </tr>\n",
              "    <tr>\n",
              "      <th>1</th>\n",
              "      <td>Student's T</td>\n",
              "      <td>Distribution</td>\n",
              "      <td>25</td>\n",
              "      <td>England</td>\n",
              "      <td>1937.0</td>\n",
              "      <td>50</td>\n",
              "      <td>Concord</td>\n",
              "    </tr>\n",
              "    <tr>\n",
              "      <th>2</th>\n",
              "      <td>Akshaj</td>\n",
              "      <td>Akshaj</td>\n",
              "      <td>19</td>\n",
              "      <td>India</td>\n",
              "      <td>6.5</td>\n",
              "      <td>25</td>\n",
              "      <td>Train</td>\n",
              "    </tr>\n",
              "  </tbody>\n",
              "</table>\n",
              "</div>"
            ],
            "text/plain": [
              "          Name Prefered Name  ...  Travel Time (mins) Mode of transportation\n",
              "0       Nikola        Nikola  ...                  20                  Train\n",
              "1  Student's T  Distribution  ...                  50                Concord\n",
              "2      Akshaj         Akshaj  ...                  25                  Train\n",
              "\n",
              "[3 rows x 7 columns]"
            ]
          },
          "metadata": {
            "tags": []
          },
          "execution_count": 71
        }
      ]
    },
    {
      "cell_type": "markdown",
      "metadata": {
        "id": "0NPKNy3qMxuV",
        "colab_type": "text"
      },
      "source": [
        "We'll just take the names and travel time from the dataset for now."
      ]
    },
    {
      "cell_type": "code",
      "metadata": {
        "id": "vi7QsZ9wKy1F",
        "colab_type": "code",
        "colab": {
          "base_uri": "https://localhost:8080/",
          "height": 34
        },
        "outputId": "615b159e-a6ae-4242-d652-6aba7eb299e2"
      },
      "source": [
        "# TODO:\n",
        "names        = df['Name'].values\n",
        "travel_times = df['Travel Time (mins)'].values\n",
        "print(travel_times)"
      ],
      "execution_count": 73,
      "outputs": [
        {
          "output_type": "stream",
          "text": [
            "[20 50 25]\n"
          ],
          "name": "stdout"
        }
      ]
    },
    {
      "cell_type": "markdown",
      "metadata": {
        "id": "PsJ7DbEwZqs1",
        "colab_type": "text"
      },
      "source": [
        "## Plotting the data as a histogram with Matplotlib"
      ]
    },
    {
      "cell_type": "code",
      "metadata": {
        "id": "U08T5rCRZvU4",
        "colab_type": "code",
        "outputId": "cf755884-a452-49d8-d48d-46cd5dd90973",
        "colab": {
          "base_uri": "https://localhost:8080/",
          "height": 329
        }
      },
      "source": [
        "# TODO:\n",
        "import matplotlib\n",
        "import matplotlib.pyplot as plt\n",
        "%matplotlib inline\n",
        "\n",
        "plt.bar(names, travel_times)\n",
        "plt.xticks(names, rotation=70)\n",
        "plt.xlabel('Name')\n",
        "plt.ylabel('Travel Time (mins)');"
      ],
      "execution_count": 0,
      "outputs": [
        {
          "output_type": "display_data",
          "data": {
            "image/png": "[encoded data removed]",
            "text/plain": [
              "<Figure size 432x288 with 1 Axes>"
            ]
          },
          "metadata": {
            "tags": []
          }
        }
      ]
    },
    {
      "cell_type": "markdown",
      "metadata": {
        "id": "WDdQk1TLNgje",
        "colab_type": "text"
      },
      "source": [
        "## Logical Indexing\n",
        "We can look at specific elements of an array that meet a condition: ```>, <, >=, <=, ==, !=```\n",
        "\n",
        "Use this to count the number of people that took trains, buses, cars, bikes or walked to class."
      ]
    },
    {
      "cell_type": "code",
      "metadata": {
        "id": "PdAii8FvNfTs",
        "colab_type": "code",
        "outputId": "fa40803b-55b3-4d41-fa0e-c1fb663412cf",
        "colab": {
          "base_uri": "https://localhost:8080/",
          "height": 369
        }
      },
      "source": [
        "# TODO:\n",
        "transport = df['Mode of transportation'].values\n",
        "\n",
        "# getting logical values from comparison operation\n",
        "print(transport=='Train')\n",
        "# True and False are treated as 1 and 0\n",
        "print(np.sum(transport=='Train'))\n",
        "# actual logical indexing (indexing with booleans)\n",
        "print(names[transport=='Train'])\n",
        "\n",
        "modes = ['Train','Bus','Walk','Bike','Car']\n",
        "# python shortform to make array \n",
        "count = np.array([np.sum(transport==m) for m in modes])\n",
        "print(count)\n",
        "\n",
        "plt.bar(modes, count)\n",
        "plt.xticks(modes, rotation=70)\n",
        "plt.xlabel('Mode of Transport')\n",
        "plt.ylabel('Count')\n",
        "plt.yticks(np.arange(np.max(count)+1));"
      ],
      "execution_count": 0,
      "outputs": [
        {
          "output_type": "stream",
          "text": [
            "[ True False  True]\n",
            "2\n",
            "['Nikola' 'Akshaj ']\n",
            "[2 0 0 0 0]\n"
          ],
          "name": "stdout"
        },
        {
          "output_type": "display_data",
          "data": {
            "image/png": "[encoded data removed]",
            "text/plain": [
              "<Figure size 432x288 with 1 Axes>"
            ]
          },
          "metadata": {
            "tags": []
          }
        }
      ]
    },
    {
      "cell_type": "markdown",
      "metadata": {
        "id": "V5iOmgrhQ1KB",
        "colab_type": "text"
      },
      "source": [
        "# M5: *Demo*: Vectors and Matrices with Numpy"
      ]
    },
    {
      "cell_type": "markdown",
      "metadata": {
        "id": "ma60xjHSYz9u",
        "colab_type": "text"
      },
      "source": [
        "## Vectors"
      ]
    },
    {
      "cell_type": "code",
      "metadata": {
        "id": "RsEy03jgQ_EH",
        "colab_type": "code",
        "outputId": "83e9bc64-e488-4114-e604-772b07ab960e",
        "colab": {
          "base_uri": "https://localhost:8080/",
          "height": 104
        }
      },
      "source": [
        "# TODO:\n",
        "import numpy as np\n",
        "v = np.array([1,5,2,9])\n",
        "u = np.array([3,6,0,-5])\n",
        "\n",
        "# vector addition\n",
        "print(\"v+u = \", v+u)\n",
        "\n",
        "# vector scaling\n",
        "print(\"3v = \", 3*v)\n",
        "\n",
        "# Dot-Product\n",
        "print(\"u dot v = \", np.dot(u,v))\n",
        "\n",
        "# Length / L2 Norm of a vector\n",
        "print(\"sqrt(v dot v) = %.2f\" % np.sqrt(np.dot(v,v)))\n",
        "print(\"||v|| = %.2f\" % np.linalg.norm(v))"
      ],
      "execution_count": 0,
      "outputs": [
        {
          "output_type": "stream",
          "text": [
            "v+u =  [ 4 11  2  4]\n",
            "3v =  [ 3 15  6 27]\n",
            "u dot v =  -12\n",
            "sqrt(v dot v) = 10.54\n",
            "||v|| = 10.54\n"
          ],
          "name": "stdout"
        }
      ]
    },
    {
      "cell_type": "markdown",
      "metadata": {
        "id": "JCaDwx4G74lY",
        "colab_type": "text"
      },
      "source": [
        "## Matrices"
      ]
    },
    {
      "cell_type": "code",
      "metadata": {
        "id": "CytRX0U878m5",
        "colab_type": "code",
        "outputId": "f4a9d1cf-b1da-4083-81dd-d0ad50d3ce67",
        "colab": {
          "base_uri": "https://localhost:8080/",
          "height": 173
        }
      },
      "source": [
        "# TODO:\n",
        "\n",
        "M = np.array([ [1,9,-12], [15, -2, 0] ])\n",
        "print(\"M = \", M.shape)\n",
        "print(M)\n",
        "\n",
        "# matrix addition\n",
        "A = np.array([ [1, 1], [2, 1] ])\n",
        "B = np.array([ [0, 8], [7, 11] ])\n",
        "print(\"A+B = \\n\", A+B) # '\\n' is the newline character\n",
        "\n",
        "# matrix scaling\n",
        "a = 5\n",
        "print(\"aB = \\n\", a*B)"
      ],
      "execution_count": 0,
      "outputs": [
        {
          "output_type": "stream",
          "text": [
            "M =  (2, 3)\n",
            "[[  1   9 -12]\n",
            " [ 15  -2   0]]\n",
            "A+B = \n",
            " [[ 1  9]\n",
            " [ 9 12]]\n",
            "aB = \n",
            " [[ 0 40]\n",
            " [35 55]]\n"
          ],
          "name": "stdout"
        }
      ]
    },
    {
      "cell_type": "markdown",
      "metadata": {
        "id": "wLZH8cmB9K7t",
        "colab_type": "text"
      },
      "source": [
        "## More About Matrices"
      ]
    },
    {
      "cell_type": "code",
      "metadata": {
        "id": "cARjL-3x9Mve",
        "colab_type": "code",
        "outputId": "c14f6d2d-da90-4f11-a107-bfb1d8a849ab",
        "colab": {
          "base_uri": "https://localhost:8080/",
          "height": 208
        }
      },
      "source": [
        "# TODO:\n",
        "\n",
        "# matrix multiplicaiton\n",
        "print(\"shapes of A and M:\", A.shape, M.shape)\n",
        "C = np.matmul(A,M)\n",
        "print(\"C = \\n\", C)\n",
        "\n",
        "# matrix transpose\n",
        "print(\"M^T = \\n\", np.transpose(M))\n",
        "\n",
        "# matrix inverse\n",
        "print(\"A^-1 = \\n\", np.linalg.inv(A))"
      ],
      "execution_count": 0,
      "outputs": [
        {
          "output_type": "stream",
          "text": [
            "shapes of A and M: (2, 2) (2, 3)\n",
            "C = \n",
            " [[ 16   7 -12]\n",
            " [ 17  16 -24]]\n",
            "M^T = \n",
            " [[  1  15]\n",
            " [  9  -2]\n",
            " [-12   0]]\n",
            "A^-1 = \n",
            " [[-1.  1.]\n",
            " [ 2. -1.]]\n"
          ],
          "name": "stdout"
        }
      ]
    },
    {
      "cell_type": "markdown",
      "metadata": {
        "id": "OjmoLYhseXw8",
        "colab_type": "text"
      },
      "source": [
        "## Vectors and Matrices"
      ]
    },
    {
      "cell_type": "code",
      "metadata": {
        "id": "juyiZT5jeapx",
        "colab_type": "code",
        "outputId": "85615d2c-ce14-4994-b8f0-1e0d30bad36f",
        "colab": {
          "base_uri": "https://localhost:8080/",
          "height": 156
        }
      },
      "source": [
        "# TODO:\n",
        "\n",
        "v = np.array([1,5,2,9])\n",
        "\n",
        "# v\n",
        "print(\"v\", v.shape, \" = \", v)\n",
        "\n",
        "# row vector v\n",
        "v = v.reshape(1,-1) # shape -1 in np.reshape means value is infered\n",
        "print(\"row vector v\", v.shape, \" = \",  v) \n",
        "\n",
        "# column vector v\n",
        "v = v.reshape(-1,1)\n",
        "print(\"col vector v\", v.shape, \" = \\n\",  v) \n",
        "\n",
        "# dot product as matrix multiplication\n",
        "print(\"v dot v =\", np.matmul(np.transpose(v), v))"
      ],
      "execution_count": 0,
      "outputs": [
        {
          "output_type": "stream",
          "text": [
            "v (4,)  =  [1 5 2 9]\n",
            "row vector v (1, 4)  =  [[1 5 2 9]]\n",
            "col vector v (4, 1)  = \n",
            " [[1]\n",
            " [5]\n",
            " [2]\n",
            " [9]]\n",
            "v dot v = [[111]]\n"
          ],
          "name": "stdout"
        }
      ]
    },
    {
      "cell_type": "markdown",
      "metadata": {
        "id": "wIDLiCh2hPQl",
        "colab_type": "text"
      },
      "source": [
        "## Manipulating our IceBreaker Data\n",
        "It is often useful to put our feature vectors into a matrix"
      ]
    },
    {
      "cell_type": "code",
      "metadata": {
        "id": "COHSk6q1hY6y",
        "colab_type": "code",
        "outputId": "c07e7927-7c5d-413c-d1ec-bc085739da54",
        "colab": {
          "base_uri": "https://localhost:8080/",
          "height": 243
        }
      },
      "source": [
        "# TODO:\n",
        "\n",
        "# we can stack the vectors we've already extracted from the dataframe\n",
        "A = np.hstack([names.reshape(-1,1),\n",
        "               wakeup_times.reshape(-1,1),\n",
        "               travel_times.reshape(-1,1),\n",
        "               transport.reshape(-1,1)\n",
        "              ])\n",
        "print(A)\n",
        "\n",
        "# or we can get the matrix that pandas returns automatically and slice it\n",
        "A = df.values\n",
        "print(\"\\n\",A)\n",
        "\n",
        "# slicing the matrix (choosing specific columns)\n",
        "A = A[:,[0,4,5,6]]\n",
        "print(\"\\n\",A)\n",
        "\n",
        "# chosing a specific row\n",
        "print(\"\\n\",A[2,:])"
      ],
      "execution_count": 0,
      "outputs": [
        {
          "output_type": "stream",
          "text": [
            "[['Nikola' 8.5 20 'Train']\n",
            " [\"Student's T\" 1937.0 50 'Concord']\n",
            " ['Akshaj ' 6.5 25 'Train']]\n",
            "\n",
            " [['Nikola' 'Nikola' 17 'Hong Kong' 8.5 20 'Train']\n",
            " [\"Student's T\" 'Distribution' 25 'England' 1937.0 50 'Concord']\n",
            " ['Akshaj ' 'Akshaj' 19 'India' 6.5 25 'Train']]\n",
            "\n",
            " [['Nikola' 8.5 20 'Train']\n",
            " [\"Student's T\" 1937.0 50 'Concord']\n",
            " ['Akshaj ' 6.5 25 'Train']]\n",
            "\n",
            " ['Akshaj ' 6.5 25 'Train']\n"
          ],
          "name": "stdout"
        }
      ]
    },
    {
      "cell_type": "markdown",
      "metadata": {
        "id": "g4iGWX9TRSJA",
        "colab_type": "text"
      },
      "source": [
        "# M6: *Demo*: Sample Mean and Variance\n"
      ]
    },
    {
      "cell_type": "markdown",
      "metadata": {
        "id": "yrIPGSQsF-Zy",
        "colab_type": "text"
      },
      "source": [
        "## Lecture Demo calculations:\n",
        "### Using for-loops:"
      ]
    },
    {
      "cell_type": "code",
      "metadata": {
        "id": "wyhW7WEMBmTP",
        "colab_type": "code",
        "outputId": "a47bb361-d070-427a-cdf6-8acd0c642582",
        "colab": {
          "base_uri": "https://localhost:8080/",
          "height": 52
        }
      },
      "source": [
        "# TODO:\n",
        "x = np.array([3.6, 4.0, 3.7, 3.75, 3.9, 4.0, 3.65])\n",
        "N = len(x)\n",
        "\n",
        "xbar = 0;\n",
        "for i in range(len(x)):\n",
        "  xbar = xbar + x[i]\n",
        "xbar = xbar/N\n",
        "\n",
        "xvar = 0;\n",
        "for i in range(len(x)):\n",
        "  xvar = xvar + (x[i]-xbar)**2\n",
        "xvar = xvar/N\n",
        "\n",
        "def print_func(mean,var):\n",
        "  print(\"mean: %.2f\" % mean)\n",
        "  print(\"variance: %.2f\" % var)\n",
        "  \n",
        "print_func(xbar,xvar)"
      ],
      "execution_count": 0,
      "outputs": [
        {
          "output_type": "stream",
          "text": [
            "mean: 3.80\n",
            "variance: 0.02\n"
          ],
          "name": "stdout"
        }
      ]
    },
    {
      "cell_type": "markdown",
      "metadata": {
        "id": "YVlpNkgyBktR",
        "colab_type": "text"
      },
      "source": [
        "### Using Numpy functions"
      ]
    },
    {
      "cell_type": "code",
      "metadata": {
        "id": "6YPBjGtMGFn_",
        "colab_type": "code",
        "outputId": "20f27f95-5663-4c24-b005-2e5a6e9345fe",
        "colab": {
          "base_uri": "https://localhost:8080/",
          "height": 52
        }
      },
      "source": [
        "# TODO:\n",
        "mean = np.mean(x)\n",
        "var = np.var(x)\n",
        "\n",
        "print_func(mean,var)"
      ],
      "execution_count": 0,
      "outputs": [
        {
          "output_type": "stream",
          "text": [
            "mean: 3.80\n",
            "variance: 0.02\n"
          ],
          "name": "stdout"
        }
      ]
    },
    {
      "cell_type": "markdown",
      "metadata": {
        "id": "G-fkwjxPUs34",
        "colab_type": "text"
      },
      "source": [
        "## Stats on our Data\n",
        "Now, looking back at our icebreaker data. What are the statistics on our classes wakeup time? Travel time? Can we visualize how they're related? What kind of plot should we use?"
      ]
    },
    {
      "cell_type": "code",
      "metadata": {
        "id": "n0Vod3mpSqTS",
        "colab_type": "code",
        "outputId": "9d92ca49-b359-4c07-dbda-ed18b2e52c39",
        "colab": {
          "base_uri": "https://localhost:8080/",
          "height": 352
        }
      },
      "source": [
        "# TODO: \n",
        "\n",
        "wakeup_times = df['Wake Up Time'].values\n",
        "\n",
        "print_func(np.mean(wakeup_times), np.var(wakeup_times))\n",
        "print_func(np.mean(travel_times), np.var(travel_times))\n",
        "\n",
        "# what happens if we don't use the 'ob' options when plotting?\n",
        "plt.plot(travel_times, wakeup_times, 'ob', markeredgecolor='black')\n",
        "plt.xlabel('Travel Time (mins)')\n",
        "plt.ylabel('Wake Up Time (hr)');"
      ],
      "execution_count": 0,
      "outputs": [
        {
          "output_type": "stream",
          "text": [
            "mean: 650.67\n",
            "variance: 827327.39\n",
            "mean: 31.67\n",
            "variance: 172.22\n"
          ],
          "name": "stdout"
        },
        {
          "output_type": "display_data",
          "data": {
            "image/png": "[encoded data removed]",
            "text/plain": [
              "<Figure size 432x288 with 1 Axes>"
            ]
          },
          "metadata": {
            "tags": []
          }
        }
      ]
    },
    {
      "cell_type": "markdown",
      "metadata": {
        "id": "-v2bopw1WF1s",
        "colab_type": "text"
      },
      "source": [
        "# M7: *Lab*: Plotting Functions\n"
      ]
    },
    {
      "cell_type": "markdown",
      "metadata": {
        "id": "mz9t6lrtX4jJ",
        "colab_type": "text"
      },
      "source": [
        "- This lab requires you to search for the documentation of python, numpy, and matplotlib functions\n",
        "- Use numpy to generate the following functions:\n",
        "  - Sine-wave\n",
        "  - Polynomial\n",
        "  - Bell-curve (a.k.a Normal or Gaussian distribution)\n",
        "- Plot the graphs using matplotlib\n",
        "- *Hints*: \n",
        "  - Pick an interval to plot over first, ex. [-1,1]. \n",
        "  - Look into ```np.pi```, ```np.sin()```, ```np.exp()```, and ```np.linspace()``` (ie. google for the documentation of these functions)"
      ]
    },
    {
      "cell_type": "code",
      "metadata": {
        "id": "Faj_9r7MT7Wu",
        "colab_type": "code",
        "outputId": "31765435-5221-421a-b319-7c7794881412",
        "colab": {
          "base_uri": "https://localhost:8080/",
          "height": 283
        }
      },
      "source": [
        "# TODO:\n",
        "import numpy as np\n",
        "\n",
        "x = np.linspace(-1,1,100)\n",
        "\n",
        "y1 = np.sin(2*np.pi*x)\n",
        "\n",
        "y2 = x**3\n",
        "\n",
        "y3 = np.exp(-x**2/(2*.1)) / np.sqrt(2*np.pi*.1)\n",
        "\n",
        "plt.plot(x,y1,x,y2,x,y3)\n",
        "plt.xlabel('x')\n",
        "plt.ylabel('y')\n",
        "plt.legend(['Sine','Polynomial','Bell'])\n",
        "plt.grid();\n",
        "plt.savefig(\"funcs.png\")"
      ],
      "execution_count": 0,
      "outputs": [
        {
          "output_type": "display_data",
          "data": {
            "image/png": "[encoded data removed]",
            "text/plain": [
              "<Figure size 432x288 with 1 Axes>"
            ]
          },
          "metadata": {
            "tags": []
          }
        }
      ]
    },
    {
      "cell_type": "markdown",
      "metadata": {
        "id": "U7CYZFjHcpPm",
        "colab_type": "text"
      },
      "source": [
        "## Mean and Variance\n",
        "What are the mean and variance of your functions over the plotted range?\n",
        "\n",
        "Compute the answers in code. Talk with your neighbors about why this is the case.\n"
      ]
    },
    {
      "cell_type": "code",
      "metadata": {
        "id": "1ThCUme_bdXL",
        "colab_type": "code",
        "outputId": "e357aaf5-bb36-47b1-843f-1835787072ac",
        "colab": {
          "base_uri": "https://localhost:8080/",
          "height": 121
        }
      },
      "source": [
        "# TODO:\n",
        "\n",
        "for y in [y1,y2,y3]:\n",
        "  print_func(np.mean(y), np.var(y))"
      ],
      "execution_count": 0,
      "outputs": [
        {
          "output_type": "stream",
          "text": [
            "mean: -0.00\n",
            "variance: 0.49\n",
            "mean: 0.00\n",
            "variance: 0.15\n",
            "mean: 0.49\n",
            "variance: 0.20\n"
          ],
          "name": "stdout"
        }
      ]
    }
  ]
}