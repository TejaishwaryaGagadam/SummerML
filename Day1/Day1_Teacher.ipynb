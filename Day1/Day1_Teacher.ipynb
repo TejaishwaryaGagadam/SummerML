{
  "nbformat": 4,
  "nbformat_minor": 0,
  "metadata": {
    "colab": {
      "name": "Day1_Teacher.ipynb",
      "version": "0.3.2",
      "provenance": [],
      "collapsed_sections": [],
      "toc_visible": true,
      "include_colab_link": true
    },
    "kernelspec": {
      "name": "python3",
      "display_name": "Python 3"
    }
  },
  "cells": [
    {
      "cell_type": "markdown",
      "metadata": {
        "id": "view-in-github",
        "colab_type": "text"
      },
      "source": [
        "<a href=\"https://colab.research.google.com/github/nikopj/SummerML/blob/master/Day1/Day1_Teacher.ipynb\" target=\"_parent\"><img src=\"https://colab.research.google.com/assets/colab-badge.svg\" alt=\"Open In Colab\"/></a>"
      ]
    },
    {
      "cell_type": "markdown",
      "metadata": {
        "id": "yspmGzoPGgGW",
        "colab_type": "text"
      },
      "source": [
        "# Day 1: Introduction to Machine Learning\n",
        "## Module Outline:\n",
        "- M4: *Demo*: Ice-Breaker Data Visualization\n",
        "- M5: *Demo*: Vectors and Matrices\n",
        "- M6: *Demo*: Mean and Variance\n",
        "- M7: *Lab*: Plotting Functions\n"
      ]
    },
    {
      "cell_type": "markdown",
      "metadata": {
        "id": "JGRy8nvRH7ps",
        "colab_type": "text"
      },
      "source": [
        "# M4: *Demo*: Ice-Breaker Data Visualization\n",
        "After checking out[ the data](https://docs.google.com/spreadsheets/d/18UkL5ydpiZBtAHllD5MqqnEp0alwuXOgl9GYYM3_A7E/edit?usp=sharing) in a spreadsheets, download it as a CSV file. Then upload the file in the Colab sidebar (under the files tab)"
      ]
    },
    {
      "cell_type": "markdown",
      "metadata": {
        "id": "0NPKNy3qMxuV",
        "colab_type": "text"
      },
      "source": [
        "We'll just take the names and travel time from the dataset for now."
      ]
    },
    {
      "cell_type": "code",
      "metadata": {
        "id": "cpO5nSkcEj7c",
        "colab_type": "code",
        "outputId": "0032a83e-f9ea-432d-dd18-2c209531042e",
        "colab": {
          "base_uri": "https://localhost:8080/",
          "height": 206
        }
      },
      "source": [
        "# TODO:\n",
        "import pandas as pd # module for dealing with datasets\n",
        "import numpy as np # module for manipulating data\n",
        "\n",
        "df = pd.read_csv(\"icebreaker2.csv\") \n",
        "df.head(5) # print first 5 entries"
      ],
      "execution_count": 2,
      "outputs": [
        {
          "output_type": "execute_result",
          "data": {
            "text/html": [
              "<div>\n",
              "<style scoped>\n",
              "    .dataframe tbody tr th:only-of-type {\n",
              "        vertical-align: middle;\n",
              "    }\n",
              "\n",
              "    .dataframe tbody tr th {\n",
              "        vertical-align: top;\n",
              "    }\n",
              "\n",
              "    .dataframe thead th {\n",
              "        text-align: right;\n",
              "    }\n",
              "</style>\n",
              "<table border=\"1\" class=\"dataframe\">\n",
              "  <thead>\n",
              "    <tr style=\"text-align: right;\">\n",
              "      <th></th>\n",
              "      <th>Name</th>\n",
              "      <th>Prefered Name</th>\n",
              "      <th>Grade</th>\n",
              "      <th>Country</th>\n",
              "      <th>Wake Up Time</th>\n",
              "      <th>Travel Time (mins)</th>\n",
              "      <th>Mode of transportation</th>\n",
              "    </tr>\n",
              "  </thead>\n",
              "  <tbody>\n",
              "    <tr>\n",
              "      <th>0</th>\n",
              "      <td>Ibrahim</td>\n",
              "      <td>Ibrahim</td>\n",
              "      <td>12</td>\n",
              "      <td>North Virginia</td>\n",
              "      <td>6.50</td>\n",
              "      <td>5</td>\n",
              "      <td>Walk</td>\n",
              "    </tr>\n",
              "    <tr>\n",
              "      <th>1</th>\n",
              "      <td>Jake Trock</td>\n",
              "      <td>Jake Trock</td>\n",
              "      <td>12</td>\n",
              "      <td>Conneticut</td>\n",
              "      <td>7.00</td>\n",
              "      <td>5</td>\n",
              "      <td>Walk</td>\n",
              "    </tr>\n",
              "    <tr>\n",
              "      <th>2</th>\n",
              "      <td>Justin</td>\n",
              "      <td>Justin</td>\n",
              "      <td>12</td>\n",
              "      <td>Conneticut</td>\n",
              "      <td>6.75</td>\n",
              "      <td>60</td>\n",
              "      <td>Car</td>\n",
              "    </tr>\n",
              "    <tr>\n",
              "      <th>3</th>\n",
              "      <td>Nina</td>\n",
              "      <td>Nina</td>\n",
              "      <td>10</td>\n",
              "      <td>New York</td>\n",
              "      <td>7.75</td>\n",
              "      <td>20</td>\n",
              "      <td>Train</td>\n",
              "    </tr>\n",
              "    <tr>\n",
              "      <th>4</th>\n",
              "      <td>Abhinav</td>\n",
              "      <td>Abhinav</td>\n",
              "      <td>12</td>\n",
              "      <td>India</td>\n",
              "      <td>6.75</td>\n",
              "      <td>15</td>\n",
              "      <td>Walk</td>\n",
              "    </tr>\n",
              "  </tbody>\n",
              "</table>\n",
              "</div>"
            ],
            "text/plain": [
              "         Name Prefered Name  ...  Travel Time (mins) Mode of transportation\n",
              "0     Ibrahim       Ibrahim  ...                   5                   Walk\n",
              "1  Jake Trock    Jake Trock  ...                   5                   Walk\n",
              "2      Justin        Justin  ...                  60                    Car\n",
              "3        Nina          Nina  ...                  20                  Train\n",
              "4     Abhinav       Abhinav  ...                  15                   Walk\n",
              "\n",
              "[5 rows x 7 columns]"
            ]
          },
          "metadata": {
            "tags": []
          },
          "execution_count": 2
        }
      ]
    },
    {
      "cell_type": "code",
      "metadata": {
        "id": "vi7QsZ9wKy1F",
        "colab_type": "code",
        "outputId": "9dd2dbb5-ec25-4a11-f341-48ce7275d58e",
        "colab": {
          "base_uri": "https://localhost:8080/",
          "height": 52
        }
      },
      "source": [
        "# TODO:\n",
        "names        = df['Name'].values\n",
        "travel_times = df['Travel Time (mins)'].values\n",
        "print(travel_times)"
      ],
      "execution_count": 3,
      "outputs": [
        {
          "output_type": "stream",
          "text": [
            "[  5   5  60  20  15   8   5  45   5  55  45   5  50   5   2   5   5  25\n",
            "   5   5  60 360]\n"
          ],
          "name": "stdout"
        }
      ]
    },
    {
      "cell_type": "markdown",
      "metadata": {
        "id": "PsJ7DbEwZqs1",
        "colab_type": "text"
      },
      "source": [
        "## Plotting the data as a histogram with Matplotlib"
      ]
    },
    {
      "cell_type": "code",
      "metadata": {
        "id": "U08T5rCRZvU4",
        "colab_type": "code",
        "outputId": "49482a8d-7737-4932-8bbe-efafb0ed3991",
        "colab": {
          "base_uri": "https://localhost:8080/",
          "height": 331
        }
      },
      "source": [
        "# TODO:\n",
        "import matplotlib\n",
        "import matplotlib.pyplot as plt\n",
        "%matplotlib inline\n",
        "\n",
        "plt.bar(names, travel_times)\n",
        "plt.xticks(names, rotation=70)\n",
        "plt.xlabel('Name')\n",
        "plt.ylabel('Travel Time (mins)');"
      ],
      "execution_count": 4,
      "outputs": [
        {
          "output_type": "display_data",
          "data": {
            "image/png": "[encoded data removed]",
            "text/plain": [
              "<Figure size 432x288 with 1 Axes>"
            ]
          },
          "metadata": {
            "tags": []
          }
        }
      ]
    },
    {
      "cell_type": "markdown",
      "metadata": {
        "id": "WDdQk1TLNgje",
        "colab_type": "text"
      },
      "source": [
        "## Logical Indexing\n",
        "We can look at specific elements of an array that meet a condition: ```>, <, >=, <=, ==, !=```\n",
        "\n",
        "Use this to count the number of people that took trains, buses, cars, bikes or walked to class."
      ]
    },
    {
      "cell_type": "code",
      "metadata": {
        "id": "PdAii8FvNfTs",
        "colab_type": "code",
        "outputId": "8be50846-7054-4b83-c7cb-a5db8c3d0e69",
        "colab": {
          "base_uri": "https://localhost:8080/",
          "height": 387
        }
      },
      "source": [
        "# TODO:\n",
        "transport = df['Mode of transportation'].values\n",
        "\n",
        "# getting logical values from comparison operation\n",
        "print(transport=='Train')\n",
        "# True and False are treated as 1 and 0\n",
        "print(np.sum(transport=='Train'))\n",
        "# actual logical indexing (indexing with booleans)\n",
        "print(names[transport=='Train'])\n",
        "\n",
        "modes = ['Train','Walk','Car']\n",
        "# python shortform to make array \n",
        "count = np.array([np.sum(transport==m) for m in modes])\n",
        "print(count)\n",
        "\n",
        "plt.bar(modes, count)\n",
        "plt.xticks(modes, rotation=70)\n",
        "plt.xlabel('Mode of Transport')\n",
        "plt.ylabel('Count')\n",
        "plt.yticks(np.arange(np.max(count)+1));"
      ],
      "execution_count": 6,
      "outputs": [
        {
          "output_type": "stream",
          "text": [
            "[False False False  True False False False  True False  True  True False\n",
            "  True False False False False False False False  True False]\n",
            "6\n",
            "['Nina' 'Olaf' 'Andrew' 'Vivaswat' 'Julien' 'Everett']\n",
            "[ 6 14  2]\n"
          ],
          "name": "stdout"
        },
        {
          "output_type": "display_data",
          "data": {
            "image/png": "[encoded data removed]",
            "text/plain": [
              "<Figure size 432x288 with 1 Axes>"
            ]
          },
          "metadata": {
            "tags": []
          }
        }
      ]
    },
    {
      "cell_type": "markdown",
      "metadata": {
        "id": "V5iOmgrhQ1KB",
        "colab_type": "text"
      },
      "source": [
        "# M5: *Demo*: Vectors and Matrices with Numpy"
      ]
    },
    {
      "cell_type": "markdown",
      "metadata": {
        "id": "ma60xjHSYz9u",
        "colab_type": "text"
      },
      "source": [
        "## Vectors"
      ]
    },
    {
      "cell_type": "code",
      "metadata": {
        "id": "RsEy03jgQ_EH",
        "colab_type": "code",
        "outputId": "28d8a125-f151-4fb6-c899-13f337d1b986",
        "colab": {
          "base_uri": "https://localhost:8080/",
          "height": 104
        }
      },
      "source": [
        "# TODO:\n",
        "import numpy as np\n",
        "v = np.array([1,5,2,9])\n",
        "u = np.array([3,6,0,-5])\n",
        "\n",
        "# vector addition\n",
        "print(\"v+u = \", v+u)\n",
        "\n",
        "# vector scaling\n",
        "print(\"3v = \", 3*v)\n",
        "\n",
        "# Dot-Product\n",
        "print(\"u dot v = \", np.dot(u,v))\n",
        "\n",
        "# Length / L2 Norm of a vector\n",
        "print(\"sqrt(v dot v) = %.2f\" % np.sqrt(np.dot(v,v)))\n",
        "print(\"||v|| = %.2f\" % np.linalg.norm(v))"
      ],
      "execution_count": 7,
      "outputs": [
        {
          "output_type": "stream",
          "text": [
            "v+u =  [ 4 11  2  4]\n",
            "3v =  [ 3 15  6 27]\n",
            "u dot v =  -12\n",
            "sqrt(v dot v) = 10.54\n",
            "||v|| = 10.54\n"
          ],
          "name": "stdout"
        }
      ]
    },
    {
      "cell_type": "markdown",
      "metadata": {
        "id": "gwgx6Ma1hrcT",
        "colab_type": "text"
      },
      "source": [
        "## 2D Geometric Conceptualization of Vectors\n"
      ]
    },
    {
      "cell_type": "code",
      "metadata": {
        "id": "gIoyhzDRhzAA",
        "colab_type": "code",
        "outputId": "3cf23fd8-3768-4016-92cf-578cd586a4db",
        "colab": {
          "base_uri": "https://localhost:8080/",
          "height": 269
        }
      },
      "source": [
        "# TODO:\n",
        "v = np.array([1,2])\n",
        "u = np.array([2,1])\n",
        "w = u+v\n",
        "\n",
        "plt.arrow(0,0,u[0],u[1], label='u',\n",
        "                         length_includes_head = True,\n",
        "                         head_width = 0.3,\n",
        "                         head_length=0.3)\n",
        "plt.arrow(0,0,v[0],v[1], label='v',\n",
        "                         length_includes_head = True,\n",
        "                         head_width = 0.3,\n",
        "                         head_length=0.3)\n",
        "plt.arrow(u[0],u[1],v[0],v[1], label='v',\n",
        "                         length_includes_head = True,\n",
        "                         head_width = 0.3,\n",
        "                         head_length=0.3)\n",
        "plt.arrow(0,0,w[0],w[1], label='w=u+v',\n",
        "                         length_includes_head = True,\n",
        "                         head_width = 0.3,\n",
        "                         head_length=0.3)\n",
        "plt.xlim([-1,4])\n",
        "plt.ylim([-1,4])\n",
        "plt.grid();"
      ],
      "execution_count": 8,
      "outputs": [
        {
          "output_type": "display_data",
          "data": {
            "image/png": "[encoded data removed]",
            "text/plain": [
              "<Figure size 432x288 with 1 Axes>"
            ]
          },
          "metadata": {
            "tags": []
          }
        }
      ]
    },
    {
      "cell_type": "markdown",
      "metadata": {
        "id": "JCaDwx4G74lY",
        "colab_type": "text"
      },
      "source": [
        "## Matrices"
      ]
    },
    {
      "cell_type": "code",
      "metadata": {
        "id": "CytRX0U878m5",
        "colab_type": "code",
        "outputId": "e5dc4f92-5390-4622-de99-c1d67fa44a38",
        "colab": {
          "base_uri": "https://localhost:8080/",
          "height": 173
        }
      },
      "source": [
        "# TODO:\n",
        "\n",
        "M = np.array([ [1,9,-12], [15, -2, 0] ])\n",
        "print(\"M = \", M.shape)\n",
        "print(M)\n",
        "\n",
        "# matrix addition\n",
        "A = np.array([ [1, 1], [2, 1] ])\n",
        "B = np.array([ [0, 8], [7, 11] ])\n",
        "print(\"A+B = \\n\", A+B) # '\\n' is the newline character\n",
        "\n",
        "# matrix scaling\n",
        "a = 5\n",
        "print(\"aB = \\n\", a*B)"
      ],
      "execution_count": 9,
      "outputs": [
        {
          "output_type": "stream",
          "text": [
            "M =  (2, 3)\n",
            "[[  1   9 -12]\n",
            " [ 15  -2   0]]\n",
            "A+B = \n",
            " [[ 1  9]\n",
            " [ 9 12]]\n",
            "aB = \n",
            " [[ 0 40]\n",
            " [35 55]]\n"
          ],
          "name": "stdout"
        }
      ]
    },
    {
      "cell_type": "markdown",
      "metadata": {
        "id": "wLZH8cmB9K7t",
        "colab_type": "text"
      },
      "source": [
        "## More About Matrices"
      ]
    },
    {
      "cell_type": "code",
      "metadata": {
        "id": "cARjL-3x9Mve",
        "colab_type": "code",
        "outputId": "3a0f42ca-4d13-413f-b856-da49cf299ef1",
        "colab": {
          "base_uri": "https://localhost:8080/",
          "height": 208
        }
      },
      "source": [
        "# TODO:\n",
        "\n",
        "# matrix multiplicaiton\n",
        "print(\"shapes of A and M:\", A.shape, M.shape)\n",
        "C = np.matmul(A,M)\n",
        "print(\"C = \\n\", C)\n",
        "\n",
        "# matrix transpose\n",
        "print(\"M^T = \\n\", np.transpose(M))\n",
        "\n",
        "# matrix inverse\n",
        "print(\"A^-1 = \\n\", np.linalg.inv(A))"
      ],
      "execution_count": 10,
      "outputs": [
        {
          "output_type": "stream",
          "text": [
            "shapes of A and M: (2, 2) (2, 3)\n",
            "C = \n",
            " [[ 16   7 -12]\n",
            " [ 17  16 -24]]\n",
            "M^T = \n",
            " [[  1  15]\n",
            " [  9  -2]\n",
            " [-12   0]]\n",
            "A^-1 = \n",
            " [[-1.  1.]\n",
            " [ 2. -1.]]\n"
          ],
          "name": "stdout"
        }
      ]
    },
    {
      "cell_type": "markdown",
      "metadata": {
        "id": "OjmoLYhseXw8",
        "colab_type": "text"
      },
      "source": [
        "## Vectors and Matrices"
      ]
    },
    {
      "cell_type": "code",
      "metadata": {
        "id": "juyiZT5jeapx",
        "colab_type": "code",
        "outputId": "dd74afcf-7eb8-4628-8691-cff170020df5",
        "colab": {
          "base_uri": "https://localhost:8080/",
          "height": 347
        }
      },
      "source": [
        "# TODO:\n",
        "\n",
        "v = np.array([1,5,2,9])\n",
        "\n",
        "# v\n",
        "print(\"v\", v.shape, \" = \", v)\n",
        "\n",
        "# row vector v\n",
        "v = v.reshape(1,-1) # shape -1 in np.reshape means value is infered\n",
        "print(\"row vector v\", v.shape, \" = \",  v) \n",
        "\n",
        "# column vector v\n",
        "v = v.reshape(-1,1)\n",
        "print(\"col vector v\", v.shape, \" = \\n\",  v) \n",
        "\n",
        "# matrix vector multiplication\n",
        "u = np.array([1,2]).reshape(-1,1)\n",
        "A = np.array([[2,0],[0,1],[1,1]])\n",
        "print(\"u\", u.shape, \" = \\n\", u)\n",
        "print(\"A\", A.shape, \" = \\n\", A)\n",
        "print(\"Au = \\n\", np.matmul(A,u))\n",
        "\n",
        "# dot product as matrix multiplication\n",
        "print(\"v dot v =\", np.matmul(np.transpose(v), v))"
      ],
      "execution_count": 11,
      "outputs": [
        {
          "output_type": "stream",
          "text": [
            "v (4,)  =  [1 5 2 9]\n",
            "row vector v (1, 4)  =  [[1 5 2 9]]\n",
            "col vector v (4, 1)  = \n",
            " [[1]\n",
            " [5]\n",
            " [2]\n",
            " [9]]\n",
            "u (2, 1)  = \n",
            " [[1]\n",
            " [2]]\n",
            "A (3, 2)  = \n",
            " [[2 0]\n",
            " [0 1]\n",
            " [1 1]]\n",
            "Au = \n",
            " [[2]\n",
            " [2]\n",
            " [3]]\n",
            "v dot v = [[111]]\n"
          ],
          "name": "stdout"
        }
      ]
    },
    {
      "cell_type": "markdown",
      "metadata": {
        "id": "wIDLiCh2hPQl",
        "colab_type": "text"
      },
      "source": [
        "## Manipulating our IceBreaker Data\n",
        "It is often useful to put our feature vectors into a matrix"
      ]
    },
    {
      "cell_type": "code",
      "metadata": {
        "id": "COHSk6q1hY6y",
        "colab_type": "code",
        "outputId": "d21eb81d-4e63-47d7-b858-af5681afe003",
        "colab": {
          "base_uri": "https://localhost:8080/",
          "height": 1233
        }
      },
      "source": [
        "# TODO:\n",
        "\n",
        "wakeup_times = df['Wake Up Time'].values\n",
        "\n",
        "# we can stack the vectors we've already extracted from the dataframe\n",
        "A = np.hstack([names.reshape(-1,1),\n",
        "               wakeup_times.reshape(-1,1),\n",
        "               travel_times.reshape(-1,1),\n",
        "               transport.reshape(-1,1)\n",
        "              ])\n",
        "print(A)\n",
        "\n",
        "# or we can get the matrix that pandas returns automatically and slice it\n",
        "A = df.values\n",
        "print(\"\\n\",A)\n",
        "\n",
        "# slicing the matrix (choosing specific columns)\n",
        "A = A[:,[0,4,5,6]]\n",
        "print(\"\\n\",A)\n",
        "\n",
        "# chosing a specific row\n",
        "print(\"\\n\",A[2,:])"
      ],
      "execution_count": 13,
      "outputs": [
        {
          "output_type": "stream",
          "text": [
            "[['Ibrahim' 6.5 5 'Walk']\n",
            " ['Jake Trock' 7.0 5 'Walk']\n",
            " ['Justin' 6.75 60 'Car']\n",
            " ['Nina' 7.75 20 'Train']\n",
            " ['Abhinav' 6.75 15 'Walk']\n",
            " ['Tony' 7.0 8 'Walk']\n",
            " ['Tom' 7.5 5 'Walk']\n",
            " ['Olaf' 7.0 45 'Train']\n",
            " ['Andrew' 7.4 5 'Walk']\n",
            " ['Andrew' 7.0 55 'Train']\n",
            " ['Vivaswat' 6.0 45 'Train']\n",
            " ['Christopher' 7.0 5 'Walk']\n",
            " ['Julien' 7.0 50 'Train']\n",
            " ['Rahul' 7.25 5 'Walk']\n",
            " ['Sid' 7.5 2 'Walk']\n",
            " ['Ryan' 7.4 5 'Walk']\n",
            " ['Justin' 7.75 5 'Walk']\n",
            " ['Jack' 7.0 25 'Walk']\n",
            " ['Ethan' 7.0 5 'Walk']\n",
            " ['Lucas' 7.0 5 'Walk']\n",
            " ['Everett' 7.0 60 'Train']\n",
            " ['Nanditna' 7.9 360 'Car']]\n",
            "\n",
            " [['Ibrahim' 'Ibrahim' 12 'North Virginia' 6.5 5 'Walk']\n",
            " ['Jake Trock' 'Jake Trock' 12 'Conneticut' 7.0 5 'Walk']\n",
            " ['Justin' 'Justin' 12 'Conneticut' 6.75 60 'Car']\n",
            " ['Nina' 'Nina' 10 'New York' 7.75 20 'Train']\n",
            " ['Abhinav' 'Abhinav' 12 'India' 6.75 15 'Walk']\n",
            " ['Tony' 'Tony' 12 'China' 7.0 8 'Walk']\n",
            " ['Tom' 'Tom' 12 'Utah' 7.5 5 'Walk']\n",
            " ['Olaf' 'Olaf' 9 'USA' 7.0 45 'Train']\n",
            " ['Andrew' 'Andrew' 10 'Conneticut' 7.4 5 'Walk']\n",
            " ['Andrew' 'Andrew' 12 'NJ' 7.0 55 'Train']\n",
            " ['Vivaswat' 'Vivaswat' 11 'India' 6.0 45 'Train']\n",
            " ['Christopher' 'Christopher' 12 'California' 7.0 5 'Walk']\n",
            " ['Julien' 'Julien' 11 'NYC' 7.0 50 'Train']\n",
            " ['Rahul' 'Rahul' 11 'California' 7.25 5 'Walk']\n",
            " ['Sid' 'Sid' 11 'California' 7.5 2 'Walk']\n",
            " ['Ryan' 'Ryan' 12 'California' 7.4 5 'Walk']\n",
            " ['Justin' 'Justin' 12 'China' 7.75 5 'Walk']\n",
            " ['Jack' 'Jack' 12 'DC' 7.0 25 'Walk']\n",
            " ['Ethan' 'Ethan' 12 'California' 7.0 5 'Walk']\n",
            " ['Lucas' 'Lucas' 10 'San Francisco' 7.0 5 'Walk']\n",
            " ['Everett' 'Everett' 11 'Conneticut' 7.0 60 'Train']\n",
            " ['Nanditna' 'Nanditna' 12 'Maryland' 7.9 360 'Car']]\n",
            "\n",
            " [['Ibrahim' 6.5 5 'Walk']\n",
            " ['Jake Trock' 7.0 5 'Walk']\n",
            " ['Justin' 6.75 60 'Car']\n",
            " ['Nina' 7.75 20 'Train']\n",
            " ['Abhinav' 6.75 15 'Walk']\n",
            " ['Tony' 7.0 8 'Walk']\n",
            " ['Tom' 7.5 5 'Walk']\n",
            " ['Olaf' 7.0 45 'Train']\n",
            " ['Andrew' 7.4 5 'Walk']\n",
            " ['Andrew' 7.0 55 'Train']\n",
            " ['Vivaswat' 6.0 45 'Train']\n",
            " ['Christopher' 7.0 5 'Walk']\n",
            " ['Julien' 7.0 50 'Train']\n",
            " ['Rahul' 7.25 5 'Walk']\n",
            " ['Sid' 7.5 2 'Walk']\n",
            " ['Ryan' 7.4 5 'Walk']\n",
            " ['Justin' 7.75 5 'Walk']\n",
            " ['Jack' 7.0 25 'Walk']\n",
            " ['Ethan' 7.0 5 'Walk']\n",
            " ['Lucas' 7.0 5 'Walk']\n",
            " ['Everett' 7.0 60 'Train']\n",
            " ['Nanditna' 7.9 360 'Car']]\n",
            "\n",
            " ['Justin' 6.75 60 'Car']\n"
          ],
          "name": "stdout"
        }
      ]
    },
    {
      "cell_type": "markdown",
      "metadata": {
        "id": "g4iGWX9TRSJA",
        "colab_type": "text"
      },
      "source": [
        "# M6: *Demo*: Sample Mean and Variance\n"
      ]
    },
    {
      "cell_type": "markdown",
      "metadata": {
        "id": "yrIPGSQsF-Zy",
        "colab_type": "text"
      },
      "source": [
        "## Lecture Demo calculations:\n",
        "### Using for-loops:"
      ]
    },
    {
      "cell_type": "code",
      "metadata": {
        "id": "wyhW7WEMBmTP",
        "colab_type": "code",
        "outputId": "e2b5b493-5309-4416-ef5e-6c8f9529f9c3",
        "colab": {
          "base_uri": "https://localhost:8080/",
          "height": 52
        }
      },
      "source": [
        "# TODO:\n",
        "x = np.array([3.6, 4.0, 3.7, 3.75, 3.9, 4.0, 3.65])\n",
        "N = len(x)\n",
        "\n",
        "xbar = 0;\n",
        "for i in range(len(x)):\n",
        "  xbar = xbar + x[i]\n",
        "xbar = xbar/N\n",
        "\n",
        "xvar = 0;\n",
        "for i in range(len(x)):\n",
        "  xvar = xvar + (x[i]-xbar)**2\n",
        "xvar = xvar/N\n",
        "\n",
        "def print_func(mean,var):\n",
        "  print(\"mean: %.2f\" % mean)\n",
        "  print(\"variance: %.2f\" % var)\n",
        "  \n",
        "print_func(xbar,xvar)"
      ],
      "execution_count": 14,
      "outputs": [
        {
          "output_type": "stream",
          "text": [
            "mean: 3.80\n",
            "variance: 0.02\n"
          ],
          "name": "stdout"
        }
      ]
    },
    {
      "cell_type": "markdown",
      "metadata": {
        "id": "YVlpNkgyBktR",
        "colab_type": "text"
      },
      "source": [
        "### Using Numpy functions"
      ]
    },
    {
      "cell_type": "code",
      "metadata": {
        "id": "6YPBjGtMGFn_",
        "colab_type": "code",
        "outputId": "7511d62d-3527-41d7-c1f7-fc3e8734dfc4",
        "colab": {
          "base_uri": "https://localhost:8080/",
          "height": 52
        }
      },
      "source": [
        "# TODO:\n",
        "mean = np.mean(x)\n",
        "var = np.var(x)\n",
        "\n",
        "print_func(mean,var)"
      ],
      "execution_count": 15,
      "outputs": [
        {
          "output_type": "stream",
          "text": [
            "mean: 3.80\n",
            "variance: 0.02\n"
          ],
          "name": "stdout"
        }
      ]
    },
    {
      "cell_type": "markdown",
      "metadata": {
        "id": "G-fkwjxPUs34",
        "colab_type": "text"
      },
      "source": [
        "## Stats on our Data\n",
        "Now, looking back at our icebreaker data. What are the statistics on our classes wakeup time? Travel time? Can we visualize how they're related? What kind of plot should we use?"
      ]
    },
    {
      "cell_type": "code",
      "metadata": {
        "id": "n0Vod3mpSqTS",
        "colab_type": "code",
        "outputId": "5870c365-65aa-4e93-fa1a-3aa9eca9227f",
        "colab": {
          "base_uri": "https://localhost:8080/",
          "height": 352
        }
      },
      "source": [
        "# TODO: \n",
        "\n",
        "wakeup_times = df['Wake Up Time'].values\n",
        "\n",
        "print_func(np.mean(wakeup_times), np.var(wakeup_times))\n",
        "print_func(np.mean(travel_times), np.var(travel_times))\n",
        "\n",
        "# what happens if we don't use the 'ob' options when plotting?\n",
        "plt.plot(travel_times, wakeup_times, 'ob', markeredgecolor='black')\n",
        "plt.xlabel('Travel Time (mins)')\n",
        "plt.ylabel('Wake Up Time (hr)');"
      ],
      "execution_count": 16,
      "outputs": [
        {
          "output_type": "stream",
          "text": [
            "mean: 7.11\n",
            "variance: 0.18\n",
            "mean: 36.14\n",
            "variance: 5418.85\n"
          ],
          "name": "stdout"
        },
        {
          "output_type": "display_data",
          "data": {
            "image/png": "[encoded data removed]",
            "text/plain": [
              "<Figure size 432x288 with 1 Axes>"
            ]
          },
          "metadata": {
            "tags": []
          }
        }
      ]
    },
    {
      "cell_type": "markdown",
      "metadata": {
        "id": "-v2bopw1WF1s",
        "colab_type": "text"
      },
      "source": [
        "# M7: *Lab*: Plotting Functions\n"
      ]
    },
    {
      "cell_type": "markdown",
      "metadata": {
        "id": "mz9t6lrtX4jJ",
        "colab_type": "text"
      },
      "source": [
        "- This lab requires you to search for the documentation of python, numpy, and matplotlib functions\n",
        "- Use numpy to generate the following functions:\n",
        "  - Sine-wave\n",
        "  - Polynomial\n",
        "  - Bell-curve (a.k.a Normal or Gaussian distribution)\n",
        "- Plot the graphs using matplotlib\n",
        "- *Hints*: \n",
        "  - Pick an interval to plot over first, ex. [-1,1]. \n",
        "  - Look into ```np.pi```, ```np.sin()```, ```np.exp()```, and ```np.linspace()``` (ie. google for the documentation of these functions)"
      ]
    },
    {
      "cell_type": "code",
      "metadata": {
        "id": "Faj_9r7MT7Wu",
        "colab_type": "code",
        "outputId": "722a0051-8c96-4f38-e67d-1a61b084f037",
        "colab": {
          "base_uri": "https://localhost:8080/",
          "height": 283
        }
      },
      "source": [
        "# TODO:\n",
        "import numpy as np\n",
        "import matplotlib.pyplot as plt\n",
        "\n",
        "x = np.linspace(-1,1,100)\n",
        "\n",
        "y1 = np.sin(2*np.pi*x)\n",
        "\n",
        "y2 = x**3\n",
        "\n",
        "y3 = np.exp(-x**2/(2*.2)) / np.sqrt(2*np.pi*.2)\n",
        "\n",
        "plt.plot(x,y1,x,y2,x,y3)\n",
        "plt.xlabel('x')\n",
        "plt.ylabel('y')\n",
        "plt.legend(['Sine','Polynomial','Bell'])\n",
        "plt.grid();\n",
        "plt.savefig(\"funcs.png\")"
      ],
      "execution_count": 17,
      "outputs": [
        {
          "output_type": "display_data",
          "data": {
            "image/png": "[encoded data removed]",
            "text/plain": [
              "<Figure size 432x288 with 1 Axes>"
            ]
          },
          "metadata": {
            "tags": []
          }
        }
      ]
    },
    {
      "cell_type": "markdown",
      "metadata": {
        "id": "U7CYZFjHcpPm",
        "colab_type": "text"
      },
      "source": [
        "## Mean and Variance\n",
        "What are the mean and variance of your functions over the plotted range?\n",
        "\n",
        "Compute the answers in code. Talk with your neighbors about why this is the case.\n"
      ]
    },
    {
      "cell_type": "code",
      "metadata": {
        "id": "1ThCUme_bdXL",
        "colab_type": "code",
        "outputId": "2c0c2130-27e9-4fdc-c665-50c4f327c954",
        "colab": {
          "base_uri": "https://localhost:8080/",
          "height": 121
        }
      },
      "source": [
        "# TODO:\n",
        "\n",
        "for y in [y1,y2,y3]:\n",
        "  print_func(np.mean(y), np.var(y))"
      ],
      "execution_count": 18,
      "outputs": [
        {
          "output_type": "stream",
          "text": [
            "mean: -0.00\n",
            "variance: 0.49\n",
            "mean: 0.00\n",
            "variance: 0.15\n",
            "mean: 0.48\n",
            "variance: 0.08\n"
          ],
          "name": "stdout"
        }
      ]
    }
  ]
}