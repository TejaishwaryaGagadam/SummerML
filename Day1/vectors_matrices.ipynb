{
 "cells": [
  {
   "cell_type": "markdown",
   "metadata": {},
   "source": [
    "# Vectors and Matrices\n",
    "## In NumPy\n",
    "These code blocks go along with the Day1.pdf lecture slides"
   ]
  },
  {
   "cell_type": "code",
   "execution_count": 11,
   "metadata": {},
   "outputs": [],
   "source": [
    "import numpy as np"
   ]
  },
  {
   "cell_type": "markdown",
   "metadata": {},
   "source": [
    "## Vectors"
   ]
  },
  {
   "cell_type": "code",
   "execution_count": 12,
   "metadata": {},
   "outputs": [
    {
     "name": "stdout",
     "output_type": "stream",
     "text": [
      "v+u =  [ 4 11  2  4]\n",
      "3v =  [ 3 15  6 27]\n",
      "u dot v =  -12\n",
      "sqrt(v dot v) = 10.54\n",
      "||v|| = 10.54\n"
     ]
    }
   ],
   "source": [
    "\n",
    "v = np.array([1,5,2,9])\n",
    "u = np.array([3,6,0,-5])\n",
    "\n",
    "# vector addition\n",
    "print(\"v+u = \", v+u)\n",
    "\n",
    "# vector scaling\n",
    "print(\"3v = \", 3*v)\n",
    "\n",
    "# Dot-Product\n",
    "print(\"u dot v = \", np.dot(u,v))\n",
    "\n",
    "# Length / L2 Norm of a vector\n",
    "print(\"sqrt(v dot v) = %.2f\" % np.sqrt(np.dot(v,v)))\n",
    "print(\"||v|| = %.2f\" % np.linalg.norm(v))"
   ]
  },
  {
   "cell_type": "markdown",
   "metadata": {},
   "source": [
    "## Matrices"
   ]
  },
  {
   "cell_type": "code",
   "execution_count": 13,
   "metadata": {},
   "outputs": [
    {
     "name": "stdout",
     "output_type": "stream",
     "text": [
      "M =  (2, 3)\n",
      "[[  1   9 -12]\n",
      " [ 15  -2   0]]\n",
      "A+B = \n",
      " [[ 1  9]\n",
      " [ 9 12]]\n",
      "aB = \n",
      " [[ 0 40]\n",
      " [35 55]]\n"
     ]
    }
   ],
   "source": [
    "M = np.array([ [1,9,-12], [15, -2, 0] ])\n",
    "print(\"M = \", M.shape)\n",
    "print(M)\n",
    "\n",
    "# matrix addition\n",
    "A = np.array([ [1, 1], [2, 1] ])\n",
    "B = np.array([ [0, 8], [7, 11] ])\n",
    "print(\"A+B = \\n\", A+B) # '\\n' is the newline character\n",
    "\n",
    "# matrix scaling\n",
    "a = 5\n",
    "print(\"aB = \\n\", a*B)"
   ]
  },
  {
   "cell_type": "markdown",
   "metadata": {},
   "source": [
    "## More about Matrices"
   ]
  },
  {
   "cell_type": "code",
   "execution_count": 14,
   "metadata": {},
   "outputs": [
    {
     "name": "stdout",
     "output_type": "stream",
     "text": [
      "shapes of A and M: (2, 2) (2, 3)\n",
      "C = \n",
      " [[ 16   7 -12]\n",
      " [ 17  16 -24]]\n",
      "M^T = \n",
      " [[  1  15]\n",
      " [  9  -2]\n",
      " [-12   0]]\n",
      "A^-1 = \n",
      " [[-1.  1.]\n",
      " [ 2. -1.]]\n"
     ]
    }
   ],
   "source": [
    "# matrix multiplicaiton\n",
    "print(\"shapes of A and M:\", A.shape, M.shape)\n",
    "C = np.matmul(A,M)\n",
    "print(\"C = \\n\", C)\n",
    "\n",
    "# matrix transpose\n",
    "print(\"M^T = \\n\", np.transpose(M))\n",
    "\n",
    "# matrix inverse\n",
    "print(\"A^-1 = \\n\", np.linalg.inv(A))"
   ]
  },
  {
   "cell_type": "markdown",
   "metadata": {},
   "source": [
    "## Vectors and Matrices"
   ]
  },
  {
   "cell_type": "code",
   "execution_count": 15,
   "metadata": {},
   "outputs": [
    {
     "name": "stdout",
     "output_type": "stream",
     "text": [
      "v (4,)  =  [1 5 2 9]\n",
      "row vector v (1, 4)  =  [[1 5 2 9]]\n",
      "col vector v (4, 1)  = \n",
      " [[1]\n",
      " [5]\n",
      " [2]\n",
      " [9]]\n",
      "u (2, 1)  = \n",
      " [[1]\n",
      " [2]]\n",
      "A (3, 2)  = \n",
      " [[2 0]\n",
      " [0 1]\n",
      " [1 1]]\n",
      "Au = \n",
      " [[2]\n",
      " [2]\n",
      " [3]]\n",
      "v dot v = [[111]]\n"
     ]
    }
   ],
   "source": [
    "v = np.array([1,5,2,9])\n",
    "\n",
    "# v\n",
    "print(\"v\", v.shape, \" = \", v)\n",
    "\n",
    "# row vector v\n",
    "v = v.reshape(1,-1) # shape -1 in np.reshape means value is infered\n",
    "print(\"row vector v\", v.shape, \" = \",  v) \n",
    "\n",
    "# column vector v\n",
    "v = v.reshape(-1,1)\n",
    "print(\"col vector v\", v.shape, \" = \\n\",  v) \n",
    "\n",
    "# matrix vector multiplication\n",
    "u = np.array([1,2]).reshape(-1,1)\n",
    "A = np.array([[2,0],[0,1],[1,1]])\n",
    "print(\"u\", u.shape, \" = \\n\", u)\n",
    "print(\"A\", A.shape, \" = \\n\", A)\n",
    "print(\"Au = \\n\", np.matmul(A,u))\n",
    "\n",
    "# dot product as matrix multiplication\n",
    "print(\"v dot v =\", np.matmul(np.transpose(v), v))"
   ]
  }
 ],
 "metadata": {
  "kernelspec": {
   "display_name": "Python 3",
   "language": "python",
   "name": "python3"
  },
  "language_info": {
   "codemirror_mode": {
    "name": "ipython",
    "version": 3
   },
   "file_extension": ".py",
   "mimetype": "text/x-python",
   "name": "python",
   "nbconvert_exporter": "python",
   "pygments_lexer": "ipython3",
   "version": "3.7.3"
  }
 },
 "nbformat": 4,
 "nbformat_minor": 2
}
