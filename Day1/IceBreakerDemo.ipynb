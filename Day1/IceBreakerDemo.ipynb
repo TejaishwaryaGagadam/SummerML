{
  "nbformat": 4,
  "nbformat_minor": 0,
  "metadata": {
    "colab": {
      "name": "IceBreakerDemo.ipynb",
      "version": "0.3.2",
      "provenance": [],
      "include_colab_link": true
    },
    "kernelspec": {
      "name": "python3",
      "display_name": "Python 3"
    }
  },
  "cells": [
    {
      "cell_type": "markdown",
      "metadata": {
        "id": "view-in-github",
        "colab_type": "text"
      },
      "source": [
        "<a href=\"https://colab.research.google.com/github/nikopj/SummerML/blob/master/Day1/IceBreakerDemo.ipynb\" target=\"_parent\"><img src=\"https://colab.research.google.com/assets/colab-badge.svg\" alt=\"Open In Colab\"/></a>"
      ]
    },
    {
      "cell_type": "code",
      "metadata": {
        "id": "zXL3u543mvYN",
        "colab_type": "code",
        "colab": {}
      },
      "source": [
        "import pandas as pd\n",
        "import numpy as np\n",
        "import matplotlib\n",
        "import matplotlib.pyplot as plt"
      ],
      "execution_count": 0,
      "outputs": []
    },
    {
      "cell_type": "code",
      "metadata": {
        "id": "W-Tj_d6nnWqw",
        "colab_type": "code",
        "colab": {}
      },
      "source": [
        "#dataframe - df\n",
        "df = pd.read_csv('icebreakerdata.csv')"
      ],
      "execution_count": 0,
      "outputs": []
    },
    {
      "cell_type": "code",
      "metadata": {
        "id": "meCMHRWTnfZW",
        "colab_type": "code",
        "colab": {
          "base_uri": "https://localhost:8080/",
          "height": 359
        },
        "outputId": "18c5db4a-8091-495a-d783-c76f3d2ab779"
      },
      "source": [
        "df.head(10)"
      ],
      "execution_count": 5,
      "outputs": [
        {
          "output_type": "execute_result",
          "data": {
            "text/html": [
              "<div>\n",
              "<style scoped>\n",
              "    .dataframe tbody tr th:only-of-type {\n",
              "        vertical-align: middle;\n",
              "    }\n",
              "\n",
              "    .dataframe tbody tr th {\n",
              "        vertical-align: top;\n",
              "    }\n",
              "\n",
              "    .dataframe thead th {\n",
              "        text-align: right;\n",
              "    }\n",
              "</style>\n",
              "<table border=\"1\" class=\"dataframe\">\n",
              "  <thead>\n",
              "    <tr style=\"text-align: right;\">\n",
              "      <th></th>\n",
              "      <th>Name</th>\n",
              "      <th>Grade</th>\n",
              "      <th>Country/State</th>\n",
              "      <th>Wake Up Time</th>\n",
              "      <th>Travel Time (mins)</th>\n",
              "      <th>Mode of Transportation</th>\n",
              "    </tr>\n",
              "  </thead>\n",
              "  <tbody>\n",
              "    <tr>\n",
              "      <th>0</th>\n",
              "      <td>Siroun</td>\n",
              "      <td>10</td>\n",
              "      <td>Boston</td>\n",
              "      <td>6.30</td>\n",
              "      <td>4.00</td>\n",
              "      <td>Walk</td>\n",
              "    </tr>\n",
              "    <tr>\n",
              "      <th>1</th>\n",
              "      <td>Sejeal</td>\n",
              "      <td>12</td>\n",
              "      <td>Dubai</td>\n",
              "      <td>6.00</td>\n",
              "      <td>2.00</td>\n",
              "      <td>Walk</td>\n",
              "    </tr>\n",
              "    <tr>\n",
              "      <th>2</th>\n",
              "      <td>Rishika</td>\n",
              "      <td>10</td>\n",
              "      <td>New York</td>\n",
              "      <td>6.38</td>\n",
              "      <td>3.48</td>\n",
              "      <td>Walk</td>\n",
              "    </tr>\n",
              "    <tr>\n",
              "      <th>3</th>\n",
              "      <td>Ariel</td>\n",
              "      <td>11</td>\n",
              "      <td>Cape Town</td>\n",
              "      <td>7.24</td>\n",
              "      <td>5.00</td>\n",
              "      <td>Walk</td>\n",
              "    </tr>\n",
              "    <tr>\n",
              "      <th>4</th>\n",
              "      <td>Ronit</td>\n",
              "      <td>11</td>\n",
              "      <td>New Jersey</td>\n",
              "      <td>7.00</td>\n",
              "      <td>5.00</td>\n",
              "      <td>Walk</td>\n",
              "    </tr>\n",
              "    <tr>\n",
              "      <th>5</th>\n",
              "      <td>Mark</td>\n",
              "      <td>12</td>\n",
              "      <td>New Jersey</td>\n",
              "      <td>7.45</td>\n",
              "      <td>3.00</td>\n",
              "      <td>Walk</td>\n",
              "    </tr>\n",
              "    <tr>\n",
              "      <th>6</th>\n",
              "      <td>Aarnav</td>\n",
              "      <td>12</td>\n",
              "      <td>New Jersey</td>\n",
              "      <td>6.30</td>\n",
              "      <td>6.00</td>\n",
              "      <td>Walk</td>\n",
              "    </tr>\n",
              "    <tr>\n",
              "      <th>7</th>\n",
              "      <td>Lucas</td>\n",
              "      <td>12</td>\n",
              "      <td>Barcelona</td>\n",
              "      <td>7.32</td>\n",
              "      <td>3.00</td>\n",
              "      <td>Walk</td>\n",
              "    </tr>\n",
              "    <tr>\n",
              "      <th>8</th>\n",
              "      <td>Matteo</td>\n",
              "      <td>11</td>\n",
              "      <td>Queens</td>\n",
              "      <td>4.35</td>\n",
              "      <td>17.00</td>\n",
              "      <td>Train</td>\n",
              "    </tr>\n",
              "    <tr>\n",
              "      <th>9</th>\n",
              "      <td>Ethan</td>\n",
              "      <td>11</td>\n",
              "      <td>New Jersey</td>\n",
              "      <td>6.07</td>\n",
              "      <td>60.00</td>\n",
              "      <td>Train</td>\n",
              "    </tr>\n",
              "  </tbody>\n",
              "</table>\n",
              "</div>"
            ],
            "text/plain": [
              "      Name  Grade  ... Travel Time (mins)  Mode of Transportation\n",
              "0  Siroun      10  ...               4.00                    Walk\n",
              "1  Sejeal      12  ...               2.00                    Walk\n",
              "2  Rishika     10  ...               3.48                    Walk\n",
              "3    Ariel     11  ...               5.00                    Walk\n",
              "4    Ronit     11  ...               5.00                    Walk\n",
              "5     Mark     12  ...               3.00                    Walk\n",
              "6   Aarnav     12  ...               6.00                    Walk\n",
              "7    Lucas     12  ...               3.00                    Walk\n",
              "8   Matteo     11  ...              17.00                   Train\n",
              "9    Ethan     11  ...              60.00                   Train\n",
              "\n",
              "[10 rows x 6 columns]"
            ]
          },
          "metadata": {
            "tags": []
          },
          "execution_count": 5
        }
      ]
    },
    {
      "cell_type": "code",
      "metadata": {
        "id": "X7b_tjEknqXy",
        "colab_type": "code",
        "colab": {}
      },
      "source": [
        "names = df['Name'].values\n",
        "travel_time = df['Travel Time (mins)'].values"
      ],
      "execution_count": 0,
      "outputs": []
    },
    {
      "cell_type": "code",
      "metadata": {
        "id": "806IRWPvnz4L",
        "colab_type": "code",
        "colab": {
          "base_uri": "https://localhost:8080/",
          "height": 136
        },
        "outputId": "efa155ad-e69f-413e-b07e-56160b2353ed"
      },
      "source": [
        "print(names)\n",
        "print(travel_time)"
      ],
      "execution_count": 7,
      "outputs": [
        {
          "output_type": "stream",
          "text": [
            "['Siroun ' 'Sejeal ' 'Rishika' 'Ariel' 'Ronit' 'Mark' 'Aarnav' 'Lucas'\n",
            " 'Matteo' 'Ethan' 'Kieran' 'Myra' 'Bernice' 'Katie' 'Rosetta' 'Stefanie'\n",
            " 'Selm' 'Lapo' 'Anthony' 'Miki' 'Minal' 'Emil' 'James' 'Lenny' 'Jake'\n",
            " 'Arush']\n",
            "[ 4.    2.    3.48  5.    5.    3.    6.    3.   17.   60.   35.   90.\n",
            "  2.    5.    5.    3.   40.    2.    2.    3.    1.    3.    5.   72.\n",
            " 50.   52.  ]\n"
          ],
          "name": "stdout"
        }
      ]
    },
    {
      "cell_type": "code",
      "metadata": {
        "id": "Y0F_m80Yn_KO",
        "colab_type": "code",
        "colab": {
          "base_uri": "https://localhost:8080/",
          "height": 316
        },
        "outputId": "1ddeac9d-5b13-4a8c-d176-d8aa9f1d89a2"
      },
      "source": [
        "plt.bar(names, travel_time)\n",
        "plt.xticks(names, rotation = 75)\n",
        "plt.xlabel('Names')\n",
        "plt.ylabel('Travel Times (mins)');"
      ],
      "execution_count": 8,
      "outputs": [
        {
          "output_type": "display_data",
          "data": {
            "image/png": "[encoded data removed]",
            "text/plain": [
              "<Figure size 432x288 with 1 Axes>"
            ]
          },
          "metadata": {
            "tags": []
          }
        }
      ]
    },
    {
      "cell_type": "code",
      "metadata": {
        "id": "CdDDwgSHocv4",
        "colab_type": "code",
        "colab": {
          "base_uri": "https://localhost:8080/",
          "height": 316
        },
        "outputId": "37af7b63-9dc2-4cc8-f2fa-199150e05da5"
      },
      "source": [
        "plt.scatter(names, travel_time)\n",
        "plt.xticks(names, rotation = 75)\n",
        "plt.xlabel('Names')\n",
        "plt.ylabel('Travel Times (mins)');"
      ],
      "execution_count": 9,
      "outputs": [
        {
          "output_type": "display_data",
          "data": {
            "image/png": "[encoded data removed]",
            "text/plain": [
              "<Figure size 432x288 with 1 Axes>"
            ]
          },
          "metadata": {
            "tags": []
          }
        }
      ]
    },
    {
      "cell_type": "code",
      "metadata": {
        "id": "lClMcQAcomOG",
        "colab_type": "code",
        "colab": {
          "base_uri": "https://localhost:8080/",
          "height": 102
        },
        "outputId": "f4bd1cc8-2206-4e91-8975-b16f249cac93"
      },
      "source": [
        "transport = df['Mode of Transportation'].values\n",
        "print(transport=='Train')\n",
        "\n",
        "print(np.sum(transport=='Walk'))\n",
        "\n",
        "print(names[transport=='Train'])"
      ],
      "execution_count": 10,
      "outputs": [
        {
          "output_type": "stream",
          "text": [
            "[False False False False False False False False  True  True  True  True\n",
            " False False False False  True False False False False False False  True\n",
            "  True  True]\n",
            "18\n",
            "['Matteo' 'Ethan' 'Kieran' 'Myra' 'Selm' 'Lenny' 'Jake' 'Arush']\n"
          ],
          "name": "stdout"
        }
      ]
    },
    {
      "cell_type": "code",
      "metadata": {
        "id": "TAI0KH2apJ2p",
        "colab_type": "code",
        "colab": {
          "base_uri": "https://localhost:8080/",
          "height": 300
        },
        "outputId": "4ada1ea4-50cc-419c-a506-1433168fb535"
      },
      "source": [
        "modes = np.unique(transport)\n",
        "\n",
        "count = []\n",
        "for m in modes:\n",
        "  count.append(np.sum(transport==m))\n",
        "print(count)\n",
        "  \n",
        "plt.bar(modes, count)\n",
        "plt.xlabel('Modes')\n",
        "plt.ylabel('Count');"
      ],
      "execution_count": 11,
      "outputs": [
        {
          "output_type": "stream",
          "text": [
            "[8, 18]\n"
          ],
          "name": "stdout"
        },
        {
          "output_type": "display_data",
          "data": {
            "image/png": "[encoded data removed]",
            "text/plain": [
              "<Figure size 432x288 with 1 Axes>"
            ]
          },
          "metadata": {
            "tags": []
          }
        }
      ]
    }
  ]
}