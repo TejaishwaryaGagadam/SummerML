{
  "nbformat": 4,
  "nbformat_minor": 0,
  "metadata": {
    "colab": {
      "name": "Day1.ipynb",
      "version": "0.3.2",
      "provenance": [],
      "collapsed_sections": [],
      "include_colab_link": true
    },
    "kernelspec": {
      "name": "python3",
      "display_name": "Python 3"
    }
  },
  "cells": [
    {
      "cell_type": "markdown",
      "metadata": {
        "id": "view-in-github",
        "colab_type": "text"
      },
      "source": [
        "<a href=\"https://colab.research.google.com/github/nikopj/SummerML/blob/master/Day1/Day1.ipynb\" target=\"_parent\"><img src=\"https://colab.research.google.com/assets/colab-badge.svg\" alt=\"Open In Colab\"/></a>"
      ]
    },
    {
      "cell_type": "markdown",
      "metadata": {
        "id": "yspmGzoPGgGW",
        "colab_type": "text"
      },
      "source": [
        "# Day 1: Introduction to Machine Learning\n",
        "## Module Outline:\n",
        "- M4: *Demo*: Ice-Breaker Data Visualization\n",
        "- M5: *Demo*: Manipulating Data with Numpy\n",
        "- M6: *Demo*: Sample Mean and Variance\n",
        "- M7: *Lab*: Generating a Sine Wave\n",
        "- M10: *Lab*: Generating a Noisy Sine Wave\n"
      ]
    },
    {
      "cell_type": "markdown",
      "metadata": {
        "id": "JGRy8nvRH7ps",
        "colab_type": "text"
      },
      "source": [
        "# M4: *Demo*: Ice-Breaker Data Visualization\n",
        "After checking out[ the data](https://docs.google.com/spreadsheets/d/18UkL5ydpiZBtAHllD5MqqnEp0alwuXOgl9GYYM3_A7E/edit?usp=sharing) in a spreadsheets, download it as a CSV file."
      ]
    },
    {
      "cell_type": "code",
      "metadata": {
        "id": "4NGNNlbCJzNH",
        "colab_type": "code",
        "colab": {}
      },
      "source": [
        "from google.colab import files # module for uploading code\n",
        "# uploaded = files.upload() # prompts to upload local file\n",
        "# filename = list(uploaded.keys())[0] # gets uploaded filename"
      ],
      "execution_count": 0,
      "outputs": []
    },
    {
      "cell_type": "code",
      "metadata": {
        "id": "cpO5nSkcEj7c",
        "colab_type": "code",
        "colab": {}
      },
      "source": [
        "import pandas as pd # module for dealing with datasets\n",
        "import numpy as np # module for manipulating data\n",
        "\n",
        "# df = pd.read_csv(filename) \n",
        "# df.head(5) # print first 5 entries"
      ],
      "execution_count": 0,
      "outputs": []
    },
    {
      "cell_type": "markdown",
      "metadata": {
        "id": "0NPKNy3qMxuV",
        "colab_type": "text"
      },
      "source": [
        "We'll just take the names and travel time from the dataset for now."
      ]
    },
    {
      "cell_type": "code",
      "metadata": {
        "id": "vi7QsZ9wKy1F",
        "colab_type": "code",
        "colab": {}
      },
      "source": [
        "# TODO:\n",
        "\n",
        "# names = ...\n",
        "# travel_times = ..."
      ],
      "execution_count": 0,
      "outputs": []
    },
    {
      "cell_type": "markdown",
      "metadata": {
        "id": "PsJ7DbEwZqs1",
        "colab_type": "text"
      },
      "source": [
        "## Plotting the data as a histogram with Matplotlib"
      ]
    },
    {
      "cell_type": "code",
      "metadata": {
        "id": "U08T5rCRZvU4",
        "colab_type": "code",
        "colab": {}
      },
      "source": [
        "# TODO:\n",
        "\n",
        "import matplotlib\n",
        "import matplotlib.pyplot as plt\n",
        "%matplotlib inline\n"
      ],
      "execution_count": 0,
      "outputs": []
    },
    {
      "cell_type": "markdown",
      "metadata": {
        "id": "WDdQk1TLNgje",
        "colab_type": "text"
      },
      "source": [
        "Let's see how many people took what mode of transport."
      ]
    },
    {
      "cell_type": "code",
      "metadata": {
        "id": "PdAii8FvNfTs",
        "colab_type": "code",
        "colab": {}
      },
      "source": [
        "# TODO: \n",
        "\n",
        "# modes = ...\n",
        "# counts = ...\n",
        "\n",
        "# plt.bar(...)"
      ],
      "execution_count": 0,
      "outputs": []
    },
    {
      "cell_type": "markdown",
      "metadata": {
        "id": "_8eUtLnRSsre",
        "colab_type": "text"
      },
      "source": [
        "And how about a plot of the travel time vs. wakeup time"
      ]
    },
    {
      "cell_type": "code",
      "metadata": {
        "id": "4yL_AoNTSyh2",
        "colab_type": "code",
        "colab": {}
      },
      "source": [
        "# TODO:\n",
        "# wakeup_times = ...\n"
      ],
      "execution_count": 0,
      "outputs": []
    },
    {
      "cell_type": "markdown",
      "metadata": {
        "id": "V5iOmgrhQ1KB",
        "colab_type": "text"
      },
      "source": [
        "# M5: *Demo*: Manipulating Data with Numpy\n",
        "Vectors and matrices in numpy"
      ]
    },
    {
      "cell_type": "code",
      "metadata": {
        "id": "RsEy03jgQ_EH",
        "colab_type": "code",
        "outputId": "b83ac944-4216-4068-8f05-dc613fd47caf",
        "colab": {
          "base_uri": "https://localhost:8080/",
          "height": 173
        }
      },
      "source": [
        "import numpy as np\n",
        "\n",
        "v = np.array([1,5,2,9])\n",
        "u = np.array([3,6,0,-5])\n",
        "\n",
        "A = np.array([[1,9],[5,11]])\n",
        "B = np.array([[2,12,4],[3,7,5]])\n",
        "\n",
        "print(\"row vectors u,v:\",u,v)\n",
        "print(\"shape of u:\", u.shape)\n",
        "print(\"2x2 Matrix A:\")\n",
        "print(A)\n",
        "print(\"shape of A:\", A.shape)\n",
        "print(\"2x3 Matrix B:\")\n",
        "print(B)"
      ],
      "execution_count": 9,
      "outputs": [
        {
          "output_type": "stream",
          "text": [
            "row vectors u,v: [ 3  6  0 -5] [1 5 2 9]\n",
            "shape of u: (4,)\n",
            "2x2 Matrix A:\n",
            "[[ 1  9]\n",
            " [ 5 11]]\n",
            "shape of A: (2, 2)\n",
            "2x3 Matrix B:\n",
            "[[ 2 12  4]\n",
            " [ 3  7  5]]\n"
          ],
          "name": "stdout"
        }
      ]
    },
    {
      "cell_type": "markdown",
      "metadata": {
        "id": "JCaDwx4G74lY",
        "colab_type": "text"
      },
      "source": [
        "## Vector Operations"
      ]
    },
    {
      "cell_type": "code",
      "metadata": {
        "id": "CytRX0U878m5",
        "colab_type": "code",
        "outputId": "075f3d01-d638-420f-fe9f-1bad1822b90d",
        "colab": {
          "base_uri": "https://localhost:8080/",
          "height": 69
        }
      },
      "source": [
        "a = 3\n",
        "w = a*u+2*v # [9, 18, 0, -15] + [2, 10, 4, 9]\n",
        "\n",
        "lw = np.sqrt(np.dot(w,w))\n",
        "\n",
        "print(\"w:\",w)\n",
        "print(\"length of w: %.2f\" % lw)\n",
        "print(\"norm of w: %.2f\" % np.linalg.norm(w))"
      ],
      "execution_count": 10,
      "outputs": [
        {
          "output_type": "stream",
          "text": [
            "w: [11 28  4  3]\n",
            "length of w: 30.50\n",
            "norm of w: 30.50\n"
          ],
          "name": "stdout"
        }
      ]
    },
    {
      "cell_type": "markdown",
      "metadata": {
        "id": "wLZH8cmB9K7t",
        "colab_type": "text"
      },
      "source": [
        "## Matrix Operations"
      ]
    },
    {
      "cell_type": "code",
      "metadata": {
        "id": "cARjL-3x9Mve",
        "colab_type": "code",
        "outputId": "65452581-2279-41e6-961e-527e6c3028c8",
        "colab": {
          "base_uri": "https://localhost:8080/",
          "height": 104
        }
      },
      "source": [
        "C = np.matmul(A,B)\n",
        "print(C.shape)\n",
        "z = np.array([1,2,1])\n",
        "print(z.shape)\n",
        "\n",
        "res = np.matmul(C,z)\n",
        "print(res, res.shape)\n",
        "\n",
        "# make the result into a column vector\n",
        "res = res.reshape(-1,1) # -1 means value is infered\n",
        "print(res, res.shape)"
      ],
      "execution_count": 11,
      "outputs": [
        {
          "output_type": "stream",
          "text": [
            "(2, 3)\n",
            "(3,)\n",
            "[228 392] (2,)\n",
            "[[228]\n",
            " [392]] (2, 1)\n"
          ],
          "name": "stdout"
        }
      ]
    },
    {
      "cell_type": "markdown",
      "metadata": {
        "id": "g4iGWX9TRSJA",
        "colab_type": "text"
      },
      "source": [
        "# M6: *Demo*: Sample Mean and Variance\n",
        "We'll calculate the sample mean and variance of student travel times\n",
        "## First, using Python and loops"
      ]
    },
    {
      "cell_type": "code",
      "metadata": {
        "id": "sbcRSt32Rqoy",
        "colab_type": "code",
        "outputId": "6fd91da2-4fa9-4e69-d1bf-70d1912d1448",
        "colab": {
          "base_uri": "https://localhost:8080/",
          "height": 238
        }
      },
      "source": [
        "# TODO:\n",
        "x = travel_times # travel times vector\n",
        "\n",
        "# mean = ...\n",
        "# var = ...\n",
        "\n",
        "# def print_func(avg,var):\n",
        "# ...\n",
        "  \n",
        "# print_func(mean,var)"
      ],
      "execution_count": 12,
      "outputs": [
        {
          "output_type": "error",
          "ename": "NameError",
          "evalue": "ignored",
          "traceback": [
            "\u001b[0;31m---------------------------------------------------------------------------\u001b[0m",
            "\u001b[0;31mNameError\u001b[0m                                 Traceback (most recent call last)",
            "\u001b[0;32m<ipython-input-12-dbefa9a16283>\u001b[0m in \u001b[0;36m<module>\u001b[0;34m()\u001b[0m\n\u001b[0;32m----> 1\u001b[0;31m \u001b[0mx\u001b[0m \u001b[0;34m=\u001b[0m \u001b[0mtravel_times\u001b[0m \u001b[0;31m# travel times vector\u001b[0m\u001b[0;34m\u001b[0m\u001b[0;34m\u001b[0m\u001b[0m\n\u001b[0m\u001b[1;32m      2\u001b[0m \u001b[0;34m\u001b[0m\u001b[0m\n\u001b[1;32m      3\u001b[0m \u001b[0;31m# mean = ...\u001b[0m\u001b[0;34m\u001b[0m\u001b[0;34m\u001b[0m\u001b[0;34m\u001b[0m\u001b[0m\n\u001b[1;32m      4\u001b[0m \u001b[0;31m# var = ...\u001b[0m\u001b[0;34m\u001b[0m\u001b[0;34m\u001b[0m\u001b[0;34m\u001b[0m\u001b[0m\n\u001b[1;32m      5\u001b[0m \u001b[0;34m\u001b[0m\u001b[0m\n",
            "\u001b[0;31mNameError\u001b[0m: name 'travel_times' is not defined"
          ]
        }
      ]
    },
    {
      "cell_type": "markdown",
      "metadata": {
        "id": "uN69nBA7Sfu8",
        "colab_type": "text"
      },
      "source": [
        "## Now using Numpy "
      ]
    },
    {
      "cell_type": "code",
      "metadata": {
        "id": "AbvHDV9DTSzX",
        "colab_type": "code",
        "colab": {}
      },
      "source": [
        "# TODO:\n",
        "\n",
        "# mean = np.mean(x)\n",
        "# var = np.var(x)\n",
        "\n",
        "# print_func(mean,var)"
      ],
      "execution_count": 0,
      "outputs": []
    },
    {
      "cell_type": "markdown",
      "metadata": {
        "id": "G-fkwjxPUs34",
        "colab_type": "text"
      },
      "source": [
        "## Stats on our Data\n",
        "Now, looking back at our icebreaker data. What was the mean wakeup time? How far did people deviate from the mean?"
      ]
    },
    {
      "cell_type": "code",
      "metadata": {
        "id": "n0Vod3mpSqTS",
        "colab_type": "code",
        "colab": {}
      },
      "source": [
        "# TODO:\n"
      ],
      "execution_count": 0,
      "outputs": []
    },
    {
      "cell_type": "markdown",
      "metadata": {
        "id": "-v2bopw1WF1s",
        "colab_type": "text"
      },
      "source": [
        "# M7: *Lab*: Generating a Sine Wave\n",
        "- Use numpy to generate a sine wave, y=f(x), on the interval [-pi,pi]. \n",
        "- Plot the graph using matplotlib\n",
        "- *Hint*: look into ```np.pi```, ```np.sin()``` and ```np.linspace()``` (ie. google for the documentation of these functions)"
      ]
    },
    {
      "cell_type": "code",
      "metadata": {
        "id": "Faj_9r7MT7Wu",
        "colab_type": "code",
        "colab": {}
      },
      "source": [
        "# TODO:\n",
        "\n",
        "# x = ...\n",
        "# y = ...\n",
        "\n",
        "# plt.plot( ... )"
      ],
      "execution_count": 0,
      "outputs": []
    },
    {
      "cell_type": "markdown",
      "metadata": {
        "id": "mlvvHEEOWFQC",
        "colab_type": "text"
      },
      "source": [
        " # M10: *Lab*: Generating a Noisy Sine Wave\n",
        "- Generate 100 samples of a noisy sine wave\n",
        "- Plot the noisy measurements on top of the original sine wave\n",
        "- Hint: look into ```np.random.randn()```\n",
        "\n"
      ]
    },
    {
      "cell_type": "code",
      "metadata": {
        "id": "9dUlLSZ1bHV-",
        "colab_type": "code",
        "colab": {}
      },
      "source": [
        "# TODO:\n",
        "\n",
        "# y_noisy = ...\n",
        "\n",
        "# plt.plot( ... )"
      ],
      "execution_count": 0,
      "outputs": []
    },
    {
      "cell_type": "markdown",
      "metadata": {
        "id": "U7CYZFjHcpPm",
        "colab_type": "text"
      },
      "source": [
        "## Mean and Variance\n",
        "- What is the mean and variance of your noise?\n",
        "- What is the mean and variance of your sine wave?\n",
        "\n",
        "Compute the answers in code. Talk with your neighbors about why this is the case.\n"
      ]
    },
    {
      "cell_type": "code",
      "metadata": {
        "id": "1ThCUme_bdXL",
        "colab_type": "code",
        "colab": {}
      },
      "source": [
        "# TODO:\n"
      ],
      "execution_count": 0,
      "outputs": []
    }
  ]
}