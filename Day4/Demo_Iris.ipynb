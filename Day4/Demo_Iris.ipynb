{
  "nbformat": 4,
  "nbformat_minor": 0,
  "metadata": {
    "colab": {
      "name": "Demo_Iris.ipynb",
      "version": "0.3.2",
      "provenance": [],
      "include_colab_link": true
    },
    "kernelspec": {
      "name": "python3",
      "display_name": "Python 3"
    }
  },
  "cells": [
    {
      "cell_type": "markdown",
      "metadata": {
        "id": "view-in-github",
        "colab_type": "text"
      },
      "source": [
        "<a href=\"https://colab.research.google.com/github/nikopj/SummerML/blob/master/Day4/Demo_Iris.ipynb\" target=\"_parent\"><img src=\"https://colab.research.google.com/assets/colab-badge.svg\" alt=\"Open In Colab\"/></a>"
      ]
    },
    {
      "cell_type": "markdown",
      "metadata": {
        "id": "4uVCl93VST30",
        "colab_type": "text"
      },
      "source": [
        "# Lab: Multi-Class Classification\n",
        "We're using the IRIS dataset, a classic machine learning dataset that illustrates both linearly separable and non-linearly separable classes.\n",
        "\n",
        "3 different types of irises’ (Setosa, Versicolour, and Virginica). There are 4 features in the dataset: sepal length, sepal width, petal length, petal width.\n",
        "\n",
        "This dataset is so famous it even has a [Wikepdia page](https://en.wikipedia.org/wiki/Iris_flower_data_set)."
      ]
    },
    {
      "cell_type": "code",
      "metadata": {
        "id": "IR_9ZqC55P1V",
        "colab_type": "code",
        "colab": {
          "base_uri": "https://localhost:8080/",
          "height": 300
        },
        "outputId": "d4c4e871-8a95-4bd8-b219-6a862a541051"
      },
      "source": [
        "import numpy as np\n",
        "import matplotlib\n",
        "import matplotlib.pyplot as plt\n",
        "%matplotlib inline\n",
        "from sklearn import datasets\n",
        "\n",
        "\n",
        "# Loading the dataset\n",
        "iris = datasets.load_iris()\n",
        "X = iris.data[:,:2] # using only first two features\n",
        "y = iris.target\n",
        "\n",
        "(num_samples, num_features) = X.shape\n",
        "print(\"num_samples, num_features\", X.shape)\n",
        "\n",
        "plt.figure()\n",
        "plt.plot(X[y==0,0], X[y==0,1], 'o', markerfacecolor=(1,0,0,1), markeredgecolor='black')\n",
        "plt.plot(X[y==1,0], X[y==1,1], 'o', markerfacecolor=(0,1,0,1), markeredgecolor='black')\n",
        "plt.plot(X[y==2,0], X[y==2,1], 'o', markerfacecolor=(0,0,1,1), markeredgecolor='black');\n",
        "\n",
        "plt.xlabel('Sepal Length')\n",
        "plt.ylabel('Sepal Width');"
      ],
      "execution_count": 148,
      "outputs": [
        {
          "output_type": "stream",
          "text": [
            "num_samples, num_features (150, 2)\n"
          ],
          "name": "stdout"
        },
        {
          "output_type": "display_data",
          "data": {
            "image/png": "[encoded data removed]",
            "text/plain": [
              "<Figure size 432x288 with 1 Axes>"
            ]
          },
          "metadata": {
            "tags": []
          }
        }
      ]
    },
    {
      "cell_type": "code",
      "metadata": {
        "id": "2GFH7vIV-rZQ",
        "colab_type": "code",
        "colab": {
          "base_uri": "https://localhost:8080/",
          "height": 52
        },
        "outputId": "0b426d3d-5160-4134-bdee-92f97442dff4"
      },
      "source": [
        "from sklearn.model_selection import train_test_split\n",
        "from sklearn.linear_model import LogisticRegression\n",
        "\n",
        "# splitting the data into test and train\n",
        "# We're not using ANY hyperparameters --- NO NEED FOR VALIDATION SET\n",
        "X_train, X_test, y_train, y_test = train_test_split(X, y, test_size=0.33)#, random_state=42)\n",
        "\n",
        "# sklearn does everything in the background:\n",
        "#     - onehot encoding\n",
        "#     - softmax output\n",
        "logreg = LogisticRegression(C=1e5, solver='lbfgs', multi_class='multinomial')\n",
        "logreg.fit(X_train, y_train)\n",
        "\n",
        "print(logreg.score(X_train, y_train))\n",
        "\n",
        "yhat = logreg.predict(X_test)\n",
        "acc = np.mean(yhat == y_test)\n",
        "print(\"Accuracy on test data = %f\" % acc)"
      ],
      "execution_count": 149,
      "outputs": [
        {
          "output_type": "stream",
          "text": [
            "0.84\n",
            "Accuracy on test data = 0.760000\n"
          ],
          "name": "stdout"
        }
      ]
    },
    {
      "cell_type": "markdown",
      "metadata": {
        "id": "nLm2MOnLF-Jy",
        "colab_type": "text"
      },
      "source": [
        "## Decision Boundary\n",
        "[Code for plotting decission boundary](https://scikit-learn.org/stable/auto_examples/linear_model/plot_iris_logistic.html)"
      ]
    },
    {
      "cell_type": "code",
      "metadata": {
        "id": "XWWudeTcE0jg",
        "colab_type": "code",
        "colab": {
          "base_uri": "https://localhost:8080/",
          "height": 266
        },
        "outputId": "5d07cee2-5a68-429d-e208-fad06a96590d"
      },
      "source": [
        "### CODE FROM SKLEARN IRIS DEMO ###\n",
        "\n",
        "# Plot the decision boundary. For that, we will assign a color to each\n",
        "# point in the mesh [x_min, x_max]x[y_min, y_max].\n",
        "x_min, x_max = X[:, 0].min() - .5, X[:, 0].max() + .5\n",
        "y_min, y_max = X[:, 1].min() - .5, X[:, 1].max() + .5\n",
        "h = .02  # step size in the mesh\n",
        "xx, yy = np.meshgrid(np.arange(x_min, x_max, h), np.arange(y_min, y_max, h))\n",
        "Z = logreg.predict(np.c_[xx.ravel(), yy.ravel()])\n",
        "\n",
        "plt.figure()\n",
        "# Put the result into a color plot\n",
        "Z = Z.reshape(xx.shape)\n",
        "plt.figure(1, figsize=(4, 3))\n",
        "plt.pcolormesh(xx, yy, Z, cmap=plt.cm.Paired)\n",
        "\n",
        "# Plot also the training points\n",
        "plt.scatter(X[:, 0], X[:, 1], c=Y, edgecolors='k', cmap=plt.cm.Paired)\n",
        "plt.xlabel('Sepal length')\n",
        "plt.ylabel('Sepal width')\n",
        "\n",
        "plt.xlim(xx.min(), xx.max())\n",
        "plt.ylim(yy.min(), yy.max())\n",
        "plt.xticks(())\n",
        "plt.yticks(());"
      ],
      "execution_count": 132,
      "outputs": [
        {
          "output_type": "display_data",
          "data": {
            "image/png": "[encoded data removed]",
            "text/plain": [
              "<Figure size 432x288 with 1 Axes>"
            ]
          },
          "metadata": {
            "tags": []
          }
        }
      ]
    },
    {
      "cell_type": "markdown",
      "metadata": {
        "id": "mV1dpgGWTsO0",
        "colab_type": "text"
      },
      "source": [
        "## Understanding The Classifications\n",
        "### Confusion Matrix!"
      ]
    },
    {
      "cell_type": "code",
      "metadata": {
        "id": "4rLAbNeLTxRl",
        "colab_type": "code",
        "colab": {
          "base_uri": "https://localhost:8080/",
          "height": 955
        },
        "outputId": "c1fb083c-1dc8-4415-b402-1dc73296e55e"
      },
      "source": [
        "from sklearn.metrics import confusion_matrix\n",
        "cm = confusion_matrix(y_test, yhat)\n",
        "print(cm)"
      ],
      "execution_count": 152,
      "outputs": [
        {
          "output_type": "stream",
          "text": [
            "[[14  0  0]\n",
            " [ 0 11  5]\n",
            " [ 1  6 13]]\n",
            "(50,) (50, 3)\n",
            "[[0.     1.     0.     0.    ]\n",
            " [0.     1.     0.     0.    ]\n",
            " [0.     1.     0.     0.    ]\n",
            " [1.     0.     0.7882 0.2118]\n",
            " [0.     1.     0.     0.    ]\n",
            " [2.     0.     0.3485 0.6515]\n",
            " [2.     0.     0.3307 0.6693]\n",
            " [1.     0.065  0.9126 0.0223]\n",
            " [0.     1.     0.     0.    ]\n",
            " [1.     0.     0.689  0.311 ]\n",
            " [2.     0.     0.4641 0.5359]\n",
            " [1.     0.     0.7882 0.2118]\n",
            " [2.     0.     0.3444 0.6556]\n",
            " [1.     0.     0.5584 0.4416]\n",
            " [2.     0.     0.1594 0.8406]\n",
            " [0.     0.9997 0.0003 0.0001]\n",
            " [0.     1.     0.     0.    ]\n",
            " [2.     0.     0.1819 0.8181]\n",
            " [1.     0.     0.8287 0.1713]\n",
            " [1.     0.0064 0.8492 0.1444]\n",
            " [1.     0.0003 0.9579 0.0418]\n",
            " [2.     0.     0.0448 0.9552]\n",
            " [1.     0.     0.5926 0.4074]\n",
            " [2.     0.     0.2841 0.7159]\n",
            " [0.     1.     0.     0.    ]\n",
            " [2.     0.     0.1015 0.8985]\n",
            " [2.     0.     0.2966 0.7034]\n",
            " [1.     0.     0.9829 0.0171]\n",
            " [0.     1.     0.     0.    ]\n",
            " [1.     0.     0.6116 0.3884]\n",
            " [2.     0.     0.4733 0.5267]\n",
            " [1.     0.     0.6444 0.3556]\n",
            " [2.     0.     0.0619 0.9381]\n",
            " [2.     0.     0.0121 0.9879]\n",
            " [1.     0.     0.5584 0.4416]\n",
            " [1.     0.     0.626  0.374 ]\n",
            " [0.     1.     0.     0.    ]\n",
            " [0.     1.     0.     0.    ]\n",
            " [2.     0.     0.2137 0.7863]\n",
            " [0.     1.     0.     0.    ]\n",
            " [1.     0.     0.7638 0.2362]\n",
            " [2.     0.     0.1169 0.8831]\n",
            " [1.     0.     0.5387 0.4613]\n",
            " [0.     1.     0.     0.    ]\n",
            " [2.     0.     0.1233 0.8767]\n",
            " [1.     0.     0.6623 0.3377]\n",
            " [2.     0.     0.0363 0.9637]\n",
            " [0.     1.     0.     0.    ]\n",
            " [2.     0.     0.4641 0.5359]\n",
            " [0.     0.6487 0.3417 0.0096]]\n"
          ],
          "name": "stdout"
        }
      ]
    },
    {
      "cell_type": "markdown",
      "metadata": {
        "id": "vhi7dcW4VBqb",
        "colab_type": "text"
      },
      "source": [
        "### Class confidence outputs\n",
        "In our print statement, the first column is our decision, cols 2-4 are our class proability outputs."
      ]
    },
    {
      "cell_type": "code",
      "metadata": {
        "id": "7qoTc-cAVDf-",
        "colab_type": "code",
        "colab": {
          "base_uri": "https://localhost:8080/",
          "height": 903
        },
        "outputId": "dca98d52-8e6e-41a3-b5eb-c44d433b8d84"
      },
      "source": [
        "# showing the probabilities\n",
        "yhat_probs = logreg.predict_proba(X_test)\n",
        "\n",
        "np.set_printoptions(precision=4, suppress=True)\n",
        "print(yhat.shape, yhat_probs.shape)\n",
        "print(np.hstack([yhat.reshape(-1,1), yhat_probs]))"
      ],
      "execution_count": 153,
      "outputs": [
        {
          "output_type": "stream",
          "text": [
            "(50,) (50, 3)\n",
            "[[0.     1.     0.     0.    ]\n",
            " [0.     1.     0.     0.    ]\n",
            " [0.     1.     0.     0.    ]\n",
            " [1.     0.     0.7882 0.2118]\n",
            " [0.     1.     0.     0.    ]\n",
            " [2.     0.     0.3485 0.6515]\n",
            " [2.     0.     0.3307 0.6693]\n",
            " [1.     0.065  0.9126 0.0223]\n",
            " [0.     1.     0.     0.    ]\n",
            " [1.     0.     0.689  0.311 ]\n",
            " [2.     0.     0.4641 0.5359]\n",
            " [1.     0.     0.7882 0.2118]\n",
            " [2.     0.     0.3444 0.6556]\n",
            " [1.     0.     0.5584 0.4416]\n",
            " [2.     0.     0.1594 0.8406]\n",
            " [0.     0.9997 0.0003 0.0001]\n",
            " [0.     1.     0.     0.    ]\n",
            " [2.     0.     0.1819 0.8181]\n",
            " [1.     0.     0.8287 0.1713]\n",
            " [1.     0.0064 0.8492 0.1444]\n",
            " [1.     0.0003 0.9579 0.0418]\n",
            " [2.     0.     0.0448 0.9552]\n",
            " [1.     0.     0.5926 0.4074]\n",
            " [2.     0.     0.2841 0.7159]\n",
            " [0.     1.     0.     0.    ]\n",
            " [2.     0.     0.1015 0.8985]\n",
            " [2.     0.     0.2966 0.7034]\n",
            " [1.     0.     0.9829 0.0171]\n",
            " [0.     1.     0.     0.    ]\n",
            " [1.     0.     0.6116 0.3884]\n",
            " [2.     0.     0.4733 0.5267]\n",
            " [1.     0.     0.6444 0.3556]\n",
            " [2.     0.     0.0619 0.9381]\n",
            " [2.     0.     0.0121 0.9879]\n",
            " [1.     0.     0.5584 0.4416]\n",
            " [1.     0.     0.626  0.374 ]\n",
            " [0.     1.     0.     0.    ]\n",
            " [0.     1.     0.     0.    ]\n",
            " [2.     0.     0.2137 0.7863]\n",
            " [0.     1.     0.     0.    ]\n",
            " [1.     0.     0.7638 0.2362]\n",
            " [2.     0.     0.1169 0.8831]\n",
            " [1.     0.     0.5387 0.4613]\n",
            " [0.     1.     0.     0.    ]\n",
            " [2.     0.     0.1233 0.8767]\n",
            " [1.     0.     0.6623 0.3377]\n",
            " [2.     0.     0.0363 0.9637]\n",
            " [0.     1.     0.     0.    ]\n",
            " [2.     0.     0.4641 0.5359]\n",
            " [0.     0.6487 0.3417 0.0096]]\n"
          ],
          "name": "stdout"
        }
      ]
    },
    {
      "cell_type": "markdown",
      "metadata": {
        "id": "FQXV2ASfKacq",
        "colab_type": "text"
      },
      "source": [
        "## Attempt at polynomial feature engineering"
      ]
    },
    {
      "cell_type": "code",
      "metadata": {
        "id": "Gqn744KiG3JZ",
        "colab_type": "code",
        "colab": {
          "base_uri": "https://localhost:8080/",
          "height": 69
        },
        "outputId": "9bfedb87-4cff-4af3-8b03-87879d97dd01"
      },
      "source": [
        "from sklearn.preprocessing import PolynomialFeatures\n",
        "\n",
        "poly = PolynomialFeatures(9)\n",
        "Xpoly = poly.fit_transform(X)\n",
        "\n",
        "print(Xpoly.shape)\n",
        "\n",
        "X_train, X_test, y_train, y_test = train_test_split(Xpoly, y, test_size=0.33, random_state=42)\n",
        "\n",
        "logreg = LogisticRegression(C=1e8, solver='lbfgs', multi_class='multinomial', max_iter=5000)\n",
        "logreg.fit(X_train, y_train)\n",
        "\n",
        "print(logreg.score(X_train, y_train))\n",
        "\n",
        "yhat = logreg.predict(X_test)\n",
        "acc = np.mean(yhat == y_test)\n",
        "print(\"Accuracy on test data = %f\" % acc)"
      ],
      "execution_count": 127,
      "outputs": [
        {
          "output_type": "stream",
          "text": [
            "(150, 55)\n",
            "0.8\n",
            "Accuracy on test data = 0.700000\n"
          ],
          "name": "stdout"
        }
      ]
    },
    {
      "cell_type": "markdown",
      "metadata": {
        "id": "RLLutPz7KsRI",
        "colab_type": "text"
      },
      "source": [
        "## Onehot encoding function\n",
        "This function is not! necessary for this demo. Only being kept on this notebook for future purposes.\n",
        "\n",
        "Using the onehot functions in SKlearn and other libraries is **very annoying**.\n",
        "We can make our own function that is much easier to understand."
      ]
    },
    {
      "cell_type": "code",
      "metadata": {
        "id": "-E1xbWVNKuwN",
        "colab_type": "code",
        "colab": {
          "base_uri": "https://localhost:8080/",
          "height": 2622
        },
        "outputId": "a89a4f02-35df-4d06-bab7-cf8ccc9dfd44"
      },
      "source": [
        "def onehot_enc(y,num_classes):\n",
        "  (N,K) = (y.shape[0], num_classes)\n",
        "  I = np.eye(K)\n",
        "  y_onehot = np.zeros((N,K))\n",
        "  for i in range(N):\n",
        "    y_onehot[i,:] = I[y[i],:]\n",
        "  return y_onehot\n",
        "\n",
        "y_onehot = onehot_enc(y, 3)\n",
        "\n",
        "print(y_onehot)"
      ],
      "execution_count": 157,
      "outputs": [
        {
          "output_type": "stream",
          "text": [
            "[[1. 0. 0.]\n",
            " [1. 0. 0.]\n",
            " [1. 0. 0.]\n",
            " [1. 0. 0.]\n",
            " [1. 0. 0.]\n",
            " [1. 0. 0.]\n",
            " [1. 0. 0.]\n",
            " [1. 0. 0.]\n",
            " [1. 0. 0.]\n",
            " [1. 0. 0.]\n",
            " [1. 0. 0.]\n",
            " [1. 0. 0.]\n",
            " [1. 0. 0.]\n",
            " [1. 0. 0.]\n",
            " [1. 0. 0.]\n",
            " [1. 0. 0.]\n",
            " [1. 0. 0.]\n",
            " [1. 0. 0.]\n",
            " [1. 0. 0.]\n",
            " [1. 0. 0.]\n",
            " [1. 0. 0.]\n",
            " [1. 0. 0.]\n",
            " [1. 0. 0.]\n",
            " [1. 0. 0.]\n",
            " [1. 0. 0.]\n",
            " [1. 0. 0.]\n",
            " [1. 0. 0.]\n",
            " [1. 0. 0.]\n",
            " [1. 0. 0.]\n",
            " [1. 0. 0.]\n",
            " [1. 0. 0.]\n",
            " [1. 0. 0.]\n",
            " [1. 0. 0.]\n",
            " [1. 0. 0.]\n",
            " [1. 0. 0.]\n",
            " [1. 0. 0.]\n",
            " [1. 0. 0.]\n",
            " [1. 0. 0.]\n",
            " [1. 0. 0.]\n",
            " [1. 0. 0.]\n",
            " [1. 0. 0.]\n",
            " [1. 0. 0.]\n",
            " [1. 0. 0.]\n",
            " [1. 0. 0.]\n",
            " [1. 0. 0.]\n",
            " [1. 0. 0.]\n",
            " [1. 0. 0.]\n",
            " [1. 0. 0.]\n",
            " [1. 0. 0.]\n",
            " [1. 0. 0.]\n",
            " [0. 1. 0.]\n",
            " [0. 1. 0.]\n",
            " [0. 1. 0.]\n",
            " [0. 1. 0.]\n",
            " [0. 1. 0.]\n",
            " [0. 1. 0.]\n",
            " [0. 1. 0.]\n",
            " [0. 1. 0.]\n",
            " [0. 1. 0.]\n",
            " [0. 1. 0.]\n",
            " [0. 1. 0.]\n",
            " [0. 1. 0.]\n",
            " [0. 1. 0.]\n",
            " [0. 1. 0.]\n",
            " [0. 1. 0.]\n",
            " [0. 1. 0.]\n",
            " [0. 1. 0.]\n",
            " [0. 1. 0.]\n",
            " [0. 1. 0.]\n",
            " [0. 1. 0.]\n",
            " [0. 1. 0.]\n",
            " [0. 1. 0.]\n",
            " [0. 1. 0.]\n",
            " [0. 1. 0.]\n",
            " [0. 1. 0.]\n",
            " [0. 1. 0.]\n",
            " [0. 1. 0.]\n",
            " [0. 1. 0.]\n",
            " [0. 1. 0.]\n",
            " [0. 1. 0.]\n",
            " [0. 1. 0.]\n",
            " [0. 1. 0.]\n",
            " [0. 1. 0.]\n",
            " [0. 1. 0.]\n",
            " [0. 1. 0.]\n",
            " [0. 1. 0.]\n",
            " [0. 1. 0.]\n",
            " [0. 1. 0.]\n",
            " [0. 1. 0.]\n",
            " [0. 1. 0.]\n",
            " [0. 1. 0.]\n",
            " [0. 1. 0.]\n",
            " [0. 1. 0.]\n",
            " [0. 1. 0.]\n",
            " [0. 1. 0.]\n",
            " [0. 1. 0.]\n",
            " [0. 1. 0.]\n",
            " [0. 1. 0.]\n",
            " [0. 1. 0.]\n",
            " [0. 1. 0.]\n",
            " [0. 0. 1.]\n",
            " [0. 0. 1.]\n",
            " [0. 0. 1.]\n",
            " [0. 0. 1.]\n",
            " [0. 0. 1.]\n",
            " [0. 0. 1.]\n",
            " [0. 0. 1.]\n",
            " [0. 0. 1.]\n",
            " [0. 0. 1.]\n",
            " [0. 0. 1.]\n",
            " [0. 0. 1.]\n",
            " [0. 0. 1.]\n",
            " [0. 0. 1.]\n",
            " [0. 0. 1.]\n",
            " [0. 0. 1.]\n",
            " [0. 0. 1.]\n",
            " [0. 0. 1.]\n",
            " [0. 0. 1.]\n",
            " [0. 0. 1.]\n",
            " [0. 0. 1.]\n",
            " [0. 0. 1.]\n",
            " [0. 0. 1.]\n",
            " [0. 0. 1.]\n",
            " [0. 0. 1.]\n",
            " [0. 0. 1.]\n",
            " [0. 0. 1.]\n",
            " [0. 0. 1.]\n",
            " [0. 0. 1.]\n",
            " [0. 0. 1.]\n",
            " [0. 0. 1.]\n",
            " [0. 0. 1.]\n",
            " [0. 0. 1.]\n",
            " [0. 0. 1.]\n",
            " [0. 0. 1.]\n",
            " [0. 0. 1.]\n",
            " [0. 0. 1.]\n",
            " [0. 0. 1.]\n",
            " [0. 0. 1.]\n",
            " [0. 0. 1.]\n",
            " [0. 0. 1.]\n",
            " [0. 0. 1.]\n",
            " [0. 0. 1.]\n",
            " [0. 0. 1.]\n",
            " [0. 0. 1.]\n",
            " [0. 0. 1.]\n",
            " [0. 0. 1.]\n",
            " [0. 0. 1.]\n",
            " [0. 0. 1.]\n",
            " [0. 0. 1.]\n",
            " [0. 0. 1.]]\n"
          ],
          "name": "stdout"
        }
      ]
    }
  ]
}