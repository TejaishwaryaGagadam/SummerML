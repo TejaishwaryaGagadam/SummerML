{
  "nbformat": 4,
  "nbformat_minor": 0,
  "metadata": {
    "colab": {
      "name": "Day4.ipynb",
      "version": "0.3.2",
      "provenance": [],
      "collapsed_sections": [],
      "include_colab_link": true
    },
    "kernelspec": {
      "name": "python3",
      "display_name": "Python 3"
    }
  },
  "cells": [
    {
      "cell_type": "markdown",
      "metadata": {
        "id": "view-in-github",
        "colab_type": "text"
      },
      "source": [
        "<a href=\"https://colab.research.google.com/github/nikopj/SummerML/blob/master/Day4/Day4.ipynb\" target=\"_parent\"><img src=\"https://colab.research.google.com/assets/colab-badge.svg\" alt=\"Open In Colab\"/></a>"
      ]
    },
    {
      "cell_type": "markdown",
      "metadata": {
        "id": "CmbsAxv7YTa4",
        "colab_type": "text"
      },
      "source": [
        "##Breast Cancer Diagnosis via Logistic Regression\n",
        "In this demo, we will see how to visualize training data for classification, plot the logistic function and perform logistic regression. As an example, we will use the widely-used breast cancer data set. This data set is described here:\n",
        "\n",
        "https://archive.ics.uci.edu/ml/machine-learning-databases/breast-cancer-wisconsin\n",
        "\n",
        "Each sample is a collection of features that were manually recorded by a physician upon inspecting a sample of cells from fine needle aspiration. The goal is to detect if the cells are benign or malignant.\n",
        "\n",
        "Loading and Visualizing the Data\n",
        "We first load the packages as usual."
      ]
    },
    {
      "cell_type": "markdown",
      "metadata": {
        "id": "3aUtYKsLZ6Kd",
        "colab_type": "text"
      },
      "source": [
        "## Loading and Visualizing the Data\n",
        "\n",
        "We first load the packages as usual"
      ]
    },
    {
      "cell_type": "code",
      "metadata": {
        "id": "rwNB__jwZz9g",
        "colab_type": "code",
        "colab": {}
      },
      "source": [
        "import numpy as np\n",
        "import matplotlib\n",
        "import matplotlib.pyplot as plt\n",
        "import pandas as pd\n",
        "from sklearn import datasets, linear_model, preprocessing\n",
        "%matplotlib inline"
      ],
      "execution_count": 0,
      "outputs": []
    },
    {
      "cell_type": "markdown",
      "metadata": {
        "id": "cO8pYrX7aMnP",
        "colab_type": "text"
      },
      "source": [
        "Next, we load the data.  It is important to remove the missing values."
      ]
    },
    {
      "cell_type": "code",
      "metadata": {
        "id": "VyJZjz0saIAL",
        "colab_type": "code",
        "outputId": "c2132a43-8f04-4b98-8f53-93a6b6168c35",
        "colab": {
          "base_uri": "https://localhost:8080/",
          "height": 235
        }
      },
      "source": [
        "names = ['id','thick','size_unif','shape_unif','marg','cell_size','bare',\n",
        "         'chrom','normal','mit','class']\n",
        "df = pd.read_csv('https://archive.ics.uci.edu/ml/machine-learning-databases/' +\n",
        "                 'breast-cancer-wisconsin/breast-cancer-wisconsin.data',\n",
        "                names=names,na_values='?',header=None)\n",
        "df = df.dropna()\n",
        "df.head(6)"
      ],
      "execution_count": 0,
      "outputs": [
        {
          "output_type": "execute_result",
          "data": {
            "text/html": [
              "<div>\n",
              "<style scoped>\n",
              "    .dataframe tbody tr th:only-of-type {\n",
              "        vertical-align: middle;\n",
              "    }\n",
              "\n",
              "    .dataframe tbody tr th {\n",
              "        vertical-align: top;\n",
              "    }\n",
              "\n",
              "    .dataframe thead th {\n",
              "        text-align: right;\n",
              "    }\n",
              "</style>\n",
              "<table border=\"1\" class=\"dataframe\">\n",
              "  <thead>\n",
              "    <tr style=\"text-align: right;\">\n",
              "      <th></th>\n",
              "      <th>id</th>\n",
              "      <th>thick</th>\n",
              "      <th>size_unif</th>\n",
              "      <th>shape_unif</th>\n",
              "      <th>marg</th>\n",
              "      <th>cell_size</th>\n",
              "      <th>bare</th>\n",
              "      <th>chrom</th>\n",
              "      <th>normal</th>\n",
              "      <th>mit</th>\n",
              "      <th>class</th>\n",
              "    </tr>\n",
              "  </thead>\n",
              "  <tbody>\n",
              "    <tr>\n",
              "      <th>0</th>\n",
              "      <td>1000025</td>\n",
              "      <td>5</td>\n",
              "      <td>1</td>\n",
              "      <td>1</td>\n",
              "      <td>1</td>\n",
              "      <td>2</td>\n",
              "      <td>1.0</td>\n",
              "      <td>3</td>\n",
              "      <td>1</td>\n",
              "      <td>1</td>\n",
              "      <td>2</td>\n",
              "    </tr>\n",
              "    <tr>\n",
              "      <th>1</th>\n",
              "      <td>1002945</td>\n",
              "      <td>5</td>\n",
              "      <td>4</td>\n",
              "      <td>4</td>\n",
              "      <td>5</td>\n",
              "      <td>7</td>\n",
              "      <td>10.0</td>\n",
              "      <td>3</td>\n",
              "      <td>2</td>\n",
              "      <td>1</td>\n",
              "      <td>2</td>\n",
              "    </tr>\n",
              "    <tr>\n",
              "      <th>2</th>\n",
              "      <td>1015425</td>\n",
              "      <td>3</td>\n",
              "      <td>1</td>\n",
              "      <td>1</td>\n",
              "      <td>1</td>\n",
              "      <td>2</td>\n",
              "      <td>2.0</td>\n",
              "      <td>3</td>\n",
              "      <td>1</td>\n",
              "      <td>1</td>\n",
              "      <td>2</td>\n",
              "    </tr>\n",
              "    <tr>\n",
              "      <th>3</th>\n",
              "      <td>1016277</td>\n",
              "      <td>6</td>\n",
              "      <td>8</td>\n",
              "      <td>8</td>\n",
              "      <td>1</td>\n",
              "      <td>3</td>\n",
              "      <td>4.0</td>\n",
              "      <td>3</td>\n",
              "      <td>7</td>\n",
              "      <td>1</td>\n",
              "      <td>2</td>\n",
              "    </tr>\n",
              "    <tr>\n",
              "      <th>4</th>\n",
              "      <td>1017023</td>\n",
              "      <td>4</td>\n",
              "      <td>1</td>\n",
              "      <td>1</td>\n",
              "      <td>3</td>\n",
              "      <td>2</td>\n",
              "      <td>1.0</td>\n",
              "      <td>3</td>\n",
              "      <td>1</td>\n",
              "      <td>1</td>\n",
              "      <td>2</td>\n",
              "    </tr>\n",
              "    <tr>\n",
              "      <th>5</th>\n",
              "      <td>1017122</td>\n",
              "      <td>8</td>\n",
              "      <td>10</td>\n",
              "      <td>10</td>\n",
              "      <td>8</td>\n",
              "      <td>7</td>\n",
              "      <td>10.0</td>\n",
              "      <td>9</td>\n",
              "      <td>7</td>\n",
              "      <td>1</td>\n",
              "      <td>4</td>\n",
              "    </tr>\n",
              "  </tbody>\n",
              "</table>\n",
              "</div>"
            ],
            "text/plain": [
              "        id  thick  size_unif  shape_unif  marg  ...  bare  chrom  normal  mit  class\n",
              "0  1000025      5          1           1     1  ...   1.0      3       1    1      2\n",
              "1  1002945      5          4           4     5  ...  10.0      3       2    1      2\n",
              "2  1015425      3          1           1     1  ...   2.0      3       1    1      2\n",
              "3  1016277      6          8           8     1  ...   4.0      3       7    1      2\n",
              "4  1017023      4          1           1     3  ...   1.0      3       1    1      2\n",
              "5  1017122      8         10          10     8  ...  10.0      9       7    1      4\n",
              "\n",
              "[6 rows x 11 columns]"
            ]
          },
          "metadata": {
            "tags": []
          },
          "execution_count": 2
        }
      ]
    },
    {
      "cell_type": "markdown",
      "metadata": {
        "id": "0HCkrbGSaVZ2",
        "colab_type": "text"
      },
      "source": [
        "After loading the data, we can create a scatter plot of the data labeling the class values with different colors.  We will pick two of the features.  "
      ]
    },
    {
      "cell_type": "code",
      "metadata": {
        "id": "0Q98TGQ0aPj7",
        "colab_type": "code",
        "outputId": "c58bb3f4-71b8-4255-93c0-a87da82421a5",
        "colab": {
          "base_uri": "https://localhost:8080/",
          "height": 307
        }
      },
      "source": [
        "# Get the response.  Convert to a zero-one indicator \n",
        "yraw = np.array(df['class'])\n",
        "BEN_VAL = 2   # value in the 'class' label for benign samples\n",
        "MAL_VAL = 4   # value in the 'class' label for malignant samples\n",
        "y = (yraw == MAL_VAL).astype(int)\n",
        "Iben = (y==0)\n",
        "Imal = (y==1)\n",
        "\n",
        "# Get two predictors\n",
        "xnames =['size_unif','marg'] \n",
        "X = np.array(df[xnames])\n",
        "\n",
        "# Create the scatter plot\n",
        "plt.plot(X[Imal,0],X[Imal,1],'r.')\n",
        "plt.plot(X[Iben,0],X[Iben,1],'g.')\n",
        "plt.xlabel(xnames[0], fontsize=16)\n",
        "plt.ylabel(xnames[1], fontsize=16)\n",
        "plt.ylim(0,14)\n",
        "plt.legend(['malign','benign'],loc='upper right')"
      ],
      "execution_count": 0,
      "outputs": [
        {
          "output_type": "execute_result",
          "data": {
            "text/plain": [
              "<matplotlib.legend.Legend at 0x7f1c782853c8>"
            ]
          },
          "metadata": {
            "tags": []
          },
          "execution_count": 3
        },
        {
          "output_type": "display_data",
          "data": {
            "image/png": "[encoded data removed]",
            "text/plain": [
              "<Figure size 432x288 with 1 Axes>"
            ]
          },
          "metadata": {
            "tags": []
          }
        }
      ]
    },
    {
      "cell_type": "markdown",
      "metadata": {
        "id": "szwcqPJhcP7i",
        "colab_type": "text"
      },
      "source": [
        "The above plot is not informative, since many of the points are on top of one another.  Thus, we cannot see the relative frequency of points.  \n",
        "\n",
        "One way to improve the plot is to draw circles on each point whose size is proportional to the count of samples at that point.  We will re-use this code, so we define a function. "
      ]
    },
    {
      "cell_type": "code",
      "metadata": {
        "id": "Tn3ytXi4aax4",
        "colab_type": "code",
        "outputId": "ba7d0be2-f608-4c52-cf27-8e803fb26dc4",
        "colab": {
          "base_uri": "https://localhost:8080/",
          "height": 307
        }
      },
      "source": [
        "def plot_cnt(X,y):\n",
        "    \n",
        "    # Compute the bin edges for the 2d histogram\n",
        "    x0val = np.array(list(set(X[:,0]))).astype(float)\n",
        "    x1val = np.array(list(set(X[:,1]))).astype(float)\n",
        "    x0, x1 = np.meshgrid(x0val,x1val)\n",
        "    x0e= np.hstack((x0val,np.max(x0val)+1))\n",
        "    x1e= np.hstack((x1val,np.max(x1val)+1))\n",
        "\n",
        "    # Make a plot for each class\n",
        "    yval = list(set(y))\n",
        "    color = ['g','r']\n",
        "    for i in range(len(yval)):\n",
        "        I = np.where(y==yval[i])[0]\n",
        "        cnt, x0e, x1e = np.histogram2d(X[I,0],X[I,1],[x0e,x1e])\n",
        "        x0, x1 = np.meshgrid(x0val,x1val)\n",
        "        plt.scatter(x0.ravel(), x1.ravel(), s=2*cnt.ravel(),alpha=0.5,\n",
        "                    c=color[i],edgecolors='none')\n",
        "    plt.ylim([0,14])\n",
        "    plt.legend(['benign','malign'], loc='upper right')\n",
        "    plt.xlabel(xnames[0], fontsize=16)\n",
        "    plt.ylabel(xnames[1], fontsize=16)\n",
        "    return plt\n",
        "\n",
        "plot_cnt(X,y)"
      ],
      "execution_count": 0,
      "outputs": [
        {
          "output_type": "execute_result",
          "data": {
            "text/plain": [
              "<module 'matplotlib.pyplot' from '/usr/local/lib/python3.6/dist-packages/matplotlib/pyplot.py'>"
            ]
          },
          "metadata": {
            "tags": []
          },
          "execution_count": 4
        },
        {
          "output_type": "display_data",
          "data": {
            "image/png": "[encoded data removed]",
            "text/plain": [
              "<Figure size 432x288 with 1 Axes>"
            ]
          },
          "metadata": {
            "tags": []
          }
        }
      ]
    },
    {
      "cell_type": "markdown",
      "metadata": {
        "id": "UuhJuHdMc0qU",
        "colab_type": "text"
      },
      "source": [
        "## In-Class Exercise\n",
        "\n",
        "Based on the above plot, what would be a good \"classifer\" using the two features.  That is, write a function that makes a prediction `yhat` of the class label `y`.  Code up your classifier function.  Measure the accuracy of the classifier on the data.  What percentage error does your classifier get?"
      ]
    },
    {
      "cell_type": "code",
      "metadata": {
        "id": "Z0dpr-stcZZY",
        "colab_type": "code",
        "colab": {}
      },
      "source": [
        "#TO DO"
      ],
      "execution_count": 0,
      "outputs": []
    },
    {
      "cell_type": "markdown",
      "metadata": {
        "id": "mm9rEUEFhI1c",
        "colab_type": "text"
      },
      "source": [
        "## Some Simple Classification ideas"
      ]
    },
    {
      "cell_type": "markdown",
      "metadata": {
        "id": "tjZUpLWwhOWq",
        "colab_type": "text"
      },
      "source": [
        "Here are some ideas for classification that you may have already thought of.  We can see that the benign samples are located in the lower left.  So, one simple classification rule is to define the region with a line.  We plot the region for one possible line with the following code."
      ]
    },
    {
      "cell_type": "code",
      "metadata": {
        "id": "6YEsPJqLc2z3",
        "colab_type": "code",
        "outputId": "9a1b98d0-6ee5-4290-a53f-10f828a5addc",
        "colab": {
          "base_uri": "https://localhost:8080/",
          "height": 307
        }
      },
      "source": [
        "from matplotlib import patches\n",
        "plt = plot_cnt(X,y)\n",
        "\n",
        "ax = plt.gca() \n",
        "ax.add_patch(\n",
        "    patches.Polygon([[0,0],[0,4],[6,0]],\n",
        "        color='green',\n",
        "        fill=False, hatch = '//'\n",
        "    )\n",
        ")"
      ],
      "execution_count": 0,
      "outputs": [
        {
          "output_type": "execute_result",
          "data": {
            "text/plain": [
              "<matplotlib.patches.Polygon at 0x7f1c75912ef0>"
            ]
          },
          "metadata": {
            "tags": []
          },
          "execution_count": 6
        },
        {
          "output_type": "display_data",
          "data": {
            "image/png": "[encoded data removed]",
            "text/plain": [
              "<Figure size 432x288 with 1 Axes>"
            ]
          },
          "metadata": {
            "tags": []
          }
        }
      ]
    },
    {
      "cell_type": "markdown",
      "metadata": {
        "id": "0o9RLTZahYoD",
        "colab_type": "text"
      },
      "source": [
        "Here is an alternate classification rule based on two linear constraints."
      ]
    },
    {
      "cell_type": "code",
      "metadata": {
        "id": "zxTv7iRShUmv",
        "colab_type": "code",
        "outputId": "3d69f4d4-af7c-4f12-c978-a179f29b8233",
        "colab": {
          "base_uri": "https://localhost:8080/",
          "height": 307
        }
      },
      "source": [
        "plt = plot_cnt(X,y)\n",
        "ax = plt.gca()\n",
        "ax.add_patch(\n",
        "    patches.Rectangle(\n",
        "        (0, 0),   # (x,y)\n",
        "        width=3.5, height=4.5,  color='green',\n",
        "        fill=False, hatch = '//'\n",
        "    )\n",
        ")"
      ],
      "execution_count": 0,
      "outputs": [
        {
          "output_type": "execute_result",
          "data": {
            "text/plain": [
              "<matplotlib.patches.Rectangle at 0x7f1c758fec50>"
            ]
          },
          "metadata": {
            "tags": []
          },
          "execution_count": 7
        },
        {
          "output_type": "display_data",
          "data": {
            "image/png": "[encoded data removed]",
            "text/plain": [
              "<Figure size 432x288 with 1 Axes>"
            ]
          },
          "metadata": {
            "tags": []
          }
        }
      ]
    },
    {
      "cell_type": "markdown",
      "metadata": {
        "id": "bQSNoDkNnm3l",
        "colab_type": "text"
      },
      "source": [
        "## Let us try to find the best linear classifier by using linear regression!"
      ]
    },
    {
      "cell_type": "code",
      "metadata": {
        "id": "xpQBis3ThdY2",
        "colab_type": "code",
        "outputId": "6562033d-f34e-4fb2-b7bb-ff38418f892e",
        "colab": {
          "base_uri": "https://localhost:8080/",
          "height": 51
        }
      },
      "source": [
        "xnames =['size_unif','marg'] \n",
        "X = np.array(df[xnames])\n",
        "y1=y-0.5 \n",
        "from sklearn import datasets, linear_model\n",
        "regr = linear_model.LinearRegression()\n",
        "regr.fit(X,y1)\n",
        "print('regr.intercept=',regr.intercept_)\n",
        "print('regr.coef=',regr.coef_)"
      ],
      "execution_count": 0,
      "outputs": [
        {
          "output_type": "stream",
          "text": [
            "regr.intercept= -0.5842006662006151\n",
            "regr.coef= [0.10007944 0.04197521]\n"
          ],
          "name": "stdout"
        }
      ]
    },
    {
      "cell_type": "markdown",
      "metadata": {
        "id": "yZ1DEIXboC5j",
        "colab_type": "text"
      },
      "source": [
        "We can visualize this linear regression function as a separating line by setting y1=0, and find the relation between the two features by setting\n",
        "w0+w1 * x1 + w2 * x2 = 0 ==> x2 = (-w0 - w1 * x1)/w2\n",
        "We can plot this line together with the previous scatter plot"
      ]
    },
    {
      "cell_type": "code",
      "metadata": {
        "id": "XufilJ9nn-it",
        "colab_type": "code",
        "outputId": "2dd6748b-16eb-45b5-afa3-fdd3f0116365",
        "colab": {
          "base_uri": "https://localhost:8080/",
          "height": 307
        }
      },
      "source": [
        "w0=regr.intercept_\n",
        "w1=regr.coef_[0]\n",
        "w2=regr.coef_[1]\n",
        "plt = plot_cnt(X,y)\n",
        "x1=np.zeros([11,1])\n",
        "x2=np.zeros([11,1])\n",
        "for i in range(11):\n",
        "    x1[i]=i;\n",
        "    x2[i]=(- w0-w1*i)/w2\n",
        "    \n",
        "plt.plot(x1, x2)"
      ],
      "execution_count": 0,
      "outputs": [
        {
          "output_type": "execute_result",
          "data": {
            "text/plain": [
              "[<matplotlib.lines.Line2D at 0x7f1c7586ce10>]"
            ]
          },
          "metadata": {
            "tags": []
          },
          "execution_count": 9
        },
        {
          "output_type": "display_data",
          "data": {
            "image/png": "[encoded data removed]",
            "text/plain": [
              "<Figure size 432x288 with 1 Axes>"
            ]
          },
          "metadata": {
            "tags": []
          }
        }
      ]
    },
    {
      "cell_type": "code",
      "metadata": {
        "id": "10y795LCoZ1n",
        "colab_type": "code",
        "outputId": "e8da04ab-81d9-418d-af24-c8849d21bb4a",
        "colab": {
          "base_uri": "https://localhost:8080/",
          "height": 34
        }
      },
      "source": [
        "yhat=regr.predict(X)\n",
        "yhati= (yhat >=0).astype(int)\n",
        "acc = np.mean(yhati == y)\n",
        "print(\"Accuracy on training data using two features = %f\" % acc)"
      ],
      "execution_count": 0,
      "outputs": [
        {
          "output_type": "stream",
          "text": [
            "Accuracy on training data using two features = 0.922401\n"
          ],
          "name": "stdout"
        }
      ]
    },
    {
      "cell_type": "code",
      "metadata": {
        "id": "su7b3Vd7o_Gx",
        "colab_type": "code",
        "outputId": "4f225bdb-fa84-4c84-8b79-b0d0bdf46563",
        "colab": {
          "base_uri": "https://localhost:8080/",
          "height": 34
        }
      },
      "source": [
        "xnames = ['thick','size_unif','shape_unif','marg','cell_size','bare',\n",
        "         'chrom','normal','mit']\n",
        "X = np.array(df[xnames])\n",
        "\n",
        "Xs = preprocessing.scale(X)\n",
        "regr.fit(Xs,y1)\n",
        "yhat=regr.predict(Xs)\n",
        "yhati= (yhat >=0).astype(int)\n",
        "acc = np.mean(yhati == y)\n",
        "print(\"Accuracy on training data using 10 features = %f\" % acc)"
      ],
      "execution_count": 0,
      "outputs": [
        {
          "output_type": "stream",
          "text": [
            "Accuracy on training data using 10 features = 0.960469\n"
          ],
          "name": "stdout"
        }
      ]
    },
    {
      "cell_type": "code",
      "metadata": {
        "id": "zRRyryIZpDyc",
        "colab_type": "code",
        "outputId": "899447da-7c51-4214-b998-b18f57b193c8",
        "colab": {
          "base_uri": "https://localhost:8080/",
          "height": 328
        }
      },
      "source": [
        "data = {'feature': xnames, 'slope': np.squeeze(regr.coef_)}\n",
        "dfslope = pd.DataFrame(data=data)\n",
        "dfslope"
      ],
      "execution_count": 0,
      "outputs": [
        {
          "output_type": "execute_result",
          "data": {
            "text/html": [
              "<div>\n",
              "<style scoped>\n",
              "    .dataframe tbody tr th:only-of-type {\n",
              "        vertical-align: middle;\n",
              "    }\n",
              "\n",
              "    .dataframe tbody tr th {\n",
              "        vertical-align: top;\n",
              "    }\n",
              "\n",
              "    .dataframe thead th {\n",
              "        text-align: right;\n",
              "    }\n",
              "</style>\n",
              "<table border=\"1\" class=\"dataframe\">\n",
              "  <thead>\n",
              "    <tr style=\"text-align: right;\">\n",
              "      <th></th>\n",
              "      <th>feature</th>\n",
              "      <th>slope</th>\n",
              "    </tr>\n",
              "  </thead>\n",
              "  <tbody>\n",
              "    <tr>\n",
              "      <th>0</th>\n",
              "      <td>thick</td>\n",
              "      <td>0.089390</td>\n",
              "    </tr>\n",
              "    <tr>\n",
              "      <th>1</th>\n",
              "      <td>size_unif</td>\n",
              "      <td>0.066909</td>\n",
              "    </tr>\n",
              "    <tr>\n",
              "      <th>2</th>\n",
              "      <td>shape_unif</td>\n",
              "      <td>0.046706</td>\n",
              "    </tr>\n",
              "    <tr>\n",
              "      <th>3</th>\n",
              "      <td>marg</td>\n",
              "      <td>0.023596</td>\n",
              "    </tr>\n",
              "    <tr>\n",
              "      <th>4</th>\n",
              "      <td>cell_size</td>\n",
              "      <td>0.022381</td>\n",
              "    </tr>\n",
              "    <tr>\n",
              "      <th>5</th>\n",
              "      <td>bare</td>\n",
              "      <td>0.165260</td>\n",
              "    </tr>\n",
              "    <tr>\n",
              "      <th>6</th>\n",
              "      <td>chrom</td>\n",
              "      <td>0.046940</td>\n",
              "    </tr>\n",
              "    <tr>\n",
              "      <th>7</th>\n",
              "      <td>normal</td>\n",
              "      <td>0.056522</td>\n",
              "    </tr>\n",
              "    <tr>\n",
              "      <th>8</th>\n",
              "      <td>mit</td>\n",
              "      <td>0.001695</td>\n",
              "    </tr>\n",
              "  </tbody>\n",
              "</table>\n",
              "</div>"
            ],
            "text/plain": [
              "      feature     slope\n",
              "0       thick  0.089390\n",
              "1   size_unif  0.066909\n",
              "2  shape_unif  0.046706\n",
              "3        marg  0.023596\n",
              "4   cell_size  0.022381\n",
              "5        bare  0.165260\n",
              "6       chrom  0.046940\n",
              "7      normal  0.056522\n",
              "8         mit  0.001695"
            ]
          },
          "metadata": {
            "tags": []
          },
          "execution_count": 12
        }
      ]
    },
    {
      "cell_type": "markdown",
      "metadata": {
        "id": "8jEhjiCGw5ei",
        "colab_type": "text"
      },
      "source": [
        "## Logistic Functions"
      ]
    },
    {
      "cell_type": "markdown",
      "metadata": {
        "id": "NC9QG6qUw_Yp",
        "colab_type": "text"
      },
      "source": [
        "This demo illustrate an important classifier known as *logistic regression*.  In logistic regression, we do not just output an estimate of the class label, `yhat`.  Instead, we ouput a *probability*, an estimate of how likely the sample is one class or the other.  That is our output is a number from 0 to 1 representing the likelihood:\n",
        "$$\n",
        "    P(y = 1|x)\n",
        "$$\n",
        "which is our estimate of the probability that the sample is one class (in this case, a malignant sample) based on the features `x`.  This is sometimes called a *soft classifier*.  \n",
        "\n",
        "In logistic regression, we assume that likelihood is of the form\n",
        "$$\n",
        "    P(y=1|x) = f(z),  \\quad z = w_0 + w_1x_1 + \\cdots + w_kx_k,  \n",
        "$$\n",
        "where $w_0,\\ldots,w_k$ are the classifier weights and $f(z)$ is the so-called *logistic* function:\n",
        "$$\n",
        "    f(z) = \\frac{1}{1+e^{-z}}.\n",
        "$$\n",
        "\n",
        "To understand the logistic function, suppose $x$ is a scalar and samples $y$ are drawn with $P(y=1|x) = f(w_1x)$ for some scaling constant $w_1$.  We plot these samples for different $w_1$."
      ]
    },
    {
      "cell_type": "code",
      "metadata": {
        "id": "NCRlPGoIp-Xu",
        "colab_type": "code",
        "outputId": "239e7d0e-48cf-4532-eeca-77a444c6f3fd",
        "colab": {
          "base_uri": "https://localhost:8080/",
          "height": 281
        }
      },
      "source": [
        "nx = 100\n",
        "xm = 10\n",
        "w1s = np.array([0.5,1,2,10])\n",
        "nplot = w1s.size\n",
        "iplot = 0\n",
        "for w1 in w1s:\n",
        "    iplot += 1\n",
        "    x  = np.random.uniform(-xm,xm,nx)\n",
        "    plt.subplot(1,nplot,iplot)\n",
        "    py = 1/(1+np.exp(-w1*x))\n",
        "    yp = np.array(np.random.rand(nx) < py)\n",
        "    xp = np.linspace(-xm,xm,100)\n",
        "    pyp = 1/(1+np.exp(-w1*xp))\n",
        "\n",
        "    plt.scatter(x,yp,c=yp,edgecolors='none',marker='+')\n",
        "    plt.plot(xp,pyp,'b-')\n",
        "    plt.axis([-xm,xm,-0.1,1.1])\n",
        "    plt.grid()\n",
        "    if (iplot > 1):\n",
        "        plt.yticks([])\n",
        "    plt.xticks([-10,0,10])\n",
        "    plt.title('w1={0:.1f}'.format(w1))\n"
      ],
      "execution_count": 0,
      "outputs": [
        {
          "output_type": "display_data",
          "data": {
            "image/png": "[encoded data removed]",
            "text/plain": [
              "<Figure size 432x288 with 4 Axes>"
            ]
          },
          "metadata": {
            "tags": []
          }
        }
      ]
    },
    {
      "cell_type": "markdown",
      "metadata": {
        "id": "sONaWyCwyMds",
        "colab_type": "text"
      },
      "source": [
        "We see that $f(w_1x)$ represents the probability that $y=1$.  The function $f(w_1x) > 0.5$ for $x>0$ meaning the samples are more likely to be $y=1$.  Similarly, for $x<0$, the samples are more likely to $y=0$.  The scaling $w_1$ determines how fast that transition is."
      ]
    },
    {
      "cell_type": "markdown",
      "metadata": {
        "id": "fM2FMllYyY9a",
        "colab_type": "text"
      },
      "source": [
        "## Fitting the Logistic Model\n",
        "\n",
        "In a logistic model, we must fit the weights $w_0,w_1,\\ldots,w_k$ in the model \n",
        "$$\n",
        "    P(y=1|x) = f(z),  \\quad z = w_0 + w_1x_1 + \\cdots + w_kx_k,  \n",
        "$$\n",
        "The `sklearn` module has very good routines for fitting this model.  First we get the training data and samples.  We will standardize the `X` values to make more sense of the slope values."
      ]
    },
    {
      "cell_type": "code",
      "metadata": {
        "id": "R8kE-TqWxrqd",
        "colab_type": "code",
        "colab": {}
      },
      "source": [
        "xnames = ['thick','size_unif','shape_unif','marg','cell_size','bare',\n",
        "         'chrom','normal','mit']\n",
        "X = np.array(df[xnames])\n",
        "Xs = preprocessing.scale(X)"
      ],
      "execution_count": 0,
      "outputs": []
    },
    {
      "cell_type": "markdown",
      "metadata": {
        "id": "D6P7f6sNzJWP",
        "colab_type": "text"
      },
      "source": [
        "Next, we create a logistic regression object.  The parameter `C` states the level of regularization and will be discussed in class."
      ]
    },
    {
      "cell_type": "code",
      "metadata": {
        "id": "6gnAmeFfzFjV",
        "colab_type": "code",
        "colab": {}
      },
      "source": [
        "logreg = linear_model.LogisticRegression(C=1e5)"
      ],
      "execution_count": 0,
      "outputs": []
    },
    {
      "cell_type": "markdown",
      "metadata": {
        "id": "zSd9AEAxzPvL",
        "colab_type": "text"
      },
      "source": [
        "Then, we fit the model"
      ]
    },
    {
      "cell_type": "code",
      "metadata": {
        "id": "Yjqfv0iNzO1B",
        "colab_type": "code",
        "outputId": "b28583e7-4c1e-4702-f2e1-0f15b4faf439",
        "colab": {
          "base_uri": "https://localhost:8080/",
          "height": 156
        }
      },
      "source": [
        "logreg.fit(Xs, y)"
      ],
      "execution_count": 0,
      "outputs": [
        {
          "output_type": "stream",
          "text": [
            "/usr/local/lib/python3.6/dist-packages/sklearn/linear_model/logistic.py:432: FutureWarning: Default solver will be changed to 'lbfgs' in 0.22. Specify a solver to silence this warning.\n",
            "  FutureWarning)\n"
          ],
          "name": "stderr"
        },
        {
          "output_type": "execute_result",
          "data": {
            "text/plain": [
              "LogisticRegression(C=100000.0, class_weight=None, dual=False,\n",
              "                   fit_intercept=True, intercept_scaling=1, l1_ratio=None,\n",
              "                   max_iter=100, multi_class='warn', n_jobs=None, penalty='l2',\n",
              "                   random_state=None, solver='warn', tol=0.0001, verbose=0,\n",
              "                   warm_start=False)"
            ]
          },
          "metadata": {
            "tags": []
          },
          "execution_count": 16
        }
      ]
    },
    {
      "cell_type": "markdown",
      "metadata": {
        "id": "FPRl2UBSzbEy",
        "colab_type": "text"
      },
      "source": [
        "We can next plot the accuracy on the training data.  We see we get an accuracy better than simple linear classifier. "
      ]
    },
    {
      "cell_type": "code",
      "metadata": {
        "id": "b_XLkmgMzVCM",
        "colab_type": "code",
        "outputId": "9d77092c-bd3d-42f3-e0b9-88632ab44af1",
        "colab": {
          "base_uri": "https://localhost:8080/",
          "height": 34
        }
      },
      "source": [
        "yhat = logreg.predict(Xs)\n",
        "acc = np.mean(yhat == y)\n",
        "print(\"Accuracy on training data = %f\" % acc)"
      ],
      "execution_count": 0,
      "outputs": [
        {
          "output_type": "stream",
          "text": [
            "Accuracy on training data = 0.969253\n"
          ],
          "name": "stdout"
        }
      ]
    },
    {
      "cell_type": "markdown",
      "metadata": {
        "id": "sSt2Ur5Kzwey",
        "colab_type": "text"
      },
      "source": [
        "It is also useful to print the weights for each feature.  We can use the `pandas` package to make a table. "
      ]
    },
    {
      "cell_type": "code",
      "metadata": {
        "id": "y1dPH1GzzfEW",
        "colab_type": "code",
        "outputId": "f9965741-3f78-4617-ac31-ebaf92b77213",
        "colab": {
          "base_uri": "https://localhost:8080/",
          "height": 328
        }
      },
      "source": [
        "W=logreg.coef_\n",
        "data = {'feature': xnames, 'slope': np.squeeze(W)}\n",
        "dfslope = pd.DataFrame(data=data)\n",
        "dfslope"
      ],
      "execution_count": 0,
      "outputs": [
        {
          "output_type": "execute_result",
          "data": {
            "text/html": [
              "<div>\n",
              "<style scoped>\n",
              "    .dataframe tbody tr th:only-of-type {\n",
              "        vertical-align: middle;\n",
              "    }\n",
              "\n",
              "    .dataframe tbody tr th {\n",
              "        vertical-align: top;\n",
              "    }\n",
              "\n",
              "    .dataframe thead th {\n",
              "        text-align: right;\n",
              "    }\n",
              "</style>\n",
              "<table border=\"1\" class=\"dataframe\">\n",
              "  <thead>\n",
              "    <tr style=\"text-align: right;\">\n",
              "      <th></th>\n",
              "      <th>feature</th>\n",
              "      <th>slope</th>\n",
              "    </tr>\n",
              "  </thead>\n",
              "  <tbody>\n",
              "    <tr>\n",
              "      <th>0</th>\n",
              "      <td>thick</td>\n",
              "      <td>1.508834</td>\n",
              "    </tr>\n",
              "    <tr>\n",
              "      <th>1</th>\n",
              "      <td>size_unif</td>\n",
              "      <td>-0.015979</td>\n",
              "    </tr>\n",
              "    <tr>\n",
              "      <th>2</th>\n",
              "      <td>shape_unif</td>\n",
              "      <td>0.957072</td>\n",
              "    </tr>\n",
              "    <tr>\n",
              "      <th>3</th>\n",
              "      <td>marg</td>\n",
              "      <td>0.947234</td>\n",
              "    </tr>\n",
              "    <tr>\n",
              "      <th>4</th>\n",
              "      <td>cell_size</td>\n",
              "      <td>0.214964</td>\n",
              "    </tr>\n",
              "    <tr>\n",
              "      <th>5</th>\n",
              "      <td>bare</td>\n",
              "      <td>1.395001</td>\n",
              "    </tr>\n",
              "    <tr>\n",
              "      <th>6</th>\n",
              "      <td>chrom</td>\n",
              "      <td>1.095654</td>\n",
              "    </tr>\n",
              "    <tr>\n",
              "      <th>7</th>\n",
              "      <td>normal</td>\n",
              "      <td>0.650696</td>\n",
              "    </tr>\n",
              "    <tr>\n",
              "      <th>8</th>\n",
              "      <td>mit</td>\n",
              "      <td>0.925912</td>\n",
              "    </tr>\n",
              "  </tbody>\n",
              "</table>\n",
              "</div>"
            ],
            "text/plain": [
              "      feature     slope\n",
              "0       thick  1.508834\n",
              "1   size_unif -0.015979\n",
              "2  shape_unif  0.957072\n",
              "3        marg  0.947234\n",
              "4   cell_size  0.214964\n",
              "5        bare  1.395001\n",
              "6       chrom  1.095654\n",
              "7      normal  0.650696\n",
              "8         mit  0.925912"
            ]
          },
          "metadata": {
            "tags": []
          },
          "execution_count": 18
        }
      ]
    },
    {
      "cell_type": "markdown",
      "metadata": {
        "id": "HhQe3_mtz4GY",
        "colab_type": "text"
      },
      "source": [
        "## Cross-Validation\n",
        "\n",
        "The above code measured the accuracy on the training data.  However, we should measure the accuracy on test data.  We perform 4-fold cross-validation and print average precision, recall, f1-score and accuracy.\n"
      ]
    },
    {
      "cell_type": "code",
      "metadata": {
        "id": "jOHV54VhzzUy",
        "colab_type": "code",
        "outputId": "0215ceb7-a496-4d92-c397-f98b5fc53aa5",
        "colab": {
          "base_uri": "https://localhost:8080/",
          "height": 445
        }
      },
      "source": [
        "from sklearn.model_selection import KFold\n",
        "from sklearn.metrics import precision_recall_fscore_support\n",
        "nfold = 10\n",
        "kf = KFold(n_splits=nfold)\n",
        "prec = []\n",
        "rec = []\n",
        "f1 = []\n",
        "acc = []\n",
        "for train, test in kf.split(Xs):            \n",
        "    # Get training and test data\n",
        "    Xtr = Xs[train,:]\n",
        "    ytr = y[train]\n",
        "    Xts = Xs[test,:]\n",
        "    yts = y[test]\n",
        "    \n",
        "    # Fit a model\n",
        "    logreg.fit(Xtr, ytr)\n",
        "    yhat = logreg.predict(Xts)\n",
        "    \n",
        "    # Measure performance\n",
        "    preci,reci,f1i,_= precision_recall_fscore_support(yts,yhat,average='binary') \n",
        "    prec.append(preci)\n",
        "    rec.append(reci)\n",
        "    f1.append(f1i)\n",
        "    acci = np.mean(yhat == yts)\n",
        "    acc.append(acci)\n",
        "\n",
        "# Take average values of the metrics\n",
        "precm = np.mean(prec)\n",
        "recm = np.mean(rec)\n",
        "f1m = np.mean(f1)\n",
        "accm= np.mean(acc)\n",
        "\n",
        "# Compute the standard errors\n",
        "prec_se = np.std(prec)/np.sqrt(nfold-1)\n",
        "rec_se = np.std(rec)/np.sqrt(nfold-1)\n",
        "f1_se = np.std(f1)/np.sqrt(nfold-1)\n",
        "acc_se = np.std(acc)/np.sqrt(nfold-1)\n",
        "\n",
        "print('Precision = {0:.4f}, SE={1:.4f}'.format(precm,prec_se))\n",
        "print('Recall =    {0:.4f}, SE={1:.4f}'.format(recm, rec_se))\n",
        "print('f1 =        {0:.4f}, SE={1:.4f}'.format(f1m, f1_se))\n",
        "print('Accuracy =  {0:.4f}, SE={1:.4f}'.format(accm, acc_se))"
      ],
      "execution_count": 0,
      "outputs": [
        {
          "output_type": "stream",
          "text": [
            "Precision = 0.9610, SE=0.0118\n",
            "Recall =    0.9615, SE=0.0144\n",
            "f1 =        0.9608, SE=0.0112\n",
            "Accuracy =  0.9679, SE=0.0110\n"
          ],
          "name": "stdout"
        },
        {
          "output_type": "stream",
          "text": [
            "/usr/local/lib/python3.6/dist-packages/sklearn/linear_model/logistic.py:432: FutureWarning: Default solver will be changed to 'lbfgs' in 0.22. Specify a solver to silence this warning.\n",
            "  FutureWarning)\n",
            "/usr/local/lib/python3.6/dist-packages/sklearn/linear_model/logistic.py:432: FutureWarning: Default solver will be changed to 'lbfgs' in 0.22. Specify a solver to silence this warning.\n",
            "  FutureWarning)\n",
            "/usr/local/lib/python3.6/dist-packages/sklearn/linear_model/logistic.py:432: FutureWarning: Default solver will be changed to 'lbfgs' in 0.22. Specify a solver to silence this warning.\n",
            "  FutureWarning)\n",
            "/usr/local/lib/python3.6/dist-packages/sklearn/linear_model/logistic.py:432: FutureWarning: Default solver will be changed to 'lbfgs' in 0.22. Specify a solver to silence this warning.\n",
            "  FutureWarning)\n",
            "/usr/local/lib/python3.6/dist-packages/sklearn/linear_model/logistic.py:432: FutureWarning: Default solver will be changed to 'lbfgs' in 0.22. Specify a solver to silence this warning.\n",
            "  FutureWarning)\n",
            "/usr/local/lib/python3.6/dist-packages/sklearn/linear_model/logistic.py:432: FutureWarning: Default solver will be changed to 'lbfgs' in 0.22. Specify a solver to silence this warning.\n",
            "  FutureWarning)\n",
            "/usr/local/lib/python3.6/dist-packages/sklearn/linear_model/logistic.py:432: FutureWarning: Default solver will be changed to 'lbfgs' in 0.22. Specify a solver to silence this warning.\n",
            "  FutureWarning)\n",
            "/usr/local/lib/python3.6/dist-packages/sklearn/linear_model/logistic.py:432: FutureWarning: Default solver will be changed to 'lbfgs' in 0.22. Specify a solver to silence this warning.\n",
            "  FutureWarning)\n",
            "/usr/local/lib/python3.6/dist-packages/sklearn/linear_model/logistic.py:432: FutureWarning: Default solver will be changed to 'lbfgs' in 0.22. Specify a solver to silence this warning.\n",
            "  FutureWarning)\n",
            "/usr/local/lib/python3.6/dist-packages/sklearn/linear_model/logistic.py:432: FutureWarning: Default solver will be changed to 'lbfgs' in 0.22. Specify a solver to silence this warning.\n",
            "  FutureWarning)\n"
          ],
          "name": "stderr"
        }
      ]
    },
    {
      "cell_type": "markdown",
      "metadata": {
        "id": "araeFDBc0GiR",
        "colab_type": "text"
      },
      "source": [
        "\n",
        "For classification models, performance measurement is an essential task. We use AUC (Area Under The Curve) ROC (Receiver Operating Characteristics) curve for this purpose.\n",
        "\n",
        "## Errors in Binary Classification\n",
        "\n",
        "There are two types of errors here:\n",
        "* Type I error (False Positive or false alarm):  Decide $\\hat{y}=1$ when ${y}=0$ \n",
        "* Type II error (False Negative or missed detection):  Decide $\\hat{y}=1$ when ${y}=1$\n",
        "\n",
        "Decision Types:\n",
        "* **False Positive (FP)** decision implies that the patient is inaccurately diagnosed with breast cancer (in this case).\n",
        "* **False Negative (FN)** decision implies that the patient has breast canser (in this case) but is identified as they don't. \n",
        "* **True Positive (TP)** decision implies that the patient is accurately diagnosed with breast cancer (in this case).\n",
        "* **True Negative (TN)** decision implies that the patient is accurately identified as not having breast cancer (in this case).\n",
        "\n",
        "\n",
        "To keep the errors in check we measure the accuracy of the classifier:\n",
        "\n",
        "* TPR (True Positive Rate) also referred to as Sensitivity, or Recall = TP/(TP + FN)\n",
        "\n",
        "* TNR (True Negative Rate) also called Specificity = TN/(TN + FP)\n",
        "\n",
        "* FPR (False Positive Rate) or 1 - Specificity = FP/(TN+FP)\n",
        "\n",
        "*Sensitivity* measures the proportion of actual positives that are correctly identified as such (that is, the percentage of patients accurately diagnosed with breast cancer).\n",
        "\n",
        "*Specificity* measures the proportion of actual negatives that are correctly identified as such (that is, the percentage of healthy patients who are accurately identified as not having breast cancer).\n",
        "\n",
        "*Accuracy* measures the percentage of correct classification\n",
        "\n",
        "* **TPR** / Sensitivity =  $P(\\hat{y}=1|y=1)$ \n",
        "* **FPR** / 1- Specificity = $P(\\hat{y}=1|y=0)$\n",
        "* **Accuracy** = $P(\\hat{y}=1|y=1)$ + $P(\\hat{y}=0|y=0)$\n",
        "\n",
        "(Where y is true decision, yhat is the predicted output)\n",
        "\n",
        "**[Confusion matrix](https://en.wikipedia.org/wiki/Confusion_matrix)**, also known as an error matrix, is useful to visualize the errors.\n",
        "\n",
        "| Real/Predicted| Class Positive - Predicted | Class Negative  - Predicted| \n",
        "|---|---|---|\n",
        "| **Class Positive - Real**  |  TP |  FN |  \n",
        "|  **Class Negative - Real** |  FP |  TN |  \n",
        "\n",
        " \n",
        "## ROC curve and AUC:\n",
        "\n",
        "ROC is a probability curve and AUC represents the degree or measure of separability. It tells us how much our model is capable of distinguishing between classes. \n",
        "\n",
        "*Higher the AUC, better the model is at predicting 0s as 0s and 1s as 1s.* So, higher the AUC, better the model is at distinguishing between patients with breast cancer and no breast cancer.\n",
        "\n",
        "\n",
        "As shown above, the logistic classifier outputs a *soft* classification $P(y=1|x)$.  One simple idea is to select the class label $\\hat{y}=1$ whenever $P(y=1|x) > 0.5$.  \n",
        "\n",
        "However, one can also set $\\hat{y}=1$ whenever $P(y=1|x) > t$ for some threshold $t$. \n",
        "\n",
        "\n",
        "Using higher thresholds values selects $\\hat{y}=0$ more often which results in fewer *false alarms*, but also many *missed detections* (reduces sensitivity).  Similarly, lower thresholds values selects $\\hat{y}=1$ more often which results in fewer *missed detections* (increases *sensitivity*) but also more *false alarms*.  The ROC curve displays this  tradeoff by graphing the *true positive rate* vs. *false positive rate* obtained with different $t$.  \n",
        "\n",
        "The ROC curve can be plotted in the `sklearn` package with the following code."
      ]
    },
    {
      "cell_type": "code",
      "metadata": {
        "id": "p5crNFTA1e_S",
        "colab_type": "code",
        "outputId": "3cffecab-3370-4409-ebab-708dc53ec98d",
        "colab": {
          "base_uri": "https://localhost:8080/",
          "height": 300
        }
      },
      "source": [
        "from sklearn import metrics\n",
        "yprob = logreg.predict_proba(Xs)\n",
        "fpr, tpr, thresholds = metrics.roc_curve(y,yprob[:,1])\n",
        "\n",
        "plt.plot(fpr,tpr)\n",
        "plt.grid()\n",
        "plt.xlabel('FPR')\n",
        "plt.ylabel('TPR')\n",
        "plt.ylim([0.5,1])\n",
        "plt.xlim([0,0.1])"
      ],
      "execution_count": 0,
      "outputs": [
        {
          "output_type": "execute_result",
          "data": {
            "text/plain": [
              "(0, 0.1)"
            ]
          },
          "metadata": {
            "tags": []
          },
          "execution_count": 20
        },
        {
          "output_type": "display_data",
          "data": {
            "image/png": "[encoded data removed]",
            "text/plain": [
              "<Figure size 432x288 with 1 Axes>"
            ]
          },
          "metadata": {
            "tags": []
          }
        }
      ]
    },
    {
      "cell_type": "code",
      "metadata": {
        "id": "yXzTAiGfESU3",
        "colab_type": "code",
        "outputId": "1d6f60d0-d319-4110-bf1a-4ebacd51053a",
        "colab": {
          "base_uri": "https://localhost:8080/",
          "height": 300
        }
      },
      "source": [
        "plt.plot(thresholds,tpr, thresholds,fpr)\n",
        "plt.legend(['TPR','FPR'])\n",
        "plt.xlabel('Threshold')\n",
        "plt.xlim([0,1.0])"
      ],
      "execution_count": 0,
      "outputs": [
        {
          "output_type": "execute_result",
          "data": {
            "text/plain": [
              "(0, 1.0)"
            ]
          },
          "metadata": {
            "tags": []
          },
          "execution_count": 24
        },
        {
          "output_type": "display_data",
          "data": {
            "image/png": "[encoded data removed]",
            "text/plain": [
              "<Figure size 432x288 with 1 Axes>"
            ]
          },
          "metadata": {
            "tags": []
          }
        }
      ]
    },
    {
      "cell_type": "code",
      "metadata": {
        "id": "mWb_oNPwEWVJ",
        "colab_type": "code",
        "outputId": "eab367be-f76c-43dd-99c0-6d27276f85b4",
        "colab": {
          "base_uri": "https://localhost:8080/",
          "height": 34
        }
      },
      "source": [
        "auc=metrics.roc_auc_score(y,yprob[:,1])\n",
        "print(\"AUC=%f\" % auc)"
      ],
      "execution_count": 0,
      "outputs": [
        {
          "output_type": "stream",
          "text": [
            "AUC=0.996297\n"
          ],
          "name": "stdout"
        }
      ]
    },
    {
      "cell_type": "markdown",
      "metadata": {
        "id": "hZrz2BhZ1eiq",
        "colab_type": "text"
      },
      "source": [
        ""
      ]
    }
  ]
}