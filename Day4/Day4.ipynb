{
  "nbformat": 4,
  "nbformat_minor": 0,
  "metadata": {
    "colab": {
      "name": "Day4.ipynb",
      "version": "0.3.2",
      "provenance": [],
      "collapsed_sections": [
        "MfjrSYu-WKDo"
      ],
      "include_colab_link": true
    },
    "kernelspec": {
      "name": "python3",
      "display_name": "Python 3"
    }
  },
  "cells": [
    {
      "cell_type": "markdown",
      "metadata": {
        "id": "view-in-github",
        "colab_type": "text"
      },
      "source": [
        "<a href=\"https://colab.research.google.com/github/nikopj/SummerML/blob/master/Day4/Day4.ipynb\" target=\"_parent\"><img src=\"https://colab.research.google.com/assets/colab-badge.svg\" alt=\"Open In Colab\"/></a>"
      ]
    },
    {
      "cell_type": "markdown",
      "metadata": {
        "id": "uFl5VYXPIY7D",
        "colab_type": "text"
      },
      "source": [
        "#M2: Breast Cancer Diagnosis via Linear Regression"
      ]
    },
    {
      "cell_type": "markdown",
      "metadata": {
        "id": "MkFIjttvIhDs",
        "colab_type": "text"
      },
      "source": [
        "We will use the widely-used breast cancer data set.  This data set is described [here](https://archive.ics.uci.edu/ml/machine-learning-databases/breast-cancer-wisconsin).\n",
        "\n",
        "\n",
        "\n",
        "Each sample is a collection of features that were manually recorded by a physician upon inspecting a sample of cells from fine needle aspiration. \n",
        "\n",
        "**The goal is to detect if the cells are benign or malignant.**"
      ]
    },
    {
      "cell_type": "markdown",
      "metadata": {
        "id": "9TNtqa-3I1K7",
        "colab_type": "text"
      },
      "source": [
        "#### Loading and Visualizing the Data\n",
        "\n",
        "We first load the packages as usual."
      ]
    },
    {
      "cell_type": "code",
      "metadata": {
        "id": "x2uPPzaUIP_b",
        "colab_type": "code",
        "colab": {}
      },
      "source": [
        "import numpy as np\n",
        "import matplotlib\n",
        "import matplotlib.pyplot as plt\n",
        "import pandas as pd\n",
        "from sklearn import datasets, linear_model, preprocessing\n",
        "%matplotlib inline"
      ],
      "execution_count": 0,
      "outputs": []
    },
    {
      "cell_type": "markdown",
      "metadata": {
        "id": "VWEojdFDI8AK",
        "colab_type": "text"
      },
      "source": [
        "Next, we load the data.  It is important to remove the missing values."
      ]
    },
    {
      "cell_type": "code",
      "metadata": {
        "id": "YCBZS-xbI9gt",
        "colab_type": "code",
        "outputId": "f215f6c3-0272-4ec1-9415-0e5c9702c23d",
        "colab": {
          "base_uri": "https://localhost:8080/",
          "height": 238
        }
      },
      "source": [
        "names = ['id','thick','size','shape','marg','cell_size','bare',\n",
        "         'chrom','normal','mit','class']\n",
        "df = pd.read_csv('https://archive.ics.uci.edu/ml/machine-learning-databases/' +\n",
        "                 'breast-cancer-wisconsin/breast-cancer-wisconsin.data',\n",
        "                names=names,na_values='?',header=None)\n",
        "df = df.dropna()\n",
        "df.head(6)"
      ],
      "execution_count": 0,
      "outputs": [
        {
          "output_type": "execute_result",
          "data": {
            "text/html": [
              "<div>\n",
              "<style scoped>\n",
              "    .dataframe tbody tr th:only-of-type {\n",
              "        vertical-align: middle;\n",
              "    }\n",
              "\n",
              "    .dataframe tbody tr th {\n",
              "        vertical-align: top;\n",
              "    }\n",
              "\n",
              "    .dataframe thead th {\n",
              "        text-align: right;\n",
              "    }\n",
              "</style>\n",
              "<table border=\"1\" class=\"dataframe\">\n",
              "  <thead>\n",
              "    <tr style=\"text-align: right;\">\n",
              "      <th></th>\n",
              "      <th>id</th>\n",
              "      <th>thick</th>\n",
              "      <th>size</th>\n",
              "      <th>shape</th>\n",
              "      <th>marg</th>\n",
              "      <th>cell_size</th>\n",
              "      <th>bare</th>\n",
              "      <th>chrom</th>\n",
              "      <th>normal</th>\n",
              "      <th>mit</th>\n",
              "      <th>class</th>\n",
              "    </tr>\n",
              "  </thead>\n",
              "  <tbody>\n",
              "    <tr>\n",
              "      <th>0</th>\n",
              "      <td>1000025</td>\n",
              "      <td>5</td>\n",
              "      <td>1</td>\n",
              "      <td>1</td>\n",
              "      <td>1</td>\n",
              "      <td>2</td>\n",
              "      <td>1.0</td>\n",
              "      <td>3</td>\n",
              "      <td>1</td>\n",
              "      <td>1</td>\n",
              "      <td>2</td>\n",
              "    </tr>\n",
              "    <tr>\n",
              "      <th>1</th>\n",
              "      <td>1002945</td>\n",
              "      <td>5</td>\n",
              "      <td>4</td>\n",
              "      <td>4</td>\n",
              "      <td>5</td>\n",
              "      <td>7</td>\n",
              "      <td>10.0</td>\n",
              "      <td>3</td>\n",
              "      <td>2</td>\n",
              "      <td>1</td>\n",
              "      <td>2</td>\n",
              "    </tr>\n",
              "    <tr>\n",
              "      <th>2</th>\n",
              "      <td>1015425</td>\n",
              "      <td>3</td>\n",
              "      <td>1</td>\n",
              "      <td>1</td>\n",
              "      <td>1</td>\n",
              "      <td>2</td>\n",
              "      <td>2.0</td>\n",
              "      <td>3</td>\n",
              "      <td>1</td>\n",
              "      <td>1</td>\n",
              "      <td>2</td>\n",
              "    </tr>\n",
              "    <tr>\n",
              "      <th>3</th>\n",
              "      <td>1016277</td>\n",
              "      <td>6</td>\n",
              "      <td>8</td>\n",
              "      <td>8</td>\n",
              "      <td>1</td>\n",
              "      <td>3</td>\n",
              "      <td>4.0</td>\n",
              "      <td>3</td>\n",
              "      <td>7</td>\n",
              "      <td>1</td>\n",
              "      <td>2</td>\n",
              "    </tr>\n",
              "    <tr>\n",
              "      <th>4</th>\n",
              "      <td>1017023</td>\n",
              "      <td>4</td>\n",
              "      <td>1</td>\n",
              "      <td>1</td>\n",
              "      <td>3</td>\n",
              "      <td>2</td>\n",
              "      <td>1.0</td>\n",
              "      <td>3</td>\n",
              "      <td>1</td>\n",
              "      <td>1</td>\n",
              "      <td>2</td>\n",
              "    </tr>\n",
              "    <tr>\n",
              "      <th>5</th>\n",
              "      <td>1017122</td>\n",
              "      <td>8</td>\n",
              "      <td>10</td>\n",
              "      <td>10</td>\n",
              "      <td>8</td>\n",
              "      <td>7</td>\n",
              "      <td>10.0</td>\n",
              "      <td>9</td>\n",
              "      <td>7</td>\n",
              "      <td>1</td>\n",
              "      <td>4</td>\n",
              "    </tr>\n",
              "  </tbody>\n",
              "</table>\n",
              "</div>"
            ],
            "text/plain": [
              "        id  thick  size  shape  marg  ...  bare  chrom  normal  mit  class\n",
              "0  1000025      5     1      1     1  ...   1.0      3       1    1      2\n",
              "1  1002945      5     4      4     5  ...  10.0      3       2    1      2\n",
              "2  1015425      3     1      1     1  ...   2.0      3       1    1      2\n",
              "3  1016277      6     8      8     1  ...   4.0      3       7    1      2\n",
              "4  1017023      4     1      1     3  ...   1.0      3       1    1      2\n",
              "5  1017122      8    10     10     8  ...  10.0      9       7    1      4\n",
              "\n",
              "[6 rows x 11 columns]"
            ]
          },
          "metadata": {
            "tags": []
          },
          "execution_count": 3
        }
      ]
    },
    {
      "cell_type": "markdown",
      "metadata": {
        "id": "OYHiBO1UJEag",
        "colab_type": "text"
      },
      "source": [
        "After loading the data, we can create a scatter plot of the data labeling the class values with different colors.  We will pick two of the features.  "
      ]
    },
    {
      "cell_type": "code",
      "metadata": {
        "id": "DnS-dnPIJGkc",
        "colab_type": "code",
        "outputId": "14d1d1a5-d29b-4a21-e300-7cb710bdef8e",
        "colab": {
          "base_uri": "https://localhost:8080/",
          "height": 305
        }
      },
      "source": [
        "# Converting to a zero-one indicator.\n",
        "yraw = np.array(df['class'])\n",
        "BEN_VAL = 2   # value in the 'class' label for benign samples\n",
        "MAL_VAL = 4   # value in the 'class' label for malignant samples\n",
        "y = (yraw == MAL_VAL).astype(int)\n",
        "Iben = (y==0)\n",
        "Imal = (y==1)\n",
        "\n",
        "# Get two predictors\n",
        "xnames =['size','marg'] \n",
        "X = np.array(df[xnames])\n",
        "\n",
        "# Create the scatter plot\n",
        "plt.plot(X[Imal,0],X[Imal,1],'r.')\n",
        "plt.plot(X[Iben,0],X[Iben,1],'g.')\n",
        "plt.xlabel(xnames[0], fontsize=16)\n",
        "plt.ylabel(xnames[1], fontsize=16)\n",
        "plt.ylim(0,14)\n",
        "plt.legend(['malign','benign'],loc='upper right')\n"
      ],
      "execution_count": 0,
      "outputs": [
        {
          "output_type": "execute_result",
          "data": {
            "text/plain": [
              "<matplotlib.legend.Legend at 0x7f3f66ea5898>"
            ]
          },
          "metadata": {
            "tags": []
          },
          "execution_count": 4
        },
        {
          "output_type": "display_data",
          "data": {
            "image/png": "[encoded data removed]",
            "text/plain": [
              "<Figure size 432x288 with 1 Axes>"
            ]
          },
          "metadata": {
            "tags": []
          }
        }
      ]
    },
    {
      "cell_type": "markdown",
      "metadata": {
        "id": "89PPJ0mNJIdg",
        "colab_type": "text"
      },
      "source": [
        "The above plot is not informative, since many of the points are on top of one another.  Thus, we cannot see the relative frequency of points.  \n",
        "\n",
        "One way to improve the plot is to draw circles on each point whose size is proportional to the count of samples at that point.  We will re-use this code, so we define a function. "
      ]
    },
    {
      "cell_type": "code",
      "metadata": {
        "id": "2D1BF4bRJKro",
        "colab_type": "code",
        "outputId": "10d68b61-cb61-4cfa-e2a9-9752b71148dd",
        "colab": {
          "base_uri": "https://localhost:8080/",
          "height": 305
        }
      },
      "source": [
        "def plot_count(X,y):\n",
        "    \n",
        "    # Compute the bin edges for the 2d histogram\n",
        "    x0val = np.array(list(set(X[:,0]))).astype(float)\n",
        "    x1val = np.array(list(set(X[:,1]))).astype(float)\n",
        "    x0, x1 = np.meshgrid(x0val,x1val)\n",
        "    x0e= np.hstack((x0val,np.max(x0val)+1))\n",
        "    x1e= np.hstack((x1val,np.max(x1val)+1))\n",
        "\n",
        "    # Make a plot for each class\n",
        "    yval = list(set(y))\n",
        "    color = ['g','r']\n",
        "    for i in range(len(yval)):\n",
        "        I = np.where(y==yval[i])[0]\n",
        "        count, x0e, x1e = np.histogram2d(X[I,0],X[I,1],[x0e,x1e])\n",
        "        x0, x1 = np.meshgrid(x0val,x1val)\n",
        "        plt.scatter(x0.ravel(), x1.ravel(), s=2*count.ravel(),alpha=0.5,\n",
        "                    c=color[i],edgecolors='none')\n",
        "    plt.ylim([0,14])\n",
        "    plt.legend(['benign','malign'], loc='upper right')\n",
        "    plt.xlabel(xnames[0], fontsize=16)\n",
        "    plt.ylabel(xnames[1], fontsize=16)\n",
        "    return plt\n",
        "\n",
        "plot_count(X,y)"
      ],
      "execution_count": 0,
      "outputs": [
        {
          "output_type": "execute_result",
          "data": {
            "text/plain": [
              "<module 'matplotlib.pyplot' from '/usr/local/lib/python3.6/dist-packages/matplotlib/pyplot.py'>"
            ]
          },
          "metadata": {
            "tags": []
          },
          "execution_count": 5
        },
        {
          "output_type": "display_data",
          "data": {
            "image/png": "[encoded data removed]",
            "text/plain": [
              "<Figure size 432x288 with 1 Axes>"
            ]
          },
          "metadata": {
            "tags": []
          }
        }
      ]
    },
    {
      "cell_type": "markdown",
      "metadata": {
        "id": "aROvueqkJLdM",
        "colab_type": "text"
      },
      "source": [
        "## In-Class Exercise\n",
        "\n",
        "Based on the above plot, what would you think a good \"classifer\" using the two features could be? That is, write a rule that can classify the benign region from the malignant region."
      ]
    },
    {
      "cell_type": "code",
      "metadata": {
        "id": "OhtSZi3LJNPk",
        "colab_type": "code",
        "colab": {}
      },
      "source": [
        "# TODO"
      ],
      "execution_count": 0,
      "outputs": []
    },
    {
      "cell_type": "markdown",
      "metadata": {
        "id": "28WXo95PJRH0",
        "colab_type": "text"
      },
      "source": [
        "## Some Simple Classification ideas"
      ]
    },
    {
      "cell_type": "markdown",
      "metadata": {
        "id": "QxTNSnYRJTFd",
        "colab_type": "text"
      },
      "source": [
        "Here are some ideas for classification that you may have already thought of.  We can see that the benign samples are located in the lower left.  So, one simple classification rule is to define the region with a line.  We plot the region for one possible line with the following code."
      ]
    },
    {
      "cell_type": "code",
      "metadata": {
        "id": "kX-oMLNtJU4m",
        "colab_type": "code",
        "outputId": "37da25ed-c921-408d-ff72-be7fd9dc0d5d",
        "colab": {
          "base_uri": "https://localhost:8080/",
          "height": 305
        }
      },
      "source": [
        "from matplotlib import patches\n",
        "plt = plot_count(X,y)\n",
        "\n",
        "ax = plt.gca() \n",
        "ax.add_patch(\n",
        "    patches.Polygon([[0,0],[0,4],[6,0]],\n",
        "        color='green',\n",
        "        fill=False, hatch = '//'\n",
        "    )\n",
        ")"
      ],
      "execution_count": 0,
      "outputs": [
        {
          "output_type": "execute_result",
          "data": {
            "text/plain": [
              "<matplotlib.patches.Polygon at 0x7f3f64547390>"
            ]
          },
          "metadata": {
            "tags": []
          },
          "execution_count": 7
        },
        {
          "output_type": "display_data",
          "data": {
            "image/png": "[encoded data removed]",
            "text/plain": [
              "<Figure size 432x288 with 1 Axes>"
            ]
          },
          "metadata": {
            "tags": []
          }
        }
      ]
    },
    {
      "cell_type": "markdown",
      "metadata": {
        "id": "2I2qle_MJXbt",
        "colab_type": "text"
      },
      "source": [
        "Here is an alternate classification rule based on two linear constraints.\n",
        "\n"
      ]
    },
    {
      "cell_type": "code",
      "metadata": {
        "id": "nfNFSJHMJWsz",
        "colab_type": "code",
        "outputId": "5071c90a-8984-4846-bd8a-4067f1029848",
        "colab": {
          "base_uri": "https://localhost:8080/",
          "height": 305
        }
      },
      "source": [
        "plt = plot_count(X,y)\n",
        "ax = plt.gca()\n",
        "ax.add_patch(\n",
        "    patches.Rectangle(\n",
        "        (0, 0),   # (x,y)\n",
        "        width=3.5, height=4.5,  color='green',\n",
        "        fill=False, hatch = '//'\n",
        "    )\n",
        ")"
      ],
      "execution_count": 0,
      "outputs": [
        {
          "output_type": "execute_result",
          "data": {
            "text/plain": [
              "<matplotlib.patches.Rectangle at 0x7f3f64533048>"
            ]
          },
          "metadata": {
            "tags": []
          },
          "execution_count": 8
        },
        {
          "output_type": "display_data",
          "data": {
            "image/png": "[encoded data removed]",
            "text/plain": [
              "<Figure size 432x288 with 1 Axes>"
            ]
          },
          "metadata": {
            "tags": []
          }
        }
      ]
    },
    {
      "cell_type": "markdown",
      "metadata": {
        "id": "CDPT0ayEJfFi",
        "colab_type": "text"
      },
      "source": [
        "#### Let us try to find the best linear classifier by using linear regression!"
      ]
    },
    {
      "cell_type": "code",
      "metadata": {
        "id": "7pa0vQgWJhZ9",
        "colab_type": "code",
        "outputId": "5817dbae-3a7e-47bb-b8e8-76cdc0e3461e",
        "colab": {
          "base_uri": "https://localhost:8080/",
          "height": 52
        }
      },
      "source": [
        "xnames =['size','marg'] \n",
        "X = np.array(df[xnames])\n",
        "\n",
        "y1=y-0.5\n",
        "\n",
        "\n",
        "\n",
        "from sklearn import datasets, linear_model\n",
        "regr = linear_model.LinearRegression()\n",
        "regr.fit(X,y1)\n",
        "\n",
        "print('w0 =',regr.intercept_)\n",
        "print('[w1, w2] =',regr.coef_)\n",
        "\n",
        "#yhat = regr.predict(X)\n",
        "#print(yhat)"
      ],
      "execution_count": 0,
      "outputs": [
        {
          "output_type": "stream",
          "text": [
            "w0 = -0.5842006662006151\n",
            "[w1, w2] = [0.10007944 0.04197521]\n"
          ],
          "name": "stdout"
        }
      ]
    },
    {
      "cell_type": "markdown",
      "metadata": {
        "id": "wi-LzouWJ0Cq",
        "colab_type": "text"
      },
      "source": [
        "We can visualize this linear regression function as a separating line by setting $y_1=0$, where $y_1=w_0+w_1 x_1 + w_2 x_2$.\n",
        "\n",
        "We find the relation between the two features ($x_1, x_2$ ) by setting\n",
        "$w_0+w_1 x_1 + w_2 x_2= 0$ $\\implies$  $x_2= (-w_0 - w_1 x_1)/w_2$\n",
        "\n",
        "We can plot this line together with the previous scatter plot."
      ]
    },
    {
      "cell_type": "code",
      "metadata": {
        "id": "-b7kTBdFJ1uX",
        "colab_type": "code",
        "outputId": "010c5bfe-4da1-43e3-f3bc-67d3c5e962a0",
        "colab": {
          "base_uri": "https://localhost:8080/",
          "height": 305
        }
      },
      "source": [
        "\n",
        "w0=regr.intercept_\n",
        "w1=regr.coef_[0]\n",
        "w2=regr.coef_[1]\n",
        "plt = plot_count(X,y)\n",
        "\n",
        "#Generating a line using the weights w0, w1, w2\n",
        "x1=np.zeros([11,1])\n",
        "x2=np.zeros([11,1])\n",
        "for i in range(11):\n",
        "    x1[i]=i;\n",
        "    x2[i]=(- w0-w1*i)/w2\n",
        "    \n",
        "plt.plot(x1, x2)"
      ],
      "execution_count": 0,
      "outputs": [
        {
          "output_type": "execute_result",
          "data": {
            "text/plain": [
              "[<matplotlib.lines.Line2D at 0x7f3f6449a978>]"
            ]
          },
          "metadata": {
            "tags": []
          },
          "execution_count": 10
        },
        {
          "output_type": "display_data",
          "data": {
            "image/png": "[encoded data removed]",
            "text/plain": [
              "<Figure size 432x288 with 1 Axes>"
            ]
          },
          "metadata": {
            "tags": []
          }
        }
      ]
    },
    {
      "cell_type": "code",
      "metadata": {
        "id": "utONKYWSJ5Os",
        "colab_type": "code",
        "outputId": "cb5af71a-8a37-4dd9-eac5-75081f27d4ff",
        "colab": {
          "base_uri": "https://localhost:8080/",
          "height": 305
        }
      },
      "source": [
        "# Create the scatter plot\n",
        "plt.plot(X[Imal,0],X[Imal,1],'r.')\n",
        "plt.plot(X[Iben,0],X[Iben,1],'g.')\n",
        "plt.xlabel(xnames[0], fontsize=16)\n",
        "plt.ylabel(xnames[1], fontsize=16)\n",
        "plt.ylim(0,14)\n",
        "plt.legend(['malign','benign'],loc='upper right')\n",
        "\n",
        "\n",
        "x1=np.zeros([11,1])\n",
        "x2=np.zeros([11,1])\n",
        "for i in range(11):\n",
        "    x1[i]=i;\n",
        "    x2[i]=(- w0-w1*i)/w2\n",
        "    \n",
        "plt.plot(x1, x2)"
      ],
      "execution_count": 0,
      "outputs": [
        {
          "output_type": "execute_result",
          "data": {
            "text/plain": [
              "[<matplotlib.lines.Line2D at 0x7f3f64400908>]"
            ]
          },
          "metadata": {
            "tags": []
          },
          "execution_count": 11
        },
        {
          "output_type": "display_data",
          "data": {
            "image/png": "[encoded data removed]",
            "text/plain": [
              "<Figure size 432x288 with 1 Axes>"
            ]
          },
          "metadata": {
            "tags": []
          }
        }
      ]
    },
    {
      "cell_type": "code",
      "metadata": {
        "id": "__2VFOQpJ7zT",
        "colab_type": "code",
        "outputId": "7edda0c7-f8d8-4e51-e758-dd0925c37222",
        "colab": {
          "base_uri": "https://localhost:8080/",
          "height": 34
        }
      },
      "source": [
        "yhat=regr.predict(X)\n",
        "yhati= (yhat >=0).astype(int)\n",
        "acc = np.mean(yhati == y)\n",
        "\n",
        "print(\"Accuracy on training data using two features = %f\" % acc)"
      ],
      "execution_count": 0,
      "outputs": [
        {
          "output_type": "stream",
          "text": [
            "Accuracy on training data using two features = 0.922401\n"
          ],
          "name": "stdout"
        }
      ]
    },
    {
      "cell_type": "code",
      "metadata": {
        "id": "uXhHxRuNJ-D1",
        "colab_type": "code",
        "outputId": "1b427887-7b91-4ec9-f937-244d758abadc",
        "colab": {
          "base_uri": "https://localhost:8080/",
          "height": 34
        }
      },
      "source": [
        "xnames = ['thick','size','shape','marg','cell_size','bare',\n",
        "         'chrom','normal','mit']\n",
        "X = np.array(df[xnames])\n",
        "\n",
        "Xs = preprocessing.scale(X)\n",
        "regr.fit(Xs,y1)\n",
        "yhat=regr.predict(Xs)\n",
        "yhati= (yhat >=0).astype(int)\n",
        "acc = np.mean(yhati == y)\n",
        "\n",
        "print(\"Accuracy on training data using 10 features = %f\" % acc)"
      ],
      "execution_count": 0,
      "outputs": [
        {
          "output_type": "stream",
          "text": [
            "Accuracy on training data using 10 features = 0.960469\n"
          ],
          "name": "stdout"
        }
      ]
    },
    {
      "cell_type": "markdown",
      "metadata": {
        "id": "4itWM5Fx5XDV",
        "colab_type": "text"
      },
      "source": [
        "#Module 3: Logistic Regression"
      ]
    },
    {
      "cell_type": "markdown",
      "metadata": {
        "id": "DNz9B7Xd5b5u",
        "colab_type": "text"
      },
      "source": [
        "This demo illustrate an important classifier known as *logistic regression*.  In logistic regression, we do not just output an estimate of the class label, `yhat`.  Instead, we ouput a *probability*, an estimate of how likely the sample is one class or the other.  That is our output is a number from 0 to 1 representing the likelihood."
      ]
    },
    {
      "cell_type": "markdown",
      "metadata": {
        "id": "vUfVu0HH5uYr",
        "colab_type": "text"
      },
      "source": [
        "## Fitting the Logistic Model\n",
        "\n",
        "In a logistic model, we must fit the weights $w_0,w_1,\\ldots,w_k$ in the model \n",
        "$$\n",
        "    \\quad z = w_0 + w_1x_1 + \\cdots + w_kx_k, \n",
        "$$\n",
        "$$\n",
        "    \\hat{y} = sigmoid(z)  \n",
        "$$\n",
        "The `sklearn` module has very good routines for fitting this model.  First we get the training data and samples.  We will standardize the `X` values to make more sense of the slope values."
      ]
    },
    {
      "cell_type": "code",
      "metadata": {
        "id": "wwU5zs465yZR",
        "colab_type": "code",
        "colab": {}
      },
      "source": [
        "xnames = ['thick','size','shape','marg','cell_size','bare',\n",
        "         'chrom','normal','mit']\n",
        "X = np.array(df[xnames])\n",
        "Xs = preprocessing.scale(X)"
      ],
      "execution_count": 0,
      "outputs": []
    },
    {
      "cell_type": "markdown",
      "metadata": {
        "id": "8Q79r3_-8Sdr",
        "colab_type": "text"
      },
      "source": [
        "Next, we create a logistic regression object.  The parameter `C` states the level of regularization and will be discussed in class."
      ]
    },
    {
      "cell_type": "code",
      "metadata": {
        "id": "a-f2iswB8fEL",
        "colab_type": "code",
        "outputId": "35cc840d-a859-490e-c285-bd65827dcbf8",
        "colab": {
          "base_uri": "https://localhost:8080/",
          "height": 159
        }
      },
      "source": [
        "logreg = linear_model.LogisticRegression(C=1e5)\n",
        "logreg.fit(Xs, y)"
      ],
      "execution_count": 0,
      "outputs": [
        {
          "output_type": "stream",
          "text": [
            "/usr/local/lib/python3.6/dist-packages/sklearn/linear_model/logistic.py:432: FutureWarning: Default solver will be changed to 'lbfgs' in 0.22. Specify a solver to silence this warning.\n",
            "  FutureWarning)\n"
          ],
          "name": "stderr"
        },
        {
          "output_type": "execute_result",
          "data": {
            "text/plain": [
              "LogisticRegression(C=100000.0, class_weight=None, dual=False,\n",
              "                   fit_intercept=True, intercept_scaling=1, l1_ratio=None,\n",
              "                   max_iter=100, multi_class='warn', n_jobs=None, penalty='l2',\n",
              "                   random_state=None, solver='warn', tol=0.0001, verbose=0,\n",
              "                   warm_start=False)"
            ]
          },
          "metadata": {
            "tags": []
          },
          "execution_count": 16
        }
      ]
    },
    {
      "cell_type": "code",
      "metadata": {
        "id": "2F9914WL8k_W",
        "colab_type": "code",
        "outputId": "3588b457-6f99-4186-ea19-af794cabec0c",
        "colab": {
          "base_uri": "https://localhost:8080/",
          "height": 34
        }
      },
      "source": [
        "yhat = logreg.predict(Xs)\n",
        "acc = np.mean(yhat == y)\n",
        "print(\"Accuracy on training data = %f\" % acc)"
      ],
      "execution_count": 0,
      "outputs": [
        {
          "output_type": "stream",
          "text": [
            "Accuracy on training data = 0.969253\n"
          ],
          "name": "stdout"
        }
      ]
    },
    {
      "cell_type": "markdown",
      "metadata": {
        "id": "O9l3kAfP8rRP",
        "colab_type": "text"
      },
      "source": [
        "It is also useful to print the weights for each feature.  We can use the `pandas` package to make a table. "
      ]
    },
    {
      "cell_type": "code",
      "metadata": {
        "id": "8MIHqGRr8tEA",
        "colab_type": "code",
        "outputId": "75825bbf-d3c2-4317-ed7b-d1111c99577c",
        "colab": {
          "base_uri": "https://localhost:8080/",
          "height": 332
        }
      },
      "source": [
        "W=logreg.coef_\n",
        "data = {'feature': xnames, 'slope': np.squeeze(W)}\n",
        "dfslope = pd.DataFrame(data=data)\n",
        "dfslope"
      ],
      "execution_count": 0,
      "outputs": [
        {
          "output_type": "execute_result",
          "data": {
            "text/html": [
              "<div>\n",
              "<style scoped>\n",
              "    .dataframe tbody tr th:only-of-type {\n",
              "        vertical-align: middle;\n",
              "    }\n",
              "\n",
              "    .dataframe tbody tr th {\n",
              "        vertical-align: top;\n",
              "    }\n",
              "\n",
              "    .dataframe thead th {\n",
              "        text-align: right;\n",
              "    }\n",
              "</style>\n",
              "<table border=\"1\" class=\"dataframe\">\n",
              "  <thead>\n",
              "    <tr style=\"text-align: right;\">\n",
              "      <th></th>\n",
              "      <th>feature</th>\n",
              "      <th>slope</th>\n",
              "    </tr>\n",
              "  </thead>\n",
              "  <tbody>\n",
              "    <tr>\n",
              "      <th>0</th>\n",
              "      <td>thick</td>\n",
              "      <td>1.508834</td>\n",
              "    </tr>\n",
              "    <tr>\n",
              "      <th>1</th>\n",
              "      <td>size</td>\n",
              "      <td>-0.015979</td>\n",
              "    </tr>\n",
              "    <tr>\n",
              "      <th>2</th>\n",
              "      <td>shape</td>\n",
              "      <td>0.957072</td>\n",
              "    </tr>\n",
              "    <tr>\n",
              "      <th>3</th>\n",
              "      <td>marg</td>\n",
              "      <td>0.947234</td>\n",
              "    </tr>\n",
              "    <tr>\n",
              "      <th>4</th>\n",
              "      <td>cell_size</td>\n",
              "      <td>0.214964</td>\n",
              "    </tr>\n",
              "    <tr>\n",
              "      <th>5</th>\n",
              "      <td>bare</td>\n",
              "      <td>1.395001</td>\n",
              "    </tr>\n",
              "    <tr>\n",
              "      <th>6</th>\n",
              "      <td>chrom</td>\n",
              "      <td>1.095654</td>\n",
              "    </tr>\n",
              "    <tr>\n",
              "      <th>7</th>\n",
              "      <td>normal</td>\n",
              "      <td>0.650696</td>\n",
              "    </tr>\n",
              "    <tr>\n",
              "      <th>8</th>\n",
              "      <td>mit</td>\n",
              "      <td>0.925912</td>\n",
              "    </tr>\n",
              "  </tbody>\n",
              "</table>\n",
              "</div>"
            ],
            "text/plain": [
              "     feature     slope\n",
              "0      thick  1.508834\n",
              "1       size -0.015979\n",
              "2      shape  0.957072\n",
              "3       marg  0.947234\n",
              "4  cell_size  0.214964\n",
              "5       bare  1.395001\n",
              "6      chrom  1.095654\n",
              "7     normal  0.650696\n",
              "8        mit  0.925912"
            ]
          },
          "metadata": {
            "tags": []
          },
          "execution_count": 18
        }
      ]
    },
    {
      "cell_type": "markdown",
      "metadata": {
        "id": "MfjrSYu-WKDo",
        "colab_type": "text"
      },
      "source": [
        "# Module 4: Thresholding and ROC\n",
        "\n",
        "For classification models, performance measurement is an essential task. We use AUC (Area Under The Curve) ROC (Receiver Operating Characteristics) curve for this purpose.\n",
        "\n",
        "## Errors in Binary Classification\n",
        "\n",
        "There are two types of errors here:\n",
        "* Type I error (False Positive or false alarm):  Decide $\\hat{y}=1$ when ${y}=0$ \n",
        "* Type II error (False Negative or missed detection):  Decide $\\hat{y}=1$ when ${y}=1$\n",
        "\n",
        "Decision Types:\n",
        "* **False Positive (FP)** decision implies that the patient is inaccurately diagnosed with breast cancer (in this case).\n",
        "* **False Negative (FN)** decision implies that the patient has breast canser (in this case) but is identified as they don't. \n",
        "* **True Positive (TP)** decision implies that the patient is accurately diagnosed with breast cancer (in this case).\n",
        "* **True Negative (TN)** decision implies that the patient is accurately identified as not having breast cancer (in this case).\n",
        "\n",
        "\n",
        "To keep the errors in check we measure the accuracy of the classifier:\n",
        "\n",
        "* TPR (True Positive Rate) also referred to as Sensitivity, or Recall = TP/(TP + FN)\n",
        "\n",
        "* TNR (True Negative Rate) also called Specificity = TN/(TN + FP)\n",
        "\n",
        "* FPR (False Positive Rate) or 1 - Specificity = FP/(TN+FP)\n",
        "\n",
        "*Sensitivity* measures the proportion of actual positives that are correctly identified as such (that is, the percentage of patients accurately diagnosed with breast cancer).\n",
        "\n",
        "*Specificity* measures the proportion of actual negatives that are correctly identified as such (that is, the percentage of healthy patients who are accurately identified as not having breast cancer).\n",
        "\n",
        "*Accuracy* measures the percentage of correct classification\n",
        "\n",
        "* **TPR** / Sensitivity =  $P(\\hat{y}=1|y=1)$ \n",
        "* **FPR** / 1- Specificity = $P(\\hat{y}=1|y=0)$\n",
        "* **Accuracy** = $P(\\hat{y}=1|y=1)$ + $P(\\hat{y}=0|y=0)$\n",
        "\n",
        "(Where y is true decision, yhat is the predicted output)\n",
        "\n",
        "**[Confusion matrix](https://en.wikipedia.org/wiki/Confusion_matrix)**, also known as an error matrix, is useful to visualize the errors.\n",
        "\n",
        "| Real/Predicted| Class Positive - Predicted | Class Negative  - Predicted| \n",
        "|---|---|---|\n",
        "| **Class Positive - Real**  |  TP |  FN |  \n",
        "|  **Class Negative - Real** |  FP |  TN |  \n",
        "\n",
        " \n",
        "## ROC curve and AUC:\n",
        "\n",
        "ROC is a probability curve and AUC represents the degree or measure of separability. It tells us how much our model is capable of distinguishing between classes. \n",
        "\n",
        "*Higher the AUC, better the model is at predicting 0s as 0s and 1s as 1s.* So, higher the AUC, better the model is at distinguishing between patients with breast cancer and no breast cancer.\n",
        "\n",
        "\n",
        "As shown above, the logistic classifier outputs a *soft* classification $P(y=1|x)$.  One simple idea is to select the class label $\\hat{y}=1$ whenever $P(y=1|x) > 0.5$.  \n",
        "\n",
        "However, one can also set $\\hat{y}=1$ whenever $P(y=1|x) > t$ for some threshold $t$. \n",
        "\n",
        "\n",
        "Using higher thresholds values selects $\\hat{y}=0$ more often which results in fewer *false alarms*, but also many *missed detections* (reduces sensitivity).  Similarly, lower thresholds values selects $\\hat{y}=1$ more often which results in fewer *missed detections* (increases *sensitivity*) but also more *false alarms*.  The ROC curve displays this  tradeoff by graphing the *true positive rate* vs. *false positive rate* obtained with different $t$.  \n",
        "\n",
        "The ROC curve can be plotted in the `sklearn` package with the following code."
      ]
    },
    {
      "cell_type": "markdown",
      "metadata": {
        "id": "UQnO9ODr4TF4",
        "colab_type": "text"
      },
      "source": [
        "#### Thresholding: Changing the threshold $t$ trades-off TPR and FPR"
      ]
    },
    {
      "cell_type": "code",
      "metadata": {
        "id": "NBY8A2sq4O0O",
        "colab_type": "code",
        "colab": {}
      },
      "source": [
        "## Logreg by default use 0.5 as the threshold\n",
        "##Ask the logreg to return a probability rather than a decision\n",
        "## The first column is prob of class 0, 2nd column is prob of class 1\n",
        "np.set_printoptions(suppress=True)\n",
        "yprob = logreg.predict_proba(Xs)\n",
        "print(yprob[0:5])    #We look at first 5 samples\n",
        "\n",
        "yprob = yprob[:,1].reshape(-1,1)  ## Take only the second column, we only need one probability to make prediction\n",
        "\n",
        "print(\"Threshold = 0.5\")\n",
        "ypred = yprob >= 0.5       ## Threshold = 0.5, \n",
        "print(ypred[0:5])  \n",
        "y_mal = y.reshape(-1,1)\n",
        "#Calcualte TPR and FPR\n",
        "TPR = np.sum((ypred==1)*(y_mal==1))/np.sum(y_mal==1)\n",
        "FPR = np.sum((ypred==1)*(y_mal==0))/np.sum(y_mal==0)\n",
        "print('TPR =', TPR, 'FPR=', FPR)\n",
        "\n",
        "print(\"Threshold = 0.8\")\n",
        "ypred = yprob >= 0.8       ## Threshold = 0.8, Require higher confidence to give a positive (class 1) prediction\n",
        "print(ypred[0:5])\n",
        "TPR = np.sum((ypred==1)*(y_mal==1))/np.sum(y_mal==1)\n",
        "FPR = np.sum((ypred==1)*(y_mal==0))/np.sum(y_mal==0)\n",
        "print('TPR =', TPR, 'FPR=', FPR)   ##False positive rate is decreased, but true positive rate decreased as well"
      ],
      "execution_count": 0,
      "outputs": []
    },
    {
      "cell_type": "code",
      "metadata": {
        "id": "KLDq6aG64WO2",
        "colab_type": "code",
        "colab": {}
      },
      "source": [
        "from sklearn import metrics\n",
        "yprob = logreg.predict_proba(Xs)\n",
        "fpr, tpr, thresholds = metrics.roc_curve(y,yprob[:,1])\n",
        "\n",
        "plt.plot(fpr,tpr)\n",
        "plt.grid()\n",
        "plt.xlabel('FPR')\n",
        "plt.ylabel('TPR')\n",
        "plt.ylim([0.5,1])\n",
        "plt.xlim([0,0.1])"
      ],
      "execution_count": 0,
      "outputs": []
    },
    {
      "cell_type": "code",
      "metadata": {
        "id": "we4x9rG04ZBZ",
        "colab_type": "code",
        "colab": {}
      },
      "source": [
        "plt.plot(thresholds,tpr, thresholds,fpr)\n",
        "plt.legend(['TPR','FPR'])\n",
        "plt.xlabel('Threshold')\n",
        "plt.xlim([0,1.0])"
      ],
      "execution_count": 0,
      "outputs": []
    },
    {
      "cell_type": "code",
      "metadata": {
        "id": "-hdTIy734bez",
        "colab_type": "code",
        "colab": {}
      },
      "source": [
        "auc=metrics.roc_auc_score(y,yprob[:,1])\n",
        "print(\"AUC=%f\" % auc)"
      ],
      "execution_count": 0,
      "outputs": []
    }
  ]
}