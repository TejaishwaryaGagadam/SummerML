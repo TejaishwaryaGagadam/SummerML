{
  "nbformat": 4,
  "nbformat_minor": 0,
  "metadata": {
    "colab": {
      "name": "Day2_Student.ipynb",
      "version": "0.3.2",
      "provenance": [],
      "collapsed_sections": [
        "vKrhN7KoDRi1"
      ],
      "include_colab_link": true
    },
    "kernelspec": {
      "name": "python3",
      "display_name": "Python 3"
    }
  },
  "cells": [
    {
      "cell_type": "markdown",
      "metadata": {
        "id": "view-in-github",
        "colab_type": "text"
      },
      "source": [
        "<a href=\"https://colab.research.google.com/github/nikopj/SummerML/blob/master/Day2/Day2_Student.ipynb\" target=\"_parent\"><img src=\"https://colab.research.google.com/assets/colab-badge.svg\" alt=\"Open In Colab\"/></a>"
      ]
    },
    {
      "cell_type": "markdown",
      "metadata": {
        "id": "Eqb1iCDHPpvZ",
        "colab_type": "text"
      },
      "source": [
        "# Day 2: Linear Regression\n",
        "## Module Outline:\n",
        "- M2: *Lab*: Simple Linear Model\n",
        "- M3: *Lab*: Goodness of Fit\n",
        "- M4: *Demo*: Statistics of the LS Solution\n",
        "- M5: *Demo*: Least Squares Solution\n",
        "- M6: *Demo*: Multivariable Regression on Boston Housing Data\n",
        "- M7: *Demo*: Transformed Output Using Cars MPG Data\n",
        "- M8: *Lab*: Multiple Linear Regression for Robot Arm Calibration\n",
        "- M9: *Demo*: Polynomial Regression\n",
        "- M10: *Demo*: Transformed Linear Model\n",
        "- M11: *Lab*: Transformed Linear Model"
      ]
    },
    {
      "cell_type": "markdown",
      "metadata": {
        "id": "31qLu9cN8-sq",
        "colab_type": "text"
      },
      "source": [
        "# M2: *Lab*: Simple Linear Model\n",
        "\n"
      ]
    },
    {
      "cell_type": "markdown",
      "metadata": {
        "id": "1v4lR_0tG9mk",
        "colab_type": "text"
      },
      "source": [
        "In this demo, you will load data, plot data, perform simple mathematical manipulations, and fit a straight line to a model. This demo uses the Boston housing data set, a widely-used machine learning data set for illustrating basic concepts.  "
      ]
    },
    {
      "cell_type": "markdown",
      "metadata": {
        "id": "KhpXao0R92Qm",
        "colab_type": "text"
      },
      "source": [
        "## Loading the data"
      ]
    },
    {
      "cell_type": "markdown",
      "metadata": {
        "id": "sBBHo84gDuwz",
        "colab_type": "text"
      },
      "source": [
        "The Boston housing data set was collected in the 1970s to study the relationship between house price and various factors such as the house size, crime rate, socio-economic status, etc.  Since the variables are easy to understand, the data set is ideal for learning basic concepts in machine learning.  The raw data and a complete description of the dataset can be found on the UCI website:\n",
        "\n",
        "https://archive.ics.uci.edu/ml/datasets/Housing\n",
        "\n",
        "First, use `pd.read_csv` command to read the data from the file located at\n",
        "\n",
        "https://archive.ics.uci.edu/ml/machine-learning-databases/housing/housing.data"
      ]
    },
    {
      "cell_type": "code",
      "metadata": {
        "id": "qkvuxuiq97Ji",
        "colab_type": "code",
        "outputId": "d2cdad88-4537-4bf6-9cbe-f225006dfc79",
        "colab": {
          "base_uri": "https://localhost:8080/",
          "height": 206
        }
      },
      "source": [
        "import pandas as pd\n",
        "import numpy as np\n",
        "names =[\n",
        "    'CRIM', 'ZN', 'INDUS', 'CHAS', 'NOX', 'RM', \n",
        "    'AGE',  'DIS', 'RAD', 'TAX', 'PTRATIO', 'B', 'LSTAT', 'PRICE']\n",
        "\n",
        "df = pd.read_csv('https://archive.ics.uci.edu/ml/machine-learning-databases/housing/housing.data', \n",
        "                 header=None, names=names, delim_whitespace=True,na_values='?')\n",
        "\n",
        "df.head(5)  # print the first six examples"
      ],
      "execution_count": 0,
      "outputs": [
        {
          "output_type": "execute_result",
          "data": {
            "text/html": [
              "<div>\n",
              "<style scoped>\n",
              "    .dataframe tbody tr th:only-of-type {\n",
              "        vertical-align: middle;\n",
              "    }\n",
              "\n",
              "    .dataframe tbody tr th {\n",
              "        vertical-align: top;\n",
              "    }\n",
              "\n",
              "    .dataframe thead th {\n",
              "        text-align: right;\n",
              "    }\n",
              "</style>\n",
              "<table border=\"1\" class=\"dataframe\">\n",
              "  <thead>\n",
              "    <tr style=\"text-align: right;\">\n",
              "      <th></th>\n",
              "      <th>CRIM</th>\n",
              "      <th>ZN</th>\n",
              "      <th>INDUS</th>\n",
              "      <th>CHAS</th>\n",
              "      <th>NOX</th>\n",
              "      <th>RM</th>\n",
              "      <th>AGE</th>\n",
              "      <th>DIS</th>\n",
              "      <th>RAD</th>\n",
              "      <th>TAX</th>\n",
              "      <th>PTRATIO</th>\n",
              "      <th>B</th>\n",
              "      <th>LSTAT</th>\n",
              "      <th>PRICE</th>\n",
              "    </tr>\n",
              "  </thead>\n",
              "  <tbody>\n",
              "    <tr>\n",
              "      <th>0</th>\n",
              "      <td>0.00632</td>\n",
              "      <td>18.0</td>\n",
              "      <td>2.31</td>\n",
              "      <td>0</td>\n",
              "      <td>0.538</td>\n",
              "      <td>6.575</td>\n",
              "      <td>65.2</td>\n",
              "      <td>4.0900</td>\n",
              "      <td>1</td>\n",
              "      <td>296.0</td>\n",
              "      <td>15.3</td>\n",
              "      <td>396.90</td>\n",
              "      <td>4.98</td>\n",
              "      <td>24.0</td>\n",
              "    </tr>\n",
              "    <tr>\n",
              "      <th>1</th>\n",
              "      <td>0.02731</td>\n",
              "      <td>0.0</td>\n",
              "      <td>7.07</td>\n",
              "      <td>0</td>\n",
              "      <td>0.469</td>\n",
              "      <td>6.421</td>\n",
              "      <td>78.9</td>\n",
              "      <td>4.9671</td>\n",
              "      <td>2</td>\n",
              "      <td>242.0</td>\n",
              "      <td>17.8</td>\n",
              "      <td>396.90</td>\n",
              "      <td>9.14</td>\n",
              "      <td>21.6</td>\n",
              "    </tr>\n",
              "    <tr>\n",
              "      <th>2</th>\n",
              "      <td>0.02729</td>\n",
              "      <td>0.0</td>\n",
              "      <td>7.07</td>\n",
              "      <td>0</td>\n",
              "      <td>0.469</td>\n",
              "      <td>7.185</td>\n",
              "      <td>61.1</td>\n",
              "      <td>4.9671</td>\n",
              "      <td>2</td>\n",
              "      <td>242.0</td>\n",
              "      <td>17.8</td>\n",
              "      <td>392.83</td>\n",
              "      <td>4.03</td>\n",
              "      <td>34.7</td>\n",
              "    </tr>\n",
              "    <tr>\n",
              "      <th>3</th>\n",
              "      <td>0.03237</td>\n",
              "      <td>0.0</td>\n",
              "      <td>2.18</td>\n",
              "      <td>0</td>\n",
              "      <td>0.458</td>\n",
              "      <td>6.998</td>\n",
              "      <td>45.8</td>\n",
              "      <td>6.0622</td>\n",
              "      <td>3</td>\n",
              "      <td>222.0</td>\n",
              "      <td>18.7</td>\n",
              "      <td>394.63</td>\n",
              "      <td>2.94</td>\n",
              "      <td>33.4</td>\n",
              "    </tr>\n",
              "    <tr>\n",
              "      <th>4</th>\n",
              "      <td>0.06905</td>\n",
              "      <td>0.0</td>\n",
              "      <td>2.18</td>\n",
              "      <td>0</td>\n",
              "      <td>0.458</td>\n",
              "      <td>7.147</td>\n",
              "      <td>54.2</td>\n",
              "      <td>6.0622</td>\n",
              "      <td>3</td>\n",
              "      <td>222.0</td>\n",
              "      <td>18.7</td>\n",
              "      <td>396.90</td>\n",
              "      <td>5.33</td>\n",
              "      <td>36.2</td>\n",
              "    </tr>\n",
              "  </tbody>\n",
              "</table>\n",
              "</div>"
            ],
            "text/plain": [
              "      CRIM    ZN  INDUS  CHAS    NOX  ...    TAX  PTRATIO       B  LSTAT  PRICE\n",
              "0  0.00632  18.0   2.31     0  0.538  ...  296.0     15.3  396.90   4.98   24.0\n",
              "1  0.02731   0.0   7.07     0  0.469  ...  242.0     17.8  396.90   9.14   21.6\n",
              "2  0.02729   0.0   7.07     0  0.469  ...  242.0     17.8  392.83   4.03   34.7\n",
              "3  0.03237   0.0   2.18     0  0.458  ...  222.0     18.7  394.63   2.94   33.4\n",
              "4  0.06905   0.0   2.18     0  0.458  ...  222.0     18.7  396.90   5.33   36.2\n",
              "\n",
              "[5 rows x 14 columns]"
            ]
          },
          "metadata": {
            "tags": []
          },
          "execution_count": 6
        }
      ]
    },
    {
      "cell_type": "markdown",
      "metadata": {
        "id": "95wDvIvY-C2q",
        "colab_type": "text"
      },
      "source": [
        "## Data Preparation"
      ]
    },
    {
      "cell_type": "markdown",
      "metadata": {
        "id": "ukIsG6znD0Qf",
        "colab_type": "text"
      },
      "source": [
        "What is the shape of the data?  How many attributes are there?  How many samples?"
      ]
    },
    {
      "cell_type": "code",
      "metadata": {
        "id": "N4sYogQY-HfM",
        "colab_type": "code",
        "outputId": "0c79d3b0-f4f6-43d3-8763-9c5b80892efc",
        "colab": {
          "base_uri": "https://localhost:8080/",
          "height": 34
        }
      },
      "source": [
        "(num_samples, num_attributes) = df.shape\n",
        "print('num samples = ',num_samples, 'num attributes =', num_attributes)"
      ],
      "execution_count": 0,
      "outputs": [
        {
          "output_type": "stream",
          "text": [
            "num samples =  506 num attributes = 14\n"
          ],
          "name": "stdout"
        }
      ]
    },
    {
      "cell_type": "markdown",
      "metadata": {
        "id": "lArclEEC-UKF",
        "colab_type": "text"
      },
      "source": [
        "### Target Vector"
      ]
    },
    {
      "cell_type": "markdown",
      "metadata": {
        "id": "Jb9_GTLkERDE",
        "colab_type": "text"
      },
      "source": [
        "Create a response vector `y` with the values in the column `PRICE`.  The vector `y` should be a 1D `numpy.array` structure."
      ]
    },
    {
      "cell_type": "code",
      "metadata": {
        "id": "8i34YlOC-f_J",
        "colab_type": "code",
        "colab": {}
      },
      "source": [
        "df.columns.tolist()\n",
        "y = df['PRICE']\n"
      ],
      "execution_count": 0,
      "outputs": []
    },
    {
      "cell_type": "markdown",
      "metadata": {
        "id": "EnZKKWBpEUx4",
        "colab_type": "text"
      },
      "source": [
        "### Predictor Vector"
      ]
    },
    {
      "cell_type": "markdown",
      "metadata": {
        "id": "8bIhcrg4Eais",
        "colab_type": "text"
      },
      "source": [
        "Similar to the `y` vector, create a predictor vector `x` containing the values in the `RM` column, which represents the average number of rooms in each region.\n",
        "\n"
      ]
    },
    {
      "cell_type": "code",
      "metadata": {
        "id": "VbCJLJXaEhb0",
        "colab_type": "code",
        "colab": {}
      },
      "source": [
        "x = df['RM']"
      ],
      "execution_count": 0,
      "outputs": []
    },
    {
      "cell_type": "markdown",
      "metadata": {
        "id": "K98A9rjtEnSe",
        "colab_type": "text"
      },
      "source": [
        "## Visualizing the Data"
      ]
    },
    {
      "cell_type": "markdown",
      "metadata": {
        "id": "KDkvE7uOEvtw",
        "colab_type": "text"
      },
      "source": [
        "Python's `matplotlib` has very good routines for plotting and visualizing data that closely follows the format of MATLAB programs.  You can load the `matplotlib` package with the following commands.\n",
        "\n",
        "Create a scatter plot of the price vs. the `RM` attribute."
      ]
    },
    {
      "cell_type": "code",
      "metadata": {
        "id": "L7INi3ZQEyUw",
        "colab_type": "code",
        "colab": {}
      },
      "source": [
        "import matplotlib\n",
        "import matplotlib.pyplot as plt\n",
        "%matplotlib inline\n",
        "\n",
        "plt.plot(x,y,'ob', markeredgecolor='black')\n",
        "plt.xlabel('Average number of rooms in a region')\n",
        "plt.ylabel('Price')\n",
        "plt.grid()"
      ],
      "execution_count": 0,
      "outputs": []
    },
    {
      "cell_type": "markdown",
      "metadata": {
        "id": "unXH0e2fFIlt",
        "colab_type": "text"
      },
      "source": [
        "## LAB: Manually estimate a linear model"
      ]
    },
    {
      "cell_type": "markdown",
      "metadata": {
        "id": "75E6UwPkFWGT",
        "colab_type": "text"
      },
      "source": [
        "We will fit a line to these data points. Roughly estimate the slope and y-intercept of the line that best fits this data. \n",
        "\n",
        "Now, Replot the scatter plot above, but now with the line on top of the above plot"
      ]
    },
    {
      "cell_type": "code",
      "metadata": {
        "id": "l7NHaEZiFb1w",
        "colab_type": "code",
        "colab": {}
      },
      "source": [
        "# TODO:\n",
        "\n",
        "\n",
        "# beta1 = ... # (slope term)\n",
        "# beta0 = ...# (intercept term)\n",
        "\n",
        "# xline = ...\n",
        "# yline = ...\n",
        "\n",
        "# plt.plot( [data points] )\n",
        "# plt.plot( [your line]   )"
      ],
      "execution_count": 0,
      "outputs": []
    },
    {
      "cell_type": "markdown",
      "metadata": {
        "id": "9scXzVstFy5c",
        "colab_type": "text"
      },
      "source": [
        "# M3: *Lab*: Goodness of Fit"
      ]
    },
    {
      "cell_type": "markdown",
      "metadata": {
        "id": "nEpImF1wfncM",
        "colab_type": "text"
      },
      "source": [
        "## Who has the best line-estimate of the data?\n",
        "You? Your classmate? How do you know? Can you prove it with code? Take some time to come up with a way of determining which student has the **best** line of fit."
      ]
    },
    {
      "cell_type": "code",
      "metadata": {
        "id": "_rl5hcejgvAv",
        "colab_type": "code",
        "colab": {}
      },
      "source": [
        "# TODO: \n",
        "\n",
        "# error = ..."
      ],
      "execution_count": 0,
      "outputs": []
    },
    {
      "cell_type": "markdown",
      "metadata": {
        "id": "QqFiCy70hApR",
        "colab_type": "text"
      },
      "source": [
        "## Pause here (for lecture)"
      ]
    },
    {
      "cell_type": "markdown",
      "metadata": {
        "id": "GC6VJJ5Vg7X9",
        "colab_type": "text"
      },
      "source": [
        "## Compute the MSE (as discussed in lecture)"
      ]
    },
    {
      "cell_type": "code",
      "metadata": {
        "id": "LZIAfkf-GCE4",
        "colab_type": "code",
        "colab": {}
      },
      "source": [
        "# TODO:"
      ],
      "execution_count": 0,
      "outputs": []
    },
    {
      "cell_type": "markdown",
      "metadata": {
        "id": "vjUPfPJk-iuG",
        "colab_type": "text"
      },
      "source": [
        "# M4: *Demo*: Statistics for Least-Squares Solution \n"
      ]
    },
    {
      "cell_type": "markdown",
      "metadata": {
        "id": "x-0OY_orGXju",
        "colab_type": "text"
      },
      "source": [
        "## Basic Manipulations on the data\n",
        "\n"
      ]
    },
    {
      "cell_type": "markdown",
      "metadata": {
        "id": "gcDAWTx8j7zz",
        "colab_type": "text"
      },
      "source": [
        "## Calculate the mean, variance, covariance, and correlation coefficient"
      ]
    },
    {
      "cell_type": "code",
      "metadata": {
        "id": "DNb4m_kqj9AK",
        "colab_type": "code",
        "colab": {}
      },
      "source": [
        "# TODO:"
      ],
      "execution_count": 0,
      "outputs": []
    },
    {
      "cell_type": "markdown",
      "metadata": {
        "id": "1kQYIlrqJEH6",
        "colab_type": "text"
      },
      "source": [
        "## Lab: Gaining Intuition for some Statistics"
      ]
    },
    {
      "cell_type": "markdown",
      "metadata": {
        "id": "fz-LMF3vJOrz",
        "colab_type": "text"
      },
      "source": [
        "import the data from the github"
      ]
    },
    {
      "cell_type": "code",
      "metadata": {
        "id": "ISTl2f-XJB2W",
        "colab_type": "code",
        "colab": {}
      },
      "source": [
        "import pandas as pd\n",
        "import numpy as np\n",
        "import matplotlib\n",
        "import matplotlib.pyplot as plt\n",
        "%matplotlib inline\n",
        "\n",
        "url = 'https://raw.githubusercontent.com/nikopj/SummerML/master/Day2/lab_stats.csv'\n",
        "df = pd.read_csv(url)\n",
        "\n",
        "df.head(5)"
      ],
      "execution_count": 0,
      "outputs": []
    },
    {
      "cell_type": "markdown",
      "metadata": {
        "id": "w5R6YabnJ0Lt",
        "colab_type": "text"
      },
      "source": [
        "The data is organized into **cases**. Each case represents a different relationship between the variables x and y. We can choose the samples from a single case by using *logical indexing*."
      ]
    },
    {
      "cell_type": "code",
      "metadata": {
        "id": "2lGLOhvcKOMu",
        "colab_type": "code",
        "colab": {}
      },
      "source": [
        "dfMatrix = df.values\n",
        "\n",
        "x = df['x'].values\n",
        "y = df['y'].values\n",
        "case = df['case'].values\n",
        "\n",
        "log_ind = (case==3)\n",
        "\n",
        "x0 = x[log_ind]\n",
        "y0 = y[log_ind]\n",
        "\n",
        "plt.plot(x0,y0,'ob',markeredgecolor='black')\n",
        "plt.xlim([-2,2])\n",
        "plt.ylim([-2,2])\n",
        "plt.xlabel('x')\n",
        "plt.ylabel('y');\n",
        "plt.title('The Third Case');"
      ],
      "execution_count": 0,
      "outputs": []
    },
    {
      "cell_type": "markdown",
      "metadata": {
        "id": "42AClwuALe-7",
        "colab_type": "text"
      },
      "source": [
        "There are 11 cases in this dataset. Each case has 500 samples of (x,y) pairs associated with it. That means we have 5500 samples all together!\n",
        "### Your Task:\n",
        "- For Cases 0 and 1:\n",
        "  - Graph a scatter plot for each case with xlims [-2,2] and ylims [-2,2]\n",
        "  - Compute the **mean of x**, **mean of y**, **variance of x**, and **variance of y**\n",
        "  - Visually, what do these statistics mean?"
      ]
    },
    {
      "cell_type": "markdown",
      "metadata": {
        "id": "QuRJu0B5OuXk",
        "colab_type": "text"
      },
      "source": [
        "First, write a function that computes statistics for the case and prints them out."
      ]
    },
    {
      "cell_type": "code",
      "metadata": {
        "id": "G8o5QxN-O2PX",
        "colab_type": "code",
        "colab": {}
      },
      "source": [
        "def print_stats(x,y):\n",
        "  # mean = ...\n",
        "  # var  = ...\n",
        "  # print(...)\n",
        "  # print(...)"
      ],
      "execution_count": 0,
      "outputs": []
    },
    {
      "cell_type": "markdown",
      "metadata": {
        "id": "ek3YjA95NQrn",
        "colab_type": "text"
      },
      "source": [
        "## Pause for lecture"
      ]
    },
    {
      "cell_type": "markdown",
      "metadata": {
        "id": "pbfJdOQwNOP3",
        "colab_type": "text"
      },
      "source": [
        " ### Your Task:\n",
        "- For Cases 2 to 8:\n",
        "  - Graph a scatter plot for each case with xlims [-2,2] and ylims [-2,2]\n",
        "  - Compute the **variance of x**, **variance of y**, **covariance of x and y** and the **correlation coefficient**\n",
        "  - Visually, what do these statistics mean? How is covariance different from correlation coefficient?\n",
        "  \n",
        "  Extra: can you write a for-loop for this?"
      ]
    },
    {
      "cell_type": "markdown",
      "metadata": {
        "id": "7wfYTy6uNm1Z",
        "colab_type": "text"
      },
      "source": [
        "## Pause for lecture"
      ]
    },
    {
      "cell_type": "markdown",
      "metadata": {
        "id": "2dP58IzzNrsS",
        "colab_type": "text"
      },
      "source": [
        "### Your Task\n",
        "- For Cases 10 and 11:\n",
        "  - Graph a scatter plot for each case with xlims [-2,2] and ylims [-2,2]\n",
        "  - Compute *all* of the above metrics\n",
        "  - What do these statistics mean?"
      ]
    },
    {
      "cell_type": "markdown",
      "metadata": {
        "id": "n9FnsN9XI6gN",
        "colab_type": "text"
      },
      "source": [
        "# M5: *Demo*: Least-Squares Solution"
      ]
    },
    {
      "cell_type": "markdown",
      "metadata": {
        "id": "792KvKYeJB6N",
        "colab_type": "text"
      },
      "source": [
        "##Computing the parameters for linear fit"
      ]
    },
    {
      "cell_type": "code",
      "metadata": {
        "id": "A3e76tXXJBJ_",
        "colab_type": "code",
        "colab": {}
      },
      "source": [
        "# Find the values for beta0 and beta1 using the above formulas\n",
        "\n",
        "# beta1 = \n",
        "# beta0 = \n",
        "\n",
        "# print(...)"
      ],
      "execution_count": 0,
      "outputs": []
    },
    {
      "cell_type": "markdown",
      "metadata": {
        "id": "8Izajg26Jh08",
        "colab_type": "text"
      },
      "source": [
        "## Plotting the linear fit"
      ]
    },
    {
      "cell_type": "markdown",
      "metadata": {
        "id": "jrW6LIJHJoUk",
        "colab_type": "text"
      },
      "source": [
        "We can create a plot of the regression line on top of the scatter plot. The vector xplt are the x-coordinates of the two endpoints of the line. They are chosen so that the line fits nicely in the plot."
      ]
    },
    {
      "cell_type": "code",
      "metadata": {
        "id": "T3LPfkgJJx0G",
        "colab_type": "code",
        "colab": {}
      },
      "source": [
        "# Points on the regression line\n",
        "xplt = np.array([3,9])          \n",
        "yplt = beta1*xplt + beta0\n",
        "\n",
        "plt.plot(x,y,'o')                    # Plot the data points\n",
        "plt.plot(xplt,yplt,'-',linewidth=3)  # Plot the regression line\n",
        "plt.xlabel('Average number of rooms in a region')\n",
        "plt.ylabel('Price')\n",
        "plt.grid(True)"
      ],
      "execution_count": 0,
      "outputs": []
    },
    {
      "cell_type": "markdown",
      "metadata": {
        "id": "jTKjzQJGKGZc",
        "colab_type": "text"
      },
      "source": [
        "## Goodness of fit"
      ]
    },
    {
      "cell_type": "code",
      "metadata": {
        "id": "SvhaVSi2KBpG",
        "colab_type": "code",
        "colab": {}
      },
      "source": [
        "# calculate the goodness of fit for the best fit line"
      ],
      "execution_count": 0,
      "outputs": []
    },
    {
      "cell_type": "markdown",
      "metadata": {
        "id": "w78DOASLWcCD",
        "colab_type": "text"
      },
      "source": [
        "# M6: *Demo*: Multivariable Regression on Boston Housing Data"
      ]
    },
    {
      "cell_type": "markdown",
      "metadata": {
        "id": "JRrZ5gJhX2Hk",
        "colab_type": "text"
      },
      "source": [
        "Code that should already have come before...\n",
        "\n",
        "Let's read in the data and see what it looks like..."
      ]
    },
    {
      "cell_type": "code",
      "metadata": {
        "id": "iDw4tjflX1C1",
        "colab_type": "code",
        "colab": {}
      },
      "source": [
        "import pandas as pd\n",
        "import numpy as np\n",
        "\n",
        "df = pd.read_csv('https://archive.ics.uci.edu/ml/machine-learning-databases/housing/housing.data', \n",
        "                 header=None,delim_whitespace=True,names=names,na_values='?')\n",
        "\n",
        "df.head(6)  # print the first six samples"
      ],
      "execution_count": 0,
      "outputs": []
    },
    {
      "cell_type": "markdown",
      "metadata": {
        "id": "3_jtITf0KLkf",
        "colab_type": "text"
      },
      "source": [
        "## Forming the Feature Vectors\n",
        "We want to put our features into feature vectors (stacked into a feature matrix). Here we check the difference between the numpy and pandas datatype, and see the importance of using ```df['feature'].values``` to get a numpy array returned."
      ]
    },
    {
      "cell_type": "code",
      "metadata": {
        "id": "LTKzw2raPlZj",
        "colab_type": "code",
        "colab": {}
      },
      "source": [
        "features = df.columns.tolist()\n",
        "features.remove('PRICE')\n",
        "\n",
        "x = df[features[0]]\n",
        "xn = df[features[0]].values\n",
        "\n",
        "print(features)\n",
        "print(x[:3]) # pandas datatype\n",
        "print(xn[:3]) # numpy array"
      ],
      "execution_count": 0,
      "outputs": []
    },
    {
      "cell_type": "markdown",
      "metadata": {
        "id": "jhjwussDaUHG",
        "colab_type": "text"
      },
      "source": [
        "Treat all the features as a vector, $\\mathbf{x}$, and stack the samples in a $N$ by $D$ matrix, $X$, where $N$ is the number of samples and $D$ is the number of features."
      ]
    },
    {
      "cell_type": "code",
      "metadata": {
        "id": "jS5abEJGZWEp",
        "colab_type": "code",
        "colab": {}
      },
      "source": [
        "X = np.hstack([df[f].values.reshape(-1,1) for f in features])\n",
        "print(X.shape)"
      ],
      "execution_count": 0,
      "outputs": []
    },
    {
      "cell_type": "markdown",
      "metadata": {
        "id": "e6eeBUv31nlW",
        "colab_type": "text"
      },
      "source": [
        "## Normalizing the Data\n",
        "Normalize the data by $\\mathbf{Z} = \\frac{x - \\bar{x}}{\\sigma_x}$. This allows us to look at our learned parameters comparativley to see which features are most important for determining the output.\n",
        "\n",
        "It's good practice to check that what you're doing makes sense by looking at the shapes of your vectors. Numpy will sometimes allow operations to pass through that you wouldn't normally think possible with special instances of *broadcasting*."
      ]
    },
    {
      "cell_type": "code",
      "metadata": {
        "id": "W_qVYJBn16dp",
        "colab_type": "code",
        "colab": {}
      },
      "source": [
        "Xbar = np.mean(X,axis=0,keepdims=True)\n",
        "print(Xbar.shape)\n",
        "Xstd = np.std(X,axis=0,keepdims=True)\n",
        "print(Xstd.shape)\n",
        "\n",
        "X = (X-Xbar) / Xstd\n",
        "print(X[:3,:])\n",
        "(N,D) = X.shape\n",
        "print(X.shape)"
      ],
      "execution_count": 0,
      "outputs": []
    },
    {
      "cell_type": "markdown",
      "metadata": {
        "id": "My_yW7qiLhMd",
        "colab_type": "text"
      },
      "source": [
        "## LS Solution\n",
        "using scikit module"
      ]
    },
    {
      "cell_type": "code",
      "metadata": {
        "id": "GtTB6MU6cqP1",
        "colab_type": "code",
        "colab": {}
      },
      "source": [
        "from sklearn.linear_model import LinearRegression\n",
        "\n",
        "y = df['PRICE'].values.reshape(-1,1)\n",
        "\n",
        "regr = LinearRegression()\n",
        "regr.fit(X,y)\n",
        "yhat = regr.predict(x)\n",
        "\n",
        "beta = regr.get_params()\n",
        "\n",
        "MSE = np.sum( (y_hat - y)**2 ) / N\n",
        "print(MSE)"
      ],
      "execution_count": 0,
      "outputs": []
    },
    {
      "cell_type": "markdown",
      "metadata": {
        "id": "FYgRc8uKMszW",
        "colab_type": "text"
      },
      "source": [
        "Print the first values of the ground truth and model predictions to get a feel for our LS solution."
      ]
    },
    {
      "cell_type": "code",
      "metadata": {
        "id": "57Ox9Cfxfsi6",
        "colab_type": "code",
        "colab": {}
      },
      "source": [
        "with np.printoptions(precision=2):\n",
        "  print(y_hat[:5].flatten())\n",
        "  print(y[:5].flatten())"
      ],
      "execution_count": 0,
      "outputs": []
    },
    {
      "cell_type": "markdown",
      "metadata": {
        "id": "WuEqfbQtM52X",
        "colab_type": "text"
      },
      "source": [
        "Printing the parameters to see which are treated most significantly. It seems that the proportion of lower-income people living in the neighborhood is the most significant indicator of housing costs (last parameter)."
      ]
    },
    {
      "cell_type": "code",
      "metadata": {
        "id": "6hMCT8G7gZRn",
        "colab_type": "code",
        "colab": {}
      },
      "source": [
        "with np.printoptions(precision=2,suppress=True):\n",
        "  print(beta)"
      ],
      "execution_count": 0,
      "outputs": []
    },
    {
      "cell_type": "markdown",
      "metadata": {
        "id": "kAdAveZboZvs",
        "colab_type": "text"
      },
      "source": [
        "## Feature Selection:\n",
        "Based on the values of beta, can you select the two most important features? What is MSE if you just use those features for your soluiton?"
      ]
    },
    {
      "cell_type": "code",
      "metadata": {
        "id": "yt2-cb4xoqRU",
        "colab_type": "code",
        "colab": {}
      },
      "source": [
        "# TODO\n",
        "\n",
        "# X = ...\n",
        "\n",
        "# regr = LinearRegression()\n",
        "# regr.fit(X,y)\n",
        "# yhat = regr.predict(x)\n",
        "\n",
        "# beta = regr.get_params()\n",
        "\n",
        "# MSE = np.sum( (y_hat - y)**2 ) / N\n",
        "# print(MSE)"
      ],
      "execution_count": 0,
      "outputs": []
    },
    {
      "cell_type": "markdown",
      "metadata": {
        "id": "vKrhN7KoDRi1",
        "colab_type": "text"
      },
      "source": [
        "# M7: *Demo*: Transforming the Output Data"
      ]
    },
    {
      "cell_type": "code",
      "metadata": {
        "id": "0rjZgf0W4NCN",
        "colab_type": "code",
        "colab": {}
      },
      "source": [
        "import matplotlib.pyplot as plt\n",
        "\n",
        "\n",
        "names = ['mpg','cylinders','displacement','horsepower','weight','acceleration','model year','origin','car name']\n",
        "df = pd.read_csv('https://archive.ics.uci.edu/ml/machine-learning-databases/auto-mpg/auto-mpg.data',delim_whitespace=True,header=None,names=names)\n",
        "df.head(8)\n",
        "\n"
      ],
      "execution_count": 0,
      "outputs": []
    },
    {
      "cell_type": "code",
      "metadata": {
        "id": "hC81vJsjDU_L",
        "colab_type": "code",
        "colab": {}
      },
      "source": [
        "y = df['mpg'].values.reshape(-1,1)\n",
        "x = df['displacement'].values.reshape(-1,1)\n",
        "\n",
        "plt.figure()\n",
        "plt.scatter(x,y)\n",
        "plt.xlabel('Displacement');\n",
        "plt.ylabel('MPG');"
      ],
      "execution_count": 0,
      "outputs": []
    },
    {
      "cell_type": "code",
      "metadata": {
        "id": "ynunQF97DXHz",
        "colab_type": "code",
        "colab": {}
      },
      "source": [
        "from sklearn.linear_model import LinearRegression\n",
        "\n",
        "regr = LinearRegression()\n",
        "regr.fit(x,y)\n",
        "yhat = regr.predict(x)\n",
        "\n",
        "plt.figure()\n",
        "plt.scatter(x,y, color = 'orange')\n",
        "plt.plot(x,yhat, linewidth = '4')\n",
        "\n",
        "print(regr.score(x,y))"
      ],
      "execution_count": 0,
      "outputs": []
    },
    {
      "cell_type": "markdown",
      "metadata": {
        "id": "qMd0azc8DZD4",
        "colab_type": "text"
      },
      "source": [
        "#### Clearly, the relation between mpg and displacement is not linear.\n",
        "#### If we just apply linear regression directly, it does not lead to a good fit.\n",
        "\n",
        "####  Looks like mpg has exponential decay behavior with respect to the displacement.\n",
        "#### We can transform the data by taking the log of y, so that it becomes linear"
      ]
    },
    {
      "cell_type": "code",
      "metadata": {
        "id": "KIuaGZ9uDbFp",
        "colab_type": "code",
        "colab": {}
      },
      "source": [
        "y_transformed = np.log(y)\n",
        "plt.figure()\n",
        "plt.scatter(x,y_transformed)"
      ],
      "execution_count": 0,
      "outputs": []
    },
    {
      "cell_type": "code",
      "metadata": {
        "id": "nAfXzgCGDddK",
        "colab_type": "code",
        "colab": {}
      },
      "source": [
        "from sklearn.linear_model import LinearRegression\n",
        "\n",
        "regr = LinearRegression()\n",
        "regr.fit(x,y_transformed)\n",
        "yhat = regr.predict(x)\n",
        "\n",
        "plt.figure()\n",
        "plt.scatter(x,y_transformed, color = 'orange')\n",
        "plt.plot(x,yhat, linewidth = '4')"
      ],
      "execution_count": 0,
      "outputs": []
    },
    {
      "cell_type": "code",
      "metadata": {
        "id": "ZSaIsx3IDgST",
        "colab_type": "code",
        "colab": {}
      },
      "source": [
        "print(regr.score(x,y_transformed))"
      ],
      "execution_count": 0,
      "outputs": []
    },
    {
      "cell_type": "markdown",
      "metadata": {
        "id": "-tvbkjNtVMA0",
        "colab_type": "text"
      },
      "source": [
        "# M8: *Lab*: Multiple Linear Regression for Robot Arm Calibration\n",
        "\n"
      ]
    },
    {
      "cell_type": "markdown",
      "metadata": {
        "id": "PnCiIny6Wa-0",
        "colab_type": "text"
      },
      "source": [
        "In this lab, we will illustrate the use of multiple linear regression for calibrating robot control.  In addition understanding the concepts in the multivariable linear regression demo (with Boston housing data), you will see how to use multiple linear regression for time series data -- an important concept in dynamical systems such as robotics.\n",
        "\n",
        "The robot data for the lab is taken from the TU Dortmund's [Multiple Link Robot Arms Project](http://www.rst.e-technik.tu-dortmund.de/cms/en/research/robotics/TUDOR_engl/index.html).  As part of the project, they have created an excellent public dataset: [MERIt](http://www.rst.e-technik.tu-dortmund.de/cms/en/research/robotics/TUDOR_engl/index.html#h3MERIt) -- A Multi-Elastic-Link Robot Identification Dataset that can be used for understanding robot dynamics.  The data is from a three link robot:\n",
        "\n",
        "<img src=\"http://www.rst.e-technik.tu-dortmund.de/cms/Medienpool/redaktionelleBilder/Forschung/Schwerpunkte/TUDOR_engl/TUDORBild.png\" height=\"200\" width=\"200\">\n",
        "\n",
        "\n",
        "**We will focus on predicting the current draw into one of the joints as a function of the robot motion.  Such models are essential in predicting the overall robot power consumption.  Several other models could also be used.**"
      ]
    },
    {
      "cell_type": "markdown",
      "metadata": {
        "id": "K2l5ZAAmVaGl",
        "colab_type": "text"
      },
      "source": [
        "#### Load and Visualize the Data\n",
        "First, import the modules we will need."
      ]
    },
    {
      "cell_type": "code",
      "metadata": {
        "id": "7ozY8h1kVc3K",
        "colab_type": "code",
        "colab": {}
      },
      "source": [
        "import pandas as pd\n",
        "import numpy as np\n",
        "import matplotlib\n",
        "import matplotlib.pyplot as plt\n",
        "%matplotlib inline"
      ],
      "execution_count": 0,
      "outputs": []
    },
    {
      "cell_type": "markdown",
      "metadata": {
        "id": "VEcKT7nQVegq",
        "colab_type": "text"
      },
      "source": [
        "The full MERIt dataset can be obtained from the [MERIt site](http://www.rst.e-technik.tu-dortmund.de/cms/en/research/robotics/TUDOR_engl/index.html#h3MERIt).  But, this dataset is large. Included in this repository are two of the ten experiments.  Each experiments corresonds to 80 seconds of recorded motion.  \n",
        "\n",
        "We are going to use the following file:\n",
        "* [exp1.csv](https://raw.githubusercontent.com/nikopj/SummerML/master/Day2/exp1.csv) \n",
        "\n",
        "Below, we have supplied the column headers in the `names` array.  \n",
        "\n",
        "**Use the `pd.read_csv` command to load the data.  Use the `index_col` option to specify that column 0 (the one with time) is the *index* column.**\n"
      ]
    },
    {
      "cell_type": "code",
      "metadata": {
        "id": "evMgZYlaVgdU",
        "colab_type": "code",
        "colab": {}
      },
      "source": [
        "names =[\n",
        "    't',                                  # Time (secs)\n",
        "    'q1', 'q2', 'q3',                     # Joint angle   (rads)\n",
        "    'dq1', 'dq2', 'dq3',                  # Joint velocity (rads/sec)\n",
        "    'I1', 'I2', 'I3',                     # Motor current (A)\n",
        "    'eps21', 'eps22', 'eps31', 'eps32',   # Strain gauge measurements ($\\mu$m /m )\n",
        "    'ddq1', 'ddq2', 'ddq3'                # Joint accelerations (rad/sec^2)\n",
        "]\n",
        "\n",
        "\n",
        "# TODO \n",
        "# df = pd.read_csv(...)"
      ],
      "execution_count": 0,
      "outputs": []
    },
    {
      "cell_type": "markdown",
      "metadata": {
        "id": "R5TF8ex_Viy1",
        "colab_type": "text"
      },
      "source": [
        "Print the first six lines of the pandas dataframe and manually check that they match the first rows of the csv file."
      ]
    },
    {
      "cell_type": "code",
      "metadata": {
        "id": "ETVedrPgVksc",
        "colab_type": "code",
        "colab": {}
      },
      "source": [
        "# TODO"
      ],
      "execution_count": 0,
      "outputs": []
    },
    {
      "cell_type": "markdown",
      "metadata": {
        "id": "ag6KfhLOVmt7",
        "colab_type": "text"
      },
      "source": [
        "From the dataframe `df`, extract the *time* indices into a vector `t` and extract `I2`, the *current* into the second joint.  Place the *current* in a vector `y` and plot `y` vs. `t`.   Label the axes with the units."
      ]
    },
    {
      "cell_type": "code",
      "metadata": {
        "id": "VYUPYBk3VoGE",
        "colab_type": "code",
        "colab": {}
      },
      "source": [
        "# TODO\n",
        "# y = ...\n",
        "# t = ...\n",
        "# plt.plot(...)"
      ],
      "execution_count": 0,
      "outputs": []
    },
    {
      "cell_type": "markdown",
      "metadata": {
        "id": "J9WL3ILDVppX",
        "colab_type": "text"
      },
      "source": [
        "Let's use all the samples from the dataset that we need to train our model with:\n",
        "\n",
        "* `y`:  A vector of all the samples from the `I2` column\n",
        "* `X`:  A matrix of the data with the columns:  `['q2','dq2','eps21', 'eps22', 'eps31', 'eps32','ddq2']`"
      ]
    },
    {
      "cell_type": "code",
      "metadata": {
        "id": "FFgu7GY4VswA",
        "colab_type": "code",
        "colab": {}
      },
      "source": [
        "# TODO\n",
        "# y = ...\n",
        "# X = ..."
      ],
      "execution_count": 0,
      "outputs": []
    },
    {
      "cell_type": "markdown",
      "metadata": {
        "id": "eHoADmvSVwM3",
        "colab_type": "text"
      },
      "source": [
        "#### Fit a Linear Model\n",
        "\n",
        "Import linear_model from sklearn.\n",
        "\n",
        "Use the `sklearn.linear_model` module to create a `LinearRegression` class `regr`."
      ]
    },
    {
      "cell_type": "code",
      "metadata": {
        "id": "eqy2s-gGVx-a",
        "colab_type": "code",
        "colab": {}
      },
      "source": [
        "# Create linear regression object\n",
        "# TODO\n",
        "# from ...\n",
        "# regr = ..."
      ],
      "execution_count": 0,
      "outputs": []
    },
    {
      "cell_type": "markdown",
      "metadata": {
        "id": "VSKvEKUJV0z7",
        "colab_type": "text"
      },
      "source": [
        "Train the model on the our data."
      ]
    },
    {
      "cell_type": "code",
      "metadata": {
        "id": "uF0rF45uV3uC",
        "colab_type": "code",
        "colab": {}
      },
      "source": [
        "# TODO"
      ],
      "execution_count": 0,
      "outputs": []
    },
    {
      "cell_type": "markdown",
      "metadata": {
        "id": "84jbOe7-V5LP",
        "colab_type": "text"
      },
      "source": [
        "Using the trained model, compute, `y_pred`, the predicted *current*.  Plot `y_pred` vs. time `t`.  On the same plot, plot the actual *current* `ytrain` vs. time `t`.  Create a legend for the plot."
      ]
    },
    {
      "cell_type": "code",
      "metadata": {
        "id": "5ci6hXd1V7Lm",
        "colab_type": "code",
        "colab": {}
      },
      "source": [
        "# TODO\n",
        "#y_pred = \n",
        "plt.plot(t,y)\n",
        "plt.plot(t,y_pred)\n",
        "plt.legend(['actual', 'predicted'])\n",
        "plt.xlabel('Time (secs)')\n",
        "plt.ylabel('Current I2 (A)')"
      ],
      "execution_count": 0,
      "outputs": []
    },
    {
      "cell_type": "markdown",
      "metadata": {
        "id": "XZeDaz96V-IH",
        "colab_type": "text"
      },
      "source": [
        "#### Goodness of the fit\n",
        "\n",
        "compute the MSE"
      ]
    },
    {
      "cell_type": "code",
      "metadata": {
        "id": "V08WKZuDV_Rz",
        "colab_type": "code",
        "colab": {}
      },
      "source": [
        "# TODO\n",
        "#MSE = \n",
        "print('MSE =', MSE)"
      ],
      "execution_count": 0,
      "outputs": []
    }
  ]
}