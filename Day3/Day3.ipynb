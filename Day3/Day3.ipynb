{
  "nbformat": 4,
  "nbformat_minor": 0,
  "metadata": {
    "colab": {
      "name": "Day3v2.ipynb",
      "version": "0.3.2",
      "provenance": [],
      "collapsed_sections": [
        "2_0tLfaCwhnj",
        "UP73ZMeEpbUe",
        "Tg7ZEhAvreil"
      ],
      "include_colab_link": true
    },
    "kernelspec": {
      "name": "python3",
      "display_name": "Python 3"
    }
  },
  "cells": [
    {
      "cell_type": "markdown",
      "metadata": {
        "id": "view-in-github",
        "colab_type": "text"
      },
      "source": [
        "<a href=\"https://colab.research.google.com/github/nikopj/SummerML/blob/master/Day3/Day3.ipynb\" target=\"_parent\"><img src=\"https://colab.research.google.com/assets/colab-badge.svg\" alt=\"Open In Colab\"/></a>"
      ]
    },
    {
      "cell_type": "markdown",
      "metadata": {
        "id": "fxtzL4KEpEFJ",
        "colab_type": "text"
      },
      "source": [
        "# Day 3: Generalization Error"
      ]
    },
    {
      "cell_type": "markdown",
      "metadata": {
        "id": "YuDbtKndw2O6",
        "colab_type": "text"
      },
      "source": [
        "# M2: *Lab*: Multiple Linear Regression for Robot Arm Calibration"
      ]
    },
    {
      "cell_type": "markdown",
      "metadata": {
        "id": "nS0uAEtYw6gp",
        "colab_type": "text"
      },
      "source": [
        "In this lab, we will illustrate the use of multiple linear regression for calibrating robot control.  \n",
        "\n",
        "The robot data for the lab is taken from the TU Dortmund's [Multiple Link Robot Arms Project](http://www.rst.e-technik.tu-dortmund.de/cms/en/research/robotics/TUDOR_engl/index.html).  As part of the project, they have created an excellent public dataset: [MERIt](http://www.rst.e-technik.tu-dortmund.de/cms/en/research/robotics/TUDOR_engl/index.html#h3MERIt) -- A Multi-Elastic-Link Robot Identification Dataset that can be used for understanding robot dynamics.  The data is from a three link robot:\n",
        "\n",
        "<img src=\"http://www.rst.e-technik.tu-dortmund.de/cms/Medienpool/redaktionelleBilder/Forschung/Schwerpunkte/TUDOR_engl/TUDORBild.png\" height=\"200\" width=\"200\">\n",
        "\n",
        "\n",
        "**We will focus on predicting the value of *current* drawn into one of the joints as a function of the robot motion.**"
      ]
    },
    {
      "cell_type": "markdown",
      "metadata": {
        "id": "WOaNSTf_w-lS",
        "colab_type": "text"
      },
      "source": [
        "Load and Visualize the Data\n",
        "First, import the modules we will need."
      ]
    },
    {
      "cell_type": "code",
      "metadata": {
        "id": "NUvTTGeaw_G5",
        "colab_type": "code",
        "colab": {}
      },
      "source": [
        "import pandas as pd\n",
        "import numpy as np\n",
        "import matplotlib\n",
        "import matplotlib.pyplot as plt\n",
        "%matplotlib inline"
      ],
      "execution_count": 0,
      "outputs": []
    },
    {
      "cell_type": "markdown",
      "metadata": {
        "id": "-H98pVkwxBFF",
        "colab_type": "text"
      },
      "source": [
        "The full MERIt dataset can be obtained from the [MERIt site](http://www.rst.e-technik.tu-dortmund.de/cms/en/research/robotics/TUDOR_engl/index.html#h3MERIt).  But, this dataset is large. Included in this repository are two of the ten experiments.  Each experiments corresonds to 80 seconds of recorded motion.  \n",
        "\n",
        "We are going to use the following file:\n",
        "* [robot_arm.csv](https://raw.githubusercontent.com/nikopj/SummerML/master/Day3/robot_arm.csv) \n",
        "\n",
        "Below, we have supplied the column headers in the `names` array.  \n",
        "\n",
        "**Use the `pd.read_csv` command to load the data.  Use the `index_col` option to specify that column 0 (the one with time) is the *index* column.**"
      ]
    },
    {
      "cell_type": "code",
      "metadata": {
        "id": "qDlyL4XCxDyO",
        "colab_type": "code",
        "colab": {}
      },
      "source": [
        "names =[\n",
        "    't',                                  # Time (secs)\n",
        "    'q1', 'q2', 'q3',                     # Joint angle   (rads)\n",
        "    'dq1', 'dq2', 'dq3',                  # Joint velocity (rads/sec)\n",
        "    'I1', 'I2', 'I3',                     # Motor current (A)\n",
        "    'eps21', 'eps22', 'eps31', 'eps32',   # Strain gauge measurements ($\\mu$m /m )\n",
        "    'ddq1', 'ddq2', 'ddq3'                # Joint accelerations (rad/sec^2)\n",
        "]\n",
        "\n",
        "\n",
        "# TODO \n",
        "# df = pd.read_csv(...)"
      ],
      "execution_count": 0,
      "outputs": []
    },
    {
      "cell_type": "markdown",
      "metadata": {
        "id": "9obQgDGvxG9j",
        "colab_type": "text"
      },
      "source": [
        "Print the first six lines of the pandas dataframe."
      ]
    },
    {
      "cell_type": "code",
      "metadata": {
        "id": "K3eRWPl3xGAD",
        "colab_type": "code",
        "colab": {}
      },
      "source": [
        "# TODO"
      ],
      "execution_count": 0,
      "outputs": []
    },
    {
      "cell_type": "markdown",
      "metadata": {
        "id": "ECzwJ6ExxL1G",
        "colab_type": "text"
      },
      "source": [
        "From the dataframe `df`, extract the *time* indices into a vector `t` and extract `I2`, the *current* into the second joint.  Place the *current* in a vector `y` and plot `y` vs. `t`.   Label the axes with the units."
      ]
    },
    {
      "cell_type": "code",
      "metadata": {
        "id": "J9XI9Fd8xLEy",
        "colab_type": "code",
        "colab": {}
      },
      "source": [
        "# TODO\n",
        "# y = ...\n",
        "# t = ...\n",
        "# plt.plot(...)"
      ],
      "execution_count": 0,
      "outputs": []
    },
    {
      "cell_type": "markdown",
      "metadata": {
        "id": "VF6LWAoRxcFY",
        "colab_type": "text"
      },
      "source": [
        "Let's use all the samples from the dataset that we need to train our model with:\n",
        "\n",
        "* `y`:  A vector of all the samples from the `I2` column\n",
        "* `X`:  A matrix of the data with the columns:  `['q2','dq2','eps21', 'eps22', 'eps31', 'eps32','ddq2']`"
      ]
    },
    {
      "cell_type": "code",
      "metadata": {
        "id": "82l7bb6uxc6h",
        "colab_type": "code",
        "colab": {}
      },
      "source": [
        "# TODO\n",
        "# y = ...\n",
        "# X = ..."
      ],
      "execution_count": 0,
      "outputs": []
    },
    {
      "cell_type": "markdown",
      "metadata": {
        "id": "9GnNS3inxeJU",
        "colab_type": "text"
      },
      "source": [
        "#### Fit a Linear Model\n",
        "\n",
        "Import linear_model from sklearn.\n",
        "\n",
        "Use the `sklearn.linear_model` module to create a `LinearRegression` class `regr`."
      ]
    },
    {
      "cell_type": "code",
      "metadata": {
        "id": "6hM03CBFxfza",
        "colab_type": "code",
        "colab": {}
      },
      "source": [
        "# Create linear regression object\n",
        "# TODO\n",
        "# from ...\n",
        "# regr = ..."
      ],
      "execution_count": 0,
      "outputs": []
    },
    {
      "cell_type": "markdown",
      "metadata": {
        "id": "Ln7ym8M6xiWz",
        "colab_type": "text"
      },
      "source": [
        "Train the model on the our data.\n",
        "\n"
      ]
    },
    {
      "cell_type": "code",
      "metadata": {
        "id": "rbG8V_1wxhg_",
        "colab_type": "code",
        "colab": {}
      },
      "source": [
        "# TODO\n",
        "\n",
        "#regr.fit"
      ],
      "execution_count": 0,
      "outputs": []
    },
    {
      "cell_type": "markdown",
      "metadata": {
        "id": "wgBhIfesxmxD",
        "colab_type": "text"
      },
      "source": [
        "Using the trained model, compute, `y_pred`, the predicted *current*.  Plot `y_pred` vs. time `t`.  On the same plot, plot the actual *current* `ytrain` vs. time `t`.  Create a legend for the plot."
      ]
    },
    {
      "cell_type": "code",
      "metadata": {
        "id": "ClLgxvXsxoXs",
        "colab_type": "code",
        "colab": {}
      },
      "source": [
        "# TODO\n",
        "# y_pred = ...\n",
        "# plt.plot ...\n",
        "# plt.plot ..."
      ],
      "execution_count": 0,
      "outputs": []
    },
    {
      "cell_type": "markdown",
      "metadata": {
        "id": "lns20yMfxpiz",
        "colab_type": "text"
      },
      "source": [
        "#### Goodness of the fit using Mean Squared Error"
      ]
    },
    {
      "cell_type": "code",
      "metadata": {
        "id": "XjiZ4Wiyxral",
        "colab_type": "code",
        "colab": {}
      },
      "source": [
        "# error = "
      ],
      "execution_count": 0,
      "outputs": []
    },
    {
      "cell_type": "markdown",
      "metadata": {
        "id": "2_0tLfaCwhnj",
        "colab_type": "text"
      },
      "source": [
        "#M3 Demo: Fitting a Polynomial"
      ]
    },
    {
      "cell_type": "code",
      "metadata": {
        "id": "fLOLoJZywgdM",
        "colab_type": "code",
        "colab": {}
      },
      "source": [
        "import numpy as np\n",
        "import matplotlib.pyplot as plt\n",
        "\n",
        "npts = 100\n",
        "x = np.random.rand(npts,1)*2*np.pi\n",
        "y = 5*np.sin(x) + np.random.randn(npts,1)*1.5\n",
        "\n",
        "plt.scatter(x,y)"
      ],
      "execution_count": 0,
      "outputs": []
    },
    {
      "cell_type": "code",
      "metadata": {
        "id": "8EZqxGyPwl-s",
        "colab_type": "code",
        "colab": {}
      },
      "source": [
        "from sklearn import linear_model\n",
        "from sklearn.preprocessing import PolynomialFeatures\n",
        "from sklearn.pipeline import make_pipeline\n",
        "\n",
        "\n",
        "##### Step 1: Transform the original feature into polynomial ##########\n",
        "print('x before transformation\\n' , x[0:5])\n",
        "degree = 2\n",
        "poly = PolynomialFeatures(degree)\n",
        "x_poly = poly.fit_transform(x)\n",
        "\n",
        "print('Design matrix after transformation\\n' , x_poly[0:5])"
      ],
      "execution_count": 0,
      "outputs": []
    },
    {
      "cell_type": "code",
      "metadata": {
        "id": "4u3APeumwpff",
        "colab_type": "code",
        "colab": {}
      },
      "source": [
        "##### Step 2: Use the new design matrix to do a Linear Regression ##########\n",
        "regr = linear_model.LinearRegression()\n",
        "regr.fit(x_poly,y)\n",
        "\n",
        "## For plotting the Line\n",
        "# When plottin the line, you also need to transform the line axis to polynomial as well\n",
        "x_line = np.linspace(0,2*np.pi,100).reshape(-1,1)\n",
        "x_line_poly = poly.fit_transform(x_line)\n",
        "y_line = regr.predict(x_line_poly)\n",
        "\n",
        "plt.plot(x_line,y_line)\n",
        "plt.plot(x,y,'o')"
      ],
      "execution_count": 0,
      "outputs": []
    },
    {
      "cell_type": "markdown",
      "metadata": {
        "id": "45JazKoqyyGb",
        "colab_type": "text"
      },
      "source": [
        "# M4 Lab: Fit a Polynomial\n",
        "\n",
        "- You are given the data set below with x and y values.\n",
        "\n",
        "- Try to fit the data using a polynomial with a certain degree.\n",
        "\n",
        "- Calculate mean square error between the sample y and your predicted y.\n",
        "\n",
        "- Try different polynomial degree and see if you can improve the mse.\n",
        "\n",
        "- Plot your polynomial over the data points\n"
      ]
    },
    {
      "cell_type": "code",
      "metadata": {
        "id": "zF4PXgWyyzEf",
        "colab_type": "code",
        "colab": {}
      },
      "source": [
        "import pandas as pd\n",
        "url = 'https://raw.githubusercontent.com/nikopj/SummerML/master/Day3/PolyFit_Lab_data.csv'\n",
        "df = pd.read_csv(url)\n",
        "x = df['x'].values.reshape(-1,1)\n",
        "y = df['y'].values.reshape(-1,1)\n",
        "plt.plot(x,y,'o')"
      ],
      "execution_count": 0,
      "outputs": []
    },
    {
      "cell_type": "code",
      "metadata": {
        "id": "4x3Urzg_y2TG",
        "colab_type": "code",
        "colab": {}
      },
      "source": [
        "#### TO DO ########################\n",
        "\n",
        "# degree = ...\n",
        "# model = ...\n",
        "\n",
        "# yhat = ...\n",
        "# mse = ...\n",
        "# print('Polynomial degree = {}    '.format(degree), 'mse = {}'.format(mse))\n",
        "\n",
        "\n",
        "## Plot your polynomial\n",
        "# xline =\n",
        "# yline = \n",
        "# plt.plot(xline,yline)"
      ],
      "execution_count": 0,
      "outputs": []
    },
    {
      "cell_type": "code",
      "metadata": {
        "id": "8T8Tke7ny3A_",
        "colab_type": "code",
        "colab": {}
      },
      "source": [
        ""
      ],
      "execution_count": 0,
      "outputs": []
    },
    {
      "cell_type": "markdown",
      "metadata": {
        "id": "UP73ZMeEpbUe",
        "colab_type": "text"
      },
      "source": [
        "# M5: *Demo*: Model Order Selection\n",
        "We've seen that have too complex of a model can cause it to overfit the data, and consequently fail to accurately make predictions on new measurements.\n",
        "## GOAL:\n",
        "Can we write an algorithm that **automatically** determines the appropriate model order and uses it?"
      ]
    },
    {
      "cell_type": "markdown",
      "metadata": {
        "id": "-5ELRmzvpgse",
        "colab_type": "text"
      },
      "source": [
        "## Generating the data\n",
        "We're making synthetic data so that we can verify the accuracy of our new tool."
      ]
    },
    {
      "cell_type": "code",
      "metadata": {
        "id": "1syIWFZTo-fN",
        "colab_type": "code",
        "outputId": "c4aa76d8-1c10-4aa6-ad05-f6b7b270fb02",
        "colab": {
          "base_uri": "https://localhost:8080/",
          "height": 283
        }
      },
      "source": [
        "import numpy as np\n",
        "import matplotlib\n",
        "import matplotlib.pyplot as plt\n",
        "%matplotlib inline\n",
        "\n",
        "nsamp = 100 # number of samples taken\n",
        "p = np.array([5,1,-2,-.5]) # true process coefficients\n",
        "var = 0.1 # noise variance\n",
        "\n",
        "# we'll take a set of measurements uniformly\n",
        "x = np.linspace(-1,1,nsamp)\n",
        "y_true = np.polyval(p,x)\n",
        "# noisy measurement, ym. use sqrt(var) as numpy normal standard deviation\n",
        "y = y_true + np.random.normal(0, np.sqrt(var), nsamp)\n",
        "\n",
        "plt.plot(x,y_true)\n",
        "# we can force a scatter plot in plt.plot by making the third argument 'o'\n",
        "plt.plot(x,y,'o',ms=4,markeredgecolor='black');\n",
        "plt.grid();\n",
        "plt.xlabel('x')\n",
        "plt.ylabel('y')\n",
        "plt.legend(['True Process, y_true','Noisy Measurement, y']);"
      ],
      "execution_count": 0,
      "outputs": [
        {
          "output_type": "display_data",
          "data": {
            "image/png": "[encoded data removed]",
            "text/plain": [
              "<Figure size 432x288 with 1 Axes>"
            ]
          },
          "metadata": {
            "tags": []
          }
        }
      ]
    },
    {
      "cell_type": "markdown",
      "metadata": {
        "id": "f0gt5xcbpj8a",
        "colab_type": "text"
      },
      "source": [
        "## A Reminder of how ```np.polyfit()``` works"
      ]
    },
    {
      "cell_type": "code",
      "metadata": {
        "id": "sSfb4rhupoBj",
        "colab_type": "code",
        "outputId": "f47a3f88-5645-4980-9b74-364d1ad4fb1d",
        "colab": {
          "base_uri": "https://localhost:8080/",
          "height": 304
        }
      },
      "source": [
        "w = np.polyfit(x,y,3)\n",
        "yhat = np.polyval(w,x)\n",
        "\n",
        "MSE = np.mean( (y-yhat)**2 )\n",
        "\n",
        "print('w=',w)\n",
        "print('MSE=',MSE)\n",
        "\n",
        "plt.plot(x,yhat,'-b',x,y,'oc',markeredgecolor='black')\n",
        "plt.grid()"
      ],
      "execution_count": 0,
      "outputs": [
        {
          "output_type": "stream",
          "text": [
            "w= [ 4.94545864  0.94744158 -2.08589257 -0.54181851]\n",
            "MSE= 0.11206906447071029\n"
          ],
          "name": "stdout"
        },
        {
          "output_type": "display_data",
          "data": {
            "image/png": "[encoded data removed]",
            "text/plain": [
              "<Figure size 432x288 with 1 Axes>"
            ]
          },
          "metadata": {
            "tags": []
          }
        }
      ]
    },
    {
      "cell_type": "markdown",
      "metadata": {
        "id": "39lhNTcgqSQq",
        "colab_type": "text"
      },
      "source": [
        "## (Optional) Make a function for computing Mean Squared Error"
      ]
    },
    {
      "cell_type": "code",
      "metadata": {
        "id": "WNZ6J-eMqTez",
        "colab_type": "code",
        "colab": {}
      },
      "source": [
        "def msqerr(yhat,y):\n",
        "  MSE = np.mean( (y-yhat)**2 )\n",
        "  return MSE"
      ],
      "execution_count": 0,
      "outputs": []
    },
    {
      "cell_type": "markdown",
      "metadata": {
        "id": "A1RJ4Ce2qfhw",
        "colab_type": "text"
      },
      "source": [
        "## Model Order Selection Attempt\n",
        "Rule: choose model order with lowest validation set MSE"
      ]
    },
    {
      "cell_type": "code",
      "metadata": {
        "id": "zJl0-e5xqgSq",
        "colab_type": "code",
        "outputId": "8e8e4ca5-04e7-499a-fe08-7bc4ca2e8281",
        "colab": {
          "base_uri": "https://localhost:8080/",
          "height": 316
        }
      },
      "source": [
        "from sklearn.model_selection import train_test_split\n",
        "\n",
        "# randomly shuffles data when splitting\n",
        "xtrain, xtest, ytrain, ytest = train_test_split(x,y, test_size=0.2 )#, random_state = 42)\n",
        "xtrain, xval , ytrain, yval  = train_test_split(xtrain,ytrain, test_size=0.1 )#, random_state = 99)\n",
        "\n",
        "M = 12\n",
        "train_score = np.zeros((M,1))\n",
        "val_score = np.zeros((M,1))\n",
        "coeffs = []\n",
        "\n",
        "for m in range(M):\n",
        "  w = np.polyfit(xtrain, ytrain, m)\n",
        "  coeffs.append(w)\n",
        "  # train MSE\n",
        "  yhat_train = np.polyval(w,xtrain)\n",
        "  train_score[m] = msqerr(yhat_train, ytrain)\n",
        "  # val MSE\n",
        "  yhat_val  = np.polyval(w,xval)\n",
        "  val_score[m] = msqerr(yhat_val, yval)\n",
        "  \n",
        "plt.plot(train_score,'o-')\n",
        "plt.plot(val_score,'o-');\n",
        "plt.xticks(np.arange(M))\n",
        "plt.xlim(0,M)\n",
        "plt.ylim(0,1)\n",
        "plt.grid()\n",
        "plt.legend(['Training Score','Validaiton Score'])\n",
        "plt.title('Model Order Selection Attempt')\n",
        "\n",
        "order = np.argmin(val_score)\n",
        "print(\"Chosen Order = \",order)\n",
        "\n",
        "yhat_test = np.polyval(coeffs[order], xtest)\n",
        "MSE = msqerr(ytest, yhat_test)\n",
        "print(\"Test MSE = \", MSE)"
      ],
      "execution_count": 0,
      "outputs": [
        {
          "output_type": "stream",
          "text": [
            "Chosen Order =  9\n",
            "Test MSE =  0.13262307322089423\n"
          ],
          "name": "stdout"
        },
        {
          "output_type": "display_data",
          "data": {
            "image/png": "[encoded data removed]",
            "text/plain": [
              "<Figure size 432x288 with 1 Axes>"
            ]
          },
          "metadata": {
            "tags": []
          }
        }
      ]
    },
    {
      "cell_type": "markdown",
      "metadata": {
        "id": "bPsCIYmIqj1-",
        "colab_type": "text"
      },
      "source": [
        "## K-Folds Cross-Validation:\n",
        "Refer to the slide deck for the steps of the algorithm"
      ]
    },
    {
      "cell_type": "code",
      "metadata": {
        "id": "aKkqd1fYqp28",
        "colab_type": "code",
        "outputId": "00eaab9a-ac3b-4a99-ea5d-94bdb6b213df",
        "colab": {
          "base_uri": "https://localhost:8080/",
          "height": 295
        }
      },
      "source": [
        "from sklearn.model_selection import KFold, train_test_split\n",
        "\n",
        "xtrain, xtest, ytrain, ytest = train_test_split(x,y, test_size=0.2) #, random_state = 42)\n",
        "\n",
        "M = 15\n",
        "K = 10\n",
        "\n",
        "# validation score matrix\n",
        "Score = np.zeros((K,M))\n",
        "\n",
        "kf = KFold(K)\n",
        "\n",
        "k = 0\n",
        "for train_index, val_index in kf.split(xtrain):\n",
        "  xk_train, yk_train = xtrain[train_index], ytrain[train_index]\n",
        "  xk_val  , yk_val   = xtrain[val_index],   ytrain[val_index]\n",
        "  for m in range(M):\n",
        "    w = np.polyfit(xk_train, yk_train, m)\n",
        "    yhat = np.polyval(w,xk_val)\n",
        "    Score[k,m] = msqerr(yhat, yk_val)\n",
        "  k = k+1\n",
        "  \n",
        "Smean = np.mean(Score,axis=0)\n",
        "Sstd  = np.std(Score,axis=0)\n",
        "\n",
        "plt.errorbar(np.arange(M), Smean, yerr=Sstd, fmt='o-')\n",
        "plt.ylim([0,1])\n",
        "plt.xticks(np.arange(M))\n",
        "plt.grid()\n",
        "plt.xlabel('Model Order')\n",
        "plt.ylabel('Mean MSE')\n",
        "plt.title('K-Fold Model Mean Score with Std. Dev. Error Bars');\n"
      ],
      "execution_count": 0,
      "outputs": [
        {
          "output_type": "display_data",
          "data": {
            "image/png": "[encoded data removed]",
            "text/plain": [
              "<Figure size 432x288 with 1 Axes>"
            ]
          },
          "metadata": {
            "tags": []
          }
        }
      ]
    },
    {
      "cell_type": "markdown",
      "metadata": {
        "id": "nG9Wbs9lqwsg",
        "colab_type": "text"
      },
      "source": [
        "### K-Fold Validation Rule\n",
        "We implement the one standard error rule here. Refer to lecture slides for more information"
      ]
    },
    {
      "cell_type": "code",
      "metadata": {
        "id": "PTVeZrliqxd-",
        "colab_type": "code",
        "outputId": "8751cc6f-0fc7-4fae-a207-02336bd1d299",
        "colab": {
          "base_uri": "https://localhost:8080/",
          "height": 52
        }
      },
      "source": [
        "# computing the standard error\n",
        "lowest_val_order = np.argmin(Smean)\n",
        "SE = Sstd[lowest_val_order] / np.sqrt(K-1)\n",
        "\n",
        "# finding the first model order within one standard error of the lowest mean MSE\n",
        "order = 0\n",
        "for i in range(M):\n",
        "  if(Smean[i] < Smean[lowest_val_order] + SE):\n",
        "    order = i\n",
        "    break\n",
        "\n",
        "print(\"Chosen Order = \", order)\n",
        "\n",
        "# computing the test error\n",
        "w = np.polyfit(xtrain, ytrain, order)\n",
        "yhat = np.polyval(w,xtest)\n",
        "\n",
        "MSE = msqerr(yhat,ytest)\n",
        "print(\"Test MSE = \", MSE)"
      ],
      "execution_count": 0,
      "outputs": [
        {
          "output_type": "stream",
          "text": [
            "Chosen Order =  3\n",
            "Test MSE =  0.16739153808672674\n"
          ],
          "name": "stdout"
        }
      ]
    },
    {
      "cell_type": "markdown",
      "metadata": {
        "id": "Tg7ZEhAvreil",
        "colab_type": "text"
      },
      "source": [
        "# M5: Regularization"
      ]
    },
    {
      "cell_type": "markdown",
      "metadata": {
        "id": "Bw8O7DbCrnUA",
        "colab_type": "text"
      },
      "source": [
        "Let's first **load** the regular packages."
      ]
    },
    {
      "cell_type": "code",
      "metadata": {
        "id": "AmjIMS7QrinN",
        "colab_type": "code",
        "colab": {}
      },
      "source": [
        "import pandas as pd\n",
        "import numpy as np\n",
        "import matplotlib.pyplot as plt\n",
        "%matplotlib inline"
      ],
      "execution_count": 0,
      "outputs": []
    },
    {
      "cell_type": "markdown",
      "metadata": {
        "id": "YkvrtSF_rsuA",
        "colab_type": "text"
      },
      "source": [
        "## Load the Data"
      ]
    },
    {
      "cell_type": "code",
      "metadata": {
        "id": "FTjfYTV6rlil",
        "colab_type": "code",
        "outputId": "c26c7b49-2f4a-402e-b842-7f5cf19fd0b5",
        "colab": {
          "base_uri": "https://localhost:8080/",
          "height": 238
        }
      },
      "source": [
        "# Get the data\n",
        "url = 'https://web.stanford.edu/~hastie/ElemStatLearn/datasets/prostate.data'\n",
        "df = pd.read_csv(url, sep='\\t', header=0)\n",
        "df = df.drop('Unnamed: 0', axis=1)   # skip the column of indices\n",
        "df.head(6)"
      ],
      "execution_count": 0,
      "outputs": [
        {
          "output_type": "execute_result",
          "data": {
            "text/html": [
              "<div>\n",
              "<style scoped>\n",
              "    .dataframe tbody tr th:only-of-type {\n",
              "        vertical-align: middle;\n",
              "    }\n",
              "\n",
              "    .dataframe tbody tr th {\n",
              "        vertical-align: top;\n",
              "    }\n",
              "\n",
              "    .dataframe thead th {\n",
              "        text-align: right;\n",
              "    }\n",
              "</style>\n",
              "<table border=\"1\" class=\"dataframe\">\n",
              "  <thead>\n",
              "    <tr style=\"text-align: right;\">\n",
              "      <th></th>\n",
              "      <th>lcavol</th>\n",
              "      <th>lweight</th>\n",
              "      <th>age</th>\n",
              "      <th>lbph</th>\n",
              "      <th>svi</th>\n",
              "      <th>lcp</th>\n",
              "      <th>gleason</th>\n",
              "      <th>pgg45</th>\n",
              "      <th>lpsa</th>\n",
              "      <th>train</th>\n",
              "    </tr>\n",
              "  </thead>\n",
              "  <tbody>\n",
              "    <tr>\n",
              "      <th>0</th>\n",
              "      <td>-0.579818</td>\n",
              "      <td>2.769459</td>\n",
              "      <td>50</td>\n",
              "      <td>-1.386294</td>\n",
              "      <td>0</td>\n",
              "      <td>-1.386294</td>\n",
              "      <td>6</td>\n",
              "      <td>0</td>\n",
              "      <td>-0.430783</td>\n",
              "      <td>T</td>\n",
              "    </tr>\n",
              "    <tr>\n",
              "      <th>1</th>\n",
              "      <td>-0.994252</td>\n",
              "      <td>3.319626</td>\n",
              "      <td>58</td>\n",
              "      <td>-1.386294</td>\n",
              "      <td>0</td>\n",
              "      <td>-1.386294</td>\n",
              "      <td>6</td>\n",
              "      <td>0</td>\n",
              "      <td>-0.162519</td>\n",
              "      <td>T</td>\n",
              "    </tr>\n",
              "    <tr>\n",
              "      <th>2</th>\n",
              "      <td>-0.510826</td>\n",
              "      <td>2.691243</td>\n",
              "      <td>74</td>\n",
              "      <td>-1.386294</td>\n",
              "      <td>0</td>\n",
              "      <td>-1.386294</td>\n",
              "      <td>7</td>\n",
              "      <td>20</td>\n",
              "      <td>-0.162519</td>\n",
              "      <td>T</td>\n",
              "    </tr>\n",
              "    <tr>\n",
              "      <th>3</th>\n",
              "      <td>-1.203973</td>\n",
              "      <td>3.282789</td>\n",
              "      <td>58</td>\n",
              "      <td>-1.386294</td>\n",
              "      <td>0</td>\n",
              "      <td>-1.386294</td>\n",
              "      <td>6</td>\n",
              "      <td>0</td>\n",
              "      <td>-0.162519</td>\n",
              "      <td>T</td>\n",
              "    </tr>\n",
              "    <tr>\n",
              "      <th>4</th>\n",
              "      <td>0.751416</td>\n",
              "      <td>3.432373</td>\n",
              "      <td>62</td>\n",
              "      <td>-1.386294</td>\n",
              "      <td>0</td>\n",
              "      <td>-1.386294</td>\n",
              "      <td>6</td>\n",
              "      <td>0</td>\n",
              "      <td>0.371564</td>\n",
              "      <td>T</td>\n",
              "    </tr>\n",
              "    <tr>\n",
              "      <th>5</th>\n",
              "      <td>-1.049822</td>\n",
              "      <td>3.228826</td>\n",
              "      <td>50</td>\n",
              "      <td>-1.386294</td>\n",
              "      <td>0</td>\n",
              "      <td>-1.386294</td>\n",
              "      <td>6</td>\n",
              "      <td>0</td>\n",
              "      <td>0.765468</td>\n",
              "      <td>T</td>\n",
              "    </tr>\n",
              "  </tbody>\n",
              "</table>\n",
              "</div>"
            ],
            "text/plain": [
              "     lcavol   lweight  age      lbph  ...  gleason  pgg45      lpsa  train\n",
              "0 -0.579818  2.769459   50 -1.386294  ...        6      0 -0.430783      T\n",
              "1 -0.994252  3.319626   58 -1.386294  ...        6      0 -0.162519      T\n",
              "2 -0.510826  2.691243   74 -1.386294  ...        7     20 -0.162519      T\n",
              "3 -1.203973  3.282789   58 -1.386294  ...        6      0 -0.162519      T\n",
              "4  0.751416  3.432373   62 -1.386294  ...        6      0  0.371564      T\n",
              "5 -1.049822  3.228826   50 -1.386294  ...        6      0  0.765468      T\n",
              "\n",
              "[6 rows x 10 columns]"
            ]
          },
          "metadata": {
            "tags": []
          },
          "execution_count": 26
        }
      ]
    },
    {
      "cell_type": "markdown",
      "metadata": {
        "id": "RqbkbTdLryNJ",
        "colab_type": "text"
      },
      "source": [
        "Determine the predictors and target variables"
      ]
    },
    {
      "cell_type": "code",
      "metadata": {
        "id": "nOjLWh8zruxm",
        "colab_type": "code",
        "outputId": "2b22b36e-e630-4353-f5e9-5d6e046c1d7e",
        "colab": {
          "base_uri": "https://localhost:8080/",
          "height": 86
        }
      },
      "source": [
        "# Print the names of the target and predictor\n",
        "names = df.columns.tolist()\n",
        "names_x = names[0:7]\n",
        "name_y = names[8]\n",
        "print(\"Target variable: %s\" % name_y)\n",
        "print(\"Predictors:     \"+str(names_x))\n",
        "\n",
        "# Convert the dataframe values to data matrices\n",
        "X0 = np.array(df[names_x])\n",
        "y0 = np.array(df[name_y])\n",
        "\n",
        "# Print the number of samples and features\n",
        "nsamp = X0.shape[0]\n",
        "nfeatures = X0.shape[1]\n",
        "print(\"\")\n",
        "print(\"num samples = %d,  num features = %d\" % (nsamp, nfeatures))"
      ],
      "execution_count": 0,
      "outputs": [
        {
          "output_type": "stream",
          "text": [
            "Target variable: lpsa\n",
            "Predictors:     ['lcavol', 'lweight', 'age', 'lbph', 'svi', 'lcp', 'gleason']\n",
            "\n",
            "num samples = 97,  num features = 7\n"
          ],
          "name": "stdout"
        }
      ]
    },
    {
      "cell_type": "markdown",
      "metadata": {
        "id": "dCQ2Yehqr2-S",
        "colab_type": "text"
      },
      "source": [
        "When performing any regularized estimate, it is critical to **standardize the values**.  \n",
        "For this purpose, we use python's sklearn's built-in *`scale`* command."
      ]
    },
    {
      "cell_type": "code",
      "metadata": {
        "id": "mbJ92WoYr0On",
        "colab_type": "code",
        "outputId": "3eb10986-1687-47b2-84d9-ca145409344d",
        "colab": {
          "base_uri": "https://localhost:8080/",
          "height": 269
        }
      },
      "source": [
        "import sklearn.preprocessing\n",
        "\n",
        "X = sklearn.preprocessing.scale(X0)\n",
        "y = sklearn.preprocessing.scale(y0)"
      ],
      "execution_count": 0,
      "outputs": [
        {
          "output_type": "display_data",
          "data": {
            "image/png": "[encoded data removed]",
            "text/plain": [
              "<Figure size 432x288 with 1 Axes>"
            ]
          },
          "metadata": {
            "tags": []
          }
        }
      ]
    },
    {
      "cell_type": "markdown",
      "metadata": {
        "id": "J4G2n2_Ir8lU",
        "colab_type": "text"
      },
      "source": [
        "## Fit a Linear Model with No Regularization\n",
        "\n",
        "Let's first try to fit a multiple linear model with no regularization.  We begin by importing the required packages - *`linear_model`* and *`train_test_split`*"
      ]
    },
    {
      "cell_type": "code",
      "metadata": {
        "id": "t3N2WGwLr50K",
        "colab_type": "code",
        "colab": {}
      },
      "source": [
        "from sklearn import linear_model\n",
        "from sklearn.model_selection import train_test_split"
      ],
      "execution_count": 0,
      "outputs": []
    },
    {
      "cell_type": "markdown",
      "metadata": {
        "id": "gIWiX6BRsBlJ",
        "colab_type": "text"
      },
      "source": [
        "We next split the data into training and test -- will use roughly half the samples for each."
      ]
    },
    {
      "cell_type": "code",
      "metadata": {
        "id": "4q2IXo1BsA5F",
        "colab_type": "code",
        "outputId": "e7a708de-9120-4a0a-9d8f-4886b0d3ef45",
        "colab": {
          "base_uri": "https://localhost:8080/",
          "height": 34
        }
      },
      "source": [
        "X_tr, X_ts, y_tr, y_ts = train_test_split(X,y,test_size=0.5,shuffle=True)\n",
        "#test_size=0.5, uses half of the data as test data\n",
        "#shuffle=True, will shuffle the data before splitting\n",
        "#X_tr is the training feature matrix\n",
        "#X_ts is the testing feature matrix\n",
        "#y_tr is the training target matrix\n",
        "#y_ts is the testing target matrix\n",
        "\n",
        "ntr = X_tr.shape[0]\n",
        "nts = X_ts.shape[0]\n",
        "#.shape[0], will give us the number of rows of that array\n",
        "#.shape[1], will give us the number of columns of that array\n",
        "\n",
        "print(\"num samples train = %d, test = %d\" % (ntr, nts))"
      ],
      "execution_count": 0,
      "outputs": [
        {
          "output_type": "stream",
          "text": [
            "num samples train = 48, test = 49\n"
          ],
          "name": "stdout"
        }
      ]
    },
    {
      "cell_type": "markdown",
      "metadata": {
        "id": "gK7VkRdfsHIm",
        "colab_type": "text"
      },
      "source": [
        "Fit the model on the training data."
      ]
    },
    {
      "cell_type": "code",
      "metadata": {
        "id": "vGpRIonCsEIL",
        "colab_type": "code",
        "outputId": "7e9c7d8f-b8be-4ac9-ae63-929166637f93",
        "colab": {
          "base_uri": "https://localhost:8080/",
          "height": 34
        }
      },
      "source": [
        "regr = linear_model.LinearRegression()\n",
        "\n",
        "regr.fit(X_tr,y_tr) #will fit the model on the X_tr,y_tr, our training data"
      ],
      "execution_count": 0,
      "outputs": [
        {
          "output_type": "execute_result",
          "data": {
            "text/plain": [
              "LinearRegression(copy_X=True, fit_intercept=True, n_jobs=None, normalize=False)"
            ]
          },
          "metadata": {
            "tags": []
          },
          "execution_count": 8
        }
      ]
    },
    {
      "cell_type": "markdown",
      "metadata": {
        "id": "t5OfbPNTsPhC",
        "colab_type": "text"
      },
      "source": [
        "Now, we can measure the Residual Sum of Squares (RSS) on the training data."
      ]
    },
    {
      "cell_type": "code",
      "metadata": {
        "id": "iByUvb12sK7e",
        "colab_type": "code",
        "outputId": "e6a99763-2263-4e20-a8c7-565c4bb73cc1",
        "colab": {
          "base_uri": "https://localhost:8080/",
          "height": 34
        }
      },
      "source": [
        "# Predict the target training variables (y_tr_pred), from feature training \n",
        "# variables (X_tr)\n",
        "y_tr_pred = regr.predict(X_tr)\n",
        "\n",
        "# Measure the error\n",
        "rss_tr = np.mean((y_tr_pred-y_tr)**2)\n",
        "print(\"Training Error:\", rss_tr)"
      ],
      "execution_count": 0,
      "outputs": [
        {
          "output_type": "stream",
          "text": [
            "Training Error: 0.32548326436801084\n"
          ],
          "name": "stdout"
        }
      ]
    },
    {
      "cell_type": "markdown",
      "metadata": {
        "id": "AEkjDbdushfm",
        "colab_type": "text"
      },
      "source": [
        "Measure the RSS on test data."
      ]
    },
    {
      "cell_type": "code",
      "metadata": {
        "id": "xh1jJlPgsdTB",
        "colab_type": "code",
        "outputId": "8412b700-c2d8-44d9-b889-ba5e9d7f6d71",
        "colab": {
          "base_uri": "https://localhost:8080/",
          "height": 34
        }
      },
      "source": [
        "y_ts_pred = regr.predict(X_ts)\n",
        "\n",
        "rss_ts = np.mean((y_ts_pred-y_ts)**2)\n",
        "print(\"Test Error:\", rss_ts)"
      ],
      "execution_count": 0,
      "outputs": [
        {
          "output_type": "stream",
          "text": [
            "Test Error: 0.3916537711357094\n"
          ],
          "name": "stdout"
        }
      ]
    },
    {
      "cell_type": "markdown",
      "metadata": {
        "id": "0Q_M2iL-uG4g",
        "colab_type": "text"
      },
      "source": [
        "We can also plot the coefficients in the regression model.  Remember that all the parameters are normalized so that the coefficients can be compared.  We see that `lcavol` has the highest weight, but there are non-zero weights on all the predictors.  This makes it hard to see if other factors are significant or not. "
      ]
    },
    {
      "cell_type": "code",
      "metadata": {
        "id": "jhjOxQujsk36",
        "colab_type": "code",
        "outputId": "0a4c7032-dcfb-46f4-ad3c-d6dde9c22c08",
        "colab": {
          "base_uri": "https://localhost:8080/",
          "height": 408
        }
      },
      "source": [
        "w = regr.coef_\n",
        "for name, wi in zip(names_x, w):\n",
        "    print('%10s %9.4f' % (name, wi))\n",
        "    \n",
        "plt.stem(w)    "
      ],
      "execution_count": 0,
      "outputs": [
        {
          "output_type": "stream",
          "text": [
            "    lcavol    0.4561\n",
            "   lweight    0.1783\n",
            "       age   -0.1550\n",
            "      lbph    0.1119\n",
            "       svi    0.3482\n",
            "       lcp   -0.0701\n",
            "   gleason    0.0900\n"
          ],
          "name": "stdout"
        },
        {
          "output_type": "execute_result",
          "data": {
            "text/plain": [
              "<StemContainer object of 3 artists>"
            ]
          },
          "metadata": {
            "tags": []
          },
          "execution_count": 15
        },
        {
          "output_type": "display_data",
          "data": {
            "image/png": "[encoded data removed]",
            "text/plain": [
              "<Figure size 432x288 with 1 Axes>"
            ]
          },
          "metadata": {
            "tags": []
          }
        }
      ]
    },
    {
      "cell_type": "markdown",
      "metadata": {
        "id": "o55iIEH7uQJD",
        "colab_type": "text"
      },
      "source": [
        "## Linear Model with L2 Regularization\n",
        "\n",
        "The above seen failure of the linear model motivates us to use regularization to try to select only the \"useful\" features. \n",
        "\n",
        "Let's discuss how we use the regularization technique.  \n",
        "\n",
        "The `sklearn` package has several excellent routines for this. We first import the *`model_selection`* sub-package for the k-fold cross validation."
      ]
    },
    {
      "cell_type": "code",
      "metadata": {
        "id": "7TvAd-1BuUjV",
        "colab_type": "code",
        "outputId": "6ba78e94-93d1-4635-ef24-8b9ef28f0070",
        "colab": {
          "base_uri": "https://localhost:8080/",
          "height": 425
        }
      },
      "source": [
        "model = linear_model.Ridge(alpha=10)\n",
        "model.fit(X_tr,y_tr)\n",
        "y_ts_pred = model.predict(X_ts)\n",
        "\n",
        "rss_ts = np.mean((y_ts_pred-y_ts)**2)\n",
        "print(\"Test Error:\", rss_ts)\n",
        "\n",
        "w = model.coef_\n",
        "for name, wi in zip(names_x, w):\n",
        "    print('%10s %9.4f' % (name, wi))\n",
        "    \n",
        "plt.stem(w)   "
      ],
      "execution_count": 0,
      "outputs": [
        {
          "output_type": "stream",
          "text": [
            "Test Error: 0.43415957890622847\n",
            "    lcavol    0.3435\n",
            "   lweight    0.1605\n",
            "       age   -0.1094\n",
            "      lbph    0.0648\n",
            "       svi    0.2652\n",
            "       lcp    0.0647\n",
            "   gleason    0.0687\n"
          ],
          "name": "stdout"
        },
        {
          "output_type": "execute_result",
          "data": {
            "text/plain": [
              "<StemContainer object of 3 artists>"
            ]
          },
          "metadata": {
            "tags": []
          },
          "execution_count": 31
        },
        {
          "output_type": "display_data",
          "data": {
            "image/png": "[encoded data removed]",
            "text/plain": [
              "<Figure size 432x288 with 1 Axes>"
            ]
          },
          "metadata": {
            "tags": []
          }
        }
      ]
    },
    {
      "cell_type": "code",
      "metadata": {
        "id": "cIcVzHdkufFs",
        "colab_type": "code",
        "colab": {}
      },
      "source": [
        ""
      ],
      "execution_count": 0,
      "outputs": []
    }
  ]
}