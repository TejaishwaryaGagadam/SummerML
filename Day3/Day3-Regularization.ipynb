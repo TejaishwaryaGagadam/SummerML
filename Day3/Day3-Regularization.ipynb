{
  "nbformat": 4,
  "nbformat_minor": 0,
  "metadata": {
    "colab": {
      "name": "Day3-Regularization.ipynb",
      "version": "0.3.2",
      "provenance": [],
      "collapsed_sections": [],
      "include_colab_link": true
    },
    "language_info": {
      "codemirror_mode": {
        "name": "ipython",
        "version": 3
      },
      "file_extension": ".py",
      "mimetype": "text/x-python",
      "name": "python",
      "nbconvert_exporter": "python",
      "pygments_lexer": "ipython3",
      "version": "3.6.4"
    },
    "kernelspec": {
      "display_name": "Python 3",
      "language": "python",
      "name": "python3"
    }
  },
  "cells": [
    {
      "cell_type": "markdown",
      "metadata": {
        "id": "view-in-github",
        "colab_type": "text"
      },
      "source": [
        "<a href=\"https://colab.research.google.com/github/nikopj/SummerML/blob/master/Day3/Day3-Regularization.ipynb\" target=\"_parent\"><img src=\"https://colab.research.google.com/assets/colab-badge.svg\" alt=\"Open In Colab\"/></a>"
      ]
    },
    {
      "cell_type": "markdown",
      "metadata": {
        "id": "mDrcmAVCf8Gf",
        "colab_type": "text"
      },
      "source": [
        "# Day 3: Generalization Error, Regularization\n",
        "\n",
        "##Why do we need Regularization?\n",
        "\n",
        "When we use a dataset that has too many parameters, we might end up with a generalization error. Only a few of these parameters are useful in the prediction process. We need to find out which of them are important to us. To do this, we use regularization to constrain the parameters with some prior knowledge about the parameters. Let's call this feature selection. \n",
        "\n",
        "There are two well-known regularizers:\n",
        "1. L1 Norm (A regression model using L1 is called **LASSO**)\n",
        "2. L2 Norm (A regression model using L2 is called **Ridge**)\n",
        "\n",
        "**See slides for theory.**\n",
        " \n",
        "Let's understand this further using an example. \n",
        "\n",
        "##Example:  Prostate Cancer Analysis with LASSO and Other Feature Selection Methods**\n",
        "\n",
        "In this example, we will show the how we use LASSO regularization and other feature selection methdos for model (feature) selection.  \n",
        "\n",
        "We will learn to:\n",
        "* Fit a LASSO model using the 'sklearn' package\n",
        "* Determine the regularization level with cross-validation\n",
        "* Draw the coefficient path as a function of the regularization level\n",
        "* Try out other feature selection methods in 'sklearn'\n",
        "\n",
        "We use a classic prostate cancer dataset from this [paper](http://www.sciencedirect.com/science/article/pii/S002253471741175X):\n",
        "\n",
        "**An overview of the dataset:**\n",
        "\n",
        "* In the study, the level of PSA [(prostate specific antigen)](https://en.wikipedia.org/wiki/Prostate-specific_antigen) was measured in 102 men before they had a prostatectomy. \n",
        "* Elevated values of the PSA are believed to be associated with the presence of prostate cancer and other disorders. \n",
        "* To study this hypothesis, various features of the prostate were measured after the prostatectomy.  \n",
        "* Data analysis is then used to understand the relation between the PSA level and prostate features.  \n",
        "\n",
        "\n",
        "\n",
        "Let's first **load** the regular packages."
      ]
    },
    {
      "cell_type": "code",
      "metadata": {
        "id": "efL__dKCf8Gh",
        "colab_type": "code",
        "colab": {}
      },
      "source": [
        "import pandas as pd\n",
        "import numpy as np\n",
        "import matplotlib.pyplot as plt\n",
        "%matplotlib inline"
      ],
      "execution_count": 0,
      "outputs": []
    },
    {
      "cell_type": "markdown",
      "metadata": {
        "id": "gb7GzjW_f8Gk",
        "colab_type": "text"
      },
      "source": [
        "## Loading the Data\n",
        "\n",
        "Let's start by getting the data from Tibshirani's [website](https://web.stanford.edu/~hastie/ElemStatLearn/datasets/prostate.data)."
      ]
    },
    {
      "cell_type": "code",
      "metadata": {
        "id": "uO17mr82f8Gl",
        "colab_type": "code",
        "colab": {}
      },
      "source": [
        "# Get the data\n",
        "url = 'https://web.stanford.edu/~hastie/ElemStatLearn/datasets/prostate.data'\n",
        "df = pd.read_csv(url, sep='\\t', header=0)\n",
        "df = df.drop('Unnamed: 0', axis=1)   # skip the column of indices"
      ],
      "execution_count": 0,
      "outputs": []
    },
    {
      "cell_type": "markdown",
      "metadata": {
        "id": "FMmAFpnxf8Gn",
        "colab_type": "text"
      },
      "source": [
        "In this data set, the target variable (the variable that we are trying to predict) is 'lpsa', which stands for the log of the PSA. \n",
        "\n",
        "The goal is to try  to predict the 'lpsa' from various prostate features."
      ]
    },
    {
      "cell_type": "code",
      "metadata": {
        "id": "BgZu4Vf2f8Go",
        "colab_type": "code",
        "outputId": "22282c8c-4000-4664-a681-a82f9deb2de7",
        "colab": {
          "base_uri": "https://localhost:8080/",
          "height": 85
        }
      },
      "source": [
        "# Print the names of the target and predictor\n",
        "names = df.columns.tolist()\n",
        "names_x = names[0:7]\n",
        "name_y = names[8]\n",
        "print(\"Target variable: %s\" % name_y)\n",
        "print(\"Predictors:     \"+str(names_x))\n",
        "\n",
        "# Convert the dataframe values to data matrices\n",
        "X0 = np.array(df[names_x])\n",
        "y0 = np.array(df[name_y])\n",
        "\n",
        "# Print the number of samples and features\n",
        "nsamp = X0.shape[0]\n",
        "nfeatures = X0.shape[1]\n",
        "print(\"\")\n",
        "print(\"num samples = %d,  num features = %d\" % (nsamp, nfeatures))"
      ],
      "execution_count": 0,
      "outputs": [
        {
          "output_type": "stream",
          "text": [
            "Target variable: lpsa\n",
            "Predictors:     ['lcavol', 'lweight', 'age', 'lbph', 'svi', 'lcp', 'gleason']\n",
            "\n",
            "num samples = 97,  num features = 7\n"
          ],
          "name": "stdout"
        }
      ]
    },
    {
      "cell_type": "markdown",
      "metadata": {
        "id": "gAUQMEx9f8Gt",
        "colab_type": "text"
      },
      "source": [
        "When performing any regularized estimate, it is critical to **standardize the values**.  \n",
        "For this purpose, we use python's sklearn's built-in *`scale`* command."
      ]
    },
    {
      "cell_type": "code",
      "metadata": {
        "id": "fy5NB7C5f8Gu",
        "colab_type": "code",
        "colab": {}
      },
      "source": [
        "import sklearn.preprocessing\n",
        "\n",
        "X = sklearn.preprocessing.scale(X0)\n",
        "y = sklearn.preprocessing.scale(y0)\n"
      ],
      "execution_count": 0,
      "outputs": []
    },
    {
      "cell_type": "markdown",
      "metadata": {
        "id": "7U8nV8UQf8Gw",
        "colab_type": "text"
      },
      "source": [
        "## Fit a Linear Model with No Regularization\n",
        "\n",
        "Let's first try to fit a multiple linear model with no regularization.  We begin by importing the required packages - *`linear_model`* and *`train_test_split`*"
      ]
    },
    {
      "cell_type": "code",
      "metadata": {
        "id": "T65uOWcXf8Gx",
        "colab_type": "code",
        "colab": {}
      },
      "source": [
        "from sklearn import linear_model\n",
        "from sklearn.model_selection import train_test_split"
      ],
      "execution_count": 0,
      "outputs": []
    },
    {
      "cell_type": "markdown",
      "metadata": {
        "id": "X3GNJ9v1f8Gz",
        "colab_type": "text"
      },
      "source": [
        "We next split the data into training and test -- will use roughly half the samples for each."
      ]
    },
    {
      "cell_type": "code",
      "metadata": {
        "id": "hmBxdjcjf8G0",
        "colab_type": "code",
        "outputId": "7919b33f-7a15-471d-9196-736ff2cbf53e",
        "colab": {
          "base_uri": "https://localhost:8080/",
          "height": 34
        }
      },
      "source": [
        "X_tr, X_ts, y_tr, y_ts = train_test_split(X,y,test_size=0.5,shuffle=True)\n",
        "#test_size=0.5, uses half of the data as test data\n",
        "#shuffle=True, will shuffle the data before splitting\n",
        "#X_tr is the training feature matrix\n",
        "#X_ts is the testing feature matrix\n",
        "#y_tr is the training target matrix\n",
        "#y_ts is the testing target matrix\n",
        "\n",
        "ntr = X_tr.shape[0]\n",
        "nts = X_ts.shape[0]\n",
        "#.shape[0], will give us the number of rows of that array\n",
        "#.shape[1], will give us the number of columns of that array\n",
        "\n",
        "print(\"num samples train = %d, test = %d\" % (ntr, nts))"
      ],
      "execution_count": 0,
      "outputs": [
        {
          "output_type": "stream",
          "text": [
            "num samples train = 48, test = 49\n"
          ],
          "name": "stdout"
        }
      ]
    },
    {
      "cell_type": "markdown",
      "metadata": {
        "id": "SNtphBhlf8G3",
        "colab_type": "text"
      },
      "source": [
        "Fit the model on the training data."
      ]
    },
    {
      "cell_type": "code",
      "metadata": {
        "id": "mm6cQa0rf8G4",
        "colab_type": "code",
        "outputId": "9944459e-e778-44fe-8966-7df5b10dd338",
        "colab": {
          "base_uri": "https://localhost:8080/",
          "height": 34
        }
      },
      "source": [
        "regr = linear_model.LinearRegression()\n",
        "\n",
        "regr.fit(X_tr,y_tr) #will fit the model on the X_tr,y_tr, our training data"
      ],
      "execution_count": 0,
      "outputs": [
        {
          "output_type": "execute_result",
          "data": {
            "text/plain": [
              "LinearRegression(copy_X=True, fit_intercept=True, n_jobs=None, normalize=False)"
            ]
          },
          "metadata": {
            "tags": []
          },
          "execution_count": 10
        }
      ]
    },
    {
      "cell_type": "markdown",
      "metadata": {
        "id": "NpXmrs5wf8G9",
        "colab_type": "text"
      },
      "source": [
        "Now, we can measure the normalized Residual Sum of Squares (RSS) on the training data, to check the accuracy of the prediction.  "
      ]
    },
    {
      "cell_type": "code",
      "metadata": {
        "id": "cqAf40rRf8G-",
        "colab_type": "code",
        "outputId": "4c9437bd-7360-41e9-c97b-e6662cf9adc9",
        "colab": {
          "base_uri": "https://localhost:8080/",
          "height": 68
        }
      },
      "source": [
        "# Predict the target training variables (y_tr_pred), from feature training \n",
        "# variables (X_tr)\n",
        "y_tr_pred = regr.predict(X_tr)\n",
        "\n",
        "# Measure normalized RSS\n",
        "rss_tr = np.mean((y_tr_pred-y_tr)**2)/(np.std(y_tr)**2)\n",
        "rsq_tr = 1-rss_tr\n",
        "print(\"RSS training = %f\" % rss_tr)\n",
        "print(\"R^2 training = %f\" % rsq_tr)\n",
        "\n",
        "#or we can use an in-built sklearn function\n",
        "from sklearn.metrics import r2_score\n",
        "\n",
        "rsq_tr_sk = r2_score(y_tr, y_tr_pred)\n",
        "print(\"R^2 training using the in-built function= %f\" % rsq_tr_sk)"
      ],
      "execution_count": 0,
      "outputs": [
        {
          "output_type": "stream",
          "text": [
            "RSS training = 0.292958\n",
            "R^2 training = 0.707042\n",
            "R^2 training using the in-built function= 0.707042\n"
          ],
          "name": "stdout"
        }
      ]
    },
    {
      "cell_type": "markdown",
      "metadata": {
        "id": "xC3Zynslf8HA",
        "colab_type": "text"
      },
      "source": [
        "Ths `R^2` value is around `0.70`.  However, we need to evaluate the model on the test data.  "
      ]
    },
    {
      "cell_type": "code",
      "metadata": {
        "id": "sMXmf22-f8HB",
        "colab_type": "code",
        "outputId": "5708a7f0-c828-42bd-e996-afc49b824b1e",
        "colab": {
          "base_uri": "https://localhost:8080/",
          "height": 51
        }
      },
      "source": [
        "y_ts_pred = regr.predict(X_ts)\n",
        "\n",
        "rss_ts = np.mean((y_ts_pred-y_ts)**2)/(np.std(y_ts)**2)\n",
        "rsq_ts = 1-rss_ts\n",
        "print(\"Normalized test RSS = %f\" % rss_ts)\n",
        "print(\"Normalized test R^2 = %f\" % rsq_ts)"
      ],
      "execution_count": 0,
      "outputs": [
        {
          "output_type": "stream",
          "text": [
            "Normalized test RSS = 0.447831\n",
            "Normalized test R^2 = 0.552169\n"
          ],
          "name": "stdout"
        }
      ]
    },
    {
      "cell_type": "markdown",
      "metadata": {
        "id": "xTRe_alJf8HE",
        "colab_type": "text"
      },
      "source": [
        "We can also plot the actual vs. predicted values.  We see a clear fit."
      ]
    },
    {
      "cell_type": "code",
      "metadata": {
        "id": "7jH-QvA9f8HF",
        "colab_type": "code",
        "outputId": "5f865620-a689-449e-b76d-e466bd04eaeb",
        "colab": {
          "base_uri": "https://localhost:8080/",
          "height": 283
        }
      },
      "source": [
        "plt.scatter(y_ts,y_ts_pred)\n",
        "plt.xlabel('Actual lpsa')\n",
        "plt.ylabel('Pred lpsa')\n",
        "ymin = np.min(y_ts)\n",
        "ymax = np.max(y_ts)\n",
        "plt.plot([ymin,ymax], [ymin,ymax], 'r-', linewidth=3)\n",
        "plt.grid()\n",
        "plt.show()"
      ],
      "execution_count": 0,
      "outputs": [
        {
          "output_type": "display_data",
          "data": {
            "image/png": "[encoded data removed]",
            "text/plain": [
              "<Figure size 432x288 with 1 Axes>"
            ]
          },
          "metadata": {
            "tags": []
          }
        }
      ]
    },
    {
      "cell_type": "markdown",
      "metadata": {
        "id": "XWZsQzlgf8HK",
        "colab_type": "text"
      },
      "source": [
        "We can also plot the coefficients in the regression model.  Remember that all the parameters are normalized so that the coefficients can be compared.  We see that `lcavol` has the highest weight, but there are non-zero weights on all the predictors.  This makes it hard to see if other factors are significant or not. "
      ]
    },
    {
      "cell_type": "code",
      "metadata": {
        "id": "25mfmuzxf8HL",
        "colab_type": "code",
        "outputId": "90fd2e80-a1ab-485a-a943-aa05bf62d393",
        "colab": {
          "base_uri": "https://localhost:8080/",
          "height": 405
        }
      },
      "source": [
        "w = regr.coef_\n",
        "for name, wi in zip(names_x, w):\n",
        "    print('%10s %9.4f' % (name, wi))\n",
        "    \n",
        "plt.stem(w)    "
      ],
      "execution_count": 0,
      "outputs": [
        {
          "output_type": "stream",
          "text": [
            "    lcavol    0.6618\n",
            "   lweight    0.0843\n",
            "       age   -0.1344\n",
            "      lbph    0.2016\n",
            "       svi    0.2222\n",
            "       lcp   -0.0700\n",
            "   gleason    0.1669\n"
          ],
          "name": "stdout"
        },
        {
          "output_type": "execute_result",
          "data": {
            "text/plain": [
              "<StemContainer object of 3 artists>"
            ]
          },
          "metadata": {
            "tags": []
          },
          "execution_count": 18
        },
        {
          "output_type": "display_data",
          "data": {
            "image/png": "[encoded data removed]",
            "text/plain": [
              "<Figure size 432x288 with 1 Axes>"
            ]
          },
          "metadata": {
            "tags": []
          }
        }
      ]
    },
    {
      "cell_type": "markdown",
      "metadata": {
        "id": "r9nX4hqgf8HP",
        "colab_type": "text"
      },
      "source": [
        "## LASSO:  Linear Model with L1 Regularization\n",
        "\n",
        "The above seen failure of the linear model motivates us to use regularization to try to select only the \"useful\" features. \n",
        "\n",
        "Let's discuss how we use the Lasso technique.  \n",
        "\n",
        "The `sklearn` package has several excellent routines for this. We first import the *`model_selection`* sub-package for the k-fold cross validation."
      ]
    },
    {
      "cell_type": "code",
      "metadata": {
        "id": "xpWcDUJqf8HR",
        "colab_type": "code",
        "colab": {}
      },
      "source": [
        "import  sklearn.model_selection "
      ],
      "execution_count": 0,
      "outputs": []
    },
    {
      "cell_type": "markdown",
      "metadata": {
        "id": "k9tee7rHf8HU",
        "colab_type": "text"
      },
      "source": [
        "When considering the LASSO, we consider a set of models with different levels of regularization `alpha`.  Higher values of `alpha` imply greater regularization.  We use k-fold cross validation to determine the appropriate `alpha`.  That is, for each `alpha` value, we evaluate the test error on different training / tests spilt.   For larger data sets, this exhaustive search is time-consuming.  But, it should finish very fast for this small set. "
      ]
    },
    {
      "cell_type": "code",
      "metadata": {
        "id": "Cp02pRAqf8HX",
        "colab_type": "code",
        "colab": {}
      },
      "source": [
        "# Create a k-fold cross validation object\n",
        "nfold = 10\n",
        "kf = sklearn.model_selection.KFold(n_splits=nfold,shuffle=True)\n",
        "\n",
        "# Regularization values to test\n",
        "nalpha = 100\n",
        "alphas = np.logspace(-3,1,nalpha)\n",
        "\n",
        "# MSE for each alpha and fold value\n",
        "mse = np.zeros((nalpha,nfold))\n",
        "for ifold, ind in enumerate(kf.split(X)):\n",
        "        \n",
        "    # Get the training data in the split\n",
        "    Itr,Its = ind\n",
        "    X_tr = X[Itr,:]\n",
        "    y_tr = y[Itr]\n",
        "    X_ts = X[Its,:]\n",
        "    y_ts = y[Its]\n",
        "    \n",
        "    # Compute the lasso path for the split\n",
        "    for ia, a in enumerate(alphas):\n",
        "        \n",
        "        # Create a LASSO model object\n",
        "        model = linear_model.Lasso(alpha=a)\n",
        "        \n",
        "        # Fit the model on the training data\n",
        "        model.fit(X_tr,y_tr)\n",
        "        \n",
        "        # Compute the prediction error on the test data\n",
        "        y_ts_pred = model.predict(X_ts)\n",
        "        mse[ia,ifold] = np.mean((y_ts_pred-y_ts)**2)"
      ],
      "execution_count": 0,
      "outputs": []
    },
    {
      "cell_type": "markdown",
      "metadata": {
        "id": "_qtdaRglf8HZ",
        "colab_type": "text"
      },
      "source": [
        "We now plot the test MSE (Mean Square Error) as a function of the regularization parameter."
      ]
    },
    {
      "cell_type": "code",
      "metadata": {
        "id": "EdOy_aiIf8Hb",
        "colab_type": "code",
        "outputId": "fc1b4da9-b988-4a9c-f5c9-b5c40b7a4280",
        "colab": {}
      },
      "source": [
        "# Compute the mean and standard deviation over the different folds.\n",
        "mse_mean = np.mean(mse,axis=1)\n",
        "mse_se = np.std(mse,axis=1) / np.sqrt(nfold-1)\n",
        "\n",
        "# Plot the mean MSE and the mean MSE with 1 SE error bars\n",
        "plt.errorbar(np.log10(alphas), mse_mean, yerr=mse_se)\n",
        "plt.xlabel('log10(alpha)')\n",
        "plt.ylabel('Test MSE')\n",
        "plt.grid()\n",
        "plt.show()"
      ],
      "execution_count": 0,
      "outputs": [
        {
          "output_type": "display_data",
          "data": {
            "image/png": "[encoded data removed]",
            "text/plain": [
              "<Figure size 432x288 with 1 Axes>"
            ]
          },
          "metadata": {
            "tags": [],
            "needs_background": "light"
          }
        }
      ]
    },
    {
      "cell_type": "markdown",
      "metadata": {
        "id": "bR9QnTkPf8Hg",
        "colab_type": "text"
      },
      "source": [
        "We find the optimal `alpha`, by the following steps:\n",
        "* Find the `alpha` with the minimum test MSE\n",
        "* Set `mse_tgt = ` minimum MSE + 1 std dev MSE\n",
        "* Find the least complex model (highest `alpha`) such that `MSE < mse_tgt`"
      ]
    },
    {
      "cell_type": "code",
      "metadata": {
        "id": "TrHJjaDtf8Hh",
        "colab_type": "code",
        "outputId": "f26c8f81-7dd4-4e6e-9f98-00dd7dcabfe5",
        "colab": {}
      },
      "source": [
        "# Find the minimum MSE and MSE target\n",
        "imin = np.argmin(mse_mean)\n",
        "mse_tgt = mse_mean[imin] + mse_se[imin]\n",
        "alpha_min = alphas[imin]\n",
        "\n",
        "# Find the least complex model with mse_mean < mse_tgt\n",
        "I = np.where(mse_mean < mse_tgt)[0]\n",
        "iopt = I[-1]\n",
        "alpha_opt = alphas[iopt]\n",
        "print(\"Optimal alpha = %f\" % alpha_opt)\n",
        "\n",
        "# Plot the mean MSE and the mean MSE + 1 SE errorbars \n",
        "plt.errorbar(np.log10(alphas), mse_mean, yerr=mse_se)\n",
        "\n",
        "# Plot the MSE target\n",
        "amin_log = np.log10(alpha_min)\n",
        "aopt_log = np.log10(alpha_opt)\n",
        "plt.plot([amin_log,aopt_log], [mse_tgt,mse_tgt], 'rs--')\n",
        "\n",
        "# Plot the optimal alpha line\n",
        "plt.plot([aopt_log,aopt_log], [0.35,mse_mean[iopt]], 'ro--')\n",
        "\n",
        "plt.legend(['MSE', 'MSE target','alpha opt'],loc='upper left')\n",
        "plt.xlabel('log10(alpha)')\n",
        "plt.ylabel('Test MSE')\n",
        "plt.ylim([0.35,1.6])\n",
        "plt.grid()\n",
        "plt.show()\n"
      ],
      "execution_count": 0,
      "outputs": [
        {
          "output_type": "stream",
          "text": [
            "Optimal alpha = 0.166810\n"
          ],
          "name": "stdout"
        },
        {
          "output_type": "display_data",
          "data": {
            "image/png": "[encoded data removed]",
            "text/plain": [
              "<Figure size 432x288 with 1 Axes>"
            ]
          },
          "metadata": {
            "tags": [],
            "needs_background": "light"
          }
        }
      ]
    },
    {
      "cell_type": "markdown",
      "metadata": {
        "collapsed": true,
        "id": "LealRvh9f8Hm",
        "colab_type": "text"
      },
      "source": [
        "Finally, we recompute the coefficients using all the training data at the correct alpha.  We see that the model selects three non-zero cofficients:  `lcavol`, `lweight` and `svi` (description of the features can be found in  https://rafalab.github.io/pages/649/prostate.html).  These features are presumably the most relevant in determining the PSA level.  Interestingly, the first feature -- `lcavol` -- is the log of the cancer volume suggesting that the cancer volume does indeed influence the PSA level."
      ]
    },
    {
      "cell_type": "code",
      "metadata": {
        "id": "od3diPr_f8Hn",
        "colab_type": "code",
        "outputId": "9697c597-4dd5-438b-ebd5-6d0278109e1d",
        "colab": {}
      },
      "source": [
        "model.alpha = alpha_opt\n",
        "model.fit(X,y)\n",
        "\n",
        "# Print the coefficients\n",
        "for i, c in enumerate(model.coef_):\n",
        "    print(\"%8s %f\" % (names_x[i], c))"
      ],
      "execution_count": 0,
      "outputs": [
        {
          "output_type": "stream",
          "text": [
            "  lcavol 0.464526\n",
            " lweight 0.115832\n",
            "     age 0.000000\n",
            "    lbph 0.000000\n",
            "     svi 0.131102\n",
            "     lcp 0.000000\n",
            " gleason 0.000000\n"
          ],
          "name": "stdout"
        }
      ]
    },
    {
      "cell_type": "markdown",
      "metadata": {
        "id": "x-8FNnDTf8Hq",
        "colab_type": "text"
      },
      "source": [
        "Using the three chosen features, we now use linear regression method directly with cross validation to evaluate the test error and  to determine the mean regression coefficients."
      ]
    },
    {
      "cell_type": "code",
      "metadata": {
        "id": "T4WCWT7Wf8Hr",
        "colab_type": "code",
        "outputId": "d09a8115-47a2-4822-ed2e-44c8400fd9fe",
        "colab": {}
      },
      "source": [
        "# Find coefficients greater than a small threshold\n",
        "Isel = np.where(np.abs(model.coef_) > 1e-3)[0]\n",
        "\n",
        "\n",
        "# Select those features\n",
        "X1=X[:,Isel]\n",
        "nfea1 = len(Isel)\n",
        "\n",
        "# Run 10-fold validation with reduced feature matrix\n",
        "nfold = 10\n",
        "kf = sklearn.model_selection.KFold(n_splits=nfold,shuffle=True)\n",
        "\n",
        "# MSE for each alpha and fold value\n",
        "RSS_ts = np.zeros((nfold,1))\n",
        "coef=np.zeros((nfold,nfea1))\n",
        "for ifold, ind in enumerate(kf.split(X1)):\n",
        "    \n",
        "    \n",
        "    # Get the training data in the split\n",
        "    Itr,Its = ind\n",
        "    X_tr = X1[Itr,:]\n",
        "    y_tr = y[Itr]\n",
        "    X_ts = X1[Its,:]\n",
        "    y_ts = y[Its]\n",
        "    \n",
        "    regr.fit(X_tr,y_tr)\n",
        "    y_ts_pred = regr.predict(X_ts)\n",
        "    RSS_ts[ifold] = np.mean((y_ts_pred-y_ts)**2)/(np.std(y_ts)**2)\n",
        "    coef[ifold]=regr.coef_\n",
        "            \n",
        "mse_mean = np.mean(RSS_ts,axis=0)\n",
        "mse_se = np.std(RSS_ts,axis=0) / np.sqrt(nfold-1)\n",
        "coef_mean=np.mean(coef,axis=0)\n",
        "print(\"mse_mean=%f mse SE=%f\" % (mse_mean, mse_se))\n",
        "print(coef_mean)\n"
      ],
      "execution_count": 0,
      "outputs": [
        {
          "output_type": "stream",
          "text": [
            "mse_mean=0.539487 mse SE=0.106768\n",
            "[0.53669232 0.2453695  0.23853759]\n"
          ],
          "name": "stdout"
        }
      ]
    },
    {
      "cell_type": "markdown",
      "metadata": {
        "id": "J4gd0d2Qf8Hu",
        "colab_type": "text"
      },
      "source": [
        "## LASSO path\n",
        "\n",
        "To further illustrate the effect of regularization, we conclude by drawing the *LASSO path*.  This is simply a plot of the coefficients as a function of the regularization `alpha`.  We do not need to do this for the analysis, but the path demonstrates the effect of regularization well. \n"
      ]
    },
    {
      "cell_type": "code",
      "metadata": {
        "id": "lW24jCOAf8Hu",
        "colab_type": "code",
        "outputId": "81c45234-bc8c-4c97-b72f-3f978a8b4a62",
        "colab": {}
      },
      "source": [
        "alphas1, coeffs, _ = sklearn.linear_model.lasso_path(X, y, alphas=alphas)\n",
        "\n",
        "# Plot the paths of the coefficients\n",
        "plt.semilogx(alphas1,coeffs.T)\n",
        "plt.grid()\n",
        "plt.legend(names_x, loc='upper right')\n",
        "\n",
        "\n",
        "# Plot a line on the optimal alpha\n",
        "plt.semilogx([alpha_opt,alpha_opt], [-0.2,0.6], '--')\n",
        "plt.ylim([-0.2,0.6])\n",
        "plt.xlabel('alpha')\n",
        "plt.ylabel('coeff')\n",
        "plt.show()\n",
        "\n"
      ],
      "execution_count": 0,
      "outputs": [
        {
          "output_type": "display_data",
          "data": {
            "image/png": "[encoded data removed]",
            "text/plain": [
              "<Figure size 432x288 with 1 Axes>"
            ]
          },
          "metadata": {
            "tags": [],
            "needs_background": "light"
          }
        }
      ]
    },
    {
      "cell_type": "markdown",
      "metadata": {
        "id": "rnwmnCTAt-kB",
        "colab_type": "text"
      },
      "source": [
        "\n",
        "\n",
        "---\n",
        "\n"
      ]
    },
    {
      "cell_type": "markdown",
      "metadata": {
        "id": "Mro9D5WRwmzF",
        "colab_type": "text"
      },
      "source": [
        "# Exercise on LASSO Regression\n",
        "\n",
        "In this exercise, we will see how to use LASSO for pitch detection and denoising in audio.\n",
        "\n",
        "We load the following packages."
      ]
    },
    {
      "cell_type": "code",
      "metadata": {
        "id": "oYxnfXhuwtWT",
        "colab_type": "code",
        "colab": {}
      },
      "source": [
        "import numpy as np\n",
        "import matplotlib.pyplot as plt\n",
        "import pickle\n",
        "from scipy.io.wavfile import read"
      ],
      "execution_count": 0,
      "outputs": []
    },
    {
      "cell_type": "markdown",
      "metadata": {
        "id": "NfbMhCJXwyI-",
        "colab_type": "text"
      },
      "source": [
        "## Generate the Data\n",
        "\n",
        "The data is generated from extracting samples of the `viola.wav` file."
      ]
    },
    {
      "cell_type": "code",
      "metadata": {
        "id": "fAf2yWftw0dw",
        "colab_type": "code",
        "outputId": "a064897e-4b37-458f-8c89-54acbd910738",
        "colab": {
          "resources": {
            "http://localhost:8080/nbextensions/google.colab/files.js": {
              "data": "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",
              "ok": true,
              "headers": [
                [
                  "content-type",
                  "application/javascript"
                ]
              ],
              "status": 200,
              "status_text": ""
            }
          },
          "base_uri": "https://localhost:8080/",
          "height": 71
        }
      },
      "source": [
        "from google.colab import files\n",
        "uploaded = files.upload()"
      ],
      "execution_count": 0,
      "outputs": [
        {
          "output_type": "display_data",
          "data": {
            "text/html": [
              "\n",
              "     <input type=\"file\" id=\"files-9221bde4-d399-4821-b686-5951c8e9c06a\" name=\"files[]\" multiple disabled />\n",
              "     <output id=\"result-9221bde4-d399-4821-b686-5951c8e9c06a\">\n",
              "      Upload widget is only available when the cell has been executed in the\n",
              "      current browser session. Please rerun this cell to enable.\n",
              "      </output>\n",
              "      <script src=\"/nbextensions/google.colab/files.js\"></script> "
            ],
            "text/plain": [
              "<IPython.core.display.HTML object>"
            ]
          },
          "metadata": {
            "tags": []
          }
        },
        {
          "output_type": "stream",
          "text": [
            "Saving viola_sample.p to viola_sample.p\n"
          ],
          "name": "stdout"
        }
      ]
    },
    {
      "cell_type": "code",
      "metadata": {
        "id": "aNp8fRzV7eyK",
        "colab_type": "code",
        "outputId": "2279ab49-8d4b-4c30-fe4a-8faf3b213e80",
        "colab": {
          "base_uri": "https://localhost:8080/",
          "height": 351
        }
      },
      "source": [
        "from scipy.io import wavfile\n",
        "\n",
        "# Read the file\n",
        "sr, yfull = wavfile.read('./apple/Downloads/viola_sample.p')\n",
        "\n",
        "# Convert to floating point values so that compuations below do not overflow\n",
        "yfull = yfull.astype(float)"
      ],
      "execution_count": 0,
      "outputs": [
        {
          "output_type": "error",
          "ename": "FileNotFoundError",
          "evalue": "ignored",
          "traceback": [
            "\u001b[0;31m---------------------------------------------------------------------------\u001b[0m",
            "\u001b[0;31mFileNotFoundError\u001b[0m                         Traceback (most recent call last)",
            "\u001b[0;32m<ipython-input-6-c5082239f107>\u001b[0m in \u001b[0;36m<module>\u001b[0;34m()\u001b[0m\n\u001b[1;32m      2\u001b[0m \u001b[0;34m\u001b[0m\u001b[0m\n\u001b[1;32m      3\u001b[0m \u001b[0;31m# Read the file\u001b[0m\u001b[0;34m\u001b[0m\u001b[0;34m\u001b[0m\u001b[0;34m\u001b[0m\u001b[0m\n\u001b[0;32m----> 4\u001b[0;31m \u001b[0msr\u001b[0m\u001b[0;34m,\u001b[0m \u001b[0myfull\u001b[0m \u001b[0;34m=\u001b[0m \u001b[0mwavfile\u001b[0m\u001b[0;34m.\u001b[0m\u001b[0mread\u001b[0m\u001b[0;34m(\u001b[0m\u001b[0;34m'./apple/Downloads/viola_sample.p'\u001b[0m\u001b[0;34m)\u001b[0m\u001b[0;34m\u001b[0m\u001b[0;34m\u001b[0m\u001b[0m\n\u001b[0m\u001b[1;32m      5\u001b[0m \u001b[0;34m\u001b[0m\u001b[0m\n\u001b[1;32m      6\u001b[0m \u001b[0;31m# Convert to floating point values so that compuations below do not overflow\u001b[0m\u001b[0;34m\u001b[0m\u001b[0;34m\u001b[0m\u001b[0;34m\u001b[0m\u001b[0m\n",
            "\u001b[0;32m/usr/local/lib/python3.6/dist-packages/scipy/io/wavfile.py\u001b[0m in \u001b[0;36mread\u001b[0;34m(filename, mmap)\u001b[0m\n\u001b[1;32m    231\u001b[0m         \u001b[0mmmap\u001b[0m \u001b[0;34m=\u001b[0m \u001b[0;32mFalse\u001b[0m\u001b[0;34m\u001b[0m\u001b[0;34m\u001b[0m\u001b[0m\n\u001b[1;32m    232\u001b[0m     \u001b[0;32melse\u001b[0m\u001b[0;34m:\u001b[0m\u001b[0;34m\u001b[0m\u001b[0;34m\u001b[0m\u001b[0m\n\u001b[0;32m--> 233\u001b[0;31m         \u001b[0mfid\u001b[0m \u001b[0;34m=\u001b[0m \u001b[0mopen\u001b[0m\u001b[0;34m(\u001b[0m\u001b[0mfilename\u001b[0m\u001b[0;34m,\u001b[0m \u001b[0;34m'rb'\u001b[0m\u001b[0;34m)\u001b[0m\u001b[0;34m\u001b[0m\u001b[0;34m\u001b[0m\u001b[0m\n\u001b[0m\u001b[1;32m    234\u001b[0m \u001b[0;34m\u001b[0m\u001b[0m\n\u001b[1;32m    235\u001b[0m     \u001b[0;32mtry\u001b[0m\u001b[0;34m:\u001b[0m\u001b[0;34m\u001b[0m\u001b[0;34m\u001b[0m\u001b[0m\n",
            "\u001b[0;31mFileNotFoundError\u001b[0m: [Errno 2] No such file or directory: './apple/Downloads/viola_sample.p'"
          ]
        }
      ]
    },
    {
      "cell_type": "code",
      "metadata": {
        "id": "Tf38PJT8w3HH",
        "colab_type": "code",
        "colab": {}
      },
      "source": [
        "I = np.arange(100000,100000+800)\n",
        "y0 = yfull[I]\n",
        "nt = len(y0)\n",
        "t = np.arange(nt)/sr\n",
        "plt.plot(t,y0)"
      ],
      "execution_count": 0,
      "outputs": []
    },
    {
      "cell_type": "markdown",
      "metadata": {
        "id": "o8xhdJ9gw5eA",
        "colab_type": "text"
      },
      "source": [
        "We then add a small amount of noise."
      ]
    },
    {
      "cell_type": "code",
      "metadata": {
        "id": "J3CW-b8Ww7eN",
        "colab_type": "code",
        "colab": {}
      },
      "source": [
        "snrfs = 20\n",
        "ystd = np.std(y)\n",
        "wstd = 10**(-0.05*snrfs)*ystd\n",
        "w = np.random.normal(0,wstd,nt)\n",
        "y = y0 + w\n",
        "\n",
        "plt.plot(t,y)"
      ],
      "execution_count": 0,
      "outputs": []
    },
    {
      "cell_type": "code",
      "metadata": {
        "id": "2gCAIRRPw9gY",
        "colab_type": "code",
        "colab": {}
      },
      "source": [
        "fn_dst = 'viola_sample.p'\n",
        "with open(fn_dst,'wb') as fp:\n",
        "    pickle.dump([t,y], fp)"
      ],
      "execution_count": 0,
      "outputs": []
    },
    {
      "cell_type": "markdown",
      "metadata": {
        "id": "cgN0Urnww_pY",
        "colab_type": "text"
      },
      "source": [
        "## Load the Data\n",
        "\n",
        "The data is taken from a sample of about 20 ms of audio from a viola.  I have already pre-processed the data.  You can load it with the following command.  The value `t` is the time (in seconds) and `y` is the sample of audio (this is a mono recording).  Noise has been artificially added to the sample."
      ]
    },
    {
      "cell_type": "code",
      "metadata": {
        "id": "MPj4liVQxEDt",
        "colab_type": "code",
        "colab": {}
      },
      "source": [
        "fn_src = 'https://raw.githubusercontent.com/sdrangan/introml/master/unit05_lasso/viola_sample.p'\n",
        "fn_dst = 'viola_sample.p'\n",
        "\n",
        "import os\n",
        "from six.moves import urllib\n",
        "\n",
        "if os.path.isfile(fn_dst):\n",
        "    print('File %s is already downloaded' % fn_dst)\n",
        "else:        \n",
        "    urllib.request.urlretrieve(fn_src, fn_dst)\n",
        "    print('File %s downloaded' % fn_dst)\n",
        "\n",
        "with open(fn_dst,'rb') as fp:\n",
        "    t,y = pickle.load(fp)"
      ],
      "execution_count": 0,
      "outputs": []
    },
    {
      "cell_type": "markdown",
      "metadata": {
        "id": "J9UBaRbtxI3i",
        "colab_type": "text"
      },
      "source": [
        "Plot the data `y` vs. `t`.  "
      ]
    },
    {
      "cell_type": "code",
      "metadata": {
        "id": "FhOoWrMKxMIG",
        "colab_type": "code",
        "colab": {}
      },
      "source": [
        "# TODO\n",
        "plt.plot(t,y)"
      ],
      "execution_count": 0,
      "outputs": []
    },
    {
      "cell_type": "markdown",
      "metadata": {
        "id": "GWI3FGiwxN4L",
        "colab_type": "text"
      },
      "source": [
        "## Creating Features for a Sinusoidal Model\n",
        "\n",
        "We will try to fit a model of the form:\n",
        "\n",
        "    y[i] = \\sum_j a[j]*sin(2*pi*freq[j]*t[i]) + b[j]*cos(2*pi*freq[j]*t[i])\n",
        "\n",
        "That is, `y[i]` is a sum of sinusoids.  This is a common model for audio signals since an instrument, such as a viola, produces discrete tones.  \n",
        "\n",
        "This model is non-linear in the frequency parameters.  So, instead of trying to find the frequencies, we will fix a large number of frequencies and then require that the coefficients `a[j]` and `b[j]` are mostly sparse.  \n",
        "\n",
        "We will use the following vector of frequencies.  This vector includes frequencies on the muscial scale as well as frequencies between the musical notes."
      ]
    },
    {
      "cell_type": "code",
      "metadata": {
        "id": "L4ygEf-ExQ__",
        "colab_type": "code",
        "colab": {}
      },
      "source": [
        "freq = 55*2**(np.arange(5*96)/96)"
      ],
      "execution_count": 0,
      "outputs": []
    },
    {
      "cell_type": "markdown",
      "metadata": {
        "id": "OwwR-luSxTs0",
        "colab_type": "text"
      },
      "source": [
        "To fit the sinusoidal model, we will write a function to map the values `t` to \n",
        "the `sin` and `cos` features.  Finish the function `transform` that creates matrices:\n",
        "\n",
        "    Xcos[i,j] = np.cos(2*np.pi*cos(2*np.pi*t[i]*freq[j])\n",
        "    Xsin[i,j] = np.cos(2*np.pi*sin(2*np.pi*t[i]*freq[j])\n",
        "    X = np.hstack((Xcos,Xsin))\n",
        "    \n",
        "So, if `freq` is length `d`, there will `2*d` features.  You can try to create the matrices using python broadcasting if you want to avoid a for loop.   "
      ]
    },
    {
      "cell_type": "code",
      "metadata": {
        "id": "HNgOeYrVxVR2",
        "colab_type": "code",
        "colab": {}
      },
      "source": [
        "def transform(t,freq):\n",
        "    # TODO\n",
        "    # Xcos = ...\n",
        "    # Xsin = ...\n",
        "    Xcos = np.cos(2*np.pi*t[:,None]*freq[None,:])\n",
        "    Xsin = np.sin(2*np.pi*t[:,None]*freq[None,:])\n",
        "    \n",
        "    X = np.hstack((Xcos,Xsin))    \n",
        "    return X"
      ],
      "execution_count": 0,
      "outputs": []
    },
    {
      "cell_type": "markdown",
      "metadata": {
        "id": "JhbVABU9xXun",
        "colab_type": "text"
      },
      "source": [
        "**Split** the data `t` and `y` into training and test.  Use approximately 50% for each set."
      ]
    },
    {
      "cell_type": "code",
      "metadata": {
        "id": "KziJOIIlxZcP",
        "colab_type": "code",
        "colab": {}
      },
      "source": [
        "from sklearn.model_selection import train_test_split\n",
        "\n",
        "# TODO\n",
        "ttr, tts, ytr, yts = train_test_split(t,y,test_size=0.5)"
      ],
      "execution_count": 0,
      "outputs": []
    },
    {
      "cell_type": "markdown",
      "metadata": {
        "id": "cwBVY13Zxbh1",
        "colab_type": "text"
      },
      "source": [
        "Transform the `ttr`, `tts` into `Xtr` and `Xts`."
      ]
    },
    {
      "cell_type": "code",
      "metadata": {
        "id": "CupjuTfKxdek",
        "colab_type": "code",
        "colab": {}
      },
      "source": [
        "# TODO\n",
        "Xtr = transform(ttr,freq)\n",
        "Xts = transform(tts,freq)"
      ],
      "execution_count": 0,
      "outputs": []
    },
    {
      "cell_type": "markdown",
      "metadata": {
        "id": "Sd132subxfLF",
        "colab_type": "text"
      },
      "source": [
        "## Use LASSO to Find the Frequencies\n",
        "\n",
        "We can now use LASSO regression to find the model\n",
        "* Use LASSO regression with `alpha=500` to fit the model.  \n",
        "* Find the R^2-score on the test data.\n",
        "* Plot the predicted value of `y` for `t in [0,0.02]`."
      ]
    },
    {
      "cell_type": "code",
      "metadata": {
        "id": "drR71pGbxjbT",
        "colab_type": "code",
        "colab": {}
      },
      "source": [
        "from sklearn.linear_model import Lasso\n",
        "from sklearn.metrics import r2_score\n",
        "\n",
        "# TODO\n",
        "# regr = Lasso(...)\n",
        "regr = Lasso(alpha=500)\n",
        "regr.fit(Xtr,ytr)\n",
        "yhat = regr.predict(Xts)\n",
        "\n",
        "rsq = r2_score(yts, yhat)\n",
        "print(rsq)"
      ],
      "execution_count": 0,
      "outputs": []
    },
    {
      "cell_type": "code",
      "metadata": {
        "id": "3A3lP7d3xnVY",
        "colab_type": "code",
        "colab": {}
      },
      "source": [
        "tp = np.linspace(0,0.02,1000)\n",
        "Xp = transform(tp,freq)\n",
        "yp = regr.predict(Xp)\n",
        "\n",
        "plt.plot(tp,yp)\n",
        "plt.plot(tts,yts,'o',markersize=4)"
      ],
      "execution_count": 0,
      "outputs": []
    },
    {
      "cell_type": "markdown",
      "metadata": {
        "id": "myiqGyWoxp3o",
        "colab_type": "text"
      },
      "source": [
        "Recall that you can find the coefficient in the model via `w = regr.coef_`.  If `freq` has `d` terms, then `w` will have `2*d` terms.\n",
        "* Split the coefficients `w` into `a` and `b`, the terms for the `cos` and `sin` features.\n",
        "* Plot `a` and `b` using `plt.stem`.\n",
        "* Which frequencies is dominant in this track?"
      ]
    },
    {
      "cell_type": "code",
      "metadata": {
        "id": "_fxoOVlfxr1x",
        "colab_type": "code",
        "colab": {}
      },
      "source": [
        "# TODO\n",
        "w = regr.coef_\n",
        "d = len(freq)\n",
        "wcos = w[:d]\n",
        "wsin = w[d:]\n",
        "wabs = np.sqrt(wcos**2 + wsin**2)\n",
        "plt.stem(freq, wabs)\n",
        "\n",
        "im = np.argmax(wabs)\n",
        "freqm = freq[im]\n",
        "\n",
        "print('Dominant freq = %f' % freqm)"
      ],
      "execution_count": 0,
      "outputs": []
    },
    {
      "cell_type": "markdown",
      "metadata": {
        "id": "ZHXvBAbKxuJn",
        "colab_type": "text"
      },
      "source": [
        "## Selecting the Optimal Alpha\n",
        "\n",
        "* Find the optimal `alpha` using cross-validation"
      ]
    },
    {
      "cell_type": "code",
      "metadata": {
        "id": "j-CVQ7ynxzYp",
        "colab_type": "code",
        "colab": {}
      },
      "source": [
        "#TODO\n",
        "\n",
        "from sklearn.model_selection import KFold\n",
        "\n",
        "alphas = np.logspace(0,4,20)\n",
        "nalpha = len(alphas)\n",
        "nfold = 5\n",
        "kf = KFold(n_splits=nfold,shuffle=True)\n",
        "\n",
        "X = transform(t,freq)\n",
        "\n",
        "# R^2 for each alpha and fold value\n",
        "rsq = np.zeros((nalpha,nfold))\n",
        "for ifold, ind in enumerate(kf.split(X)):\n",
        "        \n",
        "    # Get the training data in the split\n",
        "    Itr,Its = ind\n",
        "    X_tr = X[Itr,:]\n",
        "    y_tr = y[Itr]\n",
        "    X_ts = X[Its,:]\n",
        "    y_ts = y[Its]\n",
        "    \n",
        "    # Compute the lasso path for the split\n",
        "    for ia, a in enumerate(alphas):\n",
        "        \n",
        "        # Create a LASSO model object\n",
        "        model = Lasso(alpha=a)\n",
        "        \n",
        "        # Fit the model on the training data\n",
        "        model.fit(X_tr,y_tr)\n",
        "        \n",
        "        # Compute the prediction error on the test data\n",
        "        y_ts_pred = model.predict(X_ts)\n",
        "        rsq[ia,ifold] = r2_score(y_ts, y_ts_pred)\n",
        "        \n",
        "        print('alpha=%f %d rsq=%7.4f' % (a,ia,rsq[ia,ifold]))\n"
      ],
      "execution_count": 0,
      "outputs": []
    },
    {
      "cell_type": "code",
      "metadata": {
        "id": "XWVh-4I4x5Ed",
        "colab_type": "code",
        "colab": {}
      },
      "source": [
        "rsq_mean = np.mean(rsq,axis=1)\n",
        "rsq_se = np.std(rsq,axis=1)/np.sqrt(nfold-1)\n",
        "plt.errorbar(np.log10(alphas),rsq_mean,yerr=rsq_se)\n",
        "plt.ylim([0.9,1])\n",
        "plt.grid()"
      ],
      "execution_count": 0,
      "outputs": []
    },
    {
      "cell_type": "markdown",
      "metadata": {
        "id": "Wke5xZFHuBLU",
        "colab_type": "text"
      },
      "source": [
        "# Exercise:  Source Localization for EEG\n",
        "\n",
        "EEG or [Electroencephalography](https://en.wikipedia.org/wiki/Electroencephalography) is a powerful tool for neuroscientists in understanding brain activity.  In EEG, a patient wears a headset with electrodes that measures voltages at a number of points on the scalp.  These voltages arise from ionic currents within the brain.  A common *inverse problem* is to estimate the which parts of the brain caused the measured response.  Source localization is useful in understanding which parts of the brain are involved in certain tasks.  A key challenge in this inverse problem is that the number of unknowns (possible locations in the brain) is much larger than the number of measurements.  In this lab, we will use LASSO regression on a real EEG dataset to overcome this problem and determine the brain region that is active under an auditory stimulus.\n",
        "\n",
        "In addition to the concepts in the [prostate LASSO demo](./demo_prostate.ipynb) you will learn to:\n",
        "* Represent responses of multi-channel time-series data, such as EEG, using linear models\n",
        "* Perform LASSO and Ridge regression\n",
        "* Select the regularization level via cross-validation\n",
        "* Visually compare the sparsity between the solutions\n",
        "\n",
        "We first download standard packages."
      ]
    },
    {
      "cell_type": "code",
      "metadata": {
        "id": "n0td2kBHuOpf",
        "colab_type": "code",
        "colab": {}
      },
      "source": [
        "import numpy as np\n",
        "import matplotlib.pyplot as plt\n",
        "import pickle\n",
        "\n",
        "from sklearn.linear_model import Lasso, Ridge, ElasticNet\n",
        "from sklearn.metrics import r2_score\n",
        "from sklearn.model_selection import train_test_split"
      ],
      "execution_count": 0,
      "outputs": []
    },
    {
      "cell_type": "markdown",
      "metadata": {
        "id": "eaNyJqFfucju",
        "colab_type": "text"
      },
      "source": [
        "## Load the Data\n",
        "\n",
        "The data in this lab is taken from one of the sample datasets in the [MNE website](https://martinos.org/mne/stable/index.html). The sample data is a recording from one subject who experienced some auditory stimulus on the left ear.    \n",
        "\n",
        "The raw data is very large (`1.5G`) and also requires that you install the `mne` python package. To make this lab easier, I have extracted and processed a small section of the data. The following command will download a `pickle` file `eeg_dat.p` to your local machine.  If you do want to create the data yourself, the program to create the data is in this directory in the github repository."
      ]
    },
    {
      "cell_type": "code",
      "metadata": {
        "id": "psX3if8RvDAu",
        "colab_type": "code",
        "outputId": "c2fe25e3-2f4b-4aed-fee0-7b6d8c8154a9",
        "colab": {
          "base_uri": "https://localhost:8080/",
          "height": 51
        }
      },
      "source": [
        "fn_src ='https://drive.google.com/uc?export=download&id=1RzQpKONOcXSMxH2ZzOI4iVMiTgD6ttSl'\n",
        "fn_dst ='eeg_dat.p'\n",
        "\n",
        "import os\n",
        "from six.moves import urllib\n",
        "\n",
        "if os.path.isfile(fn_dst):\n",
        "    print('File %s is already downloaded' % fn_dst)\n",
        "else:        \n",
        "    print('Fetching file %s [53MB].  This may take a minute..' % fn_dst)\n",
        "    urllib.request.urlretrieve(fn_src, fn_dst)\n",
        "    print('File %s downloaded' % fn_dst)"
      ],
      "execution_count": 0,
      "outputs": [
        {
          "output_type": "stream",
          "text": [
            "Fetching file eeg_dat.p [53MB].  This may take a minute..\n",
            "File eeg_dat.p downloaded\n"
          ],
          "name": "stdout"
        }
      ]
    },
    {
      "cell_type": "markdown",
      "metadata": {
        "id": "tIPOvcnovFce",
        "colab_type": "text"
      },
      "source": [
        "Now run the following command which will get the data from the `pickle` file."
      ]
    },
    {
      "cell_type": "code",
      "metadata": {
        "id": "bdG4UeVkvI2j",
        "colab_type": "code",
        "colab": {}
      },
      "source": [
        "import pickle\n",
        "fn = 'eeg_dat.p'\n",
        "with open(fn, 'rb') as fp:\n",
        "    [X,Y] = pickle.load(fp)"
      ],
      "execution_count": 0,
      "outputs": []
    },
    {
      "cell_type": "markdown",
      "metadata": {
        "id": "VB6is6davLlF",
        "colab_type": "text"
      },
      "source": [
        "To understand the data, there are three key variables:\n",
        "\n",
        "nt = number of time steps that we measure data\n",
        "nchan = number of channels (i.e. electrodes) measured in each time step\n",
        "ncur = number of currents in the brain that we want to estimate.\n",
        "Each current comes from one brain region (called a voxel) in either the x, y or z direction. So,\n",
        "\n",
        "nvoxels = ncur / 3\n",
        "The components of the X and Y matrices are:\n",
        "\n",
        "Y[i,k] = electric field measurement on channel i at time k\n",
        "X[i,j] = sensitivity of channel i to current j.\n",
        "Using X.shape and Y.shape compute and print nt, nchan, ncur and nvoxels."
      ]
    },
    {
      "cell_type": "code",
      "metadata": {
        "id": "0aBvYncuvPDF",
        "colab_type": "code",
        "outputId": "ef32de34-198d-4752-8be7-240075c715bd",
        "colab": {
          "base_uri": "https://localhost:8080/",
          "height": 85
        }
      },
      "source": [
        "# TODO\n",
        "# nt = ...\n",
        "# ncur = ...\n",
        "# nchan = ...\n",
        "# nvoxels\n",
        "nchan, ncur = X.shape\n",
        "nchan, nt = Y.shape\n",
        "nvoxels = ncur // 3\n",
        "print('Number times   = %d' % nt)\n",
        "print('Number currents = %d' % ncur)\n",
        "print('Number voxels = %d' % nvoxels)\n",
        "print('Number channels = %d' % nchan)"
      ],
      "execution_count": 0,
      "outputs": [
        {
          "output_type": "stream",
          "text": [
            "Number times   = 85\n",
            "Number currents = 22494\n",
            "Number voxels = 7498\n",
            "Number channels = 305\n"
          ],
          "name": "stdout"
        }
      ]
    },
    {
      "cell_type": "markdown",
      "metadata": {
        "id": "RuGX0gbYvQ50",
        "colab_type": "text"
      },
      "source": [
        "## Ridge Regression\n",
        "\n",
        "Our goal is to estimate the currents in the brain from the measurements `Y`.  One simple linear model is:\n",
        "\n",
        "    Y[i,k]  = \\sum_j X[i,j]*W[j,k]+ b[k]\n",
        "\n",
        "where `W[j,k]` is the value of current `j` at time `k` and `b[k]` is a bias.  We can solve for the current matrix `W` via linear regression.  \n",
        "\n",
        "Howeever, there is a problem:\n",
        "*  There are `nt x ncur` unknowns in `W`\n",
        "*  There are only `nt x nchan` measurements in `Y`.\n",
        "\n",
        "In this problem, we have:\n",
        "\n",
        "    number of measurements  << number of unknowns\n",
        "    \n",
        "We need to use regularization in these circumstances.  We first try Ridge regression.\n",
        "\n",
        "First split the data into training and test.  Use the `train_test_split` function with `test_size=0.33`."
      ]
    },
    {
      "cell_type": "code",
      "metadata": {
        "id": "3mAKV2JhvT92",
        "colab_type": "code",
        "colab": {}
      },
      "source": [
        "# TODO\n",
        "# Xtr,Xts,Ytr,Yts = train_test_split(...) \n",
        "Xtr,Xts,Ytr,Yts = train_test_split(X,Y,test_size=0.33)"
      ],
      "execution_count": 0,
      "outputs": []
    },
    {
      "cell_type": "markdown",
      "metadata": {
        "id": "Ijb6UG4AvXIz",
        "colab_type": "text"
      },
      "source": [
        "Use the `Ridge` regression object in `sklearn` to fit the model on the training data.  Use a regularization, `alpha=1`."
      ]
    },
    {
      "cell_type": "code",
      "metadata": {
        "id": "2DnY399svY1-",
        "colab_type": "code",
        "outputId": "d58d5fed-a737-4873-d61b-40767093338d",
        "colab": {
          "base_uri": "https://localhost:8080/",
          "height": 51
        }
      },
      "source": [
        "regr = Ridge(alpha=1)\n",
        "regr.fit(Xtr,Ytr)"
      ],
      "execution_count": 0,
      "outputs": [
        {
          "output_type": "execute_result",
          "data": {
            "text/plain": [
              "Ridge(alpha=1, copy_X=True, fit_intercept=True, max_iter=None, normalize=False,\n",
              "      random_state=None, solver='auto', tol=0.001)"
            ]
          },
          "metadata": {
            "tags": []
          },
          "execution_count": 24
        }
      ]
    },
    {
      "cell_type": "markdown",
      "metadata": {
        "id": "Yo3654s6vama",
        "colab_type": "text"
      },
      "source": [
        "Predict the values `Y` on both the training and test data.  Use the `r2_score` method to measure the `R^2` value on both the training and test.  You will see that `R^2` value is large for the training data, it is very low for the test data.  This suggest that even with regularization, the model is over-fitting the data."
      ]
    },
    {
      "cell_type": "code",
      "metadata": {
        "id": "22LRSg3UvgX_",
        "colab_type": "code",
        "outputId": "e1165d6b-e14a-4164-d281-f5d8f3f76325",
        "colab": {
          "base_uri": "https://localhost:8080/",
          "height": 51
        }
      },
      "source": [
        "# TODO\n",
        "# rsq_tr = ...\n",
        "# rsq_ts = ...\n",
        "Yhat = regr.predict(Xtr)\n",
        "rsq_tr = r2_score(Ytr, Yhat)\n",
        "print('R^2 training = %7.4f' % rsq_tr)\n",
        "\n",
        "\n",
        "Yhat = regr.predict(Xts)\n",
        "rsq_ts = r2_score(Yts, Yhat)\n",
        "print('R^2 test     = %7.4f' % rsq_ts)"
      ],
      "execution_count": 0,
      "outputs": [
        {
          "output_type": "stream",
          "text": [
            "R^2 training =  0.5904\n",
            "R^2 test     =  0.2107\n"
          ],
          "name": "stdout"
        }
      ]
    },
    {
      "cell_type": "markdown",
      "metadata": {
        "id": "BbwmPsDBvhGJ",
        "colab_type": "text"
      },
      "source": [
        "Next, try to see if we can get a better `R^2` score using different values of `alpha`.  Use cross-validation to measure the test `R^2` for 20 `alpha` values logarithmically spaced from `10^{-2}` to `10^{2}` (use `np.logspace()`).  You can use regular cross-validation.  You do not need to do `K`-fold."
      ]
    },
    {
      "cell_type": "code",
      "metadata": {
        "id": "zvb0ir-avlLL",
        "colab_type": "code",
        "outputId": "5ae2dd9e-3cc0-4b2e-d87a-7c8f95f98db6",
        "colab": {
          "base_uri": "https://localhost:8080/",
          "height": 357
        }
      },
      "source": [
        "# TODO\n",
        "alphas = np.logspace(-2,2,20)\n",
        "rsq = []\n",
        "\n",
        "for a in alphas:\n",
        "    regr = Ridge(alpha=a)\n",
        "    regr.fit(Xtr,Ytr)\n",
        "    \n",
        "    Yhat = regr.predict(Xts)\n",
        "    rsqi = r2_score(Yts, Yhat)\n",
        "    rsq.append(rsqi)\n",
        "    \n",
        "    print('alpha=%12.4e rsq=%7.4f' % (a,rsqi))"
      ],
      "execution_count": 0,
      "outputs": [
        {
          "output_type": "stream",
          "text": [
            "alpha=  1.0000e-02 rsq=-0.1536\n",
            "alpha=  1.6238e-02 rsq=-0.0616\n",
            "alpha=  2.6367e-02 rsq= 0.0177\n",
            "alpha=  4.2813e-02 rsq= 0.0882\n",
            "alpha=  6.9519e-02 rsq= 0.1507\n",
            "alpha=  1.1288e-01 rsq= 0.2022\n",
            "alpha=  1.8330e-01 rsq= 0.2376\n",
            "alpha=  2.9764e-01 rsq= 0.2528\n",
            "alpha=  4.8329e-01 rsq= 0.2475\n",
            "alpha=  7.8476e-01 rsq= 0.2258\n",
            "alpha=  1.2743e+00 rsq= 0.1939\n",
            "alpha=  2.0691e+00 rsq= 0.1578\n",
            "alpha=  3.3598e+00 rsq= 0.1220\n",
            "alpha=  5.4556e+00 rsq= 0.0894\n",
            "alpha=  8.8587e+00 rsq= 0.0617\n",
            "alpha=  1.4384e+01 rsq= 0.0397\n",
            "alpha=  2.3357e+01 rsq= 0.0233\n",
            "alpha=  3.7927e+01 rsq= 0.0117\n",
            "alpha=  6.1585e+01 rsq= 0.0039\n",
            "alpha=  1.0000e+02 rsq=-0.0013\n"
          ],
          "name": "stdout"
        }
      ]
    },
    {
      "cell_type": "markdown",
      "metadata": {
        "id": "tnT7I61cvmeS",
        "colab_type": "text"
      },
      "source": [
        "Plot the test `R^2` vs. `alpha`.  And print the maximum test `R^2`.  You should see that the maximum test `R^2` is still not very high."
      ]
    },
    {
      "cell_type": "code",
      "metadata": {
        "id": "T5tERJBrvp41",
        "colab_type": "code",
        "outputId": "b46b752d-eaee-44d7-ca3a-f08bebe44cf1",
        "colab": {
          "base_uri": "https://localhost:8080/",
          "height": 290
        }
      },
      "source": [
        "rsq = np.array(rsq)\n",
        "plt.semilogx(alphas, rsq, 'o-')\n",
        "plt.grid()\n",
        "\n",
        "rsq_opt = np.max(rsq)\n",
        "print('Optimal R^2 = %7.4f' % rsq_opt)"
      ],
      "execution_count": 0,
      "outputs": [
        {
          "output_type": "stream",
          "text": [
            "Optimal R^2 =  0.2528\n"
          ],
          "name": "stdout"
        },
        {
          "output_type": "display_data",
          "data": {
            "image/png": "[encoded data removed]",
            "text/plain": [
              "<Figure size 432x288 with 1 Axes>"
            ]
          },
          "metadata": {
            "tags": []
          }
        }
      ]
    },
    {
      "cell_type": "markdown",
      "metadata": {
        "id": "W-yzWcsfvquu",
        "colab_type": "text"
      },
      "source": [
        "Now, let's take a look at the solution. \n",
        "\n",
        "* Find the optimal regularization `alpha` from the cross-validation\n",
        "* Re-fit the model at the optimal `alpha`\n",
        "* Get the current matrix `W` from the coefficients in the linear model.  These are stored in `regr.coef_`.  You may need a transpose\n",
        "* For each current `j` compute `Wrms[j] =  sqrt( sum_k W[j,k]**2 )` which is root mean squared current.\n",
        "\n",
        "You will see that the vector `Wrms` is not sparse.  This means that the solution that is found with Ridge regression finds currents in all locations."
      ]
    },
    {
      "cell_type": "code",
      "metadata": {
        "id": "_qlX8sIAvtJq",
        "colab_type": "code",
        "outputId": "cfa79655-fdcb-484a-a23e-25a877cfe1ff",
        "colab": {
          "base_uri": "https://localhost:8080/",
          "height": 269
        }
      },
      "source": [
        "im = np.argmax(rsq)\n",
        "aopt = alphas[im]\n",
        "\n",
        "regr = Ridge(alpha=aopt)\n",
        "regr.fit(Xtr,Ytr)\n",
        "\n",
        "W = regr.coef_.T\n",
        "Wrms = np.sqrt(np.sum(W**2, axis=1))\n",
        "\n",
        "plt.plot(Wrms)\n",
        "plt.grid()"
      ],
      "execution_count": 0,
      "outputs": [
        {
          "output_type": "display_data",
          "data": {
            "image/png": "[encoded data removed]",
            "text/plain": [
              "<Figure size 432x288 with 1 Axes>"
            ]
          },
          "metadata": {
            "tags": []
          }
        }
      ]
    },
    {
      "cell_type": "markdown",
      "metadata": {
        "id": "wH5CdhFNvu4Y",
        "colab_type": "text"
      },
      "source": [
        "## LASSO Regression\n",
        "\n",
        "We can improve the estimate by imposing sparsity.  Biologically, we know that only a limited number of brain regions should be involved in the reponse to a particular stimuli.  As a result, we would expect that the current matrix `W[j,k]` to be zero for most values `j,k`.  We can impose this constraint using LASSO regularization.\n",
        "\n",
        "Re-fit the training data using the `Lasso` model with `alpha=1e-3`.  Also set `max_iter=100` and `tol=0.01`.  The LASSO solver is much slower, so this make take a minute."
      ]
    },
    {
      "cell_type": "code",
      "metadata": {
        "id": "ISim2H06vxJT",
        "colab_type": "code",
        "outputId": "fa81c1ad-119d-4bef-849e-5066fc538e22",
        "colab": {
          "base_uri": "https://localhost:8080/",
          "height": 68
        }
      },
      "source": [
        "# TODO\n",
        "regr = Lasso(alpha = 1e-3,max_iter=100,tol=0.01)\n",
        "regr.fit(Xtr,Ytr)"
      ],
      "execution_count": 0,
      "outputs": [
        {
          "output_type": "execute_result",
          "data": {
            "text/plain": [
              "Lasso(alpha=0.001, copy_X=True, fit_intercept=True, max_iter=100,\n",
              "      normalize=False, positive=False, precompute=False, random_state=None,\n",
              "      selection='cyclic', tol=0.01, warm_start=False)"
            ]
          },
          "metadata": {
            "tags": []
          },
          "execution_count": 29
        }
      ]
    },
    {
      "cell_type": "markdown",
      "metadata": {
        "id": "0AHCQkRDvzWI",
        "colab_type": "text"
      },
      "source": [
        "Now, test the model on the test data and measure the `R^2` value.  You should get a much better fit than with the Ridge regression solution.  "
      ]
    },
    {
      "cell_type": "code",
      "metadata": {
        "id": "aHu9d-5uv1Hh",
        "colab_type": "code",
        "outputId": "92d87c37-c062-4ad1-aae9-23789f7ed198",
        "colab": {
          "base_uri": "https://localhost:8080/",
          "height": 34
        }
      },
      "source": [
        "# TODO\n",
        "Yhat = regr.predict(Xts)\n",
        "rsq = r2_score(Yts, Yhat)\n",
        "print(rsq)"
      ],
      "execution_count": 0,
      "outputs": [
        {
          "output_type": "stream",
          "text": [
            "0.190776902136011\n"
          ],
          "name": "stdout"
        }
      ]
    },
    {
      "cell_type": "markdown",
      "metadata": {
        "id": "Bz1o_XEuv4tB",
        "colab_type": "text"
      },
      "source": [
        "We can now search for the optimal `alpha`.  Use cross-validation to find the `alpha` logarithically space between `alpha=10^{-3}` and `alpha=10^{-4}`.  Each fit takes some time, so use only 5 values of `alpha`. Also for each `alpha` store the current matrix.  This way, you will not have to re-fit the model."
      ]
    },
    {
      "cell_type": "code",
      "metadata": {
        "id": "MZzzJZCfv8HC",
        "colab_type": "code",
        "outputId": "94582edc-9deb-4294-b8b9-eb48707af2ea",
        "colab": {
          "base_uri": "https://localhost:8080/",
          "height": 102
        }
      },
      "source": [
        "alphas = np.logspace(-4,-3,5)\n",
        "rsq = []\n",
        "Ws = []\n",
        "\n",
        "for a in alphas:\n",
        "    \n",
        "    # Fit the model\n",
        "    regr = Lasso(alpha =a, max_iter=100, tol=0.01)\n",
        "    regr.fit(Xtr,Ytr)\n",
        "    \n",
        "    # Predict \n",
        "    Yhat = regr.predict(Xts)\n",
        "    \n",
        "    # Score\n",
        "    rsqi = r2_score(Yts, Yhat)\n",
        "    rsq.append(rsqi)\n",
        "    \n",
        "    # Save the current matrix\n",
        "    Ws.append(regr.coef_.T)\n",
        "    \n",
        "    \n",
        "    # Print results\n",
        "    print('alpha = %12.4e rsq=%7.4f' % (a, rsqi))"
      ],
      "execution_count": 0,
      "outputs": [
        {
          "output_type": "stream",
          "text": [
            "alpha =   1.0000e-04 rsq= 0.3279\n",
            "alpha =   1.7783e-04 rsq= 0.3532\n",
            "alpha =   3.1623e-04 rsq= 0.3345\n",
            "alpha =   5.6234e-04 rsq= 0.2863\n",
            "alpha =   1.0000e-03 rsq= 0.1908\n"
          ],
          "name": "stdout"
        }
      ]
    },
    {
      "cell_type": "markdown",
      "metadata": {
        "id": "UKEd3VCpv-3P",
        "colab_type": "text"
      },
      "source": [
        "Plot the `r^2` value vs. `alpha`.  Print the optimal `r^2`.  You should see it is much higher than with the best Ridge Regression case."
      ]
    },
    {
      "cell_type": "code",
      "metadata": {
        "id": "FEMlWmcnwCXD",
        "colab_type": "code",
        "outputId": "f6f83587-8269-4289-bbb4-3500ab5323ef",
        "colab": {
          "base_uri": "https://localhost:8080/",
          "height": 290
        }
      },
      "source": [
        "rsq = np.array(rsq)\n",
        "plt.semilogx(alphas, rsq, 'o-')\n",
        "plt.grid()\n",
        "\n",
        "rsq_opt = np.max(rsq)\n",
        "print('Optimal test R^2 = %7.4f' % rsq_opt)"
      ],
      "execution_count": 0,
      "outputs": [
        {
          "output_type": "stream",
          "text": [
            "Optimal test R^2 =  0.3532\n"
          ],
          "name": "stdout"
        },
        {
          "output_type": "display_data",
          "data": {
            "image/png": "[encoded data removed]",
            "text/plain": [
              "<Figure size 432x288 with 1 Axes>"
            ]
          },
          "metadata": {
            "tags": []
          }
        }
      ]
    },
    {
      "cell_type": "markdown",
      "metadata": {
        "id": "8a_OJWpmwE7-",
        "colab_type": "text"
      },
      "source": [
        "Display the current matrix `W` for the optimal `alpha` as you did in the Ridge Regression case.  You will see that is much sparser."
      ]
    },
    {
      "cell_type": "code",
      "metadata": {
        "id": "pC_RI8PewIru",
        "colab_type": "code",
        "outputId": "6b07ed6e-ab33-4a62-b951-b13aeb730df1",
        "colab": {
          "base_uri": "https://localhost:8080/",
          "height": 269
        }
      },
      "source": [
        "iopt = np.argmax(rsq)\n",
        "Wopt = Ws[iopt]\n",
        "Wrms = np.sqrt(np.sum(Wopt**2, axis=1))\n",
        "\n",
        "plt.plot(Wrms)\n",
        "plt.grid()"
      ],
      "execution_count": 0,
      "outputs": [
        {
          "output_type": "display_data",
          "data": {
            "image/png": "[encoded data removed]",
            "text/plain": [
              "<Figure size 432x288 with 1 Axes>"
            ]
          },
          "metadata": {
            "tags": []
          }
        }
      ]
    }
  ]
}