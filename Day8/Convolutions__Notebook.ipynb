{
  "nbformat": 4,
  "nbformat_minor": 0,
  "metadata": {
    "colab": {
      "name": "Convolutions _Notebook",
      "provenance": [],
      "include_colab_link": true
    },
    "kernelspec": {
      "name": "python3",
      "display_name": "Python 3"
    }
  },
  "cells": [
    {
      "cell_type": "markdown",
      "metadata": {
        "id": "view-in-github",
        "colab_type": "text"
      },
      "source": [
        "<a href=\"https://colab.research.google.com/github/nikopj/SummerML/blob/master/Day8/Convolutions__Notebook.ipynb\" target=\"_parent\"><img src=\"https://colab.research.google.com/assets/colab-badge.svg\" alt=\"Open In Colab\"/></a>"
      ]
    },
    {
      "cell_type": "markdown",
      "metadata": {
        "id": "dStttJEj8FmZ",
        "colab_type": "text"
      },
      "source": [
        "#Cat vs Non-Cat"
      ]
    },
    {
      "cell_type": "code",
      "metadata": {
        "id": "rtLcznwy3tAm",
        "colab_type": "code",
        "colab": {}
      },
      "source": [
        "import h5py\n",
        "import numpy as np\n",
        "import matplotlib\n",
        "import matplotlib.pyplot as plt\n",
        "%matplotlib inline\n",
        "\n",
        "import tensorflow as tf"
      ],
      "execution_count": 0,
      "outputs": []
    },
    {
      "cell_type": "code",
      "metadata": {
        "id": "z9kFC1aM4J43",
        "colab_type": "code",
        "colab": {}
      },
      "source": [
        "# Load training data\n",
        "train_dataset = h5py.File('train_catvnoncat.h5', \"r\")\n",
        "Xtr = np.array(train_dataset[\"train_set_x\"][:]) # train set features\n",
        "Ytr = np.array(train_dataset[\"train_set_y\"][:]) # train set labels"
      ],
      "execution_count": 0,
      "outputs": []
    },
    {
      "cell_type": "code",
      "metadata": {
        "id": "oRJY7BLw4KUp",
        "colab_type": "code",
        "colab": {}
      },
      "source": [
        "# Load test data\n",
        "test_dataset = h5py.File('test_catvnoncat.h5', \"r\")\n",
        "Xts = np.array(test_dataset[\"test_set_x\"][:]) # test set features\n",
        "Yts = np.array(test_dataset[\"test_set_y\"][:]) # test set labels"
      ],
      "execution_count": 0,
      "outputs": []
    },
    {
      "cell_type": "code",
      "metadata": {
        "id": "u67jpS6p4Thq",
        "colab_type": "code",
        "outputId": "4ca2b4da-0086-4228-cc58-e7cfecd083c0",
        "colab": {
          "base_uri": "https://localhost:8080/",
          "height": 286
        }
      },
      "source": [
        "i = 21\n",
        "plt.imshow(Xtr[i,:,:,:])\n",
        "print(Ytr[i])"
      ],
      "execution_count": 0,
      "outputs": [
        {
          "output_type": "stream",
          "text": [
            "0\n"
          ],
          "name": "stdout"
        },
        {
          "output_type": "display_data",
          "data": {
            "image/png": "[encoded data removed]",
            "text/plain": [
              "<Figure size 432x288 with 1 Axes>"
            ]
          },
          "metadata": {
            "tags": []
          }
        }
      ]
    },
    {
      "cell_type": "code",
      "metadata": {
        "id": "TbJIWXOK5frE",
        "colab_type": "code",
        "colab": {}
      },
      "source": [
        "Xtr = Xtr/255\n",
        "Xts = Xts/255"
      ],
      "execution_count": 0,
      "outputs": []
    },
    {
      "cell_type": "code",
      "metadata": {
        "id": "c5r_se3_5lrW",
        "colab_type": "code",
        "outputId": "f16d2c73-f6c5-4a3f-ae83-9b7495838423",
        "colab": {
          "base_uri": "https://localhost:8080/",
          "height": 86
        }
      },
      "source": [
        "print(Xtr.shape)\n",
        "print(Ytr.shape)\n",
        "print(Xts.shape)\n",
        "print(Yts.shape)"
      ],
      "execution_count": 0,
      "outputs": [
        {
          "output_type": "stream",
          "text": [
            "(209, 64, 64, 3)\n",
            "(209,)\n",
            "(50, 64, 64, 3)\n",
            "(50,)\n"
          ],
          "name": "stdout"
        }
      ]
    },
    {
      "cell_type": "code",
      "metadata": {
        "id": "ffUrY6d74i5e",
        "colab_type": "code",
        "colab": {}
      },
      "source": [
        "model = tf.keras.models.Sequential([\n",
        "    # Note the input shape is the desired size of the image 150x150 with 3 bytes color\n",
        "    tf.keras.layers.Conv2D(16, (3,3), activation='relu', input_shape=(64, 64, 3)),\n",
        "    tf.keras.layers.MaxPooling2D(2,2),\n",
        "    tf.keras.layers.Conv2D(32, (3,3), activation='relu'),\n",
        "    tf.keras.layers.MaxPooling2D(2,2), \n",
        "    tf.keras.layers.Conv2D(64, (3,3), activation='relu'), \n",
        "    tf.keras.layers.MaxPooling2D(2,2),\n",
        "    # Flatten the results to feed into a DNN\n",
        "    tf.keras.layers.Flatten(), \n",
        "    # 512 neuron hidden layer\n",
        "    tf.keras.layers.Dense(512, activation='relu'), \n",
        "    # Only 1 output neuron. It will contain a value from 0-1 where 0 for 1 class ('cats') and 1 for the other ('dogs')\n",
        "    tf.keras.layers.Dense(1, activation='sigmoid')  \n",
        "])"
      ],
      "execution_count": 0,
      "outputs": []
    },
    {
      "cell_type": "code",
      "metadata": {
        "id": "UZcnH95m5TDO",
        "colab_type": "code",
        "outputId": "5d197729-78a7-49a5-b544-772edabbc066",
        "colab": {
          "base_uri": "https://localhost:8080/",
          "height": 399
        }
      },
      "source": [
        "model.summary()"
      ],
      "execution_count": 0,
      "outputs": [
        {
          "output_type": "stream",
          "text": [
            "Model: \"sequential_3\"\n",
            "_________________________________________________________________\n",
            "Layer (type)                 Output Shape              Param #   \n",
            "=================================================================\n",
            "conv2d_9 (Conv2D)            (None, 62, 62, 16)        448       \n",
            "_________________________________________________________________\n",
            "max_pooling2d_9 (MaxPooling2 (None, 31, 31, 16)        0         \n",
            "_________________________________________________________________\n",
            "conv2d_10 (Conv2D)           (None, 29, 29, 32)        4640      \n",
            "_________________________________________________________________\n",
            "max_pooling2d_10 (MaxPooling (None, 14, 14, 32)        0         \n",
            "_________________________________________________________________\n",
            "flatten_3 (Flatten)          (None, 6272)              0         \n",
            "_________________________________________________________________\n",
            "dense_6 (Dense)              (None, 512)               3211776   \n",
            "_________________________________________________________________\n",
            "dense_7 (Dense)              (None, 1)                 513       \n",
            "=================================================================\n",
            "Total params: 3,217,377\n",
            "Trainable params: 3,217,377\n",
            "Non-trainable params: 0\n",
            "_________________________________________________________________\n"
          ],
          "name": "stdout"
        }
      ]
    },
    {
      "cell_type": "code",
      "metadata": {
        "id": "Xp-eCyut5Uqw",
        "colab_type": "code",
        "colab": {}
      },
      "source": [
        "from tensorflow.keras.optimizers import RMSprop\n",
        "\n",
        "model.compile(optimizer=RMSprop(lr=0.0001),\n",
        "              loss='binary_crossentropy',\n",
        "              metrics = ['acc'])"
      ],
      "execution_count": 0,
      "outputs": []
    },
    {
      "cell_type": "code",
      "metadata": {
        "id": "gO-uU1rx6QY6",
        "colab_type": "code",
        "outputId": "60d52a9c-c9cc-4d39-a440-f3a96b4875f8",
        "colab": {
          "base_uri": "https://localhost:8080/",
          "height": 402
        }
      },
      "source": [
        "hist = model.fit(Xtr, Ytr, epochs=10, batch_size=10, shuffle = True, validation_data=(Xts,Yts))"
      ],
      "execution_count": 0,
      "outputs": [
        {
          "output_type": "stream",
          "text": [
            "Train on 209 samples, validate on 50 samples\n",
            "Epoch 1/10\n",
            "209/209 [==============================] - 1s 6ms/sample - loss: 0.6553 - acc: 0.6220 - val_loss: 0.7647 - val_acc: 0.3400\n",
            "Epoch 2/10\n",
            "209/209 [==============================] - 1s 6ms/sample - loss: 0.5805 - acc: 0.6603 - val_loss: 0.8264 - val_acc: 0.3400\n",
            "Epoch 3/10\n",
            "209/209 [==============================] - 1s 7ms/sample - loss: 0.5008 - acc: 0.7321 - val_loss: 0.4908 - val_acc: 0.8200\n",
            "Epoch 4/10\n",
            "209/209 [==============================] - 1s 7ms/sample - loss: 0.4649 - acc: 0.7799 - val_loss: 0.7295 - val_acc: 0.4000\n",
            "Epoch 5/10\n",
            "209/209 [==============================] - 1s 7ms/sample - loss: 0.4470 - acc: 0.7512 - val_loss: 0.5583 - val_acc: 0.6600\n",
            "Epoch 6/10\n",
            "209/209 [==============================] - 1s 6ms/sample - loss: 0.4228 - acc: 0.7943 - val_loss: 0.4889 - val_acc: 0.7400\n",
            "Epoch 7/10\n",
            "209/209 [==============================] - 1s 7ms/sample - loss: 0.3884 - acc: 0.8038 - val_loss: 0.4055 - val_acc: 0.8200\n",
            "Epoch 8/10\n",
            "209/209 [==============================] - 1s 7ms/sample - loss: 0.3560 - acc: 0.8373 - val_loss: 0.3297 - val_acc: 0.9000\n",
            "Epoch 9/10\n",
            "209/209 [==============================] - 1s 6ms/sample - loss: 0.3569 - acc: 0.8469 - val_loss: 0.4863 - val_acc: 0.7400\n",
            "Epoch 10/10\n",
            "209/209 [==============================] - 1s 7ms/sample - loss: 0.3061 - acc: 0.8708 - val_loss: 0.9254 - val_acc: 0.4200\n"
          ],
          "name": "stdout"
        }
      ]
    },
    {
      "cell_type": "markdown",
      "metadata": {
        "id": "mLkInddd8OA8",
        "colab_type": "text"
      },
      "source": [
        "# MNIST Lab"
      ]
    },
    {
      "cell_type": "code",
      "metadata": {
        "id": "py4o7UYA65Ym",
        "colab_type": "code",
        "colab": {}
      },
      "source": [
        "import h5py\n",
        "import numpy as np\n",
        "import matplotlib\n",
        "import matplotlib.pyplot as plt\n",
        "%matplotlib inline\n",
        "\n",
        "import tensorflow as tf"
      ],
      "execution_count": 0,
      "outputs": []
    },
    {
      "cell_type": "code",
      "metadata": {
        "id": "3g2YCvZR8Xsv",
        "colab_type": "code",
        "colab": {}
      },
      "source": [
        "mnist = tf.keras.datasets.mnist\n",
        "(training_images, training_labels), (test_images, test_labels) = mnist.load_data()"
      ],
      "execution_count": 0,
      "outputs": []
    },
    {
      "cell_type": "code",
      "metadata": {
        "id": "cBYKylkp8Z6o",
        "colab_type": "code",
        "outputId": "698ebba6-b71d-443e-c3e7-088b3a723ca6",
        "colab": {
          "base_uri": "https://localhost:8080/",
          "height": 286
        }
      },
      "source": [
        "# visualize the data\n",
        "i = 50000\n",
        "plt.imshow(training_images[i,:,:], cmap = 'gray')\n",
        "print(\"The label corresponding to the image is:\",training_labels[i])"
      ],
      "execution_count": 0,
      "outputs": [
        {
          "output_type": "stream",
          "text": [
            "The label corresponding to the image is: 3\n"
          ],
          "name": "stdout"
        },
        {
          "output_type": "display_data",
          "data": {
            "image/png": "[encoded data removed]",
            "text/plain": [
              "<Figure size 432x288 with 1 Axes>"
            ]
          },
          "metadata": {
            "tags": []
          }
        }
      ]
    },
    {
      "cell_type": "code",
      "metadata": {
        "id": "IprLnAO08aaU",
        "colab_type": "code",
        "outputId": "0a3501b0-bcef-40f8-ea8f-1252008cc324",
        "colab": {
          "base_uri": "https://localhost:8080/",
          "height": 52
        }
      },
      "source": [
        "training_images = np.reshape(training_images, (60000, 28, 28, 1))\n",
        "test_images = np.reshape(test_images, (10000, 28, 28, 1))\n",
        "\n",
        "print('Training set shape:  ' + str(training_images.shape))\n",
        "print('Test set shape:  ' + str(test_images.shape))\n",
        "\n",
        "# normalize the data\n",
        "training_images = training_images/255\n",
        "test_images = test_images/255"
      ],
      "execution_count": 0,
      "outputs": [
        {
          "output_type": "stream",
          "text": [
            "Training set shape:  (60000, 28, 28, 1)\n",
            "Test set shape:  (10000, 28, 28, 1)\n"
          ],
          "name": "stdout"
        }
      ]
    },
    {
      "cell_type": "code",
      "metadata": {
        "id": "Twoadwox8jLQ",
        "colab_type": "code",
        "outputId": "ab69c0b1-0104-412c-c2f4-475c7f1687be",
        "colab": {
          "base_uri": "https://localhost:8080/",
          "height": 469
        }
      },
      "source": [
        "model = tf.keras.models.Sequential([\n",
        "    # Note the input shape is the desired size of the image 150x150 with 3 bytes color\n",
        "    tf.keras.layers.Conv2D(16, (3,3), activation='relu', input_shape=(28, 28, 1)),\n",
        "    tf.keras.layers.MaxPooling2D(2,2),\n",
        "    tf.keras.layers.Conv2D(32, (3,3), activation='relu'),\n",
        "    tf.keras.layers.MaxPooling2D(2,2), \n",
        "    tf.keras.layers.Conv2D(64, (3,3), activation='relu'), \n",
        "    tf.keras.layers.MaxPooling2D(2,2),\n",
        "    # Flatten the results to feed into a DNN\n",
        "    tf.keras.layers.Flatten(), \n",
        "    # 512 neuron hidden layer\n",
        "    tf.keras.layers.Dense(512, activation='relu'), \n",
        "    # Only 1 output neuron. It will contain a value from 0-1 where 0 for 1 class ('cats') and 1 for the other ('dogs')\n",
        "    tf.keras.layers.Dense(10, activation='sigmoid')  \n",
        "])\n",
        "\n",
        "model.summary()"
      ],
      "execution_count": 0,
      "outputs": [
        {
          "output_type": "stream",
          "text": [
            "Model: \"sequential_8\"\n",
            "_________________________________________________________________\n",
            "Layer (type)                 Output Shape              Param #   \n",
            "=================================================================\n",
            "conv2d_23 (Conv2D)           (None, 26, 26, 16)        160       \n",
            "_________________________________________________________________\n",
            "max_pooling2d_23 (MaxPooling (None, 13, 13, 16)        0         \n",
            "_________________________________________________________________\n",
            "conv2d_24 (Conv2D)           (None, 11, 11, 32)        4640      \n",
            "_________________________________________________________________\n",
            "max_pooling2d_24 (MaxPooling (None, 5, 5, 32)          0         \n",
            "_________________________________________________________________\n",
            "conv2d_25 (Conv2D)           (None, 3, 3, 64)          18496     \n",
            "_________________________________________________________________\n",
            "max_pooling2d_25 (MaxPooling (None, 1, 1, 64)          0         \n",
            "_________________________________________________________________\n",
            "flatten_8 (Flatten)          (None, 64)                0         \n",
            "_________________________________________________________________\n",
            "dense_16 (Dense)             (None, 512)               33280     \n",
            "_________________________________________________________________\n",
            "dense_17 (Dense)             (None, 10)                5130      \n",
            "=================================================================\n",
            "Total params: 61,706\n",
            "Trainable params: 61,706\n",
            "Non-trainable params: 0\n",
            "_________________________________________________________________\n"
          ],
          "name": "stdout"
        }
      ]
    },
    {
      "cell_type": "code",
      "metadata": {
        "id": "r2ijYSYJ8nQD",
        "colab_type": "code",
        "colab": {}
      },
      "source": [
        "opt = tf.keras.optimizers.Adam(lr=0.001)\n",
        "model.compile(optimizer=opt, loss='sparse_categorical_crossentropy', metrics=['accuracy'])"
      ],
      "execution_count": 0,
      "outputs": []
    },
    {
      "cell_type": "code",
      "metadata": {
        "id": "j1D0XDv18wtX",
        "colab_type": "code",
        "outputId": "c81d9fcc-b4b2-493c-8c5c-1833580bc3ef",
        "colab": {
          "base_uri": "https://localhost:8080/",
          "height": 228
        }
      },
      "source": [
        "hist = model.fit(training_images, training_labels, epochs=5, batch_size=10, validation_data=(test_images, test_labels))"
      ],
      "execution_count": 0,
      "outputs": [
        {
          "output_type": "stream",
          "text": [
            "Train on 60000 samples, validate on 10000 samples\n",
            "Epoch 1/5\n",
            "60000/60000 [==============================] - 50s 831us/sample - loss: 0.1846 - acc: 0.9412 - val_loss: 0.0914 - val_acc: 0.9733\n",
            "Epoch 2/5\n",
            "60000/60000 [==============================] - 50s 832us/sample - loss: 0.0726 - acc: 0.9776 - val_loss: 0.0604 - val_acc: 0.9830\n",
            "Epoch 3/5\n",
            "60000/60000 [==============================] - 45s 758us/sample - loss: 0.0560 - acc: 0.9831 - val_loss: 0.0609 - val_acc: 0.9826\n",
            "Epoch 4/5\n",
            "60000/60000 [==============================] - 46s 762us/sample - loss: 0.0425 - acc: 0.9873 - val_loss: 0.0533 - val_acc: 0.9854\n",
            "Epoch 5/5\n",
            "60000/60000 [==============================] - 46s 766us/sample - loss: 0.0387 - acc: 0.9876 - val_loss: 0.0514 - val_acc: 0.9856\n"
          ],
          "name": "stdout"
        }
      ]
    },
    {
      "cell_type": "code",
      "metadata": {
        "id": "zyDfAqZX84Or",
        "colab_type": "code",
        "colab": {}
      },
      "source": [
        ""
      ],
      "execution_count": 0,
      "outputs": []
    }
  ]
}