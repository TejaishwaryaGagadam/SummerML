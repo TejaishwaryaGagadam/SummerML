{
  "nbformat": 4,
  "nbformat_minor": 0,
  "metadata": {
    "colab": {
      "name": "Day2.ipynb",
      "version": "0.3.2",
      "provenance": [],
      "include_colab_link": true
    },
    "kernelspec": {
      "name": "python3",
      "display_name": "Python 3"
    }
  },
  "cells": [
    {
      "cell_type": "markdown",
      "metadata": {
        "id": "view-in-github",
        "colab_type": "text"
      },
      "source": [
        "<a href=\"https://colab.research.google.com/github/nikopj/SummerML/blob/master/Day2.ipynb\" target=\"_parent\"><img src=\"https://colab.research.google.com/assets/colab-badge.svg\" alt=\"Open In Colab\"/></a>"
      ]
    },
    {
      "cell_type": "markdown",
      "metadata": {
        "id": "YLd_Vc4J9m9A",
        "colab_type": "text"
      },
      "source": [
        "# Day 2: Linear Regression\n",
        "\n",
        "## Outline:\n",
        "- Motivating Example\n",
        "- Linear Model\n",
        "- Least Squares Fit Problem\n",
        "- Sample Mean and Variance\n",
        "- LS Fit Solution"
      ]
    },
    {
      "cell_type": "code",
      "metadata": {
        "id": "oo9vkB9o9loh",
        "colab_type": "code",
        "colab": {}
      },
      "source": [
        ""
      ],
      "execution_count": 0,
      "outputs": []
    }
  ]
}