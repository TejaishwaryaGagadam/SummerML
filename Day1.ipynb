{
  "nbformat": 4,
  "nbformat_minor": 0,
  "metadata": {
    "colab": {
      "name": "Day1.ipynb",
      "version": "0.3.2",
      "provenance": [],
      "collapsed_sections": [],
      "include_colab_link": true
    },
    "kernelspec": {
      "name": "python3",
      "display_name": "Python 3"
    }
  },
  "cells": [
    {
      "cell_type": "markdown",
      "metadata": {
        "id": "view-in-github",
        "colab_type": "text"
      },
      "source": [
        "<a href=\"https://colab.research.google.com/github/nikopj/SummerML/blob/master/Day1.ipynb\" target=\"_parent\"><img src=\"https://colab.research.google.com/assets/colab-badge.svg\" alt=\"Open In Colab\"/></a>"
      ]
    },
    {
      "cell_type": "markdown",
      "metadata": {
        "id": "yspmGzoPGgGW",
        "colab_type": "text"
      },
      "source": [
        "# Day 1: Introduction to Machine Learning\n",
        "## Module Outline:\n",
        "- M4: *Demo*: Ice-Breaker Data Visualization\n",
        "- M5: *Demo*: Vectors and Matrices\n",
        "- M6: *Demo*: Mean and Variance\n",
        "- M7: *Lab*: Plotting Functions\n"
      ]
    },
    {
      "cell_type": "markdown",
      "metadata": {
        "id": "JGRy8nvRH7ps",
        "colab_type": "text"
      },
      "source": [
        "# M4: *Demo*: Ice-Breaker Data Visualization\n",
        "After checking out[ the data](https://docs.google.com/spreadsheets/d/18UkL5ydpiZBtAHllD5MqqnEp0alwuXOgl9GYYM3_A7E/edit?usp=sharing) in a spreadsheets, download it as a CSV file. Then upload the file in the Colab sidebar (under the files tab)"
      ]
    },
    {
      "cell_type": "code",
      "metadata": {
        "id": "cpO5nSkcEj7c",
        "colab_type": "code",
        "colab": {}
      },
      "source": [
        "# TODO:\n"
      ],
      "execution_count": 0,
      "outputs": []
    },
    {
      "cell_type": "markdown",
      "metadata": {
        "id": "0NPKNy3qMxuV",
        "colab_type": "text"
      },
      "source": [
        "We'll just take the names and travel time from the dataset for now."
      ]
    },
    {
      "cell_type": "code",
      "metadata": {
        "id": "vi7QsZ9wKy1F",
        "colab_type": "code",
        "colab": {}
      },
      "source": [
        "# TODO:\n"
      ],
      "execution_count": 0,
      "outputs": []
    },
    {
      "cell_type": "markdown",
      "metadata": {
        "id": "PsJ7DbEwZqs1",
        "colab_type": "text"
      },
      "source": [
        "## Plotting the data as a histogram with Matplotlib"
      ]
    },
    {
      "cell_type": "code",
      "metadata": {
        "id": "U08T5rCRZvU4",
        "colab_type": "code",
        "colab": {}
      },
      "source": [
        "# TODO:\n"
      ],
      "execution_count": 0,
      "outputs": []
    },
    {
      "cell_type": "markdown",
      "metadata": {
        "id": "WDdQk1TLNgje",
        "colab_type": "text"
      },
      "source": [
        "## Logical Indexing\n",
        "We can look at specific elements of an array that meet a condition: ```>, <, >=, <=, ==, !=```\n",
        "\n",
        "Use this to count the number of people that took trains, buses, cars, bikes or walked to class."
      ]
    },
    {
      "cell_type": "code",
      "metadata": {
        "id": "PdAii8FvNfTs",
        "colab_type": "code",
        "colab": {}
      },
      "source": [
        "# TODO:\n"
      ],
      "execution_count": 0,
      "outputs": []
    },
    {
      "cell_type": "markdown",
      "metadata": {
        "id": "V5iOmgrhQ1KB",
        "colab_type": "text"
      },
      "source": [
        "# M5: *Demo*: Vectors and Matrices with Numpy"
      ]
    },
    {
      "cell_type": "markdown",
      "metadata": {
        "id": "ma60xjHSYz9u",
        "colab_type": "text"
      },
      "source": [
        "## Vectors"
      ]
    },
    {
      "cell_type": "code",
      "metadata": {
        "id": "RsEy03jgQ_EH",
        "colab_type": "code",
        "colab": {}
      },
      "source": [
        "# TODO:\n",
        "\n",
        "# v = np.array([1,5,2,9])\n",
        "# u = np.array([3,6,0,-5])\n"
      ],
      "execution_count": 0,
      "outputs": []
    },
    {
      "cell_type": "markdown",
      "metadata": {
        "id": "JCaDwx4G74lY",
        "colab_type": "text"
      },
      "source": [
        "## Matrices"
      ]
    },
    {
      "cell_type": "code",
      "metadata": {
        "id": "CytRX0U878m5",
        "colab_type": "code",
        "colab": {}
      },
      "source": [
        "# TODO:\n",
        "\n",
        "# M = np.array([ [1,9,-12], [15, -2, 0] ])\n"
      ],
      "execution_count": 0,
      "outputs": []
    },
    {
      "cell_type": "markdown",
      "metadata": {
        "id": "wLZH8cmB9K7t",
        "colab_type": "text"
      },
      "source": [
        "## More About Matrices"
      ]
    },
    {
      "cell_type": "code",
      "metadata": {
        "id": "cARjL-3x9Mve",
        "colab_type": "code",
        "colab": {}
      },
      "source": [
        "# TODO:\n"
      ],
      "execution_count": 0,
      "outputs": []
    },
    {
      "cell_type": "markdown",
      "metadata": {
        "id": "OjmoLYhseXw8",
        "colab_type": "text"
      },
      "source": [
        "## Vectors and Matrices"
      ]
    },
    {
      "cell_type": "code",
      "metadata": {
        "id": "juyiZT5jeapx",
        "colab_type": "code",
        "colab": {}
      },
      "source": [
        "# TODO:\n",
        "\n",
        "# v = np.array([1,5,2,9])\n"
      ],
      "execution_count": 0,
      "outputs": []
    },
    {
      "cell_type": "markdown",
      "metadata": {
        "id": "wIDLiCh2hPQl",
        "colab_type": "text"
      },
      "source": [
        "## Manipulating our IceBreaker Data\n",
        "It is often useful to put our feature vectors into a matrix"
      ]
    },
    {
      "cell_type": "code",
      "metadata": {
        "id": "COHSk6q1hY6y",
        "colab_type": "code",
        "colab": {}
      },
      "source": [
        "# TODO:\n"
      ],
      "execution_count": 0,
      "outputs": []
    },
    {
      "cell_type": "markdown",
      "metadata": {
        "id": "g4iGWX9TRSJA",
        "colab_type": "text"
      },
      "source": [
        "# M6: *Demo*: Sample Mean and Variance\n"
      ]
    },
    {
      "cell_type": "markdown",
      "metadata": {
        "id": "yrIPGSQsF-Zy",
        "colab_type": "text"
      },
      "source": [
        "## Lecture Demo calculations:\n",
        "### Using for-loops:"
      ]
    },
    {
      "cell_type": "code",
      "metadata": {
        "id": "wyhW7WEMBmTP",
        "colab_type": "code",
        "colab": {}
      },
      "source": [
        "# TODO:\n",
        "# x = np.array([3.6, 4.0, 3.7, 3.75, 3.9, 4.0, 3.65])\n"
      ],
      "execution_count": 0,
      "outputs": []
    },
    {
      "cell_type": "markdown",
      "metadata": {
        "id": "YVlpNkgyBktR",
        "colab_type": "text"
      },
      "source": [
        "### Using Numpy functions"
      ]
    },
    {
      "cell_type": "code",
      "metadata": {
        "id": "6YPBjGtMGFn_",
        "colab_type": "code",
        "colab": {}
      },
      "source": [
        "# TODO:\n"
      ],
      "execution_count": 0,
      "outputs": []
    },
    {
      "cell_type": "markdown",
      "metadata": {
        "id": "G-fkwjxPUs34",
        "colab_type": "text"
      },
      "source": [
        "## Stats on our Data\n",
        "Now, looking back at our icebreaker data. What are the statistics on our classes wakeup time? Travel time? Can we visualize how they're related? What kind of plot should we use?"
      ]
    },
    {
      "cell_type": "code",
      "metadata": {
        "id": "n0Vod3mpSqTS",
        "colab_type": "code",
        "colab": {}
      },
      "source": [
        "# TODO: \n"
      ],
      "execution_count": 0,
      "outputs": []
    },
    {
      "cell_type": "markdown",
      "metadata": {
        "id": "-v2bopw1WF1s",
        "colab_type": "text"
      },
      "source": [
        "# M7: *Lab*: Plotting Functions\n"
      ]
    },
    {
      "cell_type": "markdown",
      "metadata": {
        "id": "mz9t6lrtX4jJ",
        "colab_type": "text"
      },
      "source": [
        "- This lab requires you to search for the documentation of python, numpy, and matplotlib functions\n",
        "- Use numpy to generate the following functions:\n",
        "  - Sine-wave\n",
        "  - Polynomial\n",
        "  - Bell-curve (a.k.a Normal or Gaussian distribution)\n",
        "- Plot the graphs using matplotlib\n",
        "- *Hints*: \n",
        "  - Pick an interval to plot over first, ex. [-1,1]. \n",
        "  - Look into ```np.pi```, ```np.sin()```, ```np.exp()```, and ```np.linspace()``` (ie. google for the documentation of these functions)"
      ]
    },
    {
      "cell_type": "code",
      "metadata": {
        "id": "Faj_9r7MT7Wu",
        "colab_type": "code",
        "colab": {}
      },
      "source": [
        "# TODO:\n"
      ],
      "execution_count": 0,
      "outputs": []
    },
    {
      "cell_type": "markdown",
      "metadata": {
        "id": "U7CYZFjHcpPm",
        "colab_type": "text"
      },
      "source": [
        "## Mean and Variance\n",
        "What are the mean and variance of your functions over the plotted range?\n",
        "\n",
        "Compute the answers in code. Talk with your neighbors about why this is the case.\n"
      ]
    },
    {
      "cell_type": "code",
      "metadata": {
        "id": "1ThCUme_bdXL",
        "colab_type": "code",
        "colab": {}
      },
      "source": [
        "# TODO:\n"
      ],
      "execution_count": 0,
      "outputs": []
    }
  ]
}