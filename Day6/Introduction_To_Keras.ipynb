{
  "nbformat": 4,
  "nbformat_minor": 0,
  "metadata": {
    "colab": {
      "name": "Introduction_To_Keras",
      "version": "0.3.2",
      "provenance": [],
      "collapsed_sections": [],
      "toc_visible": true,
      "include_colab_link": true
    },
    "kernelspec": {
      "name": "python3",
      "display_name": "Python 3"
    }
  },
  "cells": [
    {
      "cell_type": "markdown",
      "metadata": {
        "id": "view-in-github",
        "colab_type": "text"
      },
      "source": [
        "<a href=\"https://colab.research.google.com/github/nikopj/SummerML/blob/master/Day6/Introduction_To_Keras.ipynb\" target=\"_parent\"><img src=\"https://colab.research.google.com/assets/colab-badge.svg\" alt=\"Open In Colab\"/></a>"
      ]
    },
    {
      "cell_type": "markdown",
      "metadata": {
        "id": "7NUKPPzqk7vL",
        "colab_type": "text"
      },
      "source": [
        "# Introduction To Keras - MNIST dataset"
      ]
    },
    {
      "cell_type": "markdown",
      "metadata": {
        "id": "7VUuQIDnlRdn",
        "colab_type": "text"
      },
      "source": [
        "The MNIST database (Modified National Institute of Standards and Technology database) is a large database of handwritten digits that is commonly used for for training and testing models in machine learning. \n",
        "\n",
        "In this demo, we will try a simple neural network to classify the digits. We will learn several important features of the `keras` package. "
      ]
    },
    {
      "cell_type": "code",
      "metadata": {
        "id": "7B7OrwLIlF2i",
        "colab_type": "code",
        "colab": {}
      },
      "source": [
        "import tensorflow as tf\n",
        "import numpy as np\n",
        "import matplotlib.pyplot as plt"
      ],
      "execution_count": 0,
      "outputs": []
    },
    {
      "cell_type": "markdown",
      "metadata": {
        "id": "N_ZHXwwkllqZ",
        "colab_type": "text"
      },
      "source": [
        "Next, we get the MNIST data. "
      ]
    },
    {
      "cell_type": "code",
      "metadata": {
        "id": "HBUyIt20ldzS",
        "colab_type": "code",
        "colab": {
          "base_uri": "https://localhost:8080/",
          "height": 52
        },
        "outputId": "e54824b3-993c-4e2f-c49a-1b82f69cd6e9"
      },
      "source": [
        "mnist = tf.keras.datasets.mnist\n",
        "(training_images, training_labels), (test_images, test_labels) = mnist.load_data()"
      ],
      "execution_count": 2,
      "outputs": [
        {
          "output_type": "stream",
          "text": [
            "Downloading data from https://storage.googleapis.com/tensorflow/tf-keras-datasets/mnist.npz\n",
            "11493376/11490434 [==============================] - 0s 0us/step\n"
          ],
          "name": "stdout"
        }
      ]
    },
    {
      "cell_type": "markdown",
      "metadata": {
        "id": "kyO-vXLdmWeM",
        "colab_type": "text"
      },
      "source": [
        "Visualize the data"
      ]
    },
    {
      "cell_type": "code",
      "metadata": {
        "id": "HDrcILaym47O",
        "colab_type": "code",
        "outputId": "0815a55e-b7b1-4bd4-c3cd-efb2f6fc90f9",
        "colab": {
          "base_uri": "https://localhost:8080/",
          "height": 286
        }
      },
      "source": [
        "# visualize the data\n",
        "i = 32\n",
        "plt.imshow(training_images[i,:,:], cmap = 'gray')\n",
        "print(\"The label corresponding to the image is:\",training_labels[i])"
      ],
      "execution_count": 3,
      "outputs": [
        {
          "output_type": "stream",
          "text": [
            "The label corresponding to the image is: 6\n"
          ],
          "name": "stdout"
        },
        {
          "output_type": "display_data",
          "data": {
            "image/png": "[encoded data removed]",
            "text/plain": [
              "<Figure size 432x288 with 1 Axes>"
            ]
          },
          "metadata": {
            "tags": []
          }
        }
      ]
    },
    {
      "cell_type": "markdown",
      "metadata": {
        "id": "eqDjhnXimkV_",
        "colab_type": "text"
      },
      "source": [
        "The input data format should be (mini batch size, number of total pixels). So, we reshape the input data according to this format. Also, the images must be normalised before training and testing a neural network. "
      ]
    },
    {
      "cell_type": "code",
      "metadata": {
        "id": "TQ-h2FeMmuKS",
        "colab_type": "code",
        "outputId": "2e943938-56ba-4b3a-f965-566b6b78bea3",
        "colab": {
          "base_uri": "https://localhost:8080/",
          "height": 52
        }
      },
      "source": [
        "training_images = np.reshape(training_images, (60000, 784))\n",
        "test_images = np.reshape(test_images, (10000, 784))\n",
        "\n",
        "print('Training set shape:  ' + str(training_images.shape))\n",
        "print('Test set shape:  ' + str(test_images.shape))\n",
        "\n",
        "# normalize the data\n",
        "training_images = training_images/255\n",
        "test_images = test_images/255"
      ],
      "execution_count": 4,
      "outputs": [
        {
          "output_type": "stream",
          "text": [
            "Training set shape:  (60000, 784)\n",
            "Test set shape:  (10000, 784)\n"
          ],
          "name": "stdout"
        }
      ]
    },
    {
      "cell_type": "markdown",
      "metadata": {
        "id": "Aw240-rKnpo-",
        "colab_type": "text"
      },
      "source": [
        "Define the model as sequential. The model includes the following layers:\n",
        " \n",
        "1.   Fully connected layer  activation\n",
        "2.   Final output layer with 10 units and SoftMax activation.\n",
        "\n",
        "The model summary can be viewed using the command 'model.summary()'\n",
        "\n"
      ]
    },
    {
      "cell_type": "code",
      "metadata": {
        "id": "6w_lJE1WmadP",
        "colab_type": "code",
        "outputId": "542d72fa-b3b7-4c7e-9bec-eafc6a2412cd",
        "colab": {
          "base_uri": "https://localhost:8080/",
          "height": 315
        }
      },
      "source": [
        "model = tf.keras.models.Sequential([\n",
        "    tf.keras.layers.Dense(512, activation = 'relu', input_shape=(784,), name = 'dense1'),\n",
        "    tf.keras.layers.Dense(10, activation = 'softmax', name = 'output')\n",
        "])\n",
        "\n",
        "model.summary()"
      ],
      "execution_count": 5,
      "outputs": [
        {
          "output_type": "stream",
          "text": [
            "WARNING: Logging before flag parsing goes to stderr.\n",
            "W0624 12:46:06.023906 139857294329728 deprecation.py:506] From /usr/local/lib/python3.6/dist-packages/tensorflow/python/ops/init_ops.py:1251: calling VarianceScaling.__init__ (from tensorflow.python.ops.init_ops) with dtype is deprecated and will be removed in a future version.\n",
            "Instructions for updating:\n",
            "Call initializer instance with the dtype argument instead of passing it to the constructor\n"
          ],
          "name": "stderr"
        },
        {
          "output_type": "stream",
          "text": [
            "Model: \"sequential\"\n",
            "_________________________________________________________________\n",
            "Layer (type)                 Output Shape              Param #   \n",
            "=================================================================\n",
            "dense1 (Dense)               (None, 512)               401920    \n",
            "_________________________________________________________________\n",
            "output (Dense)               (None, 10)                5130      \n",
            "=================================================================\n",
            "Total params: 407,050\n",
            "Trainable params: 407,050\n",
            "Non-trainable params: 0\n",
            "_________________________________________________________________\n"
          ],
          "name": "stdout"
        }
      ]
    },
    {
      "cell_type": "markdown",
      "metadata": {
        "id": "r4sLlGtan6C-",
        "colab_type": "text"
      },
      "source": [
        "Model is compiled using Adam optimizer and the loss function is 'Sparse Categorical Crossentropy'."
      ]
    },
    {
      "cell_type": "code",
      "metadata": {
        "id": "t_o88pJ9n2YN",
        "colab_type": "code",
        "colab": {}
      },
      "source": [
        "model.compile(optimizer='adam', loss='sparse_categorical_crossentropy', metrics=['accuracy'])"
      ],
      "execution_count": 0,
      "outputs": []
    },
    {
      "cell_type": "markdown",
      "metadata": {
        "id": "G43Kk7lQoIGu",
        "colab_type": "text"
      },
      "source": [
        "Train the model"
      ]
    },
    {
      "cell_type": "code",
      "metadata": {
        "id": "u88PDqX0oFmz",
        "colab_type": "code",
        "outputId": "020e2aed-60fd-475f-9fd2-6a0227ee6080",
        "colab": {
          "base_uri": "https://localhost:8080/",
          "height": 228
        }
      },
      "source": [
        "hist = model.fit(training_images, training_labels, epochs=5, batch_size=10, validation_data=(test_images, test_labels))"
      ],
      "execution_count": 7,
      "outputs": [
        {
          "output_type": "stream",
          "text": [
            "Train on 60000 samples, validate on 10000 samples\n",
            "Epoch 1/5\n",
            "60000/60000 [==============================] - 21s 352us/sample - loss: 0.1782 - acc: 0.9464 - val_loss: 0.0993 - val_acc: 0.9698\n",
            "Epoch 2/5\n",
            "60000/60000 [==============================] - 21s 350us/sample - loss: 0.0772 - acc: 0.9761 - val_loss: 0.0928 - val_acc: 0.9704\n",
            "Epoch 3/5\n",
            "60000/60000 [==============================] - 21s 355us/sample - loss: 0.0564 - acc: 0.9829 - val_loss: 0.0815 - val_acc: 0.9772\n",
            "Epoch 4/5\n",
            "60000/60000 [==============================] - 21s 343us/sample - loss: 0.0396 - acc: 0.9873 - val_loss: 0.0865 - val_acc: 0.9762\n",
            "Epoch 5/5\n",
            "60000/60000 [==============================] - 21s 353us/sample - loss: 0.0353 - acc: 0.9887 - val_loss: 0.0854 - val_acc: 0.9791\n"
          ],
          "name": "stdout"
        }
      ]
    },
    {
      "cell_type": "code",
      "metadata": {
        "id": "ELeTifxnhiKw",
        "colab_type": "code",
        "colab": {
          "base_uri": "https://localhost:8080/",
          "height": 52
        },
        "outputId": "e1069d0a-88de-4be4-ed55-71ae6b6ded4a"
      },
      "source": [
        "i = 52\n",
        "print(\"The true label is\", test_labels[i])\n",
        "y_pred = model.predict_classes(test_images[i,:].reshape(1,-1))\n",
        "print(\"The predicted label is\", y_pred[0])\n",
        "#y_pred = model.predict_classes(test_images)\n",
        "#print(\"The predicted label is\", y_pred[i])"
      ],
      "execution_count": 42,
      "outputs": [
        {
          "output_type": "stream",
          "text": [
            "The true label is 5\n",
            "The predicted label is 5\n"
          ],
          "name": "stdout"
        }
      ]
    },
    {
      "cell_type": "code",
      "metadata": {
        "id": "G0byLc8BXJ9i",
        "colab_type": "code",
        "outputId": "8d9d5023-64fd-4925-8728-50636190c8d1",
        "colab": {
          "base_uri": "https://localhost:8080/",
          "height": 286
        }
      },
      "source": [
        "training_loss = hist.history['loss']\n",
        "epochs = np.linspace(1, 10, 10)\n",
        "plt.plot(epochs, training_loss)"
      ],
      "execution_count": 0,
      "outputs": [
        {
          "output_type": "execute_result",
          "data": {
            "text/plain": [
              "[<matplotlib.lines.Line2D at 0x7f26155000f0>]"
            ]
          },
          "metadata": {
            "tags": []
          },
          "execution_count": 98
        },
        {
          "output_type": "display_data",
          "data": {
            "image/png": "[encoded data removed]",
            "text/plain": [
              "<Figure size 432x288 with 1 Axes>"
            ]
          },
          "metadata": {
            "tags": []
          }
        }
      ]
    },
    {
      "cell_type": "markdown",
      "metadata": {
        "id": "CuhPQL8nXL0y",
        "colab_type": "text"
      },
      "source": [
        "# Lab: Cats vs Non-cats"
      ]
    },
    {
      "cell_type": "code",
      "metadata": {
        "id": "pQ3BoKJxUvce",
        "colab_type": "code",
        "colab": {}
      },
      "source": [
        "import h5py\n",
        "import numpy as np\n",
        "import matplotlib\n",
        "import matplotlib.pyplot as plt\n",
        "import pandas as pd\n",
        "%matplotlib inline"
      ],
      "execution_count": 0,
      "outputs": []
    },
    {
      "cell_type": "code",
      "metadata": {
        "id": "FVRzAwiPYt_D",
        "colab_type": "code",
        "outputId": "136e51f6-f903-42bd-b124-1975093b6ea2",
        "colab": {
          "base_uri": "https://localhost:8080/",
          "height": 52
        }
      },
      "source": [
        "# load training data\n",
        "train_dataset = h5py.File('train_catvnoncat.h5', \"r\")\n",
        "Xtr = np.array(train_dataset[\"train_set_x\"][:]) # train set features\n",
        "Ytr = np.array(train_dataset[\"train_set_y\"][:]) # train set labels\n",
        "\n",
        "# print the shape of training data\n",
        "print(\"Input shape:\", Xtr.shape)\n",
        "print(\"Labels shape:\", Ytr.shape)\n",
        "\n",
        "Xtr = Xtr/255"
      ],
      "execution_count": 0,
      "outputs": [
        {
          "output_type": "stream",
          "text": [
            "Input shape: (209, 64, 64, 3)\n",
            "Labels shape: (209,)\n"
          ],
          "name": "stdout"
        }
      ]
    },
    {
      "cell_type": "code",
      "metadata": {
        "id": "YotBJRr5YvBH",
        "colab_type": "code",
        "outputId": "7fc69af9-3ff5-47df-c91e-22d287fa0ee1",
        "colab": {
          "base_uri": "https://localhost:8080/",
          "height": 52
        }
      },
      "source": [
        "# Load test data\n",
        "test_dataset = h5py.File('test_catvnoncat.h5', \"r\")\n",
        "Xts = np.array(test_dataset[\"test_set_x\"][:]) # test set features\n",
        "Yts = np.array(test_dataset[\"test_set_y\"][:]) # test set labels\n",
        "\n",
        "Xts = Xts/255\n",
        "\n",
        "# print the shape of test data\n",
        "print(\"Input shape:\", Xts.shape)\n",
        "print(\"Labels shape:\", Yts.shape)"
      ],
      "execution_count": 0,
      "outputs": [
        {
          "output_type": "stream",
          "text": [
            "Input shape: (50, 64, 64, 3)\n",
            "Labels shape: (50,)\n"
          ],
          "name": "stdout"
        }
      ]
    },
    {
      "cell_type": "code",
      "metadata": {
        "id": "dF4SYKVwisNw",
        "colab_type": "code",
        "outputId": "434bd7da-f8e4-4082-8d3b-710550a1958e",
        "colab": {
          "base_uri": "https://localhost:8080/",
          "height": 425
        }
      },
      "source": [
        "# visualize the data\n",
        "print(Ytr)\n",
        "print(Yts)\n",
        "i = 32\n",
        "plt.imshow(Xtr[i,:,:,:])\n",
        "print(\"The label corresponding to the image is:\",Ytr[i])"
      ],
      "execution_count": 0,
      "outputs": [
        {
          "output_type": "stream",
          "text": [
            "[0 0 1 0 0 0 0 1 0 0 0 1 0 1 1 0 0 0 0 1 0 0 0 0 1 1 0 1 0 1 0 0 0 0 0 0 0\n",
            " 0 1 0 0 1 1 0 0 0 0 1 0 0 1 0 0 0 1 0 1 1 0 1 1 1 0 0 0 0 0 0 1 0 0 1 0 0\n",
            " 0 0 0 0 0 0 0 0 0 1 1 0 0 0 1 0 0 0 1 1 1 0 0 1 0 0 0 0 1 0 1 0 1 1 1 1 1\n",
            " 1 0 0 0 0 0 1 0 0 0 1 0 0 1 0 1 0 1 1 0 0 0 1 1 1 1 1 0 0 0 0 1 0 1 1 1 0\n",
            " 1 1 0 0 0 1 0 0 1 0 0 0 0 0 1 0 1 0 1 0 0 1 1 1 0 0 1 1 0 1 0 1 0 0 0 0 0\n",
            " 1 0 0 1 0 0 0 1 0 0 0 0 1 0 0 1 0 0 0 0 0 0 0 0]\n",
            "[1 1 1 1 1 0 1 1 1 1 1 1 1 0 0 1 0 1 1 1 1 0 0 1 1 1 1 0 1 0 1 1 1 1 0 0 0\n",
            " 1 0 0 1 1 1 0 0 0 1 1 1 0]\n",
            "The label corresponding to the image is: 0\n"
          ],
          "name": "stdout"
        },
        {
          "output_type": "display_data",
          "data": {
            "image/png": "[encoded data removed]",
            "text/plain": [
              "<Figure size 432x288 with 1 Axes>"
            ]
          },
          "metadata": {
            "tags": []
          }
        }
      ]
    },
    {
      "cell_type": "code",
      "metadata": {
        "id": "D_mdZAUzYyB0",
        "colab_type": "code",
        "colab": {}
      },
      "source": [
        "import tensorflow as tf"
      ],
      "execution_count": 0,
      "outputs": []
    },
    {
      "cell_type": "code",
      "metadata": {
        "id": "RwT2hh9xkY4c",
        "colab_type": "code",
        "colab": {}
      },
      "source": [
        "ntr, nrow, ncol, nchan = Xtr.shape\n",
        "Xtr = Xtr.reshape((ntr, nrow*ncol*nchan))\n",
        "\n",
        "nts, nrow, ncol, nchan = Xts.shape\n",
        "Xts = Xts.reshape((nts, nrow*ncol*nchan))"
      ],
      "execution_count": 0,
      "outputs": []
    },
    {
      "cell_type": "code",
      "metadata": {
        "id": "XwYGrCyFZSc3",
        "colab_type": "code",
        "outputId": "d536ad62-5352-4d9f-e7fc-fd00f67f3bd1",
        "colab": {
          "base_uri": "https://localhost:8080/",
          "height": 225
        }
      },
      "source": [
        "model = tf.keras.models.Sequential([\n",
        "    tf.keras.layers.Dense(2048, activation = 'relu', input_shape=(nrow*ncol*nchan,), name = 'dense1'),\n",
        "    tf.keras.layers.Dense(2, activation = 'softmax', name = 'output')\n",
        "])\n",
        "\n",
        "model.summary()"
      ],
      "execution_count": 0,
      "outputs": [
        {
          "output_type": "stream",
          "text": [
            "Model: \"sequential_3\"\n",
            "_________________________________________________________________\n",
            "Layer (type)                 Output Shape              Param #   \n",
            "=================================================================\n",
            "dense1 (Dense)               (None, 2048)              25167872  \n",
            "_________________________________________________________________\n",
            "output (Dense)               (None, 2)                 4098      \n",
            "=================================================================\n",
            "Total params: 25,171,970\n",
            "Trainable params: 25,171,970\n",
            "Non-trainable params: 0\n",
            "_________________________________________________________________\n"
          ],
          "name": "stdout"
        }
      ]
    },
    {
      "cell_type": "code",
      "metadata": {
        "id": "BjadqDYhnBVS",
        "colab_type": "code",
        "colab": {}
      },
      "source": [
        "model.compile(optimizer='adam', loss='sparse_categorical_crossentropy', metrics=['accuracy'])"
      ],
      "execution_count": 0,
      "outputs": []
    },
    {
      "cell_type": "code",
      "metadata": {
        "id": "KshllTJywN5L",
        "colab_type": "code",
        "outputId": "e2273867-7c0b-493c-fc90-7df5d1d50482",
        "colab": {
          "base_uri": "https://localhost:8080/",
          "height": 402
        }
      },
      "source": [
        "hist = model.fit(Xtr, Ytr, epochs=10, batch_size=10, validation_data=(Xts,Yts))"
      ],
      "execution_count": 0,
      "outputs": [
        {
          "output_type": "stream",
          "text": [
            "Train on 209 samples, validate on 50 samples\n",
            "Epoch 1/10\n",
            "209/209 [==============================] - 4s 18ms/sample - loss: 25.8002 - acc: 0.5550 - val_loss: 7.7729 - val_acc: 0.6600\n",
            "Epoch 2/10\n",
            "209/209 [==============================] - 4s 19ms/sample - loss: 5.7247 - acc: 0.5502 - val_loss: 1.9759 - val_acc: 0.7000\n",
            "Epoch 3/10\n",
            "209/209 [==============================] - 4s 20ms/sample - loss: 2.7763 - acc: 0.5742 - val_loss: 6.0579 - val_acc: 0.3200\n",
            "Epoch 4/10\n",
            "209/209 [==============================] - 4s 20ms/sample - loss: 1.6956 - acc: 0.7081 - val_loss: 0.8192 - val_acc: 0.6600\n",
            "Epoch 5/10\n",
            "209/209 [==============================] - 4s 20ms/sample - loss: 0.5815 - acc: 0.7656 - val_loss: 0.7087 - val_acc: 0.7000\n",
            "Epoch 6/10\n",
            "209/209 [==============================] - 4s 20ms/sample - loss: 0.5557 - acc: 0.8038 - val_loss: 0.6530 - val_acc: 0.7200\n",
            "Epoch 7/10\n",
            "209/209 [==============================] - 4s 19ms/sample - loss: 0.4614 - acc: 0.7990 - val_loss: 0.8625 - val_acc: 0.7200\n",
            "Epoch 8/10\n",
            "209/209 [==============================] - 4s 19ms/sample - loss: 0.3567 - acc: 0.8565 - val_loss: 0.6885 - val_acc: 0.7600\n",
            "Epoch 9/10\n",
            "209/209 [==============================] - 4s 20ms/sample - loss: 0.9373 - acc: 0.7273 - val_loss: 1.4905 - val_acc: 0.5800\n",
            "Epoch 10/10\n",
            "209/209 [==============================] - 4s 20ms/sample - loss: 0.3399 - acc: 0.8421 - val_loss: 0.7207 - val_acc: 0.7200\n"
          ],
          "name": "stdout"
        }
      ]
    },
    {
      "cell_type": "code",
      "metadata": {
        "id": "Ip4wUHMJwZ2c",
        "colab_type": "code",
        "colab": {}
      },
      "source": [
        ""
      ],
      "execution_count": 0,
      "outputs": []
    },
    {
      "cell_type": "markdown",
      "metadata": {
        "id": "o2NAgiDqXQy_",
        "colab_type": "text"
      },
      "source": [
        "# Lab: MNIST"
      ]
    },
    {
      "cell_type": "code",
      "metadata": {
        "id": "axyhkBXMXTce",
        "colab_type": "code",
        "colab": {}
      },
      "source": [
        "# import packages\n",
        "\n",
        "#TODO\n",
        "\n",
        "import tensorflow as tf\n",
        "\n",
        "import numpy as np\n",
        "import matplotlib.pyplot as plt\n",
        "%matplotlib inline"
      ],
      "execution_count": 0,
      "outputs": []
    },
    {
      "cell_type": "code",
      "metadata": {
        "id": "7gi2K6QwYapw",
        "colab_type": "code",
        "outputId": "f646e669-cd17-437d-dbae-257517621118",
        "colab": {
          "base_uri": "https://localhost:8080/",
          "height": 52
        }
      },
      "source": [
        "(Xtr,ytr),(Xts,yts) = tf.keras.datasets.mnist.load_data() # load the data "
      ],
      "execution_count": 0,
      "outputs": [
        {
          "output_type": "stream",
          "text": [
            "Downloading data from https://storage.googleapis.com/tensorflow/tf-keras-datasets/mnist.npz\n",
            "11493376/11490434 [==============================] - 0s 0us/step\n"
          ],
          "name": "stdout"
        }
      ]
    }
  ]
}