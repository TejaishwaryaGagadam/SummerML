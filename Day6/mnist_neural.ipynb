{
  "nbformat": 4,
  "nbformat_minor": 0,
  "metadata": {
    "colab": {
      "name": "mnist_neural.ipynb",
      "version": "0.3.2",
      "provenance": [],
      "collapsed_sections": [],
      "include_colab_link": true
    },
    "language_info": {
      "codemirror_mode": {
        "name": "ipython",
        "version": 3
      },
      "file_extension": ".py",
      "mimetype": "text/x-python",
      "name": "python",
      "nbconvert_exporter": "python",
      "pygments_lexer": "ipython3",
      "version": "3.6.4"
    },
    "kernelspec": {
      "display_name": "Python 3",
      "language": "python",
      "name": "python3"
    }
  },
  "cells": [
    {
      "cell_type": "markdown",
      "metadata": {
        "id": "view-in-github",
        "colab_type": "text"
      },
      "source": [
        "<a href=\"https://colab.research.google.com/github/nikopj/SummerML/blob/master/Day6/mnist_neural.ipynb\" target=\"_parent\"><img src=\"https://colab.research.google.com/assets/colab-badge.svg\" alt=\"Open In Colab\"/></a>"
      ]
    },
    {
      "cell_type": "markdown",
      "metadata": {
        "id": "jlqbiBla5-uf",
        "colab_type": "text"
      },
      "source": [
        "# MNIST Classification via a Neural Network\n",
        "\n",
        "The MNIST database (Modified National Institute of Standards and Technology database) is a large database of handwritten digits that is commonly used for for training and testing models in machine learning. \n",
        "\n",
        "In this demo, we will try a simple neural network to classify the digits. We will learn several important features of the `keras` package in addition to the concepts shown in the [simple neural network example](./synthetic.ipynb):\n",
        "\n",
        "* How to construct multi-class classifiers using categorical cross entropy.\n",
        "* How to optimize using mini-batches.\n",
        "* How to save and load the model after training.  \n",
        "\n"
      ]
    },
    {
      "cell_type": "markdown",
      "metadata": {
        "id": "1zjvO9o85-ui",
        "colab_type": "text"
      },
      "source": [
        "## Loading the Keras package and the MNIST data\n",
        "\n",
        "We first load the `Tensorflow` package as in the [simple neural network example](./synthetic.ipynb)."
      ]
    },
    {
      "cell_type": "code",
      "metadata": {
        "id": "jWTA8GRW5-uk",
        "colab_type": "code",
        "colab": {}
      },
      "source": [
        "import tensorflow as tf"
      ],
      "execution_count": 0,
      "outputs": []
    },
    {
      "cell_type": "markdown",
      "metadata": {
        "id": "9KjW5JEr5-uu",
        "colab_type": "text"
      },
      "source": [
        "We also load some other common packages."
      ]
    },
    {
      "cell_type": "code",
      "metadata": {
        "id": "aPgwdoHZ5-uv",
        "colab_type": "code",
        "colab": {}
      },
      "source": [
        "import numpy as np\n",
        "import matplotlib.pyplot as plt\n",
        "%matplotlib inline"
      ],
      "execution_count": 0,
      "outputs": []
    },
    {
      "cell_type": "markdown",
      "metadata": {
        "id": "pm_sipdh5-u0",
        "colab_type": "text"
      },
      "source": [
        "Next, we get the MNIST data. We reshape and rescale the input `X` from values from -1 to 1 since this works better for the neural network."
      ]
    },
    {
      "cell_type": "code",
      "metadata": {
        "id": "YL3uWWA05-u1",
        "colab_type": "code",
        "outputId": "551397cb-a6bf-489a-ea34-f05758155aba",
        "colab": {
          "base_uri": "https://localhost:8080/",
          "height": 52
        }
      },
      "source": [
        "(Xtr,ytr),(Xts,yts) = tf.keras.datasets.mnist.load_data()\n",
        "\n",
        "Xtr = 2*(Xtr/255 - 0.5)\n",
        "ntr, nrow, ncol = Xtr.shape\n",
        "Xtr = Xtr.reshape((ntr,nrow*ncol))\n",
        "\n",
        "Xts = 2*(Xts/255 - 0.5)\n",
        "nts, nrow, ncol = Xts.shape\n",
        "Xts = Xts.reshape((nts,nrow*ncol))"
      ],
      "execution_count": 0,
      "outputs": [
        {
          "output_type": "stream",
          "text": [
            "Downloading data from https://storage.googleapis.com/tensorflow/tf-keras-datasets/mnist.npz\n",
            "11493376/11490434 [==============================] - 0s 0us/step\n"
          ],
          "name": "stdout"
        }
      ]
    },
    {
      "cell_type": "markdown",
      "metadata": {
        "id": "TgEdq-yQ5-u5",
        "colab_type": "text"
      },
      "source": [
        "We will also use the `plt_digit` function to display digits."
      ]
    },
    {
      "cell_type": "code",
      "metadata": {
        "id": "URhR8jqe5-u6",
        "colab_type": "code",
        "outputId": "9998513d-c4c9-4a5a-b700-53f08cd68c5c",
        "colab": {
          "base_uri": "https://localhost:8080/",
          "height": 111
        }
      },
      "source": [
        "def plt_digit(x):\n",
        "    nrow = 28\n",
        "    ncol = 28\n",
        "    xsq = x.reshape((nrow,ncol))\n",
        "    plt.imshow(xsq,  cmap='Greys_r')\n",
        "    plt.xticks([])\n",
        "    plt.yticks([])\n",
        "    \n",
        "# Select random digits\n",
        "nplt = 4\n",
        "nsamp = Xtr.shape[0]\n",
        "Iperm = np.random.permutation(nsamp) \n",
        "\n",
        "#We use np.random.permutation(nsamp) to shuffle the digit images, since MNIST \n",
        "#stores them in order.\n",
        "\n",
        "# Plot the images using the subplot command\n",
        "for i in range(nplt):\n",
        "    ind = Iperm[i]\n",
        "    plt.subplot(1,nplt,i+1)\n",
        "    plt_digit(Xtr[ind,:])"
      ],
      "execution_count": 0,
      "outputs": [
        {
          "output_type": "display_data",
          "data": {
            "image/png": "[encoded data removed]",
            "text/plain": [
              "<Figure size 432x288 with 4 Axes>"
            ]
          },
          "metadata": {
            "tags": []
          }
        }
      ]
    },
    {
      "cell_type": "markdown",
      "metadata": {
        "id": "wlx-IDGc5-vH",
        "colab_type": "text"
      },
      "source": [
        "## Creating a Simple Neural Network."
      ]
    },
    {
      "cell_type": "markdown",
      "metadata": {
        "id": "U3vbzNOq5-vI",
        "colab_type": "text"
      },
      "source": [
        "To create the neural network, we first import the appropriate sub-packages."
      ]
    },
    {
      "cell_type": "code",
      "metadata": {
        "id": "Q6UT248n5-vJ",
        "colab_type": "code",
        "colab": {}
      },
      "source": [
        "from tensorflow.keras.models import Model, Sequential\n",
        "from tensorflow.keras.layers import Dense, Activation"
      ],
      "execution_count": 0,
      "outputs": []
    },
    {
      "cell_type": "markdown",
      "metadata": {
        "id": "DxHUD7F45-vM",
        "colab_type": "text"
      },
      "source": [
        "Next, we clear the session. Though this step is not necessary, it is a good practice as it clears any model layers that you have built before, so that there are no unwanted additional layers.  "
      ]
    },
    {
      "cell_type": "code",
      "metadata": {
        "id": "exWilYPO5-vN",
        "colab_type": "code",
        "colab": {}
      },
      "source": [
        "import tensorflow.keras.backend as K\n",
        "K.clear_session()"
      ],
      "execution_count": 0,
      "outputs": []
    },
    {
      "cell_type": "markdown",
      "metadata": {
        "id": "E9f1StlZ5-va",
        "colab_type": "text"
      },
      "source": [
        "Now we create a very simple network.  The features are:\n",
        "*  We have one hidden layer with `nh=100` units.  \n",
        "*  One output layer with `nout=10` units, one for each of the 10 possible classes\n",
        "*  The output activation is `softmax`, which is used for multi-class targets"
      ]
    },
    {
      "cell_type": "code",
      "metadata": {
        "id": "dZRSGBqW5-vc",
        "colab_type": "code",
        "outputId": "61e5f7be-08cd-47d1-ebd2-f04aa7381831",
        "colab": {
          "base_uri": "https://localhost:8080/",
          "height": 89
        }
      },
      "source": [
        "nin = Xtr.shape[1]  # dimension of input data\n",
        "nh = 100     # number of hidden units\n",
        "nout = int(np.max(ytr)+1)    # number of outputs = 10 since there are 10 classes\n",
        "model = Sequential()\n",
        "model.add(Dense(units=nh, input_shape=(nin,), activation='sigmoid', name='hidden'))\n",
        "model.add(Dense(units=nout, activation='softmax', name='output'))"
      ],
      "execution_count": 0,
      "outputs": [
        {
          "output_type": "stream",
          "text": [
            "WARNING:tensorflow:From /usr/local/lib/python3.6/dist-packages/tensorflow/python/ops/resource_variable_ops.py:435: colocate_with (from tensorflow.python.framework.ops) is deprecated and will be removed in a future version.\n",
            "Instructions for updating:\n",
            "Colocations handled automatically by placer.\n"
          ],
          "name": "stdout"
        }
      ]
    },
    {
      "cell_type": "markdown",
      "metadata": {
        "id": "cbQ2sxgL5-vh",
        "colab_type": "text"
      },
      "source": [
        "We print the model summary. "
      ]
    },
    {
      "cell_type": "code",
      "metadata": {
        "id": "ATV1J2Jl5-vj",
        "colab_type": "code",
        "outputId": "b0ef7d99-826d-4471-9472-25632e20aa1b",
        "colab": {
          "base_uri": "https://localhost:8080/",
          "height": 208
        }
      },
      "source": [
        "model.summary()"
      ],
      "execution_count": 0,
      "outputs": [
        {
          "output_type": "stream",
          "text": [
            "_________________________________________________________________\n",
            "Layer (type)                 Output Shape              Param #   \n",
            "=================================================================\n",
            "hidden (Dense)               (None, 100)               78500     \n",
            "_________________________________________________________________\n",
            "output (Dense)               (None, 10)                1010      \n",
            "=================================================================\n",
            "Total params: 79,510\n",
            "Trainable params: 79,510\n",
            "Non-trainable params: 0\n",
            "_________________________________________________________________\n"
          ],
          "name": "stdout"
        }
      ]
    },
    {
      "cell_type": "markdown",
      "metadata": {
        "id": "d-9BVU295-vo",
        "colab_type": "text"
      },
      "source": [
        "## Training the Network\n",
        "\n",
        "To train the network, we have to select an optimizer and a loss function.  Since this is a multi-class classification problem, we select the `sparse_categorial_crossentropy` loss. \n",
        "We use the `adam` optimizer.  \n",
        "\n",
        "You may want to play with the learning rate `lr`.   We also set the `metrics` that we wish to track during the optimization.  In this case, we select `accuracy` on the training set."
      ]
    },
    {
      "cell_type": "code",
      "metadata": {
        "id": "kzl0IpQ75-vq",
        "colab_type": "code",
        "colab": {}
      },
      "source": [
        "from tensorflow.keras import optimizers\n",
        "\n",
        "opt = optimizers.Adam(lr=0.001) # beta_1=0.9, beta_2=0.999, epsilon=1e-08, decay=0.0)\n",
        "\n",
        "model.compile(optimizer=opt,\n",
        "              loss='sparse_categorical_crossentropy',\n",
        "              metrics=['accuracy'])"
      ],
      "execution_count": 0,
      "outputs": []
    },
    {
      "cell_type": "markdown",
      "metadata": {
        "id": "3_sxOedE5-vw",
        "colab_type": "text"
      },
      "source": [
        "Keras provides a simple method `fit` to run the optimization.  You simply specify the number of epochs and the batch size, both discussed in class.  In addition, we specify the `validation_data` so that it can print the accuracy on the test data set as it performs the optimization."
      ]
    },
    {
      "cell_type": "code",
      "metadata": {
        "id": "Zs6AKwmG5-vx",
        "colab_type": "code",
        "outputId": "73f0f617-998d-41bd-ab73-7aac2ffa3903",
        "colab": {
          "base_uri": "https://localhost:8080/",
          "height": 1075
        }
      },
      "source": [
        "hist = model.fit(Xtr, ytr, epochs=30, batch_size=100, validation_data=(Xts,yts))"
      ],
      "execution_count": 0,
      "outputs": [
        {
          "output_type": "stream",
          "text": [
            "Train on 60000 samples, validate on 10000 samples\n",
            "Epoch 1/30\n",
            "60000/60000 [==============================] - 3s 58us/sample - loss: 0.5095 - acc: 0.8685 - val_loss: 0.2804 - val_acc: 0.9214\n",
            "Epoch 2/30\n",
            "60000/60000 [==============================] - 3s 52us/sample - loss: 0.2570 - acc: 0.9268 - val_loss: 0.2155 - val_acc: 0.9386\n",
            "Epoch 3/30\n",
            "60000/60000 [==============================] - 3s 50us/sample - loss: 0.2018 - acc: 0.9435 - val_loss: 0.1806 - val_acc: 0.9474\n",
            "Epoch 4/30\n",
            "60000/60000 [==============================] - 3s 50us/sample - loss: 0.1656 - acc: 0.9528 - val_loss: 0.1522 - val_acc: 0.9560\n",
            "Epoch 5/30\n",
            "60000/60000 [==============================] - 3s 50us/sample - loss: 0.1423 - acc: 0.9595 - val_loss: 0.1398 - val_acc: 0.9603\n",
            "Epoch 6/30\n",
            "60000/60000 [==============================] - 3s 49us/sample - loss: 0.1250 - acc: 0.9651 - val_loss: 0.1274 - val_acc: 0.9629\n",
            "Epoch 7/30\n",
            "60000/60000 [==============================] - 3s 49us/sample - loss: 0.1087 - acc: 0.9691 - val_loss: 0.1129 - val_acc: 0.9659\n",
            "Epoch 8/30\n",
            "60000/60000 [==============================] - 3s 49us/sample - loss: 0.0980 - acc: 0.9718 - val_loss: 0.1097 - val_acc: 0.9663\n",
            "Epoch 9/30\n",
            "60000/60000 [==============================] - 3s 50us/sample - loss: 0.0884 - acc: 0.9751 - val_loss: 0.0987 - val_acc: 0.9713\n",
            "Epoch 10/30\n",
            "60000/60000 [==============================] - 3s 50us/sample - loss: 0.0800 - acc: 0.9777 - val_loss: 0.1009 - val_acc: 0.9701\n",
            "Epoch 11/30\n",
            "60000/60000 [==============================] - 3s 49us/sample - loss: 0.0729 - acc: 0.9797 - val_loss: 0.0901 - val_acc: 0.9717\n",
            "Epoch 12/30\n",
            "60000/60000 [==============================] - 3s 49us/sample - loss: 0.0670 - acc: 0.9817 - val_loss: 0.0963 - val_acc: 0.9714\n",
            "Epoch 13/30\n",
            "60000/60000 [==============================] - 3s 49us/sample - loss: 0.0615 - acc: 0.9827 - val_loss: 0.0884 - val_acc: 0.9733\n",
            "Epoch 14/30\n",
            "60000/60000 [==============================] - 3s 50us/sample - loss: 0.0566 - acc: 0.9847 - val_loss: 0.0875 - val_acc: 0.9743\n",
            "Epoch 15/30\n",
            "60000/60000 [==============================] - 3s 49us/sample - loss: 0.0524 - acc: 0.9860 - val_loss: 0.0831 - val_acc: 0.9739\n",
            "Epoch 16/30\n",
            "60000/60000 [==============================] - 3s 49us/sample - loss: 0.0479 - acc: 0.9872 - val_loss: 0.0837 - val_acc: 0.9742\n",
            "Epoch 17/30\n",
            "60000/60000 [==============================] - 3s 50us/sample - loss: 0.0464 - acc: 0.9873 - val_loss: 0.0823 - val_acc: 0.9738\n",
            "Epoch 18/30\n",
            "60000/60000 [==============================] - 3s 47us/sample - loss: 0.0415 - acc: 0.9889 - val_loss: 0.0883 - val_acc: 0.9720\n",
            "Epoch 19/30\n",
            "60000/60000 [==============================] - 3s 48us/sample - loss: 0.0394 - acc: 0.9894 - val_loss: 0.0795 - val_acc: 0.9747\n",
            "Epoch 20/30\n",
            "60000/60000 [==============================] - 3s 49us/sample - loss: 0.0360 - acc: 0.9908 - val_loss: 0.0804 - val_acc: 0.9751\n",
            "Epoch 21/30\n",
            "60000/60000 [==============================] - 3s 50us/sample - loss: 0.0335 - acc: 0.9914 - val_loss: 0.0857 - val_acc: 0.9732\n",
            "Epoch 22/30\n",
            "60000/60000 [==============================] - 3s 49us/sample - loss: 0.0309 - acc: 0.9922 - val_loss: 0.0786 - val_acc: 0.9753\n",
            "Epoch 23/30\n",
            "60000/60000 [==============================] - 3s 48us/sample - loss: 0.0287 - acc: 0.9931 - val_loss: 0.0864 - val_acc: 0.9732\n",
            "Epoch 24/30\n",
            "60000/60000 [==============================] - 3s 49us/sample - loss: 0.0265 - acc: 0.9938 - val_loss: 0.0850 - val_acc: 0.9732\n",
            "Epoch 25/30\n",
            "60000/60000 [==============================] - 3s 50us/sample - loss: 0.0256 - acc: 0.9943 - val_loss: 0.0830 - val_acc: 0.9730\n",
            "Epoch 26/30\n",
            "60000/60000 [==============================] - 3s 57us/sample - loss: 0.0229 - acc: 0.9949 - val_loss: 0.0822 - val_acc: 0.9753\n",
            "Epoch 27/30\n",
            "60000/60000 [==============================] - 3s 48us/sample - loss: 0.0224 - acc: 0.9947 - val_loss: 0.0782 - val_acc: 0.9762\n",
            "Epoch 28/30\n",
            "60000/60000 [==============================] - 3s 46us/sample - loss: 0.0203 - acc: 0.9958 - val_loss: 0.0869 - val_acc: 0.9738\n",
            "Epoch 29/30\n",
            "60000/60000 [==============================] - 3s 46us/sample - loss: 0.0203 - acc: 0.9952 - val_loss: 0.0756 - val_acc: 0.9764\n",
            "Epoch 30/30\n",
            "60000/60000 [==============================] - 3s 46us/sample - loss: 0.0174 - acc: 0.9967 - val_loss: 0.0791 - val_acc: 0.9753\n"
          ],
          "name": "stdout"
        }
      ]
    },
    {
      "cell_type": "markdown",
      "metadata": {
        "id": "GgIDH4Sq5-v2",
        "colab_type": "text"
      },
      "source": [
        "After running the 10 epochs, you should obtain a test accuracy of around 96.5%.  If we run it for another a few epochs, we can get slightly higher results.  We can just run the `model.fit` command again, and it will start where it left off. You should get a little more than 97% accuracy. "
      ]
    },
    {
      "cell_type": "markdown",
      "metadata": {
        "id": "tZjC_4dA5-v3",
        "colab_type": "text"
      },
      "source": [
        "Plot the training accuracy and validation accuracy as a function of epoches.\n",
        "We see that the training accuracy keeps growing to 1, while the validation accuracy saturates to a value around 0.97"
      ]
    },
    {
      "cell_type": "code",
      "metadata": {
        "id": "5p7omB5V5-v4",
        "colab_type": "code",
        "outputId": "45178bbc-7d7d-4acb-e1e3-03cfa3a7f2c8",
        "colab": {
          "base_uri": "https://localhost:8080/",
          "height": 301
        }
      },
      "source": [
        "tr_accuracy = hist.history['acc']\n",
        "val_accuracy = hist.history['val_acc']\n",
        "\n",
        "plt.plot(tr_accuracy)\n",
        "plt.plot(val_accuracy)\n",
        "plt.grid()\n",
        "plt.xlabel('epochs')\n",
        "plt.ylabel('accuarcy')\n",
        "plt.legend(['training accuracy', 'validation accuracy'])"
      ],
      "execution_count": 0,
      "outputs": [
        {
          "output_type": "execute_result",
          "data": {
            "text/plain": [
              "<matplotlib.legend.Legend at 0x7f8e45f73828>"
            ]
          },
          "metadata": {
            "tags": []
          },
          "execution_count": 12
        },
        {
          "output_type": "display_data",
          "data": {
            "image/png": "[encoded data removed]",
            "text/plain": [
              "<Figure size 432x288 with 1 Axes>"
            ]
          },
          "metadata": {
            "tags": []
          }
        }
      ]
    },
    {
      "cell_type": "markdown",
      "metadata": {
        "id": "t8ljaLyO5-v9",
        "colab_type": "text"
      },
      "source": [
        "## Saving and Loading the model\n",
        "\n",
        "Since the training takes a long time, it is useful to save the results.  See the [keras page](https://keras.io/getting-started/faq/#how-can-i-save-a-keras-model) for many more useful saving and loading features."
      ]
    },
    {
      "cell_type": "code",
      "metadata": {
        "id": "d0dVbO-e5-v_",
        "colab_type": "code",
        "colab": {}
      },
      "source": [
        "model.save(\"mnist_mod.h5\")"
      ],
      "execution_count": 0,
      "outputs": []
    },
    {
      "cell_type": "markdown",
      "metadata": {
        "id": "c51UxzBs5-wE",
        "colab_type": "text"
      },
      "source": [
        "We can now reload the model with the `load_model` command."
      ]
    },
    {
      "cell_type": "code",
      "metadata": {
        "id": "m2gmj27k5-wF",
        "colab_type": "code",
        "outputId": "285b87db-39a5-42a2-9752-f370d5bf9c5a",
        "colab": {
          "base_uri": "https://localhost:8080/",
          "height": 208
        }
      },
      "source": [
        "from tensorflow.keras.models import load_model\n",
        "\n",
        "model = load_model(\"mnist_mod.h5\")\n",
        "model.summary()"
      ],
      "execution_count": 0,
      "outputs": [
        {
          "output_type": "stream",
          "text": [
            "_________________________________________________________________\n",
            "Layer (type)                 Output Shape              Param #   \n",
            "=================================================================\n",
            "hidden (Dense)               (None, 100)               78500     \n",
            "_________________________________________________________________\n",
            "output (Dense)               (None, 10)                1010      \n",
            "=================================================================\n",
            "Total params: 79,510\n",
            "Trainable params: 79,510\n",
            "Non-trainable params: 0\n",
            "_________________________________________________________________\n"
          ],
          "name": "stdout"
        }
      ]
    },
    {
      "cell_type": "markdown",
      "metadata": {
        "id": "lnVMfq8y5-wT",
        "colab_type": "text"
      },
      "source": [
        "We can test the performance on the test data set."
      ]
    },
    {
      "cell_type": "code",
      "metadata": {
        "id": "Q7_DJwRF5-wV",
        "colab_type": "code",
        "outputId": "78349cfb-93e7-4e2c-9637-9857c326f482",
        "colab": {
          "base_uri": "https://localhost:8080/",
          "height": 52
        }
      },
      "source": [
        "score, acc = model.evaluate(Xts, yts, verbose=1)\n",
        "print(\"accuracy = %f\" % acc)"
      ],
      "execution_count": 0,
      "outputs": [
        {
          "output_type": "stream",
          "text": [
            "10000/10000 [==============================] - 0s 39us/sample - loss: 0.0791 - acc: 0.9753\n",
            "accuracy = 0.975300\n"
          ],
          "name": "stdout"
        }
      ]
    },
    {
      "cell_type": "code",
      "metadata": {
        "id": "h4bxVkfP5-wd",
        "colab_type": "code",
        "colab": {}
      },
      "source": [
        ""
      ],
      "execution_count": 0,
      "outputs": []
    }
  ]
}