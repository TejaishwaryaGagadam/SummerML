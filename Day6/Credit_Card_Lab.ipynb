{
  "nbformat": 4,
  "nbformat_minor": 0,
  "metadata": {
    "colab": {
      "name": "Credit_Card Lab",
      "version": "0.3.2",
      "provenance": [],
      "collapsed_sections": [],
      "include_colab_link": true
    },
    "kernelspec": {
      "name": "python3",
      "display_name": "Python 3"
    }
  },
  "cells": [
    {
      "cell_type": "markdown",
      "metadata": {
        "id": "view-in-github",
        "colab_type": "text"
      },
      "source": [
        "<a href=\"https://colab.research.google.com/github/nikopj/SummerML/blob/master/Day6/Credit_Card_Lab.ipynb\" target=\"_parent\"><img src=\"https://colab.research.google.com/assets/colab-badge.svg\" alt=\"Open In Colab\"/></a>"
      ]
    },
    {
      "cell_type": "markdown",
      "metadata": {
        "id": "xW0hFXSYPGtq",
        "colab_type": "text"
      },
      "source": [
        "# Credit Card Client Default Prediction\n",
        "\n",
        "The csv file is uploaded on [github](https://raw.githubusercontent.com/nikopj/SummerML/master/Day6/credit_card.csv)\n",
        "\n",
        "Predicting the possibilty of customers defaulting on their credit cards."
      ]
    },
    {
      "cell_type": "markdown",
      "metadata": {
        "id": "eOpulTAyRrkD",
        "colab_type": "text"
      },
      "source": [
        "### 1. Load Libraries and Data\n"
      ]
    },
    {
      "cell_type": "code",
      "metadata": {
        "id": "nJk2sT2zsclY",
        "colab_type": "code",
        "colab": {}
      },
      "source": [
        "# Import the libraries"
      ],
      "execution_count": 0,
      "outputs": []
    },
    {
      "cell_type": "code",
      "metadata": {
        "id": "Qc8KUHL9szb5",
        "colab_type": "code",
        "colab": {}
      },
      "source": [
        "# Import the data using pandas\n",
        "# use skiprows = 1 to remove the first row "
      ],
      "execution_count": 0,
      "outputs": []
    },
    {
      "cell_type": "code",
      "metadata": {
        "id": "O4oVlS2kwlUz",
        "colab_type": "code",
        "colab": {}
      },
      "source": [
        "# Create X - feature matrix\n",
        "# Create y - labels "
      ],
      "execution_count": 0,
      "outputs": []
    },
    {
      "cell_type": "markdown",
      "metadata": {
        "id": "AE9o3ugvDMjm",
        "colab_type": "text"
      },
      "source": [
        "### 2. Split the data\n",
        "Split the data into test and train"
      ]
    },
    {
      "cell_type": "code",
      "metadata": {
        "id": "PoEqS7WQ1842",
        "colab_type": "code",
        "colab": {}
      },
      "source": [
        "# Split"
      ],
      "execution_count": 0,
      "outputs": []
    },
    {
      "cell_type": "code",
      "metadata": {
        "id": "s9ITqr9I2AsD",
        "colab_type": "code",
        "colab": {}
      },
      "source": [
        "# Print the number of training and test samples\n",
        "# Print the number of features for each sample\n",
        "# Print the total number of classes "
      ],
      "execution_count": 0,
      "outputs": []
    },
    {
      "cell_type": "markdown",
      "metadata": {
        "id": "Met8jabpDkB7",
        "colab_type": "text"
      },
      "source": [
        "#### 3. Pre-process the data"
      ]
    },
    {
      "cell_type": "code",
      "metadata": {
        "id": "QyZOlxJlxcmA",
        "colab_type": "code",
        "colab": {}
      },
      "source": [
        "# Xtr_scale = ..\n",
        "# Xts_scale = .."
      ],
      "execution_count": 0,
      "outputs": []
    },
    {
      "cell_type": "markdown",
      "metadata": {
        "id": "-LF5ZpeRPusG",
        "colab_type": "text"
      },
      "source": [
        "# Building a Neural Network\n",
        "### Build a neural network that has:\n",
        "- 2 hidden layers: 200 neurons in each layer\n",
        "- Use sigmoid as activation for both the hidden layers"
      ]
    },
    {
      "cell_type": "code",
      "metadata": {
        "id": "hBnkIADxxUXP",
        "colab_type": "code",
        "colab": {}
      },
      "source": [
        "# Clear the session"
      ],
      "execution_count": 0,
      "outputs": []
    },
    {
      "cell_type": "code",
      "metadata": {
        "id": "djCW_lE40Rvb",
        "colab_type": "code",
        "colab": {}
      },
      "source": [
        "# Build the model"
      ],
      "execution_count": 0,
      "outputs": []
    },
    {
      "cell_type": "markdown",
      "metadata": {
        "id": "cM_HtfmzRECn",
        "colab_type": "text"
      },
      "source": [
        "### Set up the optimizer and compile the model\n",
        "- What loss funciton do you need to use?"
      ]
    },
    {
      "cell_type": "code",
      "metadata": {
        "id": "MxkJRhVUsvTg",
        "colab_type": "code",
        "colab": {}
      },
      "source": [
        "# import optimizers library from tensorflow\n",
        "# choose your own learning rate"
      ],
      "execution_count": 0,
      "outputs": []
    },
    {
      "cell_type": "code",
      "metadata": {
        "id": "Ed9xBVxtyUK8",
        "colab_type": "code",
        "colab": {}
      },
      "source": [
        "# train your model\n",
        "# choose your own epoch size, and batch size"
      ],
      "execution_count": 0,
      "outputs": []
    },
    {
      "cell_type": "code",
      "metadata": {
        "id": "Zk9L8HzT3hjj",
        "colab_type": "code",
        "colab": {}
      },
      "source": [
        "# plot epochs vs test accuracy"
      ],
      "execution_count": 0,
      "outputs": []
    },
    {
      "cell_type": "code",
      "metadata": {
        "id": "41P188F33nR4",
        "colab_type": "code",
        "colab": {}
      },
      "source": [
        "# plot epochs vs loss"
      ],
      "execution_count": 0,
      "outputs": []
    },
    {
      "cell_type": "markdown",
      "metadata": {
        "id": "hA8LUJEL4e63",
        "colab_type": "text"
      },
      "source": [
        "#### Optimizing the Learning Rate\n",
        "\n",
        "One challenge in training neural networks is the selection of the learning rate.  Rerun the above code, trying three learning rates as shown in the vector `rates`.  For each learning rate:\n",
        "* clear the session\n",
        "* construct the network\n",
        "* select the optimizer.  Use the Adam optimizer with the appropriate learrning rate.\n",
        "* train the model\n",
        "* save the accuracy and losses"
      ]
    },
    {
      "cell_type": "code",
      "metadata": {
        "id": "bgZR9LN74cww",
        "colab_type": "code",
        "colab": {}
      },
      "source": [
        "# rates = [0.01,0.001,0.0001]\n"
      ],
      "execution_count": 0,
      "outputs": []
    },
    {
      "cell_type": "markdown",
      "metadata": {
        "id": "iTEDWdPX4jSA",
        "colab_type": "text"
      },
      "source": [
        "Plot the loss funciton vs. the epoch number for all three learning rates on one graph.  You should see that the lower learning rates are more stable, but converge slower."
      ]
    },
    {
      "cell_type": "code",
      "metadata": {
        "id": "9fl4xcye4h9i",
        "colab_type": "code",
        "colab": {}
      },
      "source": [
        "# TODO\n"
      ],
      "execution_count": 0,
      "outputs": []
    }
  ]
}